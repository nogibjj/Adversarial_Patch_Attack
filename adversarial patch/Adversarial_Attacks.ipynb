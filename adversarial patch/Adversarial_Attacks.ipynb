{
  "cells": [
    {
      "cell_type": "markdown",
      "metadata": {
        "id": "Gd5uck2_ocbq"
      },
      "source": [
        "# Tutorial 10: Adversarial attacks"
      ]
    },
    {
      "cell_type": "markdown",
      "metadata": {
        "id": "cODKBPQGocbs"
      },
      "source": [
        "![Status](https://img.shields.io/static/v1.svg?label=Status&message=Finished&color=green)\n",
        "\n",
        "**Filled notebook:** \n",
        "[![View notebooks on Github](https://img.shields.io/static/v1.svg?logo=github&label=Repo&message=View%20On%20Github&color=lightgrey)](https://github.com/phlippe/uvadlc_notebooks/blob/master/docs/tutorial_notebooks/tutorial10/Adversarial_Attacks.ipynb)\n",
        "[![Open In Collab](https://colab.research.google.com/assets/colab-badge.svg)](https://colab.research.google.com/github/phlippe/uvadlc_notebooks/blob/master/docs/tutorial_notebooks/tutorial10/Adversarial_Attacks.ipynb)  \n",
        "**Pre-trained models and dataset:** \n",
        "[![View files on Github](https://img.shields.io/static/v1.svg?logo=github&label=Repo&message=View%20On%20Github&color=lightgrey)](https://github.com/phlippe/saved_models/tree/main/tutorial10)\n",
        "[![GoogleDrive](https://img.shields.io/static/v1.svg?logo=google-drive&logoColor=yellow&label=GDrive&message=Download&color=yellow)](https://drive.google.com/drive/folders/1k01P6w31VOW9TT0gTEP9kog315qyiXCd?usp=sharing)  \n",
        "**Recordings:** \n",
        "[![YouTube - Part 1](https://img.shields.io/static/v1.svg?logo=youtube&label=YouTube&message=Part%201&color=red)](https://youtu.be/uidLtkhZFwY)\n",
        "[![YouTube - Part 2](https://img.shields.io/static/v1.svg?logo=youtube&label=YouTube&message=Part%202&color=red)](https://youtu.be/Dmbz0ffc6Wg)\n",
        "[![YouTube - Part 3](https://img.shields.io/static/v1.svg?logo=youtube&label=YouTube&message=Part%203&color=red)](https://youtu.be/0dt2Su-SRpI)    \n",
        "**Author:** Phillip Lippe"
      ]
    },
    {
      "cell_type": "markdown",
      "metadata": {
        "id": "7hxpaG5Iocbt"
      },
      "source": [
        "In this tutorial, we will discuss adversarial attacks on deep image classification models. As we have seen in many of the previous tutorials so far, Deep Neural Networks are a very powerful tool to recognize patterns in data, and, for example, perform image classification on a human-level. However, we have not tested yet how robust these models actually are. Can we \"trick\" the model and find failure modes? Can we design images that the networks naturally classify incorrectly? Due to the high classification accuracy on unseen test data, we would expect that this can be difficult. However, in 2014, a research group at Google and NYU showed that deep CNNs can be easily fooled, just by adding some salient but carefully constructed noise to the images. For instance, take a look at the example below (figure credit - [Goodfellow et al.](https://arxiv.org/pdf/1412.6572.pdf)):\n",
        "\n",
        "<center width=\"100%\" style=\"padding: 20px\"><img src=\"https://github.com/phlippe/uvadlc_notebooks/blob/master/docs/tutorial_notebooks/tutorial10/adversarial_example.svg?raw=1\" width=\"550px\"></center>\n",
        "\n",
        "The image on the left is the original image from ImageNet, and a deep CNN classifies the image correctly as \"panda\" with a class likelihood of 57%. Nevertheless, if we add a little noise to every pixel of the image, the prediction of the model changes completely. Instead of a panda, our CNN tells us that the image contains a \"gibbon\" with the confidence of over 99%. For a human, however, these two images look exactly alike, and you cannot distinguish which one has noise added and which doesn't. While this first seems like a fun game to fool trained networks, it can have a serious impact on the usage of neural networks. More and more deep learning models are used in applications, such as for example autonomous driving. Imagine that someone who gains access to the camera input of the car, could make pedestrians \"disappear\" for the image understanding network by simply adding some noise to the input as shown below (the figure is taken from [J.H. Metzen et al.](https://openaccess.thecvf.com/content_ICCV_2017/papers/Metzen_Universal_Adversarial_Perturbations_ICCV_2017_paper.pdf)). The first row shows the original image with the semantic segmentation output on the right (pedestrians red), while the second row shows the image with small noise and the corresponding segmentation prediction. The pedestrian becomes invisible for the network, and the car would think the road is clear ahead.\n",
        "\n",
        "<center width=\"100%\" style=\"padding: 20px\"><img src=\"https://github.com/phlippe/uvadlc_notebooks/blob/master/docs/tutorial_notebooks/tutorial10/adversarial_attacks_cityscapes_3.png?raw=1\" width=\"600px\"></center>\n",
        "\n",
        "Some attack types don't even require to add noise, but minor changes on a stop sign can be already sufficient for the network to recognize it as a \"50km/h\" speed sign ([paper](https://arxiv.org/pdf/1707.08945.pdf), [paper](https://arxiv.org/pdf/1802.06430.pdf)). The consequences of such attacks can be devastating. Hence, every deep learning engineer who designs models for an application should be aware of the possibility of adversarial attacks.\n",
        "\n",
        "To understand what makes CNNs vulnerable to such attacks, we will implement our own adversarial attack strategies in this notebook, and try to fool a deep neural network. Let's being with importing our standard libraries:"
      ]
    },
    {
      "cell_type": "code",
      "execution_count": 4,
      "metadata": {
        "id": "btI7vLGvocbt",
        "outputId": "9d950abe-3514-4af0-b28c-195c6ad8984c"
      },
      "outputs": [
        {
          "name": "stderr",
          "output_type": "stream",
          "text": [
            "/tmp/ipykernel_3058/796429441.py:13: DeprecationWarning: `set_matplotlib_formats` is deprecated since IPython 7.23, directly use `matplotlib_inline.backend_inline.set_matplotlib_formats()`\n",
            "  set_matplotlib_formats('svg', 'pdf') # For export\n",
            "Global seed set to 42\n"
          ]
        },
        {
          "name": "stdout",
          "output_type": "stream",
          "text": [
            "Using device cuda:0\n",
            "/workspaces/Adversarial_Patch_Attack\n",
            "/workspaces/Adversarial_Patch_Attack\n",
            "/workspaces/Adversarial_Patch_Attack/adversarial patch\n"
          ]
        }
      ],
      "source": [
        "## Standard libraries\n",
        "import os\n",
        "import json\n",
        "import math\n",
        "import time\n",
        "import numpy as np \n",
        "import scipy.linalg\n",
        "\n",
        "## Imports for plotting\n",
        "import matplotlib.pyplot as plt\n",
        "%matplotlib inline \n",
        "from IPython.display import set_matplotlib_formats\n",
        "set_matplotlib_formats('svg', 'pdf') # For export\n",
        "from matplotlib.colors import to_rgb\n",
        "import matplotlib\n",
        "matplotlib.rcParams['lines.linewidth'] = 2.0\n",
        "import seaborn as sns\n",
        "sns.set()\n",
        "\n",
        "## Progress bar\n",
        "from tqdm.notebook import tqdm\n",
        "\n",
        "## PyTorch\n",
        "import torch\n",
        "import torch.nn as nn\n",
        "import torch.nn.functional as F\n",
        "import torch.utils.data as data\n",
        "import torch.optim as optim\n",
        "# Torchvision\n",
        "import torchvision\n",
        "from torchvision.datasets import CIFAR10\n",
        "from torchvision import transforms\n",
        "# PyTorch Lightning\n",
        "try:\n",
        "    import pytorch_lightning as pl\n",
        "except ModuleNotFoundError: # Google Colab does not have PyTorch Lightning installed by default. Hence, we do it here if necessary\n",
        "    !pip install --quiet pytorch-lightning>=1.4\n",
        "    import pytorch_lightning as pl\n",
        "from pytorch_lightning.callbacks import LearningRateMonitor, ModelCheckpoint\n",
        "\n",
        "# Path to the folder where the datasets are/should be downloaded (e.g. MNIST)\n",
        "DATASET_PATH = \"../data\"\n",
        "# Path to the folder where the pretrained models are saved\n",
        "CHECKPOINT_PATH = \"../saved_models\"\n",
        "\n",
        "# Setting the seed\n",
        "pl.seed_everything(42)\n",
        "\n",
        "# Ensure that all operations are deterministic on GPU (if used) for reproducibility\n",
        "torch.backends.cudnn.deterministic = True\n",
        "torch.backends.cudnn.benchmark = False\n",
        "\n",
        "# Fetching the device that will be used throughout this notebook\n",
        "device = torch.device(\"cpu\") if not torch.cuda.is_available() else torch.device(\"cuda:0\")\n",
        "print(\"Using device\", device)\n",
        "\n",
        "# from tools\n",
        "# Move up one directory to import from the tools folder\n",
        "%cd ..\n",
        "from tools.resnet20 import ResNetCIFAR\n",
        "from tools.train_util import *\n",
        "# Move back to the adversarial patch folder\n",
        "!pwd\n",
        "%cd /workspaces/Adversarial_Patch_Attack/adversarial patch"
      ]
    },
    {
      "cell_type": "markdown",
      "metadata": {
        "id": "PtrlyLuaocbv"
      },
      "source": [
        "We have again a few download statements. This includes both a dataset, and a few pretrained patches we will use later."
      ]
    },
    {
      "cell_type": "code",
      "execution_count": 5,
      "metadata": {},
      "outputs": [],
      "source": [
        "# Create checkpoint path if it doesn't exist yet\n",
        "os.makedirs(DATASET_PATH, exist_ok=True)\n",
        "os.makedirs(CHECKPOINT_PATH, exist_ok=True)"
      ]
    },
    {
      "cell_type": "markdown",
      "metadata": {
        "id": "4vRgvPW8ocbv"
      },
      "source": [
        "## Deep CNNs on ImageNet\n",
        "\n",
        "For our experiments in this notebook, we will use common CNN architectures trained on the ImageNet dataset. Such models are luckily provided by PyTorch's torchvision package, and hence we just need to load the model of our preference. For the results on the website and default on Google Colab, we use a ResNet34. Feel free to experiment with other architectures as well, the code is mainly independent of the specific architecture we choose."
      ]
    },
    {
      "cell_type": "code",
      "execution_count": 6,
      "metadata": {
        "id": "GH8cCwOWocbv"
      },
      "outputs": [],
      "source": [
        "# Load CNN architecture pretrained on ImageNet\n",
        "os.environ[\"TORCH_HOME\"] = CHECKPOINT_PATH\n",
        "pretrained_model = ResNetCIFAR(num_layers=20, Nbits=None)\n",
        "pretrained_model = pretrained_model.to(device)\n",
        "pretrained_model.load_state_dict(torch.load(\"/workspaces/Adversarial_Patch_Attack/tools/pretrained_model_resnet20.pt\",map_location=torch.device('cpu')))\n",
        "\n",
        "# No gradients needed for the network\n",
        "pretrained_model.eval()\n",
        "for p in pretrained_model.parameters():\n",
        "    p.requires_grad = False"
      ]
    },
    {
      "cell_type": "markdown",
      "metadata": {
        "id": "GCH-6Nt2ocbw"
      },
      "source": [
        "To perform adversarial attacks, we also need a dataset to work on. Given that the CNN model has been trained on ImageNet, it is only fair to perform the attacks on data from ImageNet. For this, we provide a small set of pre-processed images from the original ImageNet dataset (note that this dataset is shared under the same [license](http://image-net.org/download-faq) as the original ImageNet dataset). Specifically, we have 5 images for each of the 1000 labels of the dataset. We can load the data below, and create a corresponding data loader."
      ]
    },
    {
      "cell_type": "code",
      "execution_count": 7,
      "metadata": {
        "id": "qW83V1Vlocbw"
      },
      "outputs": [
        {
          "name": "stdout",
          "output_type": "stream",
          "text": [
            "Files already downloaded and verified\n",
            "['airplane', 'automobile', 'bird', 'cat', 'deer', 'dog', 'frog', 'horse', 'ship', 'truck']\n"
          ]
        },
        {
          "name": "stderr",
          "output_type": "stream",
          "text": [
            "/home/codespace/venv/lib/python3.8/site-packages/torch/utils/data/dataloader.py:554: UserWarning: This DataLoader will create 8 worker processes in total. Our suggested max number of worker in current system is 6, which is smaller than what this DataLoader is going to create. Please be aware that excessive worker creation might get DataLoader running slow or even freeze, lower the worker number to avoid potential slowness/freeze if necessary.\n",
            "  warnings.warn(_create_warning_msg(\n"
          ]
        }
      ],
      "source": [
        "# Mean and Std from ImageNet\n",
        "NORM_MEAN = np.array([0.485, 0.456, 0.406])\n",
        "NORM_STD = np.array([0.229, 0.224, 0.225])\n",
        "# No resizing and center crop necessary as images are already preprocessed.\n",
        "plain_transforms = transforms.Compose([\n",
        "    transforms.RandomHorizontalFlip(),\n",
        "    transforms.ToTensor(),\n",
        "    transforms.Normalize(mean=NORM_MEAN,\n",
        "                         std=NORM_STD)\n",
        "])\n",
        "\n",
        "# Load dataset and create data loader\n",
        "#imagenet_path = os.path.join(DATASET_PATH, \"TinyImageNet/\")\n",
        "#assert os.path.isdir(imagenet_path), f\"Could not find the ImageNet dataset at expected path \\\"{imagenet_path}\\\". \" + \\\n",
        "#                                     f\"Please make sure to have downloaded the ImageNet dataset here, or change the {DATASET_PATH=} variable.\"\n",
        "#dataset = torchvision.datasets.ImageFolder(root=imagenet_path, transform=plain_transforms)\n",
        "dataset = torchvision.datasets.CIFAR10(root=DATASET_PATH, train=True, download=True, transform=plain_transforms)\n",
        "data_loader = data.DataLoader(dataset, batch_size=128, shuffle=False, drop_last=False, num_workers=8)\n",
        "\n",
        "# Get label names of CIFAR10 class\n",
        "label_names = dataset.classes\n",
        "print(label_names)\n",
        "\n",
        "# Get label index of CIFAR10 class\n",
        "def get_label_index(lab_str):\n",
        "    assert lab_str in label_names, f\"Label \\\"{lab_str}\\\" not found. Check the spelling of the class.\"\n",
        "    return label_names.index(lab_str)"
      ]
    },
    {
      "cell_type": "code",
      "execution_count": 8,
      "metadata": {},
      "outputs": [
        {
          "data": {
            "text/plain": [
              "3"
            ]
          },
          "execution_count": 8,
          "metadata": {},
          "output_type": "execute_result"
        }
      ],
      "source": [
        "# try get_label_index\n",
        "get_label_index('cat')"
      ]
    },
    {
      "cell_type": "markdown",
      "metadata": {
        "id": "N13cZd-Nocbw"
      },
      "source": [
        "Before we start with our attacks, we should verify the performance of our model. As ImageNet has 1000 classes, simply looking at the accuracy is not sufficient to tell the performance of a model. Imagine a model that always predicts the true label as the second-highest class in its softmax output. Although we would say it recognizes the object in the image, it achieves an accuracy of 0. In ImageNet with 1000 classes, there is not always one clear label we can assign an image to. This is why for image classifications over so many classes, a common alternative metric is \"Top-5 accuracy\", which tells us how many times the true label has been within the 5 most-likely predictions of the model. As models usually perform quite well on those, we report the error (1 - accuracy) instead of the accuracy:"
      ]
    },
    {
      "cell_type": "code",
      "execution_count": 11,
      "metadata": {
        "id": "kySDWdLJocbw"
      },
      "outputs": [],
      "source": [
        "def eval_model(dataset_loader, img_func=None):\n",
        "    tp, tp_5, counter = 0., 0., 0.\n",
        "    for imgs, labels in tqdm(dataset_loader, desc=\"Validating...\"):\n",
        "        imgs = imgs.to(device)\n",
        "        labels = labels.to(device)\n",
        "        if img_func is not None:\n",
        "            imgs = img_func(imgs, labels) \n",
        "        with torch.no_grad():\n",
        "            preds = pretrained_model(imgs)\n",
        "        tp += (preds.argmax(dim=-1) == labels).sum()\n",
        "        tp_5 += (preds.topk(2, dim=-1)[1] == labels[...,None]).any(dim=-1).sum()\n",
        "        counter += preds.shape[0]\n",
        "    acc = tp.float().item()/counter\n",
        "    top5 = tp_5.float().item()/counter\n",
        "    print(f\"Top-1 error: {(100.0 * (1 - acc)):4.2f}%\")\n",
        "    print(f\"Top-2 error: {(100.0 * (1 - top5)):4.2f}%\")\n",
        "    return acc, top5"
      ]
    },
    {
      "cell_type": "code",
      "execution_count": 12,
      "metadata": {
        "colab": {
          "referenced_widgets": [
            "570f009b72a84eee807c65eecd83c735"
          ]
        },
        "id": "vxCZnrRbocbx",
        "outputId": "f99db999-f4fb-4e29-f8d0-1a76b4e7550e"
      },
      "outputs": [
        {
          "data": {
            "application/vnd.jupyter.widget-view+json": {
              "model_id": "4bfe3f386ebb4fab96d2d50fc4ba8f5e",
              "version_major": 2,
              "version_minor": 0
            },
            "text/plain": [
              "Validating...:   0%|          | 0/391 [00:00<?, ?it/s]"
            ]
          },
          "metadata": {},
          "output_type": "display_data"
        },
        {
          "name": "stdout",
          "output_type": "stream",
          "text": [
            "Top-1 error: 1.29%\n",
            "Top-2 error: 0.21%\n"
          ]
        }
      ],
      "source": [
        "_ = eval_model(data_loader)"
      ]
    },
    {
      "cell_type": "markdown",
      "metadata": {
        "id": "7p_hdRkrocbx"
      },
      "source": [
        "The ResNet34 achives a decent error rate of 4.3% for the top-5 predictions. Next, we can look at some predictions of the model to get more familiar with the dataset. The function below plots an image along with a bar diagram of its predictions. We also prepare it to show adversarial examples for later applications."
      ]
    },
    {
      "cell_type": "code",
      "execution_count": 13,
      "metadata": {},
      "outputs": [
        {
          "data": {
            "text/plain": [
              "<All keys matched successfully>"
            ]
          },
          "execution_count": 13,
          "metadata": {},
          "output_type": "execute_result"
        }
      ],
      "source": [
        "pretrained_model = ResNetCIFAR(num_layers=20, Nbits=None)\n",
        "pretrained_model = pretrained_model.to(device)\n",
        "pretrained_model.load_state_dict(torch.load(\"/workspaces/Adversarial_Patch_Attack/tools/pretrained_model_resnet20.pt\",map_location=torch.device('cpu')))"
      ]
    },
    {
      "cell_type": "code",
      "execution_count": 14,
      "metadata": {
        "id": "RKJf8Oxiocbx"
      },
      "outputs": [],
      "source": [
        "def show_prediction(img, label, pred, K=2, adv_img=None, noise=None):\n",
        "    \n",
        "    if isinstance(img, torch.Tensor):\n",
        "        # Tensor image to numpy\n",
        "        img = img.cpu().permute(1, 2, 0).numpy()\n",
        "        img = (img * NORM_STD[None,None]) + NORM_MEAN[None,None]\n",
        "        img = np.clip(img, a_min=0.0, a_max=1.0)\n",
        "        label = label.item()\n",
        "    \n",
        "    # Plot on the left the image with the true label as title.\n",
        "    # On the right, have a horizontal bar plot with the top k predictions including probabilities\n",
        "    if noise is None or adv_img is None:\n",
        "        fig, ax = plt.subplots(1, 2, figsize=(10,2), gridspec_kw={'width_ratios': [1, 1]})\n",
        "    else:\n",
        "        fig, ax = plt.subplots(1, 5, figsize=(12,2), gridspec_kw={'width_ratios': [1, 1, 1, 1, 2]})\n",
        "    \n",
        "    ax[0].imshow(img)\n",
        "    ax[0].set_title(label_names[label])\n",
        "    ax[0].axis('off')\n",
        "    \n",
        "    if adv_img is not None and noise is not None:\n",
        "        # Visualize adversarial images\n",
        "        adv_img = adv_img.cpu().permute(1, 2, 0).numpy()\n",
        "        adv_img = (adv_img * NORM_STD[None,None]) + NORM_MEAN[None,None]\n",
        "        adv_img = np.clip(adv_img, a_min=0.0, a_max=1.0)\n",
        "        ax[1].imshow(adv_img)\n",
        "        ax[1].set_title('Adversarial')\n",
        "        ax[1].axis('off')\n",
        "        # Visualize noise\n",
        "        noise = noise.cpu().permute(1, 2, 0).numpy()\n",
        "        noise = noise * 0.5 + 0.5 # Scale between 0 to 1 \n",
        "        ax[2].imshow(noise)\n",
        "        ax[2].set_title('Noise')\n",
        "        ax[2].axis('off')\n",
        "        # buffer\n",
        "        ax[3].axis('off')\n",
        "    \n",
        "    if abs(pred.sum().item() - 1.0) > 1e-4:\n",
        "        pred = torch.softmax(pred, dim=-1)\n",
        "    topk_vals, topk_idx = pred.topk(K, dim=-1)\n",
        "    print(topk_idx)\n",
        "    topk_vals, topk_idx = topk_vals.cpu().numpy(), topk_idx.cpu().numpy()\n",
        "    ax[-1].barh(np.arange(K), topk_vals*100.0, align='center', color=[\"C0\" if topk_idx[i]!=label else \"C2\" for i in range(K)])\n",
        "    ax[-1].set_yticks(np.arange(K))\n",
        "    ax[-1].set_yticklabels([label_names[c] for c in topk_idx])\n",
        "    ax[-1].invert_yaxis()\n",
        "    ax[-1].set_xlabel('Confidence')\n",
        "    ax[-1].set_title('Predictions')\n",
        "    \n",
        "    plt.show()\n",
        "    plt.close()"
      ]
    },
    {
      "cell_type": "markdown",
      "metadata": {
        "id": "I91-Ufh8ocbx"
      },
      "source": [
        "Let's visualize a few images below:"
      ]
    },
    {
      "cell_type": "code",
      "execution_count": 15,
      "metadata": {
        "id": "b6L9ha08ocbx",
        "outputId": "95f1df98-2f39-4ab6-d217-0b7701d823a1"
      },
      "outputs": [
        {
          "name": "stdout",
          "output_type": "stream",
          "text": [
            "tensor([9, 8], device='cuda:0')\n"
          ]
        },
        {
          "data": {
            "application/pdf": "[encoded data removed]",
            "image/svg+xml": "<?xml version=\"1.0\" encoding=\"utf-8\" standalone=\"no\"?>\n<!DOCTYPE svg PUBLIC \"-//W3C//DTD SVG 1.1//EN\"\n  \"http://www.w3.org/Graphics/SVG/1.1/DTD/svg11.dtd\">\n<svg xmlns:xlink=\"http://www.w3.org/1999/xlink\" width=\"501.021818pt\" height=\"176.157812pt\" viewBox=\"0 0 501.021818 176.157812\" xmlns=\"http://www.w3.org/2000/svg\" version=\"1.1\">\n <metadata>\n  <rdf:RDF xmlns:dc=\"http://purl.org/dc/elements/1.1/\" xmlns:cc=\"http://creativecommons.org/ns#\" xmlns:rdf=\"http://www.w3.org/1999/02/22-rdf-syntax-ns#\">\n   <cc:Work>\n    <dc:type rdf:resource=\"http://purl.org/dc/dcmitype/StillImage\"/>\n    <dc:date>2022-12-12T06:34:24.585604</dc:date>\n    <dc:format>image/svg+xml</dc:format>\n    <dc:creator>\n     <cc:Agent>\n      <dc:title>Matplotlib v3.6.0, https://matplotlib.org/</dc:title>\n     </cc:Agent>\n    </dc:creator>\n   </cc:Work>\n  </rdf:RDF>\n </metadata>\n <defs>\n  <style type=\"text/css\">*{stroke-linejoin: round; stroke-linecap: butt}</style>\n </defs>\n <g id=\"figure_1\">\n  <g id=\"patch_1\">\n   <path d=\"M 0 176.157812 \nL 501.021818 176.157812 \nL 501.021818 0 \nL 0 0 \nz\n\" style=\"fill: #ffffff\"/>\n  </g>\n  <g id=\"axes_1\">\n   <g clip-path=\"url(#pc3861acc13)\">\n    <image xlink:href=\"data:image/png;base64,\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\" id=\"image4035d752fe\" transform=\"scale(1 -1) translate(0 -110.88)\" x=\"7.2\" y=\"-22.318125\" width=\"111.6\" height=\"110.88\"/>\n   </g>\n   <g id=\"text_1\">\n    <!-- truck -->\n    <g style=\"fill: #262626\" transform=\"translate(47.245313 16.318125) scale(0.12 -0.12)\">\n     <defs>\n      <path id=\"DejaVuSans-74\" d=\"M 1172 4494 \nL 1172 3500 \nL 2356 3500 \nL 2356 3053 \nL 1172 3053 \nL 1172 1153 \nQ 1172 725 1289 603 \nQ 1406 481 1766 481 \nL 2356 481 \nL 2356 0 \nL 1766 0 \nQ 1100 0 847 248 \nQ 594 497 594 1153 \nL 594 3053 \nL 172 3053 \nL 172 3500 \nL 594 3500 \nL 594 4494 \nL 1172 4494 \nz\n\" transform=\"scale(0.015625)\"/>\n      <path id=\"DejaVuSans-72\" d=\"M 2631 2963 \nQ 2534 3019 2420 3045 \nQ 2306 3072 2169 3072 \nQ 1681 3072 1420 2755 \nQ 1159 2438 1159 1844 \nL 1159 0 \nL 581 0 \nL 581 3500 \nL 1159 3500 \nL 1159 2956 \nQ 1341 3275 1631 3429 \nQ 1922 3584 2338 3584 \nQ 2397 3584 2469 3576 \nQ 2541 3569 2628 3553 \nL 2631 2963 \nz\n\" transform=\"scale(0.015625)\"/>\n      <path id=\"DejaVuSans-75\" d=\"M 544 1381 \nL 544 3500 \nL 1119 3500 \nL 1119 1403 \nQ 1119 906 1312 657 \nQ 1506 409 1894 409 \nQ 2359 409 2629 706 \nQ 2900 1003 2900 1516 \nL 2900 3500 \nL 3475 3500 \nL 3475 0 \nL 2900 0 \nL 2900 538 \nQ 2691 219 2414 64 \nQ 2138 -91 1772 -91 \nQ 1169 -91 856 284 \nQ 544 659 544 1381 \nz\nM 1991 3584 \nL 1991 3584 \nz\n\" transform=\"scale(0.015625)\"/>\n      <path id=\"DejaVuSans-63\" d=\"M 3122 3366 \nL 3122 2828 \nQ 2878 2963 2633 3030 \nQ 2388 3097 2138 3097 \nQ 1578 3097 1268 2742 \nQ 959 2388 959 1747 \nQ 959 1106 1268 751 \nQ 1578 397 2138 397 \nQ 2388 397 2633 464 \nQ 2878 531 3122 666 \nL 3122 134 \nQ 2881 22 2623 -34 \nQ 2366 -91 2075 -91 \nQ 1284 -91 818 406 \nQ 353 903 353 1747 \nQ 353 2603 823 3093 \nQ 1294 3584 2113 3584 \nQ 2378 3584 2631 3529 \nQ 2884 3475 3122 3366 \nz\n\" transform=\"scale(0.015625)\"/>\n      <path id=\"DejaVuSans-6b\" d=\"M 581 4863 \nL 1159 4863 \nL 1159 1991 \nL 2875 3500 \nL 3609 3500 \nL 1753 1863 \nL 3688 0 \nL 2938 0 \nL 1159 1709 \nL 1159 0 \nL 581 0 \nL 581 4863 \nz\n\" transform=\"scale(0.015625)\"/>\n     </defs>\n     <use xlink:href=\"#DejaVuSans-74\"/>\n     <use xlink:href=\"#DejaVuSans-72\" x=\"39.208984\"/>\n     <use xlink:href=\"#DejaVuSans-75\" x=\"80.322266\"/>\n     <use xlink:href=\"#DejaVuSans-63\" x=\"143.701172\"/>\n     <use xlink:href=\"#DejaVuSans-6b\" x=\"198.681641\"/>\n    </g>\n   </g>\n  </g>\n  <g id=\"axes_2\">\n   <g id=\"patch_2\">\n    <path d=\"M 240.185455 133.198125 \nL 493.821818 133.198125 \nL 493.821818 22.318125 \nL 240.185455 22.318125 \nz\n\" style=\"fill: #eaeaf2\"/>\n   </g>\n   <g id=\"matplotlib.axis_1\">\n    <g id=\"xtick_1\">\n     <g id=\"line2d_1\">\n      <path d=\"M 240.185455 133.198125 \nL 240.185455 22.318125 \n\" clip-path=\"url(#p207c7cda62)\" style=\"fill: none; stroke: #ffffff; stroke-linecap: round\"/>\n     </g>\n     <g id=\"text_2\">\n      <!-- 0 -->\n      <g style=\"fill: #262626\" transform=\"translate(236.68608 151.056406) scale(0.11 -0.11)\">\n       <defs>\n        <path id=\"DejaVuSans-30\" d=\"M 2034 4250 \nQ 1547 4250 1301 3770 \nQ 1056 3291 1056 2328 \nQ 1056 1369 1301 889 \nQ 1547 409 2034 409 \nQ 2525 409 2770 889 \nQ 3016 1369 3016 2328 \nQ 3016 3291 2770 3770 \nQ 2525 4250 2034 4250 \nz\nM 2034 4750 \nQ 2819 4750 3233 4129 \nQ 3647 3509 3647 2328 \nQ 3647 1150 3233 529 \nQ 2819 -91 2034 -91 \nQ 1250 -91 836 529 \nQ 422 1150 422 2328 \nQ 422 3509 836 4129 \nQ 1250 4750 2034 4750 \nz\n\" transform=\"scale(0.015625)\"/>\n       </defs>\n       <use xlink:href=\"#DejaVuSans-30\"/>\n      </g>\n     </g>\n    </g>\n    <g id=\"xtick_2\">\n     <g id=\"line2d_2\">\n      <path d=\"M 288.497143 133.198125 \nL 288.497143 22.318125 \n\" clip-path=\"url(#p207c7cda62)\" style=\"fill: none; stroke: #ffffff; stroke-linecap: round\"/>\n     </g>\n     <g id=\"text_3\">\n      <!-- 20 -->\n      <g style=\"fill: #262626\" transform=\"translate(281.498393 151.056406) scale(0.11 -0.11)\">\n       <defs>\n        <path id=\"DejaVuSans-32\" d=\"M 1228 531 \nL 3431 531 \nL 3431 0 \nL 469 0 \nL 469 531 \nQ 828 903 1448 1529 \nQ 2069 2156 2228 2338 \nQ 2531 2678 2651 2914 \nQ 2772 3150 2772 3378 \nQ 2772 3750 2511 3984 \nQ 2250 4219 1831 4219 \nQ 1534 4219 1204 4116 \nQ 875 4013 500 3803 \nL 500 4441 \nQ 881 4594 1212 4672 \nQ 1544 4750 1819 4750 \nQ 2544 4750 2975 4387 \nQ 3406 4025 3406 3419 \nQ 3406 3131 3298 2873 \nQ 3191 2616 2906 2266 \nQ 2828 2175 2409 1742 \nQ 1991 1309 1228 531 \nz\n\" transform=\"scale(0.015625)\"/>\n       </defs>\n       <use xlink:href=\"#DejaVuSans-32\"/>\n       <use xlink:href=\"#DejaVuSans-30\" x=\"63.623047\"/>\n      </g>\n     </g>\n    </g>\n    <g id=\"xtick_3\">\n     <g id=\"line2d_3\">\n      <path d=\"M 336.808831 133.198125 \nL 336.808831 22.318125 \n\" clip-path=\"url(#p207c7cda62)\" style=\"fill: none; stroke: #ffffff; stroke-linecap: round\"/>\n     </g>\n     <g id=\"text_4\">\n      <!-- 40 -->\n      <g style=\"fill: #262626\" transform=\"translate(329.810081 151.056406) scale(0.11 -0.11)\">\n       <defs>\n        <path id=\"DejaVuSans-34\" d=\"M 2419 4116 \nL 825 1625 \nL 2419 1625 \nL 2419 4116 \nz\nM 2253 4666 \nL 3047 4666 \nL 3047 1625 \nL 3713 1625 \nL 3713 1100 \nL 3047 1100 \nL 3047 0 \nL 2419 0 \nL 2419 1100 \nL 313 1100 \nL 313 1709 \nL 2253 4666 \nz\n\" transform=\"scale(0.015625)\"/>\n       </defs>\n       <use xlink:href=\"#DejaVuSans-34\"/>\n       <use xlink:href=\"#DejaVuSans-30\" x=\"63.623047\"/>\n      </g>\n     </g>\n    </g>\n    <g id=\"xtick_4\">\n     <g id=\"line2d_4\">\n      <path d=\"M 385.120519 133.198125 \nL 385.120519 22.318125 \n\" clip-path=\"url(#p207c7cda62)\" style=\"fill: none; stroke: #ffffff; stroke-linecap: round\"/>\n     </g>\n     <g id=\"text_5\">\n      <!-- 60 -->\n      <g style=\"fill: #262626\" transform=\"translate(378.121769 151.056406) scale(0.11 -0.11)\">\n       <defs>\n        <path id=\"DejaVuSans-36\" d=\"M 2113 2584 \nQ 1688 2584 1439 2293 \nQ 1191 2003 1191 1497 \nQ 1191 994 1439 701 \nQ 1688 409 2113 409 \nQ 2538 409 2786 701 \nQ 3034 994 3034 1497 \nQ 3034 2003 2786 2293 \nQ 2538 2584 2113 2584 \nz\nM 3366 4563 \nL 3366 3988 \nQ 3128 4100 2886 4159 \nQ 2644 4219 2406 4219 \nQ 1781 4219 1451 3797 \nQ 1122 3375 1075 2522 \nQ 1259 2794 1537 2939 \nQ 1816 3084 2150 3084 \nQ 2853 3084 3261 2657 \nQ 3669 2231 3669 1497 \nQ 3669 778 3244 343 \nQ 2819 -91 2113 -91 \nQ 1303 -91 875 529 \nQ 447 1150 447 2328 \nQ 447 3434 972 4092 \nQ 1497 4750 2381 4750 \nQ 2619 4750 2861 4703 \nQ 3103 4656 3366 4563 \nz\n\" transform=\"scale(0.015625)\"/>\n       </defs>\n       <use xlink:href=\"#DejaVuSans-36\"/>\n       <use xlink:href=\"#DejaVuSans-30\" x=\"63.623047\"/>\n      </g>\n     </g>\n    </g>\n    <g id=\"xtick_5\">\n     <g id=\"line2d_5\">\n      <path d=\"M 433.432208 133.198125 \nL 433.432208 22.318125 \n\" clip-path=\"url(#p207c7cda62)\" style=\"fill: none; stroke: #ffffff; stroke-linecap: round\"/>\n     </g>\n     <g id=\"text_6\">\n      <!-- 80 -->\n      <g style=\"fill: #262626\" transform=\"translate(426.433458 151.056406) scale(0.11 -0.11)\">\n       <defs>\n        <path id=\"DejaVuSans-38\" d=\"M 2034 2216 \nQ 1584 2216 1326 1975 \nQ 1069 1734 1069 1313 \nQ 1069 891 1326 650 \nQ 1584 409 2034 409 \nQ 2484 409 2743 651 \nQ 3003 894 3003 1313 \nQ 3003 1734 2745 1975 \nQ 2488 2216 2034 2216 \nz\nM 1403 2484 \nQ 997 2584 770 2862 \nQ 544 3141 544 3541 \nQ 544 4100 942 4425 \nQ 1341 4750 2034 4750 \nQ 2731 4750 3128 4425 \nQ 3525 4100 3525 3541 \nQ 3525 3141 3298 2862 \nQ 3072 2584 2669 2484 \nQ 3125 2378 3379 2068 \nQ 3634 1759 3634 1313 \nQ 3634 634 3220 271 \nQ 2806 -91 2034 -91 \nQ 1263 -91 848 271 \nQ 434 634 434 1313 \nQ 434 1759 690 2068 \nQ 947 2378 1403 2484 \nz\nM 1172 3481 \nQ 1172 3119 1398 2916 \nQ 1625 2713 2034 2713 \nQ 2441 2713 2670 2916 \nQ 2900 3119 2900 3481 \nQ 2900 3844 2670 4047 \nQ 2441 4250 2034 4250 \nQ 1625 4250 1398 4047 \nQ 1172 3844 1172 3481 \nz\n\" transform=\"scale(0.015625)\"/>\n       </defs>\n       <use xlink:href=\"#DejaVuSans-38\"/>\n       <use xlink:href=\"#DejaVuSans-30\" x=\"63.623047\"/>\n      </g>\n     </g>\n    </g>\n    <g id=\"xtick_6\">\n     <g id=\"line2d_6\">\n      <path d=\"M 481.743896 133.198125 \nL 481.743896 22.318125 \n\" clip-path=\"url(#p207c7cda62)\" style=\"fill: none; stroke: #ffffff; stroke-linecap: round\"/>\n     </g>\n     <g id=\"text_7\">\n      <!-- 100 -->\n      <g style=\"fill: #262626\" transform=\"translate(471.245771 151.056406) scale(0.11 -0.11)\">\n       <defs>\n        <path id=\"DejaVuSans-31\" d=\"M 794 531 \nL 1825 531 \nL 1825 4091 \nL 703 3866 \nL 703 4441 \nL 1819 4666 \nL 2450 4666 \nL 2450 531 \nL 3481 531 \nL 3481 0 \nL 794 0 \nL 794 531 \nz\n\" transform=\"scale(0.015625)\"/>\n       </defs>\n       <use xlink:href=\"#DejaVuSans-31\"/>\n       <use xlink:href=\"#DejaVuSans-30\" x=\"63.623047\"/>\n       <use xlink:href=\"#DejaVuSans-30\" x=\"127.246094\"/>\n      </g>\n     </g>\n    </g>\n    <g id=\"text_8\">\n     <!-- Confidence -->\n     <g style=\"fill: #262626\" transform=\"translate(333.266761 166.462187) scale(0.12 -0.12)\">\n      <defs>\n       <path id=\"DejaVuSans-43\" d=\"M 4122 4306 \nL 4122 3641 \nQ 3803 3938 3442 4084 \nQ 3081 4231 2675 4231 \nQ 1875 4231 1450 3742 \nQ 1025 3253 1025 2328 \nQ 1025 1406 1450 917 \nQ 1875 428 2675 428 \nQ 3081 428 3442 575 \nQ 3803 722 4122 1019 \nL 4122 359 \nQ 3791 134 3420 21 \nQ 3050 -91 2638 -91 \nQ 1578 -91 968 557 \nQ 359 1206 359 2328 \nQ 359 3453 968 4101 \nQ 1578 4750 2638 4750 \nQ 3056 4750 3426 4639 \nQ 3797 4528 4122 4306 \nz\n\" transform=\"scale(0.015625)\"/>\n       <path id=\"DejaVuSans-6f\" d=\"M 1959 3097 \nQ 1497 3097 1228 2736 \nQ 959 2375 959 1747 \nQ 959 1119 1226 758 \nQ 1494 397 1959 397 \nQ 2419 397 2687 759 \nQ 2956 1122 2956 1747 \nQ 2956 2369 2687 2733 \nQ 2419 3097 1959 3097 \nz\nM 1959 3584 \nQ 2709 3584 3137 3096 \nQ 3566 2609 3566 1747 \nQ 3566 888 3137 398 \nQ 2709 -91 1959 -91 \nQ 1206 -91 779 398 \nQ 353 888 353 1747 \nQ 353 2609 779 3096 \nQ 1206 3584 1959 3584 \nz\n\" transform=\"scale(0.015625)\"/>\n       <path id=\"DejaVuSans-6e\" d=\"M 3513 2113 \nL 3513 0 \nL 2938 0 \nL 2938 2094 \nQ 2938 2591 2744 2837 \nQ 2550 3084 2163 3084 \nQ 1697 3084 1428 2787 \nQ 1159 2491 1159 1978 \nL 1159 0 \nL 581 0 \nL 581 3500 \nL 1159 3500 \nL 1159 2956 \nQ 1366 3272 1645 3428 \nQ 1925 3584 2291 3584 \nQ 2894 3584 3203 3211 \nQ 3513 2838 3513 2113 \nz\n\" transform=\"scale(0.015625)\"/>\n       <path id=\"DejaVuSans-66\" d=\"M 2375 4863 \nL 2375 4384 \nL 1825 4384 \nQ 1516 4384 1395 4259 \nQ 1275 4134 1275 3809 \nL 1275 3500 \nL 2222 3500 \nL 2222 3053 \nL 1275 3053 \nL 1275 0 \nL 697 0 \nL 697 3053 \nL 147 3053 \nL 147 3500 \nL 697 3500 \nL 697 3744 \nQ 697 4328 969 4595 \nQ 1241 4863 1831 4863 \nL 2375 4863 \nz\n\" transform=\"scale(0.015625)\"/>\n       <path id=\"DejaVuSans-69\" d=\"M 603 3500 \nL 1178 3500 \nL 1178 0 \nL 603 0 \nL 603 3500 \nz\nM 603 4863 \nL 1178 4863 \nL 1178 4134 \nL 603 4134 \nL 603 4863 \nz\n\" transform=\"scale(0.015625)\"/>\n       <path id=\"DejaVuSans-64\" d=\"M 2906 2969 \nL 2906 4863 \nL 3481 4863 \nL 3481 0 \nL 2906 0 \nL 2906 525 \nQ 2725 213 2448 61 \nQ 2172 -91 1784 -91 \nQ 1150 -91 751 415 \nQ 353 922 353 1747 \nQ 353 2572 751 3078 \nQ 1150 3584 1784 3584 \nQ 2172 3584 2448 3432 \nQ 2725 3281 2906 2969 \nz\nM 947 1747 \nQ 947 1113 1208 752 \nQ 1469 391 1925 391 \nQ 2381 391 2643 752 \nQ 2906 1113 2906 1747 \nQ 2906 2381 2643 2742 \nQ 2381 3103 1925 3103 \nQ 1469 3103 1208 2742 \nQ 947 2381 947 1747 \nz\n\" transform=\"scale(0.015625)\"/>\n       <path id=\"DejaVuSans-65\" d=\"M 3597 1894 \nL 3597 1613 \nL 953 1613 \nQ 991 1019 1311 708 \nQ 1631 397 2203 397 \nQ 2534 397 2845 478 \nQ 3156 559 3463 722 \nL 3463 178 \nQ 3153 47 2828 -22 \nQ 2503 -91 2169 -91 \nQ 1331 -91 842 396 \nQ 353 884 353 1716 \nQ 353 2575 817 3079 \nQ 1281 3584 2069 3584 \nQ 2775 3584 3186 3129 \nQ 3597 2675 3597 1894 \nz\nM 3022 2063 \nQ 3016 2534 2758 2815 \nQ 2500 3097 2075 3097 \nQ 1594 3097 1305 2825 \nQ 1016 2553 972 2059 \nL 3022 2063 \nz\n\" transform=\"scale(0.015625)\"/>\n      </defs>\n      <use xlink:href=\"#DejaVuSans-43\"/>\n      <use xlink:href=\"#DejaVuSans-6f\" x=\"69.824219\"/>\n      <use xlink:href=\"#DejaVuSans-6e\" x=\"131.005859\"/>\n      <use xlink:href=\"#DejaVuSans-66\" x=\"194.384766\"/>\n      <use xlink:href=\"#DejaVuSans-69\" x=\"229.589844\"/>\n      <use xlink:href=\"#DejaVuSans-64\" x=\"257.373047\"/>\n      <use xlink:href=\"#DejaVuSans-65\" x=\"320.849609\"/>\n      <use xlink:href=\"#DejaVuSans-6e\" x=\"382.373047\"/>\n      <use xlink:href=\"#DejaVuSans-63\" x=\"445.751953\"/>\n      <use xlink:href=\"#DejaVuSans-65\" x=\"500.732422\"/>\n     </g>\n    </g>\n   </g>\n   <g id=\"matplotlib.axis_2\">\n    <g id=\"ytick_1\">\n     <g id=\"line2d_7\">\n      <path d=\"M 240.185455 49.758125 \nL 493.821818 49.758125 \n\" clip-path=\"url(#p207c7cda62)\" style=\"fill: none; stroke: #ffffff; stroke-linecap: round\"/>\n     </g>\n     <g id=\"text_9\">\n      <!-- truck -->\n      <g style=\"fill: #262626\" transform=\"translate(202.461861 53.937266) scale(0.11 -0.11)\">\n       <use xlink:href=\"#DejaVuSans-74\"/>\n       <use xlink:href=\"#DejaVuSans-72\" x=\"39.208984\"/>\n       <use xlink:href=\"#DejaVuSans-75\" x=\"80.322266\"/>\n       <use xlink:href=\"#DejaVuSans-63\" x=\"143.701172\"/>\n       <use xlink:href=\"#DejaVuSans-6b\" x=\"198.681641\"/>\n      </g>\n     </g>\n    </g>\n    <g id=\"ytick_2\">\n     <g id=\"line2d_8\">\n      <path d=\"M 240.185455 105.758125 \nL 493.821818 105.758125 \n\" clip-path=\"url(#p207c7cda62)\" style=\"fill: none; stroke: #ffffff; stroke-linecap: round\"/>\n     </g>\n     <g id=\"text_10\">\n      <!-- ship -->\n      <g style=\"fill: #262626\" transform=\"translate(207.944673 109.937266) scale(0.11 -0.11)\">\n       <defs>\n        <path id=\"DejaVuSans-73\" d=\"M 2834 3397 \nL 2834 2853 \nQ 2591 2978 2328 3040 \nQ 2066 3103 1784 3103 \nQ 1356 3103 1142 2972 \nQ 928 2841 928 2578 \nQ 928 2378 1081 2264 \nQ 1234 2150 1697 2047 \nL 1894 2003 \nQ 2506 1872 2764 1633 \nQ 3022 1394 3022 966 \nQ 3022 478 2636 193 \nQ 2250 -91 1575 -91 \nQ 1294 -91 989 -36 \nQ 684 19 347 128 \nL 347 722 \nQ 666 556 975 473 \nQ 1284 391 1588 391 \nQ 1994 391 2212 530 \nQ 2431 669 2431 922 \nQ 2431 1156 2273 1281 \nQ 2116 1406 1581 1522 \nL 1381 1569 \nQ 847 1681 609 1914 \nQ 372 2147 372 2553 \nQ 372 3047 722 3315 \nQ 1072 3584 1716 3584 \nQ 2034 3584 2315 3537 \nQ 2597 3491 2834 3397 \nz\n\" transform=\"scale(0.015625)\"/>\n        <path id=\"DejaVuSans-68\" d=\"M 3513 2113 \nL 3513 0 \nL 2938 0 \nL 2938 2094 \nQ 2938 2591 2744 2837 \nQ 2550 3084 2163 3084 \nQ 1697 3084 1428 2787 \nQ 1159 2491 1159 1978 \nL 1159 0 \nL 581 0 \nL 581 4863 \nL 1159 4863 \nL 1159 2956 \nQ 1366 3272 1645 3428 \nQ 1925 3584 2291 3584 \nQ 2894 3584 3203 3211 \nQ 3513 2838 3513 2113 \nz\n\" transform=\"scale(0.015625)\"/>\n        <path id=\"DejaVuSans-70\" d=\"M 1159 525 \nL 1159 -1331 \nL 581 -1331 \nL 581 3500 \nL 1159 3500 \nL 1159 2969 \nQ 1341 3281 1617 3432 \nQ 1894 3584 2278 3584 \nQ 2916 3584 3314 3078 \nQ 3713 2572 3713 1747 \nQ 3713 922 3314 415 \nQ 2916 -91 2278 -91 \nQ 1894 -91 1617 61 \nQ 1341 213 1159 525 \nz\nM 3116 1747 \nQ 3116 2381 2855 2742 \nQ 2594 3103 2138 3103 \nQ 1681 3103 1420 2742 \nQ 1159 2381 1159 1747 \nQ 1159 1113 1420 752 \nQ 1681 391 2138 391 \nQ 2594 391 2855 752 \nQ 3116 1113 3116 1747 \nz\n\" transform=\"scale(0.015625)\"/>\n       </defs>\n       <use xlink:href=\"#DejaVuSans-73\"/>\n       <use xlink:href=\"#DejaVuSans-68\" x=\"52.099609\"/>\n       <use xlink:href=\"#DejaVuSans-69\" x=\"115.478516\"/>\n       <use xlink:href=\"#DejaVuSans-70\" x=\"143.261719\"/>\n      </g>\n     </g>\n    </g>\n   </g>\n   <g id=\"patch_3\">\n    <path d=\"M 240.185455 27.358125 \nL 481.743896 27.358125 \nL 481.743896 72.158125 \nL 240.185455 72.158125 \nz\n\" clip-path=\"url(#p207c7cda62)\" style=\"fill: #55a868; stroke: #ffffff; stroke-linejoin: miter\"/>\n   </g>\n   <g id=\"patch_4\">\n    <path d=\"M 240.185455 83.358125 \nL 240.185461 83.358125 \nL 240.185461 128.158125 \nL 240.185455 128.158125 \nz\n\" clip-path=\"url(#p207c7cda62)\" style=\"fill: #4c72b0; stroke: #ffffff; stroke-linejoin: miter\"/>\n   </g>\n   <g id=\"patch_5\">\n    <path d=\"M 240.185455 133.198125 \nL 240.185455 22.318125 \n\" style=\"fill: none; stroke: #ffffff; stroke-width: 1.25; stroke-linejoin: miter; stroke-linecap: square\"/>\n   </g>\n   <g id=\"patch_6\">\n    <path d=\"M 493.821818 133.198125 \nL 493.821818 22.318125 \n\" style=\"fill: none; stroke: #ffffff; stroke-width: 1.25; stroke-linejoin: miter; stroke-linecap: square\"/>\n   </g>\n   <g id=\"patch_7\">\n    <path d=\"M 240.185455 133.198125 \nL 493.821818 133.198125 \n\" style=\"fill: none; stroke: #ffffff; stroke-width: 1.25; stroke-linejoin: miter; stroke-linecap: square\"/>\n   </g>\n   <g id=\"patch_8\">\n    <path d=\"M 240.185455 22.318125 \nL 493.821818 22.318125 \n\" style=\"fill: none; stroke: #ffffff; stroke-width: 1.25; stroke-linejoin: miter; stroke-linecap: square\"/>\n   </g>\n   <g id=\"text_11\">\n    <!-- Predictions -->\n    <g style=\"fill: #262626\" transform=\"translate(334.073949 16.318125) scale(0.12 -0.12)\">\n     <defs>\n      <path id=\"DejaVuSans-50\" d=\"M 1259 4147 \nL 1259 2394 \nL 2053 2394 \nQ 2494 2394 2734 2622 \nQ 2975 2850 2975 3272 \nQ 2975 3691 2734 3919 \nQ 2494 4147 2053 4147 \nL 1259 4147 \nz\nM 628 4666 \nL 2053 4666 \nQ 2838 4666 3239 4311 \nQ 3641 3956 3641 3272 \nQ 3641 2581 3239 2228 \nQ 2838 1875 2053 1875 \nL 1259 1875 \nL 1259 0 \nL 628 0 \nL 628 4666 \nz\n\" transform=\"scale(0.015625)\"/>\n     </defs>\n     <use xlink:href=\"#DejaVuSans-50\"/>\n     <use xlink:href=\"#DejaVuSans-72\" x=\"58.552734\"/>\n     <use xlink:href=\"#DejaVuSans-65\" x=\"97.416016\"/>\n     <use xlink:href=\"#DejaVuSans-64\" x=\"158.939453\"/>\n     <use xlink:href=\"#DejaVuSans-69\" x=\"222.416016\"/>\n     <use xlink:href=\"#DejaVuSans-63\" x=\"250.199219\"/>\n     <use xlink:href=\"#DejaVuSans-74\" x=\"305.179688\"/>\n     <use xlink:href=\"#DejaVuSans-69\" x=\"344.388672\"/>\n     <use xlink:href=\"#DejaVuSans-6f\" x=\"372.171875\"/>\n     <use xlink:href=\"#DejaVuSans-6e\" x=\"433.353516\"/>\n     <use xlink:href=\"#DejaVuSans-73\" x=\"496.732422\"/>\n    </g>\n   </g>\n  </g>\n </g>\n <defs>\n  <clipPath id=\"pc3861acc13\">\n   <rect x=\"7.2\" y=\"22.318125\" width=\"110.88\" height=\"110.88\"/>\n  </clipPath>\n  <clipPath id=\"p207c7cda62\">\n   <rect x=\"240.185455\" y=\"22.318125\" width=\"253.636364\" height=\"110.88\"/>\n  </clipPath>\n </defs>\n</svg>\n",
            "text/plain": [
              "<Figure size 1000x200 with 2 Axes>"
            ]
          },
          "metadata": {},
          "output_type": "display_data"
        },
        {
          "name": "stdout",
          "output_type": "stream",
          "text": [
            "tensor([2, 4], device='cuda:0')\n"
          ]
        },
        {
          "data": {
            "application/pdf": "[encoded data removed]",
            "image/svg+xml": "<?xml version=\"1.0\" encoding=\"utf-8\" standalone=\"no\"?>\n<!DOCTYPE svg PUBLIC \"-//W3C//DTD SVG 1.1//EN\"\n  \"http://www.w3.org/Graphics/SVG/1.1/DTD/svg11.dtd\">\n<svg xmlns:xlink=\"http://www.w3.org/1999/xlink\" width=\"501.021818pt\" height=\"176.157812pt\" viewBox=\"0 0 501.021818 176.157812\" xmlns=\"http://www.w3.org/2000/svg\" version=\"1.1\">\n <metadata>\n  <rdf:RDF xmlns:dc=\"http://purl.org/dc/elements/1.1/\" xmlns:cc=\"http://creativecommons.org/ns#\" xmlns:rdf=\"http://www.w3.org/1999/02/22-rdf-syntax-ns#\">\n   <cc:Work>\n    <dc:type rdf:resource=\"http://purl.org/dc/dcmitype/StillImage\"/>\n    <dc:date>2022-12-12T06:34:25.130107</dc:date>\n    <dc:format>image/svg+xml</dc:format>\n    <dc:creator>\n     <cc:Agent>\n      <dc:title>Matplotlib v3.6.0, https://matplotlib.org/</dc:title>\n     </cc:Agent>\n    </dc:creator>\n   </cc:Work>\n  </rdf:RDF>\n </metadata>\n <defs>\n  <style type=\"text/css\">*{stroke-linejoin: round; stroke-linecap: butt}</style>\n </defs>\n <g id=\"figure_1\">\n  <g id=\"patch_1\">\n   <path d=\"M 0 176.157812 \nL 501.021818 176.157812 \nL 501.021818 0 \nL 0 0 \nz\n\" style=\"fill: #ffffff\"/>\n  </g>\n  <g id=\"axes_1\">\n   <g clip-path=\"url(#pdc8435637b)\">\n    <image xlink:href=\"data:image/png;base64,\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\" id=\"image0a6bcf824d\" transform=\"scale(1 -1) translate(0 -110.88)\" x=\"7.2\" y=\"-22.318125\" width=\"111.6\" height=\"110.88\"/>\n   </g>\n   <g id=\"text_1\">\n    <!-- bird -->\n    <g style=\"fill: #262626\" transform=\"translate(50.993438 16.318125) scale(0.12 -0.12)\">\n     <defs>\n      <path id=\"DejaVuSans-62\" d=\"M 3116 1747 \nQ 3116 2381 2855 2742 \nQ 2594 3103 2138 3103 \nQ 1681 3103 1420 2742 \nQ 1159 2381 1159 1747 \nQ 1159 1113 1420 752 \nQ 1681 391 2138 391 \nQ 2594 391 2855 752 \nQ 3116 1113 3116 1747 \nz\nM 1159 2969 \nQ 1341 3281 1617 3432 \nQ 1894 3584 2278 3584 \nQ 2916 3584 3314 3078 \nQ 3713 2572 3713 1747 \nQ 3713 922 3314 415 \nQ 2916 -91 2278 -91 \nQ 1894 -91 1617 61 \nQ 1341 213 1159 525 \nL 1159 0 \nL 581 0 \nL 581 4863 \nL 1159 4863 \nL 1159 2969 \nz\n\" transform=\"scale(0.015625)\"/>\n      <path id=\"DejaVuSans-69\" d=\"M 603 3500 \nL 1178 3500 \nL 1178 0 \nL 603 0 \nL 603 3500 \nz\nM 603 4863 \nL 1178 4863 \nL 1178 4134 \nL 603 4134 \nL 603 4863 \nz\n\" transform=\"scale(0.015625)\"/>\n      <path id=\"DejaVuSans-72\" d=\"M 2631 2963 \nQ 2534 3019 2420 3045 \nQ 2306 3072 2169 3072 \nQ 1681 3072 1420 2755 \nQ 1159 2438 1159 1844 \nL 1159 0 \nL 581 0 \nL 581 3500 \nL 1159 3500 \nL 1159 2956 \nQ 1341 3275 1631 3429 \nQ 1922 3584 2338 3584 \nQ 2397 3584 2469 3576 \nQ 2541 3569 2628 3553 \nL 2631 2963 \nz\n\" transform=\"scale(0.015625)\"/>\n      <path id=\"DejaVuSans-64\" d=\"M 2906 2969 \nL 2906 4863 \nL 3481 4863 \nL 3481 0 \nL 2906 0 \nL 2906 525 \nQ 2725 213 2448 61 \nQ 2172 -91 1784 -91 \nQ 1150 -91 751 415 \nQ 353 922 353 1747 \nQ 353 2572 751 3078 \nQ 1150 3584 1784 3584 \nQ 2172 3584 2448 3432 \nQ 2725 3281 2906 2969 \nz\nM 947 1747 \nQ 947 1113 1208 752 \nQ 1469 391 1925 391 \nQ 2381 391 2643 752 \nQ 2906 1113 2906 1747 \nQ 2906 2381 2643 2742 \nQ 2381 3103 1925 3103 \nQ 1469 3103 1208 2742 \nQ 947 2381 947 1747 \nz\n\" transform=\"scale(0.015625)\"/>\n     </defs>\n     <use xlink:href=\"#DejaVuSans-62\"/>\n     <use xlink:href=\"#DejaVuSans-69\" x=\"63.476562\"/>\n     <use xlink:href=\"#DejaVuSans-72\" x=\"91.259766\"/>\n     <use xlink:href=\"#DejaVuSans-64\" x=\"130.623047\"/>\n    </g>\n   </g>\n  </g>\n  <g id=\"axes_2\">\n   <g id=\"patch_2\">\n    <path d=\"M 240.185455 133.198125 \nL 493.821818 133.198125 \nL 493.821818 22.318125 \nL 240.185455 22.318125 \nz\n\" style=\"fill: #eaeaf2\"/>\n   </g>\n   <g id=\"matplotlib.axis_1\">\n    <g id=\"xtick_1\">\n     <g id=\"line2d_1\">\n      <path d=\"M 240.185455 133.198125 \nL 240.185455 22.318125 \n\" clip-path=\"url(#p5dc534e5ce)\" style=\"fill: none; stroke: #ffffff; stroke-linecap: round\"/>\n     </g>\n     <g id=\"text_2\">\n      <!-- 0 -->\n      <g style=\"fill: #262626\" transform=\"translate(236.68608 151.056406) scale(0.11 -0.11)\">\n       <defs>\n        <path id=\"DejaVuSans-30\" d=\"M 2034 4250 \nQ 1547 4250 1301 3770 \nQ 1056 3291 1056 2328 \nQ 1056 1369 1301 889 \nQ 1547 409 2034 409 \nQ 2525 409 2770 889 \nQ 3016 1369 3016 2328 \nQ 3016 3291 2770 3770 \nQ 2525 4250 2034 4250 \nz\nM 2034 4750 \nQ 2819 4750 3233 4129 \nQ 3647 3509 3647 2328 \nQ 3647 1150 3233 529 \nQ 2819 -91 2034 -91 \nQ 1250 -91 836 529 \nQ 422 1150 422 2328 \nQ 422 3509 836 4129 \nQ 1250 4750 2034 4750 \nz\n\" transform=\"scale(0.015625)\"/>\n       </defs>\n       <use xlink:href=\"#DejaVuSans-30\"/>\n      </g>\n     </g>\n    </g>\n    <g id=\"xtick_2\">\n     <g id=\"line2d_2\">\n      <path d=\"M 288.497563 133.198125 \nL 288.497563 22.318125 \n\" clip-path=\"url(#p5dc534e5ce)\" style=\"fill: none; stroke: #ffffff; stroke-linecap: round\"/>\n     </g>\n     <g id=\"text_3\">\n      <!-- 20 -->\n      <g style=\"fill: #262626\" transform=\"translate(281.498813 151.056406) scale(0.11 -0.11)\">\n       <defs>\n        <path id=\"DejaVuSans-32\" d=\"M 1228 531 \nL 3431 531 \nL 3431 0 \nL 469 0 \nL 469 531 \nQ 828 903 1448 1529 \nQ 2069 2156 2228 2338 \nQ 2531 2678 2651 2914 \nQ 2772 3150 2772 3378 \nQ 2772 3750 2511 3984 \nQ 2250 4219 1831 4219 \nQ 1534 4219 1204 4116 \nQ 875 4013 500 3803 \nL 500 4441 \nQ 881 4594 1212 4672 \nQ 1544 4750 1819 4750 \nQ 2544 4750 2975 4387 \nQ 3406 4025 3406 3419 \nQ 3406 3131 3298 2873 \nQ 3191 2616 2906 2266 \nQ 2828 2175 2409 1742 \nQ 1991 1309 1228 531 \nz\n\" transform=\"scale(0.015625)\"/>\n       </defs>\n       <use xlink:href=\"#DejaVuSans-32\"/>\n       <use xlink:href=\"#DejaVuSans-30\" x=\"63.623047\"/>\n      </g>\n     </g>\n    </g>\n    <g id=\"xtick_3\">\n     <g id=\"line2d_3\">\n      <path d=\"M 336.809672 133.198125 \nL 336.809672 22.318125 \n\" clip-path=\"url(#p5dc534e5ce)\" style=\"fill: none; stroke: #ffffff; stroke-linecap: round\"/>\n     </g>\n     <g id=\"text_4\">\n      <!-- 40 -->\n      <g style=\"fill: #262626\" transform=\"translate(329.810922 151.056406) scale(0.11 -0.11)\">\n       <defs>\n        <path id=\"DejaVuSans-34\" d=\"M 2419 4116 \nL 825 1625 \nL 2419 1625 \nL 2419 4116 \nz\nM 2253 4666 \nL 3047 4666 \nL 3047 1625 \nL 3713 1625 \nL 3713 1100 \nL 3047 1100 \nL 3047 0 \nL 2419 0 \nL 2419 1100 \nL 313 1100 \nL 313 1709 \nL 2253 4666 \nz\n\" transform=\"scale(0.015625)\"/>\n       </defs>\n       <use xlink:href=\"#DejaVuSans-34\"/>\n       <use xlink:href=\"#DejaVuSans-30\" x=\"63.623047\"/>\n      </g>\n     </g>\n    </g>\n    <g id=\"xtick_4\">\n     <g id=\"line2d_4\">\n      <path d=\"M 385.12178 133.198125 \nL 385.12178 22.318125 \n\" clip-path=\"url(#p5dc534e5ce)\" style=\"fill: none; stroke: #ffffff; stroke-linecap: round\"/>\n     </g>\n     <g id=\"text_5\">\n      <!-- 60 -->\n      <g style=\"fill: #262626\" transform=\"translate(378.12303 151.056406) scale(0.11 -0.11)\">\n       <defs>\n        <path id=\"DejaVuSans-36\" d=\"M 2113 2584 \nQ 1688 2584 1439 2293 \nQ 1191 2003 1191 1497 \nQ 1191 994 1439 701 \nQ 1688 409 2113 409 \nQ 2538 409 2786 701 \nQ 3034 994 3034 1497 \nQ 3034 2003 2786 2293 \nQ 2538 2584 2113 2584 \nz\nM 3366 4563 \nL 3366 3988 \nQ 3128 4100 2886 4159 \nQ 2644 4219 2406 4219 \nQ 1781 4219 1451 3797 \nQ 1122 3375 1075 2522 \nQ 1259 2794 1537 2939 \nQ 1816 3084 2150 3084 \nQ 2853 3084 3261 2657 \nQ 3669 2231 3669 1497 \nQ 3669 778 3244 343 \nQ 2819 -91 2113 -91 \nQ 1303 -91 875 529 \nQ 447 1150 447 2328 \nQ 447 3434 972 4092 \nQ 1497 4750 2381 4750 \nQ 2619 4750 2861 4703 \nQ 3103 4656 3366 4563 \nz\n\" transform=\"scale(0.015625)\"/>\n       </defs>\n       <use xlink:href=\"#DejaVuSans-36\"/>\n       <use xlink:href=\"#DejaVuSans-30\" x=\"63.623047\"/>\n      </g>\n     </g>\n    </g>\n    <g id=\"xtick_5\">\n     <g id=\"line2d_5\">\n      <path d=\"M 433.433889 133.198125 \nL 433.433889 22.318125 \n\" clip-path=\"url(#p5dc534e5ce)\" style=\"fill: none; stroke: #ffffff; stroke-linecap: round\"/>\n     </g>\n     <g id=\"text_6\">\n      <!-- 80 -->\n      <g style=\"fill: #262626\" transform=\"translate(426.435139 151.056406) scale(0.11 -0.11)\">\n       <defs>\n        <path id=\"DejaVuSans-38\" d=\"M 2034 2216 \nQ 1584 2216 1326 1975 \nQ 1069 1734 1069 1313 \nQ 1069 891 1326 650 \nQ 1584 409 2034 409 \nQ 2484 409 2743 651 \nQ 3003 894 3003 1313 \nQ 3003 1734 2745 1975 \nQ 2488 2216 2034 2216 \nz\nM 1403 2484 \nQ 997 2584 770 2862 \nQ 544 3141 544 3541 \nQ 544 4100 942 4425 \nQ 1341 4750 2034 4750 \nQ 2731 4750 3128 4425 \nQ 3525 4100 3525 3541 \nQ 3525 3141 3298 2862 \nQ 3072 2584 2669 2484 \nQ 3125 2378 3379 2068 \nQ 3634 1759 3634 1313 \nQ 3634 634 3220 271 \nQ 2806 -91 2034 -91 \nQ 1263 -91 848 271 \nQ 434 634 434 1313 \nQ 434 1759 690 2068 \nQ 947 2378 1403 2484 \nz\nM 1172 3481 \nQ 1172 3119 1398 2916 \nQ 1625 2713 2034 2713 \nQ 2441 2713 2670 2916 \nQ 2900 3119 2900 3481 \nQ 2900 3844 2670 4047 \nQ 2441 4250 2034 4250 \nQ 1625 4250 1398 4047 \nQ 1172 3844 1172 3481 \nz\n\" transform=\"scale(0.015625)\"/>\n       </defs>\n       <use xlink:href=\"#DejaVuSans-38\"/>\n       <use xlink:href=\"#DejaVuSans-30\" x=\"63.623047\"/>\n      </g>\n     </g>\n    </g>\n    <g id=\"xtick_6\">\n     <g id=\"line2d_6\">\n      <path d=\"M 481.745997 133.198125 \nL 481.745997 22.318125 \n\" clip-path=\"url(#p5dc534e5ce)\" style=\"fill: none; stroke: #ffffff; stroke-linecap: round\"/>\n     </g>\n     <g id=\"text_7\">\n      <!-- 100 -->\n      <g style=\"fill: #262626\" transform=\"translate(471.247872 151.056406) scale(0.11 -0.11)\">\n       <defs>\n        <path id=\"DejaVuSans-31\" d=\"M 794 531 \nL 1825 531 \nL 1825 4091 \nL 703 3866 \nL 703 4441 \nL 1819 4666 \nL 2450 4666 \nL 2450 531 \nL 3481 531 \nL 3481 0 \nL 794 0 \nL 794 531 \nz\n\" transform=\"scale(0.015625)\"/>\n       </defs>\n       <use xlink:href=\"#DejaVuSans-31\"/>\n       <use xlink:href=\"#DejaVuSans-30\" x=\"63.623047\"/>\n       <use xlink:href=\"#DejaVuSans-30\" x=\"127.246094\"/>\n      </g>\n     </g>\n    </g>\n    <g id=\"text_8\">\n     <!-- Confidence -->\n     <g style=\"fill: #262626\" transform=\"translate(333.266761 166.462187) scale(0.12 -0.12)\">\n      <defs>\n       <path id=\"DejaVuSans-43\" d=\"M 4122 4306 \nL 4122 3641 \nQ 3803 3938 3442 4084 \nQ 3081 4231 2675 4231 \nQ 1875 4231 1450 3742 \nQ 1025 3253 1025 2328 \nQ 1025 1406 1450 917 \nQ 1875 428 2675 428 \nQ 3081 428 3442 575 \nQ 3803 722 4122 1019 \nL 4122 359 \nQ 3791 134 3420 21 \nQ 3050 -91 2638 -91 \nQ 1578 -91 968 557 \nQ 359 1206 359 2328 \nQ 359 3453 968 4101 \nQ 1578 4750 2638 4750 \nQ 3056 4750 3426 4639 \nQ 3797 4528 4122 4306 \nz\n\" transform=\"scale(0.015625)\"/>\n       <path id=\"DejaVuSans-6f\" d=\"M 1959 3097 \nQ 1497 3097 1228 2736 \nQ 959 2375 959 1747 \nQ 959 1119 1226 758 \nQ 1494 397 1959 397 \nQ 2419 397 2687 759 \nQ 2956 1122 2956 1747 \nQ 2956 2369 2687 2733 \nQ 2419 3097 1959 3097 \nz\nM 1959 3584 \nQ 2709 3584 3137 3096 \nQ 3566 2609 3566 1747 \nQ 3566 888 3137 398 \nQ 2709 -91 1959 -91 \nQ 1206 -91 779 398 \nQ 353 888 353 1747 \nQ 353 2609 779 3096 \nQ 1206 3584 1959 3584 \nz\n\" transform=\"scale(0.015625)\"/>\n       <path id=\"DejaVuSans-6e\" d=\"M 3513 2113 \nL 3513 0 \nL 2938 0 \nL 2938 2094 \nQ 2938 2591 2744 2837 \nQ 2550 3084 2163 3084 \nQ 1697 3084 1428 2787 \nQ 1159 2491 1159 1978 \nL 1159 0 \nL 581 0 \nL 581 3500 \nL 1159 3500 \nL 1159 2956 \nQ 1366 3272 1645 3428 \nQ 1925 3584 2291 3584 \nQ 2894 3584 3203 3211 \nQ 3513 2838 3513 2113 \nz\n\" transform=\"scale(0.015625)\"/>\n       <path id=\"DejaVuSans-66\" d=\"M 2375 4863 \nL 2375 4384 \nL 1825 4384 \nQ 1516 4384 1395 4259 \nQ 1275 4134 1275 3809 \nL 1275 3500 \nL 2222 3500 \nL 2222 3053 \nL 1275 3053 \nL 1275 0 \nL 697 0 \nL 697 3053 \nL 147 3053 \nL 147 3500 \nL 697 3500 \nL 697 3744 \nQ 697 4328 969 4595 \nQ 1241 4863 1831 4863 \nL 2375 4863 \nz\n\" transform=\"scale(0.015625)\"/>\n       <path id=\"DejaVuSans-65\" d=\"M 3597 1894 \nL 3597 1613 \nL 953 1613 \nQ 991 1019 1311 708 \nQ 1631 397 2203 397 \nQ 2534 397 2845 478 \nQ 3156 559 3463 722 \nL 3463 178 \nQ 3153 47 2828 -22 \nQ 2503 -91 2169 -91 \nQ 1331 -91 842 396 \nQ 353 884 353 1716 \nQ 353 2575 817 3079 \nQ 1281 3584 2069 3584 \nQ 2775 3584 3186 3129 \nQ 3597 2675 3597 1894 \nz\nM 3022 2063 \nQ 3016 2534 2758 2815 \nQ 2500 3097 2075 3097 \nQ 1594 3097 1305 2825 \nQ 1016 2553 972 2059 \nL 3022 2063 \nz\n\" transform=\"scale(0.015625)\"/>\n       <path id=\"DejaVuSans-63\" d=\"M 3122 3366 \nL 3122 2828 \nQ 2878 2963 2633 3030 \nQ 2388 3097 2138 3097 \nQ 1578 3097 1268 2742 \nQ 959 2388 959 1747 \nQ 959 1106 1268 751 \nQ 1578 397 2138 397 \nQ 2388 397 2633 464 \nQ 2878 531 3122 666 \nL 3122 134 \nQ 2881 22 2623 -34 \nQ 2366 -91 2075 -91 \nQ 1284 -91 818 406 \nQ 353 903 353 1747 \nQ 353 2603 823 3093 \nQ 1294 3584 2113 3584 \nQ 2378 3584 2631 3529 \nQ 2884 3475 3122 3366 \nz\n\" transform=\"scale(0.015625)\"/>\n      </defs>\n      <use xlink:href=\"#DejaVuSans-43\"/>\n      <use xlink:href=\"#DejaVuSans-6f\" x=\"69.824219\"/>\n      <use xlink:href=\"#DejaVuSans-6e\" x=\"131.005859\"/>\n      <use xlink:href=\"#DejaVuSans-66\" x=\"194.384766\"/>\n      <use xlink:href=\"#DejaVuSans-69\" x=\"229.589844\"/>\n      <use xlink:href=\"#DejaVuSans-64\" x=\"257.373047\"/>\n      <use xlink:href=\"#DejaVuSans-65\" x=\"320.849609\"/>\n      <use xlink:href=\"#DejaVuSans-6e\" x=\"382.373047\"/>\n      <use xlink:href=\"#DejaVuSans-63\" x=\"445.751953\"/>\n      <use xlink:href=\"#DejaVuSans-65\" x=\"500.732422\"/>\n     </g>\n    </g>\n   </g>\n   <g id=\"matplotlib.axis_2\">\n    <g id=\"ytick_1\">\n     <g id=\"line2d_7\">\n      <path d=\"M 240.185455 49.758125 \nL 493.821818 49.758125 \n\" clip-path=\"url(#p5dc534e5ce)\" style=\"fill: none; stroke: #ffffff; stroke-linecap: round\"/>\n     </g>\n     <g id=\"text_9\">\n      <!-- bird -->\n      <g style=\"fill: #262626\" transform=\"translate(209.333423 53.937266) scale(0.11 -0.11)\">\n       <use xlink:href=\"#DejaVuSans-62\"/>\n       <use xlink:href=\"#DejaVuSans-69\" x=\"63.476562\"/>\n       <use xlink:href=\"#DejaVuSans-72\" x=\"91.259766\"/>\n       <use xlink:href=\"#DejaVuSans-64\" x=\"130.623047\"/>\n      </g>\n     </g>\n    </g>\n    <g id=\"ytick_2\">\n     <g id=\"line2d_8\">\n      <path d=\"M 240.185455 105.758125 \nL 493.821818 105.758125 \n\" clip-path=\"url(#p5dc534e5ce)\" style=\"fill: none; stroke: #ffffff; stroke-linecap: round\"/>\n     </g>\n     <g id=\"text_10\">\n      <!-- deer -->\n      <g style=\"fill: #262626\" transform=\"translate(205.643267 109.937266) scale(0.11 -0.11)\">\n       <use xlink:href=\"#DejaVuSans-64\"/>\n       <use xlink:href=\"#DejaVuSans-65\" x=\"63.476562\"/>\n       <use xlink:href=\"#DejaVuSans-65\" x=\"125\"/>\n       <use xlink:href=\"#DejaVuSans-72\" x=\"186.523438\"/>\n      </g>\n     </g>\n    </g>\n   </g>\n   <g id=\"patch_3\">\n    <path d=\"M 240.185455 27.358125 \nL 481.743896 27.358125 \nL 481.743896 72.158125 \nL 240.185455 72.158125 \nz\n\" clip-path=\"url(#p5dc534e5ce)\" style=\"fill: #55a868; stroke: #ffffff; stroke-linejoin: miter\"/>\n   </g>\n   <g id=\"patch_4\">\n    <path d=\"M 240.185455 83.358125 \nL 240.186619 83.358125 \nL 240.186619 128.158125 \nL 240.185455 128.158125 \nz\n\" clip-path=\"url(#p5dc534e5ce)\" style=\"fill: #4c72b0; stroke: #ffffff; stroke-linejoin: miter\"/>\n   </g>\n   <g id=\"patch_5\">\n    <path d=\"M 240.185455 133.198125 \nL 240.185455 22.318125 \n\" style=\"fill: none; stroke: #ffffff; stroke-width: 1.25; stroke-linejoin: miter; stroke-linecap: square\"/>\n   </g>\n   <g id=\"patch_6\">\n    <path d=\"M 493.821818 133.198125 \nL 493.821818 22.318125 \n\" style=\"fill: none; stroke: #ffffff; stroke-width: 1.25; stroke-linejoin: miter; stroke-linecap: square\"/>\n   </g>\n   <g id=\"patch_7\">\n    <path d=\"M 240.185455 133.198125 \nL 493.821818 133.198125 \n\" style=\"fill: none; stroke: #ffffff; stroke-width: 1.25; stroke-linejoin: miter; stroke-linecap: square\"/>\n   </g>\n   <g id=\"patch_8\">\n    <path d=\"M 240.185455 22.318125 \nL 493.821818 22.318125 \n\" style=\"fill: none; stroke: #ffffff; stroke-width: 1.25; stroke-linejoin: miter; stroke-linecap: square\"/>\n   </g>\n   <g id=\"text_11\">\n    <!-- Predictions -->\n    <g style=\"fill: #262626\" transform=\"translate(334.073949 16.318125) scale(0.12 -0.12)\">\n     <defs>\n      <path id=\"DejaVuSans-50\" d=\"M 1259 4147 \nL 1259 2394 \nL 2053 2394 \nQ 2494 2394 2734 2622 \nQ 2975 2850 2975 3272 \nQ 2975 3691 2734 3919 \nQ 2494 4147 2053 4147 \nL 1259 4147 \nz\nM 628 4666 \nL 2053 4666 \nQ 2838 4666 3239 4311 \nQ 3641 3956 3641 3272 \nQ 3641 2581 3239 2228 \nQ 2838 1875 2053 1875 \nL 1259 1875 \nL 1259 0 \nL 628 0 \nL 628 4666 \nz\n\" transform=\"scale(0.015625)\"/>\n      <path id=\"DejaVuSans-74\" d=\"M 1172 4494 \nL 1172 3500 \nL 2356 3500 \nL 2356 3053 \nL 1172 3053 \nL 1172 1153 \nQ 1172 725 1289 603 \nQ 1406 481 1766 481 \nL 2356 481 \nL 2356 0 \nL 1766 0 \nQ 1100 0 847 248 \nQ 594 497 594 1153 \nL 594 3053 \nL 172 3053 \nL 172 3500 \nL 594 3500 \nL 594 4494 \nL 1172 4494 \nz\n\" transform=\"scale(0.015625)\"/>\n      <path id=\"DejaVuSans-73\" d=\"M 2834 3397 \nL 2834 2853 \nQ 2591 2978 2328 3040 \nQ 2066 3103 1784 3103 \nQ 1356 3103 1142 2972 \nQ 928 2841 928 2578 \nQ 928 2378 1081 2264 \nQ 1234 2150 1697 2047 \nL 1894 2003 \nQ 2506 1872 2764 1633 \nQ 3022 1394 3022 966 \nQ 3022 478 2636 193 \nQ 2250 -91 1575 -91 \nQ 1294 -91 989 -36 \nQ 684 19 347 128 \nL 347 722 \nQ 666 556 975 473 \nQ 1284 391 1588 391 \nQ 1994 391 2212 530 \nQ 2431 669 2431 922 \nQ 2431 1156 2273 1281 \nQ 2116 1406 1581 1522 \nL 1381 1569 \nQ 847 1681 609 1914 \nQ 372 2147 372 2553 \nQ 372 3047 722 3315 \nQ 1072 3584 1716 3584 \nQ 2034 3584 2315 3537 \nQ 2597 3491 2834 3397 \nz\n\" transform=\"scale(0.015625)\"/>\n     </defs>\n     <use xlink:href=\"#DejaVuSans-50\"/>\n     <use xlink:href=\"#DejaVuSans-72\" x=\"58.552734\"/>\n     <use xlink:href=\"#DejaVuSans-65\" x=\"97.416016\"/>\n     <use xlink:href=\"#DejaVuSans-64\" x=\"158.939453\"/>\n     <use xlink:href=\"#DejaVuSans-69\" x=\"222.416016\"/>\n     <use xlink:href=\"#DejaVuSans-63\" x=\"250.199219\"/>\n     <use xlink:href=\"#DejaVuSans-74\" x=\"305.179688\"/>\n     <use xlink:href=\"#DejaVuSans-69\" x=\"344.388672\"/>\n     <use xlink:href=\"#DejaVuSans-6f\" x=\"372.171875\"/>\n     <use xlink:href=\"#DejaVuSans-6e\" x=\"433.353516\"/>\n     <use xlink:href=\"#DejaVuSans-73\" x=\"496.732422\"/>\n    </g>\n   </g>\n  </g>\n </g>\n <defs>\n  <clipPath id=\"pdc8435637b\">\n   <rect x=\"7.2\" y=\"22.318125\" width=\"110.88\" height=\"110.88\"/>\n  </clipPath>\n  <clipPath id=\"p5dc534e5ce\">\n   <rect x=\"240.185455\" y=\"22.318125\" width=\"253.636364\" height=\"110.88\"/>\n  </clipPath>\n </defs>\n</svg>\n",
            "text/plain": [
              "<Figure size 1000x200 with 2 Axes>"
            ]
          },
          "metadata": {},
          "output_type": "display_data"
        },
        {
          "name": "stdout",
          "output_type": "stream",
          "text": [
            "tensor([7, 3], device='cuda:0')\n"
          ]
        },
        {
          "data": {
            "application/pdf": "[encoded data removed]",
            "image/svg+xml": "<?xml version=\"1.0\" encoding=\"utf-8\" standalone=\"no\"?>\n<!DOCTYPE svg PUBLIC \"-//W3C//DTD SVG 1.1//EN\"\n  \"http://www.w3.org/Graphics/SVG/1.1/DTD/svg11.dtd\">\n<svg xmlns:xlink=\"http://www.w3.org/1999/xlink\" width=\"509.974338pt\" height=\"176.157812pt\" viewBox=\"0 0 509.974338 176.157812\" xmlns=\"http://www.w3.org/2000/svg\" version=\"1.1\">\n <metadata>\n  <rdf:RDF xmlns:dc=\"http://purl.org/dc/elements/1.1/\" xmlns:cc=\"http://creativecommons.org/ns#\" xmlns:rdf=\"http://www.w3.org/1999/02/22-rdf-syntax-ns#\">\n   <cc:Work>\n    <dc:type rdf:resource=\"http://purl.org/dc/dcmitype/StillImage\"/>\n    <dc:date>2022-12-12T06:34:25.591411</dc:date>\n    <dc:format>image/svg+xml</dc:format>\n    <dc:creator>\n     <cc:Agent>\n      <dc:title>Matplotlib v3.6.0, https://matplotlib.org/</dc:title>\n     </cc:Agent>\n    </dc:creator>\n   </cc:Work>\n  </rdf:RDF>\n </metadata>\n <defs>\n  <style type=\"text/css\">*{stroke-linejoin: round; stroke-linecap: butt}</style>\n </defs>\n <g id=\"figure_1\">\n  <g id=\"patch_1\">\n   <path d=\"M 0 176.157812 \nL 509.974338 176.157812 \nL 509.974338 0 \nL 0 0 \nz\n\" style=\"fill: #ffffff\"/>\n  </g>\n  <g id=\"axes_1\">\n   <g clip-path=\"url(#p7d2dbc2707)\">\n    <image xlink:href=\"data:image/png;base64,\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\" id=\"image59bdbd395e\" transform=\"scale(1 -1) translate(0 -110.88)\" x=\"7.2\" y=\"-22.318125\" width=\"111.6\" height=\"110.88\"/>\n   </g>\n   <g id=\"text_1\">\n    <!-- horse -->\n    <g style=\"fill: #262626\" transform=\"translate(45.882188 16.318125) scale(0.12 -0.12)\">\n     <defs>\n      <path id=\"DejaVuSans-68\" d=\"M 3513 2113 \nL 3513 0 \nL 2938 0 \nL 2938 2094 \nQ 2938 2591 2744 2837 \nQ 2550 3084 2163 3084 \nQ 1697 3084 1428 2787 \nQ 1159 2491 1159 1978 \nL 1159 0 \nL 581 0 \nL 581 4863 \nL 1159 4863 \nL 1159 2956 \nQ 1366 3272 1645 3428 \nQ 1925 3584 2291 3584 \nQ 2894 3584 3203 3211 \nQ 3513 2838 3513 2113 \nz\n\" transform=\"scale(0.015625)\"/>\n      <path id=\"DejaVuSans-6f\" d=\"M 1959 3097 \nQ 1497 3097 1228 2736 \nQ 959 2375 959 1747 \nQ 959 1119 1226 758 \nQ 1494 397 1959 397 \nQ 2419 397 2687 759 \nQ 2956 1122 2956 1747 \nQ 2956 2369 2687 2733 \nQ 2419 3097 1959 3097 \nz\nM 1959 3584 \nQ 2709 3584 3137 3096 \nQ 3566 2609 3566 1747 \nQ 3566 888 3137 398 \nQ 2709 -91 1959 -91 \nQ 1206 -91 779 398 \nQ 353 888 353 1747 \nQ 353 2609 779 3096 \nQ 1206 3584 1959 3584 \nz\n\" transform=\"scale(0.015625)\"/>\n      <path id=\"DejaVuSans-72\" d=\"M 2631 2963 \nQ 2534 3019 2420 3045 \nQ 2306 3072 2169 3072 \nQ 1681 3072 1420 2755 \nQ 1159 2438 1159 1844 \nL 1159 0 \nL 581 0 \nL 581 3500 \nL 1159 3500 \nL 1159 2956 \nQ 1341 3275 1631 3429 \nQ 1922 3584 2338 3584 \nQ 2397 3584 2469 3576 \nQ 2541 3569 2628 3553 \nL 2631 2963 \nz\n\" transform=\"scale(0.015625)\"/>\n      <path id=\"DejaVuSans-73\" d=\"M 2834 3397 \nL 2834 2853 \nQ 2591 2978 2328 3040 \nQ 2066 3103 1784 3103 \nQ 1356 3103 1142 2972 \nQ 928 2841 928 2578 \nQ 928 2378 1081 2264 \nQ 1234 2150 1697 2047 \nL 1894 2003 \nQ 2506 1872 2764 1633 \nQ 3022 1394 3022 966 \nQ 3022 478 2636 193 \nQ 2250 -91 1575 -91 \nQ 1294 -91 989 -36 \nQ 684 19 347 128 \nL 347 722 \nQ 666 556 975 473 \nQ 1284 391 1588 391 \nQ 1994 391 2212 530 \nQ 2431 669 2431 922 \nQ 2431 1156 2273 1281 \nQ 2116 1406 1581 1522 \nL 1381 1569 \nQ 847 1681 609 1914 \nQ 372 2147 372 2553 \nQ 372 3047 722 3315 \nQ 1072 3584 1716 3584 \nQ 2034 3584 2315 3537 \nQ 2597 3491 2834 3397 \nz\n\" transform=\"scale(0.015625)\"/>\n      <path id=\"DejaVuSans-65\" d=\"M 3597 1894 \nL 3597 1613 \nL 953 1613 \nQ 991 1019 1311 708 \nQ 1631 397 2203 397 \nQ 2534 397 2845 478 \nQ 3156 559 3463 722 \nL 3463 178 \nQ 3153 47 2828 -22 \nQ 2503 -91 2169 -91 \nQ 1331 -91 842 396 \nQ 353 884 353 1716 \nQ 353 2575 817 3079 \nQ 1281 3584 2069 3584 \nQ 2775 3584 3186 3129 \nQ 3597 2675 3597 1894 \nz\nM 3022 2063 \nQ 3016 2534 2758 2815 \nQ 2500 3097 2075 3097 \nQ 1594 3097 1305 2825 \nQ 1016 2553 972 2059 \nL 3022 2063 \nz\n\" transform=\"scale(0.015625)\"/>\n     </defs>\n     <use xlink:href=\"#DejaVuSans-68\"/>\n     <use xlink:href=\"#DejaVuSans-6f\" x=\"63.378906\"/>\n     <use xlink:href=\"#DejaVuSans-72\" x=\"124.560547\"/>\n     <use xlink:href=\"#DejaVuSans-73\" x=\"165.673828\"/>\n     <use xlink:href=\"#DejaVuSans-65\" x=\"217.773438\"/>\n    </g>\n   </g>\n  </g>\n  <g id=\"axes_2\">\n   <g id=\"patch_2\">\n    <path d=\"M 240.185455 133.198125 \nL 493.821818 133.198125 \nL 493.821818 22.318125 \nL 240.185455 22.318125 \nz\n\" style=\"fill: #eaeaf2\"/>\n   </g>\n   <g id=\"matplotlib.axis_1\">\n    <g id=\"xtick_1\">\n     <g id=\"line2d_1\">\n      <path d=\"M 240.185455 133.198125 \nL 240.185455 22.318125 \n\" clip-path=\"url(#p02cb6f9335)\" style=\"fill: none; stroke: #ffffff; stroke-linecap: round\"/>\n     </g>\n     <g id=\"text_2\">\n      <!-- 0 -->\n      <g style=\"fill: #262626\" transform=\"translate(236.68608 151.056406) scale(0.11 -0.11)\">\n       <defs>\n        <path id=\"DejaVuSans-30\" d=\"M 2034 4250 \nQ 1547 4250 1301 3770 \nQ 1056 3291 1056 2328 \nQ 1056 1369 1301 889 \nQ 1547 409 2034 409 \nQ 2525 409 2770 889 \nQ 3016 1369 3016 2328 \nQ 3016 3291 2770 3770 \nQ 2525 4250 2034 4250 \nz\nM 2034 4750 \nQ 2819 4750 3233 4129 \nQ 3647 3509 3647 2328 \nQ 3647 1150 3233 529 \nQ 2819 -91 2034 -91 \nQ 1250 -91 836 529 \nQ 422 1150 422 2328 \nQ 422 3509 836 4129 \nQ 1250 4750 2034 4750 \nz\n\" transform=\"scale(0.015625)\"/>\n       </defs>\n       <use xlink:href=\"#DejaVuSans-30\"/>\n      </g>\n     </g>\n    </g>\n    <g id=\"xtick_2\">\n     <g id=\"line2d_2\">\n      <path d=\"M 290.603606 133.198125 \nL 290.603606 22.318125 \n\" clip-path=\"url(#p02cb6f9335)\" style=\"fill: none; stroke: #ffffff; stroke-linecap: round\"/>\n     </g>\n     <g id=\"text_3\">\n      <!-- 20 -->\n      <g style=\"fill: #262626\" transform=\"translate(283.604856 151.056406) scale(0.11 -0.11)\">\n       <defs>\n        <path id=\"DejaVuSans-32\" d=\"M 1228 531 \nL 3431 531 \nL 3431 0 \nL 469 0 \nL 469 531 \nQ 828 903 1448 1529 \nQ 2069 2156 2228 2338 \nQ 2531 2678 2651 2914 \nQ 2772 3150 2772 3378 \nQ 2772 3750 2511 3984 \nQ 2250 4219 1831 4219 \nQ 1534 4219 1204 4116 \nQ 875 4013 500 3803 \nL 500 4441 \nQ 881 4594 1212 4672 \nQ 1544 4750 1819 4750 \nQ 2544 4750 2975 4387 \nQ 3406 4025 3406 3419 \nQ 3406 3131 3298 2873 \nQ 3191 2616 2906 2266 \nQ 2828 2175 2409 1742 \nQ 1991 1309 1228 531 \nz\n\" transform=\"scale(0.015625)\"/>\n       </defs>\n       <use xlink:href=\"#DejaVuSans-32\"/>\n       <use xlink:href=\"#DejaVuSans-30\" x=\"63.623047\"/>\n      </g>\n     </g>\n    </g>\n    <g id=\"xtick_3\">\n     <g id=\"line2d_3\">\n      <path d=\"M 341.021758 133.198125 \nL 341.021758 22.318125 \n\" clip-path=\"url(#p02cb6f9335)\" style=\"fill: none; stroke: #ffffff; stroke-linecap: round\"/>\n     </g>\n     <g id=\"text_4\">\n      <!-- 40 -->\n      <g style=\"fill: #262626\" transform=\"translate(334.023008 151.056406) scale(0.11 -0.11)\">\n       <defs>\n        <path id=\"DejaVuSans-34\" d=\"M 2419 4116 \nL 825 1625 \nL 2419 1625 \nL 2419 4116 \nz\nM 2253 4666 \nL 3047 4666 \nL 3047 1625 \nL 3713 1625 \nL 3713 1100 \nL 3047 1100 \nL 3047 0 \nL 2419 0 \nL 2419 1100 \nL 313 1100 \nL 313 1709 \nL 2253 4666 \nz\n\" transform=\"scale(0.015625)\"/>\n       </defs>\n       <use xlink:href=\"#DejaVuSans-34\"/>\n       <use xlink:href=\"#DejaVuSans-30\" x=\"63.623047\"/>\n      </g>\n     </g>\n    </g>\n    <g id=\"xtick_4\">\n     <g id=\"line2d_4\">\n      <path d=\"M 391.43991 133.198125 \nL 391.43991 22.318125 \n\" clip-path=\"url(#p02cb6f9335)\" style=\"fill: none; stroke: #ffffff; stroke-linecap: round\"/>\n     </g>\n     <g id=\"text_5\">\n      <!-- 60 -->\n      <g style=\"fill: #262626\" transform=\"translate(384.44116 151.056406) scale(0.11 -0.11)\">\n       <defs>\n        <path id=\"DejaVuSans-36\" d=\"M 2113 2584 \nQ 1688 2584 1439 2293 \nQ 1191 2003 1191 1497 \nQ 1191 994 1439 701 \nQ 1688 409 2113 409 \nQ 2538 409 2786 701 \nQ 3034 994 3034 1497 \nQ 3034 2003 2786 2293 \nQ 2538 2584 2113 2584 \nz\nM 3366 4563 \nL 3366 3988 \nQ 3128 4100 2886 4159 \nQ 2644 4219 2406 4219 \nQ 1781 4219 1451 3797 \nQ 1122 3375 1075 2522 \nQ 1259 2794 1537 2939 \nQ 1816 3084 2150 3084 \nQ 2853 3084 3261 2657 \nQ 3669 2231 3669 1497 \nQ 3669 778 3244 343 \nQ 2819 -91 2113 -91 \nQ 1303 -91 875 529 \nQ 447 1150 447 2328 \nQ 447 3434 972 4092 \nQ 1497 4750 2381 4750 \nQ 2619 4750 2861 4703 \nQ 3103 4656 3366 4563 \nz\n\" transform=\"scale(0.015625)\"/>\n       </defs>\n       <use xlink:href=\"#DejaVuSans-36\"/>\n       <use xlink:href=\"#DejaVuSans-30\" x=\"63.623047\"/>\n      </g>\n     </g>\n    </g>\n    <g id=\"xtick_5\">\n     <g id=\"line2d_5\">\n      <path d=\"M 441.858061 133.198125 \nL 441.858061 22.318125 \n\" clip-path=\"url(#p02cb6f9335)\" style=\"fill: none; stroke: #ffffff; stroke-linecap: round\"/>\n     </g>\n     <g id=\"text_6\">\n      <!-- 80 -->\n      <g style=\"fill: #262626\" transform=\"translate(434.859311 151.056406) scale(0.11 -0.11)\">\n       <defs>\n        <path id=\"DejaVuSans-38\" d=\"M 2034 2216 \nQ 1584 2216 1326 1975 \nQ 1069 1734 1069 1313 \nQ 1069 891 1326 650 \nQ 1584 409 2034 409 \nQ 2484 409 2743 651 \nQ 3003 894 3003 1313 \nQ 3003 1734 2745 1975 \nQ 2488 2216 2034 2216 \nz\nM 1403 2484 \nQ 997 2584 770 2862 \nQ 544 3141 544 3541 \nQ 544 4100 942 4425 \nQ 1341 4750 2034 4750 \nQ 2731 4750 3128 4425 \nQ 3525 4100 3525 3541 \nQ 3525 3141 3298 2862 \nQ 3072 2584 2669 2484 \nQ 3125 2378 3379 2068 \nQ 3634 1759 3634 1313 \nQ 3634 634 3220 271 \nQ 2806 -91 2034 -91 \nQ 1263 -91 848 271 \nQ 434 634 434 1313 \nQ 434 1759 690 2068 \nQ 947 2378 1403 2484 \nz\nM 1172 3481 \nQ 1172 3119 1398 2916 \nQ 1625 2713 2034 2713 \nQ 2441 2713 2670 2916 \nQ 2900 3119 2900 3481 \nQ 2900 3844 2670 4047 \nQ 2441 4250 2034 4250 \nQ 1625 4250 1398 4047 \nQ 1172 3844 1172 3481 \nz\n\" transform=\"scale(0.015625)\"/>\n       </defs>\n       <use xlink:href=\"#DejaVuSans-38\"/>\n       <use xlink:href=\"#DejaVuSans-30\" x=\"63.623047\"/>\n      </g>\n     </g>\n    </g>\n    <g id=\"xtick_6\">\n     <g id=\"line2d_6\">\n      <path d=\"M 492.276213 133.198125 \nL 492.276213 22.318125 \n\" clip-path=\"url(#p02cb6f9335)\" style=\"fill: none; stroke: #ffffff; stroke-linecap: round\"/>\n     </g>\n     <g id=\"text_7\">\n      <!-- 100 -->\n      <g style=\"fill: #262626\" transform=\"translate(481.778088 151.056406) scale(0.11 -0.11)\">\n       <defs>\n        <path id=\"DejaVuSans-31\" d=\"M 794 531 \nL 1825 531 \nL 1825 4091 \nL 703 3866 \nL 703 4441 \nL 1819 4666 \nL 2450 4666 \nL 2450 531 \nL 3481 531 \nL 3481 0 \nL 794 0 \nL 794 531 \nz\n\" transform=\"scale(0.015625)\"/>\n       </defs>\n       <use xlink:href=\"#DejaVuSans-31\"/>\n       <use xlink:href=\"#DejaVuSans-30\" x=\"63.623047\"/>\n       <use xlink:href=\"#DejaVuSans-30\" x=\"127.246094\"/>\n      </g>\n     </g>\n    </g>\n    <g id=\"text_8\">\n     <!-- Confidence -->\n     <g style=\"fill: #262626\" transform=\"translate(333.266761 166.462187) scale(0.12 -0.12)\">\n      <defs>\n       <path id=\"DejaVuSans-43\" d=\"M 4122 4306 \nL 4122 3641 \nQ 3803 3938 3442 4084 \nQ 3081 4231 2675 4231 \nQ 1875 4231 1450 3742 \nQ 1025 3253 1025 2328 \nQ 1025 1406 1450 917 \nQ 1875 428 2675 428 \nQ 3081 428 3442 575 \nQ 3803 722 4122 1019 \nL 4122 359 \nQ 3791 134 3420 21 \nQ 3050 -91 2638 -91 \nQ 1578 -91 968 557 \nQ 359 1206 359 2328 \nQ 359 3453 968 4101 \nQ 1578 4750 2638 4750 \nQ 3056 4750 3426 4639 \nQ 3797 4528 4122 4306 \nz\n\" transform=\"scale(0.015625)\"/>\n       <path id=\"DejaVuSans-6e\" d=\"M 3513 2113 \nL 3513 0 \nL 2938 0 \nL 2938 2094 \nQ 2938 2591 2744 2837 \nQ 2550 3084 2163 3084 \nQ 1697 3084 1428 2787 \nQ 1159 2491 1159 1978 \nL 1159 0 \nL 581 0 \nL 581 3500 \nL 1159 3500 \nL 1159 2956 \nQ 1366 3272 1645 3428 \nQ 1925 3584 2291 3584 \nQ 2894 3584 3203 3211 \nQ 3513 2838 3513 2113 \nz\n\" transform=\"scale(0.015625)\"/>\n       <path id=\"DejaVuSans-66\" d=\"M 2375 4863 \nL 2375 4384 \nL 1825 4384 \nQ 1516 4384 1395 4259 \nQ 1275 4134 1275 3809 \nL 1275 3500 \nL 2222 3500 \nL 2222 3053 \nL 1275 3053 \nL 1275 0 \nL 697 0 \nL 697 3053 \nL 147 3053 \nL 147 3500 \nL 697 3500 \nL 697 3744 \nQ 697 4328 969 4595 \nQ 1241 4863 1831 4863 \nL 2375 4863 \nz\n\" transform=\"scale(0.015625)\"/>\n       <path id=\"DejaVuSans-69\" d=\"M 603 3500 \nL 1178 3500 \nL 1178 0 \nL 603 0 \nL 603 3500 \nz\nM 603 4863 \nL 1178 4863 \nL 1178 4134 \nL 603 4134 \nL 603 4863 \nz\n\" transform=\"scale(0.015625)\"/>\n       <path id=\"DejaVuSans-64\" d=\"M 2906 2969 \nL 2906 4863 \nL 3481 4863 \nL 3481 0 \nL 2906 0 \nL 2906 525 \nQ 2725 213 2448 61 \nQ 2172 -91 1784 -91 \nQ 1150 -91 751 415 \nQ 353 922 353 1747 \nQ 353 2572 751 3078 \nQ 1150 3584 1784 3584 \nQ 2172 3584 2448 3432 \nQ 2725 3281 2906 2969 \nz\nM 947 1747 \nQ 947 1113 1208 752 \nQ 1469 391 1925 391 \nQ 2381 391 2643 752 \nQ 2906 1113 2906 1747 \nQ 2906 2381 2643 2742 \nQ 2381 3103 1925 3103 \nQ 1469 3103 1208 2742 \nQ 947 2381 947 1747 \nz\n\" transform=\"scale(0.015625)\"/>\n       <path id=\"DejaVuSans-63\" d=\"M 3122 3366 \nL 3122 2828 \nQ 2878 2963 2633 3030 \nQ 2388 3097 2138 3097 \nQ 1578 3097 1268 2742 \nQ 959 2388 959 1747 \nQ 959 1106 1268 751 \nQ 1578 397 2138 397 \nQ 2388 397 2633 464 \nQ 2878 531 3122 666 \nL 3122 134 \nQ 2881 22 2623 -34 \nQ 2366 -91 2075 -91 \nQ 1284 -91 818 406 \nQ 353 903 353 1747 \nQ 353 2603 823 3093 \nQ 1294 3584 2113 3584 \nQ 2378 3584 2631 3529 \nQ 2884 3475 3122 3366 \nz\n\" transform=\"scale(0.015625)\"/>\n      </defs>\n      <use xlink:href=\"#DejaVuSans-43\"/>\n      <use xlink:href=\"#DejaVuSans-6f\" x=\"69.824219\"/>\n      <use xlink:href=\"#DejaVuSans-6e\" x=\"131.005859\"/>\n      <use xlink:href=\"#DejaVuSans-66\" x=\"194.384766\"/>\n      <use xlink:href=\"#DejaVuSans-69\" x=\"229.589844\"/>\n      <use xlink:href=\"#DejaVuSans-64\" x=\"257.373047\"/>\n      <use xlink:href=\"#DejaVuSans-65\" x=\"320.849609\"/>\n      <use xlink:href=\"#DejaVuSans-6e\" x=\"382.373047\"/>\n      <use xlink:href=\"#DejaVuSans-63\" x=\"445.751953\"/>\n      <use xlink:href=\"#DejaVuSans-65\" x=\"500.732422\"/>\n     </g>\n    </g>\n   </g>\n   <g id=\"matplotlib.axis_2\">\n    <g id=\"ytick_1\">\n     <g id=\"line2d_7\">\n      <path d=\"M 240.185455 49.758125 \nL 493.821818 49.758125 \n\" clip-path=\"url(#p02cb6f9335)\" style=\"fill: none; stroke: #ffffff; stroke-linecap: round\"/>\n     </g>\n     <g id=\"text_9\">\n      <!-- horse -->\n      <g style=\"fill: #262626\" transform=\"translate(199.962798 53.937266) scale(0.11 -0.11)\">\n       <use xlink:href=\"#DejaVuSans-68\"/>\n       <use xlink:href=\"#DejaVuSans-6f\" x=\"63.378906\"/>\n       <use xlink:href=\"#DejaVuSans-72\" x=\"124.560547\"/>\n       <use xlink:href=\"#DejaVuSans-73\" x=\"165.673828\"/>\n       <use xlink:href=\"#DejaVuSans-65\" x=\"217.773438\"/>\n      </g>\n     </g>\n    </g>\n    <g id=\"ytick_2\">\n     <g id=\"line2d_8\">\n      <path d=\"M 240.185455 105.758125 \nL 493.821818 105.758125 \n\" clip-path=\"url(#p02cb6f9335)\" style=\"fill: none; stroke: #ffffff; stroke-linecap: round\"/>\n     </g>\n     <g id=\"text_10\">\n      <!-- cat -->\n      <g style=\"fill: #262626\" transform=\"translate(213.583892 109.937266) scale(0.11 -0.11)\">\n       <defs>\n        <path id=\"DejaVuSans-61\" d=\"M 2194 1759 \nQ 1497 1759 1228 1600 \nQ 959 1441 959 1056 \nQ 959 750 1161 570 \nQ 1363 391 1709 391 \nQ 2188 391 2477 730 \nQ 2766 1069 2766 1631 \nL 2766 1759 \nL 2194 1759 \nz\nM 3341 1997 \nL 3341 0 \nL 2766 0 \nL 2766 531 \nQ 2569 213 2275 61 \nQ 1981 -91 1556 -91 \nQ 1019 -91 701 211 \nQ 384 513 384 1019 \nQ 384 1609 779 1909 \nQ 1175 2209 1959 2209 \nL 2766 2209 \nL 2766 2266 \nQ 2766 2663 2505 2880 \nQ 2244 3097 1772 3097 \nQ 1472 3097 1187 3025 \nQ 903 2953 641 2809 \nL 641 3341 \nQ 956 3463 1253 3523 \nQ 1550 3584 1831 3584 \nQ 2591 3584 2966 3190 \nQ 3341 2797 3341 1997 \nz\n\" transform=\"scale(0.015625)\"/>\n        <path id=\"DejaVuSans-74\" d=\"M 1172 4494 \nL 1172 3500 \nL 2356 3500 \nL 2356 3053 \nL 1172 3053 \nL 1172 1153 \nQ 1172 725 1289 603 \nQ 1406 481 1766 481 \nL 2356 481 \nL 2356 0 \nL 1766 0 \nQ 1100 0 847 248 \nQ 594 497 594 1153 \nL 594 3053 \nL 172 3053 \nL 172 3500 \nL 594 3500 \nL 594 4494 \nL 1172 4494 \nz\n\" transform=\"scale(0.015625)\"/>\n       </defs>\n       <use xlink:href=\"#DejaVuSans-63\"/>\n       <use xlink:href=\"#DejaVuSans-61\" x=\"54.980469\"/>\n       <use xlink:href=\"#DejaVuSans-74\" x=\"116.259766\"/>\n      </g>\n     </g>\n    </g>\n   </g>\n   <g id=\"patch_3\">\n    <path d=\"M 240.185455 27.358125 \nL 481.743896 27.358125 \nL 481.743896 72.158125 \nL 240.185455 72.158125 \nz\n\" clip-path=\"url(#p02cb6f9335)\" style=\"fill: #55a868; stroke: #ffffff; stroke-linejoin: miter\"/>\n   </g>\n   <g id=\"patch_4\">\n    <path d=\"M 240.185455 83.358125 \nL 246.022183 83.358125 \nL 246.022183 128.158125 \nL 240.185455 128.158125 \nz\n\" clip-path=\"url(#p02cb6f9335)\" style=\"fill: #4c72b0; stroke: #ffffff; stroke-linejoin: miter\"/>\n   </g>\n   <g id=\"patch_5\">\n    <path d=\"M 240.185455 133.198125 \nL 240.185455 22.318125 \n\" style=\"fill: none; stroke: #ffffff; stroke-width: 1.25; stroke-linejoin: miter; stroke-linecap: square\"/>\n   </g>\n   <g id=\"patch_6\">\n    <path d=\"M 493.821818 133.198125 \nL 493.821818 22.318125 \n\" style=\"fill: none; stroke: #ffffff; stroke-width: 1.25; stroke-linejoin: miter; stroke-linecap: square\"/>\n   </g>\n   <g id=\"patch_7\">\n    <path d=\"M 240.185455 133.198125 \nL 493.821818 133.198125 \n\" style=\"fill: none; stroke: #ffffff; stroke-width: 1.25; stroke-linejoin: miter; stroke-linecap: square\"/>\n   </g>\n   <g id=\"patch_8\">\n    <path d=\"M 240.185455 22.318125 \nL 493.821818 22.318125 \n\" style=\"fill: none; stroke: #ffffff; stroke-width: 1.25; stroke-linejoin: miter; stroke-linecap: square\"/>\n   </g>\n   <g id=\"text_11\">\n    <!-- Predictions -->\n    <g style=\"fill: #262626\" transform=\"translate(334.073949 16.318125) scale(0.12 -0.12)\">\n     <defs>\n      <path id=\"DejaVuSans-50\" d=\"M 1259 4147 \nL 1259 2394 \nL 2053 2394 \nQ 2494 2394 2734 2622 \nQ 2975 2850 2975 3272 \nQ 2975 3691 2734 3919 \nQ 2494 4147 2053 4147 \nL 1259 4147 \nz\nM 628 4666 \nL 2053 4666 \nQ 2838 4666 3239 4311 \nQ 3641 3956 3641 3272 \nQ 3641 2581 3239 2228 \nQ 2838 1875 2053 1875 \nL 1259 1875 \nL 1259 0 \nL 628 0 \nL 628 4666 \nz\n\" transform=\"scale(0.015625)\"/>\n     </defs>\n     <use xlink:href=\"#DejaVuSans-50\"/>\n     <use xlink:href=\"#DejaVuSans-72\" x=\"58.552734\"/>\n     <use xlink:href=\"#DejaVuSans-65\" x=\"97.416016\"/>\n     <use xlink:href=\"#DejaVuSans-64\" x=\"158.939453\"/>\n     <use xlink:href=\"#DejaVuSans-69\" x=\"222.416016\"/>\n     <use xlink:href=\"#DejaVuSans-63\" x=\"250.199219\"/>\n     <use xlink:href=\"#DejaVuSans-74\" x=\"305.179688\"/>\n     <use xlink:href=\"#DejaVuSans-69\" x=\"344.388672\"/>\n     <use xlink:href=\"#DejaVuSans-6f\" x=\"372.171875\"/>\n     <use xlink:href=\"#DejaVuSans-6e\" x=\"433.353516\"/>\n     <use xlink:href=\"#DejaVuSans-73\" x=\"496.732422\"/>\n    </g>\n   </g>\n  </g>\n </g>\n <defs>\n  <clipPath id=\"p7d2dbc2707\">\n   <rect x=\"7.2\" y=\"22.318125\" width=\"110.88\" height=\"110.88\"/>\n  </clipPath>\n  <clipPath id=\"p02cb6f9335\">\n   <rect x=\"240.185455\" y=\"22.318125\" width=\"253.636364\" height=\"110.88\"/>\n  </clipPath>\n </defs>\n</svg>\n",
            "text/plain": [
              "<Figure size 1000x200 with 2 Axes>"
            ]
          },
          "metadata": {},
          "output_type": "display_data"
        },
        {
          "name": "stdout",
          "output_type": "stream",
          "text": [
            "tensor([9, 1], device='cuda:0')\n"
          ]
        },
        {
          "data": {
            "application/pdf": "[encoded data removed]",
            "image/svg+xml": "<?xml version=\"1.0\" encoding=\"utf-8\" standalone=\"no\"?>\n<!DOCTYPE svg PUBLIC \"-//W3C//DTD SVG 1.1//EN\"\n  \"http://www.w3.org/Graphics/SVG/1.1/DTD/svg11.dtd\">\n<svg xmlns:xlink=\"http://www.w3.org/1999/xlink\" width=\"501.021818pt\" height=\"176.157812pt\" viewBox=\"0 0 501.021818 176.157812\" xmlns=\"http://www.w3.org/2000/svg\" version=\"1.1\">\n <metadata>\n  <rdf:RDF xmlns:dc=\"http://purl.org/dc/elements/1.1/\" xmlns:cc=\"http://creativecommons.org/ns#\" xmlns:rdf=\"http://www.w3.org/1999/02/22-rdf-syntax-ns#\">\n   <cc:Work>\n    <dc:type rdf:resource=\"http://purl.org/dc/dcmitype/StillImage\"/>\n    <dc:date>2022-12-12T06:34:26.074743</dc:date>\n    <dc:format>image/svg+xml</dc:format>\n    <dc:creator>\n     <cc:Agent>\n      <dc:title>Matplotlib v3.6.0, https://matplotlib.org/</dc:title>\n     </cc:Agent>\n    </dc:creator>\n   </cc:Work>\n  </rdf:RDF>\n </metadata>\n <defs>\n  <style type=\"text/css\">*{stroke-linejoin: round; stroke-linecap: butt}</style>\n </defs>\n <g id=\"figure_1\">\n  <g id=\"patch_1\">\n   <path d=\"M 0 176.157812 \nL 501.021818 176.157812 \nL 501.021818 0 \nL 0 0 \nz\n\" style=\"fill: #ffffff\"/>\n  </g>\n  <g id=\"axes_1\">\n   <g clip-path=\"url(#p2028a02bd1)\">\n    <image xlink:href=\"data:image/png;base64,\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\" id=\"image2359cbfe86\" transform=\"scale(1 -1) translate(0 -110.88)\" x=\"7.2\" y=\"-22.318125\" width=\"111.6\" height=\"110.88\"/>\n   </g>\n   <g id=\"text_1\">\n    <!-- truck -->\n    <g style=\"fill: #262626\" transform=\"translate(47.245313 16.318125) scale(0.12 -0.12)\">\n     <defs>\n      <path id=\"DejaVuSans-74\" d=\"M 1172 4494 \nL 1172 3500 \nL 2356 3500 \nL 2356 3053 \nL 1172 3053 \nL 1172 1153 \nQ 1172 725 1289 603 \nQ 1406 481 1766 481 \nL 2356 481 \nL 2356 0 \nL 1766 0 \nQ 1100 0 847 248 \nQ 594 497 594 1153 \nL 594 3053 \nL 172 3053 \nL 172 3500 \nL 594 3500 \nL 594 4494 \nL 1172 4494 \nz\n\" transform=\"scale(0.015625)\"/>\n      <path id=\"DejaVuSans-72\" d=\"M 2631 2963 \nQ 2534 3019 2420 3045 \nQ 2306 3072 2169 3072 \nQ 1681 3072 1420 2755 \nQ 1159 2438 1159 1844 \nL 1159 0 \nL 581 0 \nL 581 3500 \nL 1159 3500 \nL 1159 2956 \nQ 1341 3275 1631 3429 \nQ 1922 3584 2338 3584 \nQ 2397 3584 2469 3576 \nQ 2541 3569 2628 3553 \nL 2631 2963 \nz\n\" transform=\"scale(0.015625)\"/>\n      <path id=\"DejaVuSans-75\" d=\"M 544 1381 \nL 544 3500 \nL 1119 3500 \nL 1119 1403 \nQ 1119 906 1312 657 \nQ 1506 409 1894 409 \nQ 2359 409 2629 706 \nQ 2900 1003 2900 1516 \nL 2900 3500 \nL 3475 3500 \nL 3475 0 \nL 2900 0 \nL 2900 538 \nQ 2691 219 2414 64 \nQ 2138 -91 1772 -91 \nQ 1169 -91 856 284 \nQ 544 659 544 1381 \nz\nM 1991 3584 \nL 1991 3584 \nz\n\" transform=\"scale(0.015625)\"/>\n      <path id=\"DejaVuSans-63\" d=\"M 3122 3366 \nL 3122 2828 \nQ 2878 2963 2633 3030 \nQ 2388 3097 2138 3097 \nQ 1578 3097 1268 2742 \nQ 959 2388 959 1747 \nQ 959 1106 1268 751 \nQ 1578 397 2138 397 \nQ 2388 397 2633 464 \nQ 2878 531 3122 666 \nL 3122 134 \nQ 2881 22 2623 -34 \nQ 2366 -91 2075 -91 \nQ 1284 -91 818 406 \nQ 353 903 353 1747 \nQ 353 2603 823 3093 \nQ 1294 3584 2113 3584 \nQ 2378 3584 2631 3529 \nQ 2884 3475 3122 3366 \nz\n\" transform=\"scale(0.015625)\"/>\n      <path id=\"DejaVuSans-6b\" d=\"M 581 4863 \nL 1159 4863 \nL 1159 1991 \nL 2875 3500 \nL 3609 3500 \nL 1753 1863 \nL 3688 0 \nL 2938 0 \nL 1159 1709 \nL 1159 0 \nL 581 0 \nL 581 4863 \nz\n\" transform=\"scale(0.015625)\"/>\n     </defs>\n     <use xlink:href=\"#DejaVuSans-74\"/>\n     <use xlink:href=\"#DejaVuSans-72\" x=\"39.208984\"/>\n     <use xlink:href=\"#DejaVuSans-75\" x=\"80.322266\"/>\n     <use xlink:href=\"#DejaVuSans-63\" x=\"143.701172\"/>\n     <use xlink:href=\"#DejaVuSans-6b\" x=\"198.681641\"/>\n    </g>\n   </g>\n  </g>\n  <g id=\"axes_2\">\n   <g id=\"patch_2\">\n    <path d=\"M 240.185455 133.198125 \nL 493.821818 133.198125 \nL 493.821818 22.318125 \nL 240.185455 22.318125 \nz\n\" style=\"fill: #eaeaf2\"/>\n   </g>\n   <g id=\"matplotlib.axis_1\">\n    <g id=\"xtick_1\">\n     <g id=\"line2d_1\">\n      <path d=\"M 240.185455 133.198125 \nL 240.185455 22.318125 \n\" clip-path=\"url(#p53da9e46d2)\" style=\"fill: none; stroke: #ffffff; stroke-linecap: round\"/>\n     </g>\n     <g id=\"text_2\">\n      <!-- 0 -->\n      <g style=\"fill: #262626\" transform=\"translate(236.68608 151.056406) scale(0.11 -0.11)\">\n       <defs>\n        <path id=\"DejaVuSans-30\" d=\"M 2034 4250 \nQ 1547 4250 1301 3770 \nQ 1056 3291 1056 2328 \nQ 1056 1369 1301 889 \nQ 1547 409 2034 409 \nQ 2525 409 2770 889 \nQ 3016 1369 3016 2328 \nQ 3016 3291 2770 3770 \nQ 2525 4250 2034 4250 \nz\nM 2034 4750 \nQ 2819 4750 3233 4129 \nQ 3647 3509 3647 2328 \nQ 3647 1150 3233 529 \nQ 2819 -91 2034 -91 \nQ 1250 -91 836 529 \nQ 422 1150 422 2328 \nQ 422 3509 836 4129 \nQ 1250 4750 2034 4750 \nz\n\" transform=\"scale(0.015625)\"/>\n       </defs>\n       <use xlink:href=\"#DejaVuSans-30\"/>\n      </g>\n     </g>\n    </g>\n    <g id=\"xtick_2\">\n     <g id=\"line2d_2\">\n      <path d=\"M 288.522884 133.198125 \nL 288.522884 22.318125 \n\" clip-path=\"url(#p53da9e46d2)\" style=\"fill: none; stroke: #ffffff; stroke-linecap: round\"/>\n     </g>\n     <g id=\"text_3\">\n      <!-- 20 -->\n      <g style=\"fill: #262626\" transform=\"translate(281.524134 151.056406) scale(0.11 -0.11)\">\n       <defs>\n        <path id=\"DejaVuSans-32\" d=\"M 1228 531 \nL 3431 531 \nL 3431 0 \nL 469 0 \nL 469 531 \nQ 828 903 1448 1529 \nQ 2069 2156 2228 2338 \nQ 2531 2678 2651 2914 \nQ 2772 3150 2772 3378 \nQ 2772 3750 2511 3984 \nQ 2250 4219 1831 4219 \nQ 1534 4219 1204 4116 \nQ 875 4013 500 3803 \nL 500 4441 \nQ 881 4594 1212 4672 \nQ 1544 4750 1819 4750 \nQ 2544 4750 2975 4387 \nQ 3406 4025 3406 3419 \nQ 3406 3131 3298 2873 \nQ 3191 2616 2906 2266 \nQ 2828 2175 2409 1742 \nQ 1991 1309 1228 531 \nz\n\" transform=\"scale(0.015625)\"/>\n       </defs>\n       <use xlink:href=\"#DejaVuSans-32\"/>\n       <use xlink:href=\"#DejaVuSans-30\" x=\"63.623047\"/>\n      </g>\n     </g>\n    </g>\n    <g id=\"xtick_3\">\n     <g id=\"line2d_3\">\n      <path d=\"M 336.860314 133.198125 \nL 336.860314 22.318125 \n\" clip-path=\"url(#p53da9e46d2)\" style=\"fill: none; stroke: #ffffff; stroke-linecap: round\"/>\n     </g>\n     <g id=\"text_4\">\n      <!-- 40 -->\n      <g style=\"fill: #262626\" transform=\"translate(329.861564 151.056406) scale(0.11 -0.11)\">\n       <defs>\n        <path id=\"DejaVuSans-34\" d=\"M 2419 4116 \nL 825 1625 \nL 2419 1625 \nL 2419 4116 \nz\nM 2253 4666 \nL 3047 4666 \nL 3047 1625 \nL 3713 1625 \nL 3713 1100 \nL 3047 1100 \nL 3047 0 \nL 2419 0 \nL 2419 1100 \nL 313 1100 \nL 313 1709 \nL 2253 4666 \nz\n\" transform=\"scale(0.015625)\"/>\n       </defs>\n       <use xlink:href=\"#DejaVuSans-34\"/>\n       <use xlink:href=\"#DejaVuSans-30\" x=\"63.623047\"/>\n      </g>\n     </g>\n    </g>\n    <g id=\"xtick_4\">\n     <g id=\"line2d_4\">\n      <path d=\"M 385.197743 133.198125 \nL 385.197743 22.318125 \n\" clip-path=\"url(#p53da9e46d2)\" style=\"fill: none; stroke: #ffffff; stroke-linecap: round\"/>\n     </g>\n     <g id=\"text_5\">\n      <!-- 60 -->\n      <g style=\"fill: #262626\" transform=\"translate(378.198993 151.056406) scale(0.11 -0.11)\">\n       <defs>\n        <path id=\"DejaVuSans-36\" d=\"M 2113 2584 \nQ 1688 2584 1439 2293 \nQ 1191 2003 1191 1497 \nQ 1191 994 1439 701 \nQ 1688 409 2113 409 \nQ 2538 409 2786 701 \nQ 3034 994 3034 1497 \nQ 3034 2003 2786 2293 \nQ 2538 2584 2113 2584 \nz\nM 3366 4563 \nL 3366 3988 \nQ 3128 4100 2886 4159 \nQ 2644 4219 2406 4219 \nQ 1781 4219 1451 3797 \nQ 1122 3375 1075 2522 \nQ 1259 2794 1537 2939 \nQ 1816 3084 2150 3084 \nQ 2853 3084 3261 2657 \nQ 3669 2231 3669 1497 \nQ 3669 778 3244 343 \nQ 2819 -91 2113 -91 \nQ 1303 -91 875 529 \nQ 447 1150 447 2328 \nQ 447 3434 972 4092 \nQ 1497 4750 2381 4750 \nQ 2619 4750 2861 4703 \nQ 3103 4656 3366 4563 \nz\n\" transform=\"scale(0.015625)\"/>\n       </defs>\n       <use xlink:href=\"#DejaVuSans-36\"/>\n       <use xlink:href=\"#DejaVuSans-30\" x=\"63.623047\"/>\n      </g>\n     </g>\n    </g>\n    <g id=\"xtick_5\">\n     <g id=\"line2d_5\">\n      <path d=\"M 433.535173 133.198125 \nL 433.535173 22.318125 \n\" clip-path=\"url(#p53da9e46d2)\" style=\"fill: none; stroke: #ffffff; stroke-linecap: round\"/>\n     </g>\n     <g id=\"text_6\">\n      <!-- 80 -->\n      <g style=\"fill: #262626\" transform=\"translate(426.536423 151.056406) scale(0.11 -0.11)\">\n       <defs>\n        <path id=\"DejaVuSans-38\" d=\"M 2034 2216 \nQ 1584 2216 1326 1975 \nQ 1069 1734 1069 1313 \nQ 1069 891 1326 650 \nQ 1584 409 2034 409 \nQ 2484 409 2743 651 \nQ 3003 894 3003 1313 \nQ 3003 1734 2745 1975 \nQ 2488 2216 2034 2216 \nz\nM 1403 2484 \nQ 997 2584 770 2862 \nQ 544 3141 544 3541 \nQ 544 4100 942 4425 \nQ 1341 4750 2034 4750 \nQ 2731 4750 3128 4425 \nQ 3525 4100 3525 3541 \nQ 3525 3141 3298 2862 \nQ 3072 2584 2669 2484 \nQ 3125 2378 3379 2068 \nQ 3634 1759 3634 1313 \nQ 3634 634 3220 271 \nQ 2806 -91 2034 -91 \nQ 1263 -91 848 271 \nQ 434 634 434 1313 \nQ 434 1759 690 2068 \nQ 947 2378 1403 2484 \nz\nM 1172 3481 \nQ 1172 3119 1398 2916 \nQ 1625 2713 2034 2713 \nQ 2441 2713 2670 2916 \nQ 2900 3119 2900 3481 \nQ 2900 3844 2670 4047 \nQ 2441 4250 2034 4250 \nQ 1625 4250 1398 4047 \nQ 1172 3844 1172 3481 \nz\n\" transform=\"scale(0.015625)\"/>\n       </defs>\n       <use xlink:href=\"#DejaVuSans-38\"/>\n       <use xlink:href=\"#DejaVuSans-30\" x=\"63.623047\"/>\n      </g>\n     </g>\n    </g>\n    <g id=\"xtick_6\">\n     <g id=\"line2d_6\">\n      <path d=\"M 481.872602 133.198125 \nL 481.872602 22.318125 \n\" clip-path=\"url(#p53da9e46d2)\" style=\"fill: none; stroke: #ffffff; stroke-linecap: round\"/>\n     </g>\n     <g id=\"text_7\">\n      <!-- 100 -->\n      <g style=\"fill: #262626\" transform=\"translate(471.374477 151.056406) scale(0.11 -0.11)\">\n       <defs>\n        <path id=\"DejaVuSans-31\" d=\"M 794 531 \nL 1825 531 \nL 1825 4091 \nL 703 3866 \nL 703 4441 \nL 1819 4666 \nL 2450 4666 \nL 2450 531 \nL 3481 531 \nL 3481 0 \nL 794 0 \nL 794 531 \nz\n\" transform=\"scale(0.015625)\"/>\n       </defs>\n       <use xlink:href=\"#DejaVuSans-31\"/>\n       <use xlink:href=\"#DejaVuSans-30\" x=\"63.623047\"/>\n       <use xlink:href=\"#DejaVuSans-30\" x=\"127.246094\"/>\n      </g>\n     </g>\n    </g>\n    <g id=\"text_8\">\n     <!-- Confidence -->\n     <g style=\"fill: #262626\" transform=\"translate(333.266761 166.462187) scale(0.12 -0.12)\">\n      <defs>\n       <path id=\"DejaVuSans-43\" d=\"M 4122 4306 \nL 4122 3641 \nQ 3803 3938 3442 4084 \nQ 3081 4231 2675 4231 \nQ 1875 4231 1450 3742 \nQ 1025 3253 1025 2328 \nQ 1025 1406 1450 917 \nQ 1875 428 2675 428 \nQ 3081 428 3442 575 \nQ 3803 722 4122 1019 \nL 4122 359 \nQ 3791 134 3420 21 \nQ 3050 -91 2638 -91 \nQ 1578 -91 968 557 \nQ 359 1206 359 2328 \nQ 359 3453 968 4101 \nQ 1578 4750 2638 4750 \nQ 3056 4750 3426 4639 \nQ 3797 4528 4122 4306 \nz\n\" transform=\"scale(0.015625)\"/>\n       <path id=\"DejaVuSans-6f\" d=\"M 1959 3097 \nQ 1497 3097 1228 2736 \nQ 959 2375 959 1747 \nQ 959 1119 1226 758 \nQ 1494 397 1959 397 \nQ 2419 397 2687 759 \nQ 2956 1122 2956 1747 \nQ 2956 2369 2687 2733 \nQ 2419 3097 1959 3097 \nz\nM 1959 3584 \nQ 2709 3584 3137 3096 \nQ 3566 2609 3566 1747 \nQ 3566 888 3137 398 \nQ 2709 -91 1959 -91 \nQ 1206 -91 779 398 \nQ 353 888 353 1747 \nQ 353 2609 779 3096 \nQ 1206 3584 1959 3584 \nz\n\" transform=\"scale(0.015625)\"/>\n       <path id=\"DejaVuSans-6e\" d=\"M 3513 2113 \nL 3513 0 \nL 2938 0 \nL 2938 2094 \nQ 2938 2591 2744 2837 \nQ 2550 3084 2163 3084 \nQ 1697 3084 1428 2787 \nQ 1159 2491 1159 1978 \nL 1159 0 \nL 581 0 \nL 581 3500 \nL 1159 3500 \nL 1159 2956 \nQ 1366 3272 1645 3428 \nQ 1925 3584 2291 3584 \nQ 2894 3584 3203 3211 \nQ 3513 2838 3513 2113 \nz\n\" transform=\"scale(0.015625)\"/>\n       <path id=\"DejaVuSans-66\" d=\"M 2375 4863 \nL 2375 4384 \nL 1825 4384 \nQ 1516 4384 1395 4259 \nQ 1275 4134 1275 3809 \nL 1275 3500 \nL 2222 3500 \nL 2222 3053 \nL 1275 3053 \nL 1275 0 \nL 697 0 \nL 697 3053 \nL 147 3053 \nL 147 3500 \nL 697 3500 \nL 697 3744 \nQ 697 4328 969 4595 \nQ 1241 4863 1831 4863 \nL 2375 4863 \nz\n\" transform=\"scale(0.015625)\"/>\n       <path id=\"DejaVuSans-69\" d=\"M 603 3500 \nL 1178 3500 \nL 1178 0 \nL 603 0 \nL 603 3500 \nz\nM 603 4863 \nL 1178 4863 \nL 1178 4134 \nL 603 4134 \nL 603 4863 \nz\n\" transform=\"scale(0.015625)\"/>\n       <path id=\"DejaVuSans-64\" d=\"M 2906 2969 \nL 2906 4863 \nL 3481 4863 \nL 3481 0 \nL 2906 0 \nL 2906 525 \nQ 2725 213 2448 61 \nQ 2172 -91 1784 -91 \nQ 1150 -91 751 415 \nQ 353 922 353 1747 \nQ 353 2572 751 3078 \nQ 1150 3584 1784 3584 \nQ 2172 3584 2448 3432 \nQ 2725 3281 2906 2969 \nz\nM 947 1747 \nQ 947 1113 1208 752 \nQ 1469 391 1925 391 \nQ 2381 391 2643 752 \nQ 2906 1113 2906 1747 \nQ 2906 2381 2643 2742 \nQ 2381 3103 1925 3103 \nQ 1469 3103 1208 2742 \nQ 947 2381 947 1747 \nz\n\" transform=\"scale(0.015625)\"/>\n       <path id=\"DejaVuSans-65\" d=\"M 3597 1894 \nL 3597 1613 \nL 953 1613 \nQ 991 1019 1311 708 \nQ 1631 397 2203 397 \nQ 2534 397 2845 478 \nQ 3156 559 3463 722 \nL 3463 178 \nQ 3153 47 2828 -22 \nQ 2503 -91 2169 -91 \nQ 1331 -91 842 396 \nQ 353 884 353 1716 \nQ 353 2575 817 3079 \nQ 1281 3584 2069 3584 \nQ 2775 3584 3186 3129 \nQ 3597 2675 3597 1894 \nz\nM 3022 2063 \nQ 3016 2534 2758 2815 \nQ 2500 3097 2075 3097 \nQ 1594 3097 1305 2825 \nQ 1016 2553 972 2059 \nL 3022 2063 \nz\n\" transform=\"scale(0.015625)\"/>\n      </defs>\n      <use xlink:href=\"#DejaVuSans-43\"/>\n      <use xlink:href=\"#DejaVuSans-6f\" x=\"69.824219\"/>\n      <use xlink:href=\"#DejaVuSans-6e\" x=\"131.005859\"/>\n      <use xlink:href=\"#DejaVuSans-66\" x=\"194.384766\"/>\n      <use xlink:href=\"#DejaVuSans-69\" x=\"229.589844\"/>\n      <use xlink:href=\"#DejaVuSans-64\" x=\"257.373047\"/>\n      <use xlink:href=\"#DejaVuSans-65\" x=\"320.849609\"/>\n      <use xlink:href=\"#DejaVuSans-6e\" x=\"382.373047\"/>\n      <use xlink:href=\"#DejaVuSans-63\" x=\"445.751953\"/>\n      <use xlink:href=\"#DejaVuSans-65\" x=\"500.732422\"/>\n     </g>\n    </g>\n   </g>\n   <g id=\"matplotlib.axis_2\">\n    <g id=\"ytick_1\">\n     <g id=\"line2d_7\">\n      <path d=\"M 240.185455 49.758125 \nL 493.821818 49.758125 \n\" clip-path=\"url(#p53da9e46d2)\" style=\"fill: none; stroke: #ffffff; stroke-linecap: round\"/>\n     </g>\n     <g id=\"text_9\">\n      <!-- truck -->\n      <g style=\"fill: #262626\" transform=\"translate(202.461861 53.937266) scale(0.11 -0.11)\">\n       <use xlink:href=\"#DejaVuSans-74\"/>\n       <use xlink:href=\"#DejaVuSans-72\" x=\"39.208984\"/>\n       <use xlink:href=\"#DejaVuSans-75\" x=\"80.322266\"/>\n       <use xlink:href=\"#DejaVuSans-63\" x=\"143.701172\"/>\n       <use xlink:href=\"#DejaVuSans-6b\" x=\"198.681641\"/>\n      </g>\n     </g>\n    </g>\n    <g id=\"ytick_2\">\n     <g id=\"line2d_8\">\n      <path d=\"M 240.185455 105.758125 \nL 493.821818 105.758125 \n\" clip-path=\"url(#p53da9e46d2)\" style=\"fill: none; stroke: #ffffff; stroke-linecap: round\"/>\n     </g>\n     <g id=\"text_10\">\n      <!-- automobile -->\n      <g style=\"fill: #262626\" transform=\"translate(168.621392 109.937266) scale(0.11 -0.11)\">\n       <defs>\n        <path id=\"DejaVuSans-61\" d=\"M 2194 1759 \nQ 1497 1759 1228 1600 \nQ 959 1441 959 1056 \nQ 959 750 1161 570 \nQ 1363 391 1709 391 \nQ 2188 391 2477 730 \nQ 2766 1069 2766 1631 \nL 2766 1759 \nL 2194 1759 \nz\nM 3341 1997 \nL 3341 0 \nL 2766 0 \nL 2766 531 \nQ 2569 213 2275 61 \nQ 1981 -91 1556 -91 \nQ 1019 -91 701 211 \nQ 384 513 384 1019 \nQ 384 1609 779 1909 \nQ 1175 2209 1959 2209 \nL 2766 2209 \nL 2766 2266 \nQ 2766 2663 2505 2880 \nQ 2244 3097 1772 3097 \nQ 1472 3097 1187 3025 \nQ 903 2953 641 2809 \nL 641 3341 \nQ 956 3463 1253 3523 \nQ 1550 3584 1831 3584 \nQ 2591 3584 2966 3190 \nQ 3341 2797 3341 1997 \nz\n\" transform=\"scale(0.015625)\"/>\n        <path id=\"DejaVuSans-6d\" d=\"M 3328 2828 \nQ 3544 3216 3844 3400 \nQ 4144 3584 4550 3584 \nQ 5097 3584 5394 3201 \nQ 5691 2819 5691 2113 \nL 5691 0 \nL 5113 0 \nL 5113 2094 \nQ 5113 2597 4934 2840 \nQ 4756 3084 4391 3084 \nQ 3944 3084 3684 2787 \nQ 3425 2491 3425 1978 \nL 3425 0 \nL 2847 0 \nL 2847 2094 \nQ 2847 2600 2669 2842 \nQ 2491 3084 2119 3084 \nQ 1678 3084 1418 2786 \nQ 1159 2488 1159 1978 \nL 1159 0 \nL 581 0 \nL 581 3500 \nL 1159 3500 \nL 1159 2956 \nQ 1356 3278 1631 3431 \nQ 1906 3584 2284 3584 \nQ 2666 3584 2933 3390 \nQ 3200 3197 3328 2828 \nz\n\" transform=\"scale(0.015625)\"/>\n        <path id=\"DejaVuSans-62\" d=\"M 3116 1747 \nQ 3116 2381 2855 2742 \nQ 2594 3103 2138 3103 \nQ 1681 3103 1420 2742 \nQ 1159 2381 1159 1747 \nQ 1159 1113 1420 752 \nQ 1681 391 2138 391 \nQ 2594 391 2855 752 \nQ 3116 1113 3116 1747 \nz\nM 1159 2969 \nQ 1341 3281 1617 3432 \nQ 1894 3584 2278 3584 \nQ 2916 3584 3314 3078 \nQ 3713 2572 3713 1747 \nQ 3713 922 3314 415 \nQ 2916 -91 2278 -91 \nQ 1894 -91 1617 61 \nQ 1341 213 1159 525 \nL 1159 0 \nL 581 0 \nL 581 4863 \nL 1159 4863 \nL 1159 2969 \nz\n\" transform=\"scale(0.015625)\"/>\n        <path id=\"DejaVuSans-6c\" d=\"M 603 4863 \nL 1178 4863 \nL 1178 0 \nL 603 0 \nL 603 4863 \nz\n\" transform=\"scale(0.015625)\"/>\n       </defs>\n       <use xlink:href=\"#DejaVuSans-61\"/>\n       <use xlink:href=\"#DejaVuSans-75\" x=\"61.279297\"/>\n       <use xlink:href=\"#DejaVuSans-74\" x=\"124.658203\"/>\n       <use xlink:href=\"#DejaVuSans-6f\" x=\"163.867188\"/>\n       <use xlink:href=\"#DejaVuSans-6d\" x=\"225.048828\"/>\n       <use xlink:href=\"#DejaVuSans-6f\" x=\"322.460938\"/>\n       <use xlink:href=\"#DejaVuSans-62\" x=\"383.642578\"/>\n       <use xlink:href=\"#DejaVuSans-69\" x=\"447.119141\"/>\n       <use xlink:href=\"#DejaVuSans-6c\" x=\"474.902344\"/>\n       <use xlink:href=\"#DejaVuSans-65\" x=\"502.685547\"/>\n      </g>\n     </g>\n    </g>\n   </g>\n   <g id=\"patch_3\">\n    <path d=\"M 240.185455 27.358125 \nL 481.743896 27.358125 \nL 481.743896 72.158125 \nL 240.185455 72.158125 \nz\n\" clip-path=\"url(#p53da9e46d2)\" style=\"fill: #55a868; stroke: #ffffff; stroke-linejoin: miter\"/>\n   </g>\n   <g id=\"patch_4\">\n    <path d=\"M 240.185455 83.358125 \nL 240.258971 83.358125 \nL 240.258971 128.158125 \nL 240.185455 128.158125 \nz\n\" clip-path=\"url(#p53da9e46d2)\" style=\"fill: #4c72b0; stroke: #ffffff; stroke-linejoin: miter\"/>\n   </g>\n   <g id=\"patch_5\">\n    <path d=\"M 240.185455 133.198125 \nL 240.185455 22.318125 \n\" style=\"fill: none; stroke: #ffffff; stroke-width: 1.25; stroke-linejoin: miter; stroke-linecap: square\"/>\n   </g>\n   <g id=\"patch_6\">\n    <path d=\"M 493.821818 133.198125 \nL 493.821818 22.318125 \n\" style=\"fill: none; stroke: #ffffff; stroke-width: 1.25; stroke-linejoin: miter; stroke-linecap: square\"/>\n   </g>\n   <g id=\"patch_7\">\n    <path d=\"M 240.185455 133.198125 \nL 493.821818 133.198125 \n\" style=\"fill: none; stroke: #ffffff; stroke-width: 1.25; stroke-linejoin: miter; stroke-linecap: square\"/>\n   </g>\n   <g id=\"patch_8\">\n    <path d=\"M 240.185455 22.318125 \nL 493.821818 22.318125 \n\" style=\"fill: none; stroke: #ffffff; stroke-width: 1.25; stroke-linejoin: miter; stroke-linecap: square\"/>\n   </g>\n   <g id=\"text_11\">\n    <!-- Predictions -->\n    <g style=\"fill: #262626\" transform=\"translate(334.073949 16.318125) scale(0.12 -0.12)\">\n     <defs>\n      <path id=\"DejaVuSans-50\" d=\"M 1259 4147 \nL 1259 2394 \nL 2053 2394 \nQ 2494 2394 2734 2622 \nQ 2975 2850 2975 3272 \nQ 2975 3691 2734 3919 \nQ 2494 4147 2053 4147 \nL 1259 4147 \nz\nM 628 4666 \nL 2053 4666 \nQ 2838 4666 3239 4311 \nQ 3641 3956 3641 3272 \nQ 3641 2581 3239 2228 \nQ 2838 1875 2053 1875 \nL 1259 1875 \nL 1259 0 \nL 628 0 \nL 628 4666 \nz\n\" transform=\"scale(0.015625)\"/>\n      <path id=\"DejaVuSans-73\" d=\"M 2834 3397 \nL 2834 2853 \nQ 2591 2978 2328 3040 \nQ 2066 3103 1784 3103 \nQ 1356 3103 1142 2972 \nQ 928 2841 928 2578 \nQ 928 2378 1081 2264 \nQ 1234 2150 1697 2047 \nL 1894 2003 \nQ 2506 1872 2764 1633 \nQ 3022 1394 3022 966 \nQ 3022 478 2636 193 \nQ 2250 -91 1575 -91 \nQ 1294 -91 989 -36 \nQ 684 19 347 128 \nL 347 722 \nQ 666 556 975 473 \nQ 1284 391 1588 391 \nQ 1994 391 2212 530 \nQ 2431 669 2431 922 \nQ 2431 1156 2273 1281 \nQ 2116 1406 1581 1522 \nL 1381 1569 \nQ 847 1681 609 1914 \nQ 372 2147 372 2553 \nQ 372 3047 722 3315 \nQ 1072 3584 1716 3584 \nQ 2034 3584 2315 3537 \nQ 2597 3491 2834 3397 \nz\n\" transform=\"scale(0.015625)\"/>\n     </defs>\n     <use xlink:href=\"#DejaVuSans-50\"/>\n     <use xlink:href=\"#DejaVuSans-72\" x=\"58.552734\"/>\n     <use xlink:href=\"#DejaVuSans-65\" x=\"97.416016\"/>\n     <use xlink:href=\"#DejaVuSans-64\" x=\"158.939453\"/>\n     <use xlink:href=\"#DejaVuSans-69\" x=\"222.416016\"/>\n     <use xlink:href=\"#DejaVuSans-63\" x=\"250.199219\"/>\n     <use xlink:href=\"#DejaVuSans-74\" x=\"305.179688\"/>\n     <use xlink:href=\"#DejaVuSans-69\" x=\"344.388672\"/>\n     <use xlink:href=\"#DejaVuSans-6f\" x=\"372.171875\"/>\n     <use xlink:href=\"#DejaVuSans-6e\" x=\"433.353516\"/>\n     <use xlink:href=\"#DejaVuSans-73\" x=\"496.732422\"/>\n    </g>\n   </g>\n  </g>\n </g>\n <defs>\n  <clipPath id=\"p2028a02bd1\">\n   <rect x=\"7.2\" y=\"22.318125\" width=\"110.88\" height=\"110.88\"/>\n  </clipPath>\n  <clipPath id=\"p53da9e46d2\">\n   <rect x=\"240.185455\" y=\"22.318125\" width=\"253.636364\" height=\"110.88\"/>\n  </clipPath>\n </defs>\n</svg>\n",
            "text/plain": [
              "<Figure size 1000x200 with 2 Axes>"
            ]
          },
          "metadata": {},
          "output_type": "display_data"
        }
      ],
      "source": [
        "exmp_batch, label_batch = next(iter(data_loader))\n",
        "with torch.no_grad():\n",
        "    preds = pretrained_model(exmp_batch.to(device))\n",
        "\n",
        "for i in range(1,17,5):\n",
        "    show_prediction(exmp_batch[i], label_batch[i], preds[i])"
      ]
    },
    {
      "cell_type": "markdown",
      "metadata": {
        "id": "WCc9qVNsocbx"
      },
      "source": [
        "The bar plot on the right shows the top-5 predictions of the model with their class probabilities. We denote the class probabilities with \"confidence\" as it somewhat resembles how confident the network is that the image is of one specific class. Some of the images have a highly peaked probability distribution, and we would expect the model to be rather robust against noise for those. However, we will see below that this is not always the case. Note that all of the images are of fish because the data loader doesn't shuffle the dataset. Otherwise, we would get different images every time we run the notebook, which would make it hard to discuss the results on the static version."
      ]
    },
    {
      "cell_type": "markdown",
      "metadata": {
        "id": "Hl2zFaymocby"
      },
      "source": [
        "## White-box adversarial attacks\n",
        "\n",
        "There have been proposed many possible adversarial attack strategies, which all share the same goal: alternate the data/image input only a little bit to have a great impact on the model's prediction. Specifically, if we look at the ImageNet predictions above, how can we have to change the image of the goldfish so that the model does not recognize the goldfish anymore? At the same time, the label of the image should not change, in the sense that a human would still clearly classify it as a goldfish. This is the same objective that the generator network has in the Generative Adversarial Network framework: try to fool another network (discriminator) by changing its input.\n",
        "\n",
        "Adversarial attacks are usually grouped into \"white-box\" and \"black-box\" attacks. White-box attacks assume that we have access to the model parameter and can, for example, calculate the gradients with respect to the input (similar as in GANs). Black-box attacks on the other hand have the harder task of not having any knowledge about the network, and can only obtain predictions for an image, but no gradients or the like. In this notebook, we will focus on white-box attacks as they are usually easier to implement and follow the intuition of Generative Adversarial Networks (GAN) as studied in lecture 10.\n",
        "\n",
        "### Fast Gradient Sign Method (FGSM)\n",
        "\n",
        "One of the first attack strategies proposed is Fast Gradient Sign Method (FGSM), developed by [Ian Goodfellow et al.](https://arxiv.org/pdf/1412.6572.pdf) in 2014. Given an image, we create an adversarial example by the following expression:\n",
        "\n",
        "$$\\tilde{x} = x + \\epsilon \\cdot \\text{sign}(\\nabla_x J(\\theta,x,y))$$\n",
        "\n",
        "The term $J(\\theta,x,y)$ represents the loss of the network for classifying input image $x$ as label $y$; $\\epsilon$ is the intensity of the noise, and $\\tilde{x}$ the final adversarial example. The equation resembles SGD and is actually nothing else than that. We change the input image $x$ in the direction of *maximizing* the loss $J(\\theta,x,y)$. This is exactly the other way round as during training, where we try to minimize the loss. The sign function and $\\epsilon$ can be seen as gradient clipping and learning rate specifically. We only allow our attack to change each pixel value by $\\epsilon$. You can also see that the attack can be performed very fast, as it only requires a single forward and backward pass. Let's implement it below:"
      ]
    },
    {
      "cell_type": "code",
      "execution_count": 16,
      "metadata": {
        "id": "wWLypKX3ocby"
      },
      "outputs": [],
      "source": [
        "def fast_gradient_sign_method(model, imgs, labels, epsilon=0.02):\n",
        "    # Determine prediction of the model\n",
        "    inp_imgs = imgs.clone().requires_grad_()\n",
        "    preds = model(inp_imgs.to(device))\n",
        "    preds = F.log_softmax(preds, dim=-1)\n",
        "    # Calculate loss by NLL\n",
        "    loss = -torch.gather(preds, 1, labels.to(device).unsqueeze(dim=-1))\n",
        "    loss.sum().backward()\n",
        "    # Update image to adversarial example as written above\n",
        "    noise_grad = torch.sign(inp_imgs.grad.to(imgs.device))\n",
        "    fake_imgs = imgs + epsilon * noise_grad\n",
        "    fake_imgs.detach_()\n",
        "    return fake_imgs, noise_grad"
      ]
    },
    {
      "cell_type": "markdown",
      "metadata": {
        "id": "wcgS5SeLocby"
      },
      "source": [
        "The default value of $\\epsilon=0.02$ corresponds to changing a pixel value by about 1 in the range of 0 to 255, e.g. changing 127 to 128. This difference is marginal and can often not be recognized by humans. Let's try it below on our example images:"
      ]
    },
    {
      "cell_type": "code",
      "execution_count": 17,
      "metadata": {
        "id": "mLY9jindocby",
        "outputId": "04a825e8-8315-4deb-f82f-2e4b5aad1a1d",
        "scrolled": false
      },
      "outputs": [
        {
          "name": "stdout",
          "output_type": "stream",
          "text": [
            "tensor([9, 1], device='cuda:0')\n"
          ]
        },
        {
          "data": {
            "application/pdf": "[encoded data removed]",
            "image/svg+xml": "<?xml version=\"1.0\" encoding=\"utf-8\" standalone=\"no\"?>\n<!DOCTYPE svg PUBLIC \"-//W3C//DTD SVG 1.1//EN\"\n  \"http://www.w3.org/Graphics/SVG/1.1/DTD/svg11.dtd\">\n<svg xmlns:xlink=\"http://www.w3.org/1999/xlink\" width=\"685.335563pt\" height=\"176.157812pt\" viewBox=\"0 0 685.335563 176.157812\" xmlns=\"http://www.w3.org/2000/svg\" version=\"1.1\">\n <metadata>\n  <rdf:RDF xmlns:dc=\"http://purl.org/dc/elements/1.1/\" xmlns:cc=\"http://creativecommons.org/ns#\" xmlns:rdf=\"http://www.w3.org/1999/02/22-rdf-syntax-ns#\">\n   <cc:Work>\n    <dc:type rdf:resource=\"http://purl.org/dc/dcmitype/StillImage\"/>\n    <dc:date>2022-12-12T06:35:27.622560</dc:date>\n    <dc:format>image/svg+xml</dc:format>\n    <dc:creator>\n     <cc:Agent>\n      <dc:title>Matplotlib v3.6.0, https://matplotlib.org/</dc:title>\n     </cc:Agent>\n    </dc:creator>\n   </cc:Work>\n  </rdf:RDF>\n </metadata>\n <defs>\n  <style type=\"text/css\">*{stroke-linejoin: round; stroke-linecap: butt}</style>\n </defs>\n <g id=\"figure_1\">\n  <g id=\"patch_1\">\n   <path d=\"M 0 176.157812 \nL 685.335563 176.157812 \nL 685.335563 0 \nL 0 0 \nz\n\" style=\"fill: #ffffff\"/>\n  </g>\n  <g id=\"axes_1\">\n   <g clip-path=\"url(#p5c4c987192)\">\n    <image xlink:href=\"data:image/png;base64,\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\" id=\"imageeadb425a6b\" transform=\"scale(1 -1) translate(0 -96.48)\" x=\"7.2\" y=\"-29.381573\" width=\"96.48\" height=\"96.48\"/>\n   </g>\n   <g id=\"text_1\">\n    <!-- truck -->\n    <g style=\"fill: #262626\" transform=\"translate(39.908761 23.654677) scale(0.12 -0.12)\">\n     <defs>\n      <path id=\"DejaVuSans-74\" d=\"M 1172 4494 \nL 1172 3500 \nL 2356 3500 \nL 2356 3053 \nL 1172 3053 \nL 1172 1153 \nQ 1172 725 1289 603 \nQ 1406 481 1766 481 \nL 2356 481 \nL 2356 0 \nL 1766 0 \nQ 1100 0 847 248 \nQ 594 497 594 1153 \nL 594 3053 \nL 172 3053 \nL 172 3500 \nL 594 3500 \nL 594 4494 \nL 1172 4494 \nz\n\" transform=\"scale(0.015625)\"/>\n      <path id=\"DejaVuSans-72\" d=\"M 2631 2963 \nQ 2534 3019 2420 3045 \nQ 2306 3072 2169 3072 \nQ 1681 3072 1420 2755 \nQ 1159 2438 1159 1844 \nL 1159 0 \nL 581 0 \nL 581 3500 \nL 1159 3500 \nL 1159 2956 \nQ 1341 3275 1631 3429 \nQ 1922 3584 2338 3584 \nQ 2397 3584 2469 3576 \nQ 2541 3569 2628 3553 \nL 2631 2963 \nz\n\" transform=\"scale(0.015625)\"/>\n      <path id=\"DejaVuSans-75\" d=\"M 544 1381 \nL 544 3500 \nL 1119 3500 \nL 1119 1403 \nQ 1119 906 1312 657 \nQ 1506 409 1894 409 \nQ 2359 409 2629 706 \nQ 2900 1003 2900 1516 \nL 2900 3500 \nL 3475 3500 \nL 3475 0 \nL 2900 0 \nL 2900 538 \nQ 2691 219 2414 64 \nQ 2138 -91 1772 -91 \nQ 1169 -91 856 284 \nQ 544 659 544 1381 \nz\nM 1991 3584 \nL 1991 3584 \nz\n\" transform=\"scale(0.015625)\"/>\n      <path id=\"DejaVuSans-63\" d=\"M 3122 3366 \nL 3122 2828 \nQ 2878 2963 2633 3030 \nQ 2388 3097 2138 3097 \nQ 1578 3097 1268 2742 \nQ 959 2388 959 1747 \nQ 959 1106 1268 751 \nQ 1578 397 2138 397 \nQ 2388 397 2633 464 \nQ 2878 531 3122 666 \nL 3122 134 \nQ 2881 22 2623 -34 \nQ 2366 -91 2075 -91 \nQ 1284 -91 818 406 \nQ 353 903 353 1747 \nQ 353 2603 823 3093 \nQ 1294 3584 2113 3584 \nQ 2378 3584 2631 3529 \nQ 2884 3475 3122 3366 \nz\n\" transform=\"scale(0.015625)\"/>\n      <path id=\"DejaVuSans-6b\" d=\"M 581 4863 \nL 1159 4863 \nL 1159 1991 \nL 2875 3500 \nL 3609 3500 \nL 1753 1863 \nL 3688 0 \nL 2938 0 \nL 1159 1709 \nL 1159 0 \nL 581 0 \nL 581 4863 \nz\n\" transform=\"scale(0.015625)\"/>\n     </defs>\n     <use xlink:href=\"#DejaVuSans-74\"/>\n     <use xlink:href=\"#DejaVuSans-72\" x=\"39.208984\"/>\n     <use xlink:href=\"#DejaVuSans-75\" x=\"80.322266\"/>\n     <use xlink:href=\"#DejaVuSans-63\" x=\"143.701172\"/>\n     <use xlink:href=\"#DejaVuSans-6b\" x=\"198.681641\"/>\n    </g>\n   </g>\n  </g>\n  <g id=\"axes_2\">\n   <g clip-path=\"url(#pc667189507)\">\n    <image xlink:href=\"data:image/png;base64,\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\" id=\"image5fcf0d45a9\" transform=\"scale(1 -1) translate(0 -96.48)\" x=\"126.496552\" y=\"-29.381573\" width=\"96.48\" height=\"96.48\"/>\n   </g>\n   <g id=\"text_2\">\n    <!-- Adversarial -->\n    <g style=\"fill: #262626\" transform=\"translate(140.802188 23.654677) scale(0.12 -0.12)\">\n     <defs>\n      <path id=\"DejaVuSans-41\" d=\"M 2188 4044 \nL 1331 1722 \nL 3047 1722 \nL 2188 4044 \nz\nM 1831 4666 \nL 2547 4666 \nL 4325 0 \nL 3669 0 \nL 3244 1197 \nL 1141 1197 \nL 716 0 \nL 50 0 \nL 1831 4666 \nz\n\" transform=\"scale(0.015625)\"/>\n      <path id=\"DejaVuSans-64\" d=\"M 2906 2969 \nL 2906 4863 \nL 3481 4863 \nL 3481 0 \nL 2906 0 \nL 2906 525 \nQ 2725 213 2448 61 \nQ 2172 -91 1784 -91 \nQ 1150 -91 751 415 \nQ 353 922 353 1747 \nQ 353 2572 751 3078 \nQ 1150 3584 1784 3584 \nQ 2172 3584 2448 3432 \nQ 2725 3281 2906 2969 \nz\nM 947 1747 \nQ 947 1113 1208 752 \nQ 1469 391 1925 391 \nQ 2381 391 2643 752 \nQ 2906 1113 2906 1747 \nQ 2906 2381 2643 2742 \nQ 2381 3103 1925 3103 \nQ 1469 3103 1208 2742 \nQ 947 2381 947 1747 \nz\n\" transform=\"scale(0.015625)\"/>\n      <path id=\"DejaVuSans-76\" d=\"M 191 3500 \nL 800 3500 \nL 1894 563 \nL 2988 3500 \nL 3597 3500 \nL 2284 0 \nL 1503 0 \nL 191 3500 \nz\n\" transform=\"scale(0.015625)\"/>\n      <path id=\"DejaVuSans-65\" d=\"M 3597 1894 \nL 3597 1613 \nL 953 1613 \nQ 991 1019 1311 708 \nQ 1631 397 2203 397 \nQ 2534 397 2845 478 \nQ 3156 559 3463 722 \nL 3463 178 \nQ 3153 47 2828 -22 \nQ 2503 -91 2169 -91 \nQ 1331 -91 842 396 \nQ 353 884 353 1716 \nQ 353 2575 817 3079 \nQ 1281 3584 2069 3584 \nQ 2775 3584 3186 3129 \nQ 3597 2675 3597 1894 \nz\nM 3022 2063 \nQ 3016 2534 2758 2815 \nQ 2500 3097 2075 3097 \nQ 1594 3097 1305 2825 \nQ 1016 2553 972 2059 \nL 3022 2063 \nz\n\" transform=\"scale(0.015625)\"/>\n      <path id=\"DejaVuSans-73\" d=\"M 2834 3397 \nL 2834 2853 \nQ 2591 2978 2328 3040 \nQ 2066 3103 1784 3103 \nQ 1356 3103 1142 2972 \nQ 928 2841 928 2578 \nQ 928 2378 1081 2264 \nQ 1234 2150 1697 2047 \nL 1894 2003 \nQ 2506 1872 2764 1633 \nQ 3022 1394 3022 966 \nQ 3022 478 2636 193 \nQ 2250 -91 1575 -91 \nQ 1294 -91 989 -36 \nQ 684 19 347 128 \nL 347 722 \nQ 666 556 975 473 \nQ 1284 391 1588 391 \nQ 1994 391 2212 530 \nQ 2431 669 2431 922 \nQ 2431 1156 2273 1281 \nQ 2116 1406 1581 1522 \nL 1381 1569 \nQ 847 1681 609 1914 \nQ 372 2147 372 2553 \nQ 372 3047 722 3315 \nQ 1072 3584 1716 3584 \nQ 2034 3584 2315 3537 \nQ 2597 3491 2834 3397 \nz\n\" transform=\"scale(0.015625)\"/>\n      <path id=\"DejaVuSans-61\" d=\"M 2194 1759 \nQ 1497 1759 1228 1600 \nQ 959 1441 959 1056 \nQ 959 750 1161 570 \nQ 1363 391 1709 391 \nQ 2188 391 2477 730 \nQ 2766 1069 2766 1631 \nL 2766 1759 \nL 2194 1759 \nz\nM 3341 1997 \nL 3341 0 \nL 2766 0 \nL 2766 531 \nQ 2569 213 2275 61 \nQ 1981 -91 1556 -91 \nQ 1019 -91 701 211 \nQ 384 513 384 1019 \nQ 384 1609 779 1909 \nQ 1175 2209 1959 2209 \nL 2766 2209 \nL 2766 2266 \nQ 2766 2663 2505 2880 \nQ 2244 3097 1772 3097 \nQ 1472 3097 1187 3025 \nQ 903 2953 641 2809 \nL 641 3341 \nQ 956 3463 1253 3523 \nQ 1550 3584 1831 3584 \nQ 2591 3584 2966 3190 \nQ 3341 2797 3341 1997 \nz\n\" transform=\"scale(0.015625)\"/>\n      <path id=\"DejaVuSans-69\" d=\"M 603 3500 \nL 1178 3500 \nL 1178 0 \nL 603 0 \nL 603 3500 \nz\nM 603 4863 \nL 1178 4863 \nL 1178 4134 \nL 603 4134 \nL 603 4863 \nz\n\" transform=\"scale(0.015625)\"/>\n      <path id=\"DejaVuSans-6c\" d=\"M 603 4863 \nL 1178 4863 \nL 1178 0 \nL 603 0 \nL 603 4863 \nz\n\" transform=\"scale(0.015625)\"/>\n     </defs>\n     <use xlink:href=\"#DejaVuSans-41\"/>\n     <use xlink:href=\"#DejaVuSans-64\" x=\"66.658203\"/>\n     <use xlink:href=\"#DejaVuSans-76\" x=\"130.134766\"/>\n     <use xlink:href=\"#DejaVuSans-65\" x=\"189.314453\"/>\n     <use xlink:href=\"#DejaVuSans-72\" x=\"250.837891\"/>\n     <use xlink:href=\"#DejaVuSans-73\" x=\"291.951172\"/>\n     <use xlink:href=\"#DejaVuSans-61\" x=\"344.050781\"/>\n     <use xlink:href=\"#DejaVuSans-72\" x=\"405.330078\"/>\n     <use xlink:href=\"#DejaVuSans-69\" x=\"446.443359\"/>\n     <use xlink:href=\"#DejaVuSans-61\" x=\"474.226562\"/>\n     <use xlink:href=\"#DejaVuSans-6c\" x=\"535.505859\"/>\n    </g>\n   </g>\n  </g>\n  <g id=\"axes_3\">\n   <g clip-path=\"url(#p9eb71db42c)\">\n    <image xlink:href=\"data:image/png;base64,\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\" id=\"imagea16b60ea49\" transform=\"scale(1 -1) translate(0 -96.48)\" x=\"245.793103\" y=\"-29.381573\" width=\"96.48\" height=\"96.48\"/>\n   </g>\n   <g id=\"text_3\">\n    <!-- Noise -->\n    <g style=\"fill: #262626\" transform=\"translate(277.252177 23.654677) scale(0.12 -0.12)\">\n     <defs>\n      <path id=\"DejaVuSans-4e\" d=\"M 628 4666 \nL 1478 4666 \nL 3547 763 \nL 3547 4666 \nL 4159 4666 \nL 4159 0 \nL 3309 0 \nL 1241 3903 \nL 1241 0 \nL 628 0 \nL 628 4666 \nz\n\" transform=\"scale(0.015625)\"/>\n      <path id=\"DejaVuSans-6f\" d=\"M 1959 3097 \nQ 1497 3097 1228 2736 \nQ 959 2375 959 1747 \nQ 959 1119 1226 758 \nQ 1494 397 1959 397 \nQ 2419 397 2687 759 \nQ 2956 1122 2956 1747 \nQ 2956 2369 2687 2733 \nQ 2419 3097 1959 3097 \nz\nM 1959 3584 \nQ 2709 3584 3137 3096 \nQ 3566 2609 3566 1747 \nQ 3566 888 3137 398 \nQ 2709 -91 1959 -91 \nQ 1206 -91 779 398 \nQ 353 888 353 1747 \nQ 353 2609 779 3096 \nQ 1206 3584 1959 3584 \nz\n\" transform=\"scale(0.015625)\"/>\n     </defs>\n     <use xlink:href=\"#DejaVuSans-4e\"/>\n     <use xlink:href=\"#DejaVuSans-6f\" x=\"74.804688\"/>\n     <use xlink:href=\"#DejaVuSans-69\" x=\"135.986328\"/>\n     <use xlink:href=\"#DejaVuSans-73\" x=\"163.769531\"/>\n     <use xlink:href=\"#DejaVuSans-65\" x=\"215.869141\"/>\n    </g>\n   </g>\n  </g>\n  <g id=\"axes_4\"/>\n  <g id=\"axes_5\">\n   <g id=\"patch_2\">\n    <path d=\"M 484.386207 133.198125 \nL 676.8 133.198125 \nL 676.8 22.318125 \nL 484.386207 22.318125 \nz\n\" style=\"fill: #eaeaf2\"/>\n   </g>\n   <g id=\"matplotlib.axis_1\">\n    <g id=\"xtick_1\">\n     <g id=\"line2d_1\">\n      <path d=\"M 484.386207 133.198125 \nL 484.386207 22.318125 \n\" clip-path=\"url(#p0b4cce4e15)\" style=\"fill: none; stroke: #ffffff; stroke-linecap: round\"/>\n     </g>\n     <g id=\"text_4\">\n      <!-- 0 -->\n      <g style=\"fill: #262626\" transform=\"translate(480.886832 151.056406) scale(0.11 -0.11)\">\n       <defs>\n        <path id=\"DejaVuSans-30\" d=\"M 2034 4250 \nQ 1547 4250 1301 3770 \nQ 1056 3291 1056 2328 \nQ 1056 1369 1301 889 \nQ 1547 409 2034 409 \nQ 2525 409 2770 889 \nQ 3016 1369 3016 2328 \nQ 3016 3291 2770 3770 \nQ 2525 4250 2034 4250 \nz\nM 2034 4750 \nQ 2819 4750 3233 4129 \nQ 3647 3509 3647 2328 \nQ 3647 1150 3233 529 \nQ 2819 -91 2034 -91 \nQ 1250 -91 836 529 \nQ 422 1150 422 2328 \nQ 422 3509 836 4129 \nQ 1250 4750 2034 4750 \nz\n\" transform=\"scale(0.015625)\"/>\n       </defs>\n       <use xlink:href=\"#DejaVuSans-30\"/>\n      </g>\n     </g>\n    </g>\n    <g id=\"xtick_2\">\n     <g id=\"line2d_2\">\n      <path d=\"M 530.199015 133.198125 \nL 530.199015 22.318125 \n\" clip-path=\"url(#p0b4cce4e15)\" style=\"fill: none; stroke: #ffffff; stroke-linecap: round\"/>\n     </g>\n     <g id=\"text_5\">\n      <!-- 25 -->\n      <g style=\"fill: #262626\" transform=\"translate(523.200265 151.056406) scale(0.11 -0.11)\">\n       <defs>\n        <path id=\"DejaVuSans-32\" d=\"M 1228 531 \nL 3431 531 \nL 3431 0 \nL 469 0 \nL 469 531 \nQ 828 903 1448 1529 \nQ 2069 2156 2228 2338 \nQ 2531 2678 2651 2914 \nQ 2772 3150 2772 3378 \nQ 2772 3750 2511 3984 \nQ 2250 4219 1831 4219 \nQ 1534 4219 1204 4116 \nQ 875 4013 500 3803 \nL 500 4441 \nQ 881 4594 1212 4672 \nQ 1544 4750 1819 4750 \nQ 2544 4750 2975 4387 \nQ 3406 4025 3406 3419 \nQ 3406 3131 3298 2873 \nQ 3191 2616 2906 2266 \nQ 2828 2175 2409 1742 \nQ 1991 1309 1228 531 \nz\n\" transform=\"scale(0.015625)\"/>\n        <path id=\"DejaVuSans-35\" d=\"M 691 4666 \nL 3169 4666 \nL 3169 4134 \nL 1269 4134 \nL 1269 2991 \nQ 1406 3038 1543 3061 \nQ 1681 3084 1819 3084 \nQ 2600 3084 3056 2656 \nQ 3513 2228 3513 1497 \nQ 3513 744 3044 326 \nQ 2575 -91 1722 -91 \nQ 1428 -91 1123 -41 \nQ 819 9 494 109 \nL 494 744 \nQ 775 591 1075 516 \nQ 1375 441 1709 441 \nQ 2250 441 2565 725 \nQ 2881 1009 2881 1497 \nQ 2881 1984 2565 2268 \nQ 2250 2553 1709 2553 \nQ 1456 2553 1204 2497 \nQ 953 2441 691 2322 \nL 691 4666 \nz\n\" transform=\"scale(0.015625)\"/>\n       </defs>\n       <use xlink:href=\"#DejaVuSans-32\"/>\n       <use xlink:href=\"#DejaVuSans-35\" x=\"63.623047\"/>\n      </g>\n     </g>\n    </g>\n    <g id=\"xtick_3\">\n     <g id=\"line2d_3\">\n      <path d=\"M 576.011823 133.198125 \nL 576.011823 22.318125 \n\" clip-path=\"url(#p0b4cce4e15)\" style=\"fill: none; stroke: #ffffff; stroke-linecap: round\"/>\n     </g>\n     <g id=\"text_6\">\n      <!-- 50 -->\n      <g style=\"fill: #262626\" transform=\"translate(569.013073 151.056406) scale(0.11 -0.11)\">\n       <use xlink:href=\"#DejaVuSans-35\"/>\n       <use xlink:href=\"#DejaVuSans-30\" x=\"63.623047\"/>\n      </g>\n     </g>\n    </g>\n    <g id=\"xtick_4\">\n     <g id=\"line2d_4\">\n      <path d=\"M 621.824631 133.198125 \nL 621.824631 22.318125 \n\" clip-path=\"url(#p0b4cce4e15)\" style=\"fill: none; stroke: #ffffff; stroke-linecap: round\"/>\n     </g>\n     <g id=\"text_7\">\n      <!-- 75 -->\n      <g style=\"fill: #262626\" transform=\"translate(614.825881 151.056406) scale(0.11 -0.11)\">\n       <defs>\n        <path id=\"DejaVuSans-37\" d=\"M 525 4666 \nL 3525 4666 \nL 3525 4397 \nL 1831 0 \nL 1172 0 \nL 2766 4134 \nL 525 4134 \nL 525 4666 \nz\n\" transform=\"scale(0.015625)\"/>\n       </defs>\n       <use xlink:href=\"#DejaVuSans-37\"/>\n       <use xlink:href=\"#DejaVuSans-35\" x=\"63.623047\"/>\n      </g>\n     </g>\n    </g>\n    <g id=\"xtick_5\">\n     <g id=\"line2d_5\">\n      <path d=\"M 667.637438 133.198125 \nL 667.637438 22.318125 \n\" clip-path=\"url(#p0b4cce4e15)\" style=\"fill: none; stroke: #ffffff; stroke-linecap: round\"/>\n     </g>\n     <g id=\"text_8\">\n      <!-- 100 -->\n      <g style=\"fill: #262626\" transform=\"translate(657.139313 151.056406) scale(0.11 -0.11)\">\n       <defs>\n        <path id=\"DejaVuSans-31\" d=\"M 794 531 \nL 1825 531 \nL 1825 4091 \nL 703 3866 \nL 703 4441 \nL 1819 4666 \nL 2450 4666 \nL 2450 531 \nL 3481 531 \nL 3481 0 \nL 794 0 \nL 794 531 \nz\n\" transform=\"scale(0.015625)\"/>\n       </defs>\n       <use xlink:href=\"#DejaVuSans-31\"/>\n       <use xlink:href=\"#DejaVuSans-30\" x=\"63.623047\"/>\n       <use xlink:href=\"#DejaVuSans-30\" x=\"127.246094\"/>\n      </g>\n     </g>\n    </g>\n    <g id=\"text_9\">\n     <!-- Confidence -->\n     <g style=\"fill: #262626\" transform=\"translate(546.856228 166.462187) scale(0.12 -0.12)\">\n      <defs>\n       <path id=\"DejaVuSans-43\" d=\"M 4122 4306 \nL 4122 3641 \nQ 3803 3938 3442 4084 \nQ 3081 4231 2675 4231 \nQ 1875 4231 1450 3742 \nQ 1025 3253 1025 2328 \nQ 1025 1406 1450 917 \nQ 1875 428 2675 428 \nQ 3081 428 3442 575 \nQ 3803 722 4122 1019 \nL 4122 359 \nQ 3791 134 3420 21 \nQ 3050 -91 2638 -91 \nQ 1578 -91 968 557 \nQ 359 1206 359 2328 \nQ 359 3453 968 4101 \nQ 1578 4750 2638 4750 \nQ 3056 4750 3426 4639 \nQ 3797 4528 4122 4306 \nz\n\" transform=\"scale(0.015625)\"/>\n       <path id=\"DejaVuSans-6e\" d=\"M 3513 2113 \nL 3513 0 \nL 2938 0 \nL 2938 2094 \nQ 2938 2591 2744 2837 \nQ 2550 3084 2163 3084 \nQ 1697 3084 1428 2787 \nQ 1159 2491 1159 1978 \nL 1159 0 \nL 581 0 \nL 581 3500 \nL 1159 3500 \nL 1159 2956 \nQ 1366 3272 1645 3428 \nQ 1925 3584 2291 3584 \nQ 2894 3584 3203 3211 \nQ 3513 2838 3513 2113 \nz\n\" transform=\"scale(0.015625)\"/>\n       <path id=\"DejaVuSans-66\" d=\"M 2375 4863 \nL 2375 4384 \nL 1825 4384 \nQ 1516 4384 1395 4259 \nQ 1275 4134 1275 3809 \nL 1275 3500 \nL 2222 3500 \nL 2222 3053 \nL 1275 3053 \nL 1275 0 \nL 697 0 \nL 697 3053 \nL 147 3053 \nL 147 3500 \nL 697 3500 \nL 697 3744 \nQ 697 4328 969 4595 \nQ 1241 4863 1831 4863 \nL 2375 4863 \nz\n\" transform=\"scale(0.015625)\"/>\n      </defs>\n      <use xlink:href=\"#DejaVuSans-43\"/>\n      <use xlink:href=\"#DejaVuSans-6f\" x=\"69.824219\"/>\n      <use xlink:href=\"#DejaVuSans-6e\" x=\"131.005859\"/>\n      <use xlink:href=\"#DejaVuSans-66\" x=\"194.384766\"/>\n      <use xlink:href=\"#DejaVuSans-69\" x=\"229.589844\"/>\n      <use xlink:href=\"#DejaVuSans-64\" x=\"257.373047\"/>\n      <use xlink:href=\"#DejaVuSans-65\" x=\"320.849609\"/>\n      <use xlink:href=\"#DejaVuSans-6e\" x=\"382.373047\"/>\n      <use xlink:href=\"#DejaVuSans-63\" x=\"445.751953\"/>\n      <use xlink:href=\"#DejaVuSans-65\" x=\"500.732422\"/>\n     </g>\n    </g>\n   </g>\n   <g id=\"matplotlib.axis_2\">\n    <g id=\"ytick_1\">\n     <g id=\"line2d_6\">\n      <path d=\"M 484.386207 49.758125 \nL 676.8 49.758125 \n\" clip-path=\"url(#p0b4cce4e15)\" style=\"fill: none; stroke: #ffffff; stroke-linecap: round\"/>\n     </g>\n     <g id=\"text_10\">\n      <!-- truck -->\n      <g style=\"fill: #262626\" transform=\"translate(446.662613 53.937266) scale(0.11 -0.11)\">\n       <use xlink:href=\"#DejaVuSans-74\"/>\n       <use xlink:href=\"#DejaVuSans-72\" x=\"39.208984\"/>\n       <use xlink:href=\"#DejaVuSans-75\" x=\"80.322266\"/>\n       <use xlink:href=\"#DejaVuSans-63\" x=\"143.701172\"/>\n       <use xlink:href=\"#DejaVuSans-6b\" x=\"198.681641\"/>\n      </g>\n     </g>\n    </g>\n    <g id=\"ytick_2\">\n     <g id=\"line2d_7\">\n      <path d=\"M 484.386207 105.758125 \nL 676.8 105.758125 \n\" clip-path=\"url(#p0b4cce4e15)\" style=\"fill: none; stroke: #ffffff; stroke-linecap: round\"/>\n     </g>\n     <g id=\"text_11\">\n      <!-- automobile -->\n      <g style=\"fill: #262626\" transform=\"translate(412.822144 109.937266) scale(0.11 -0.11)\">\n       <defs>\n        <path id=\"DejaVuSans-6d\" d=\"M 3328 2828 \nQ 3544 3216 3844 3400 \nQ 4144 3584 4550 3584 \nQ 5097 3584 5394 3201 \nQ 5691 2819 5691 2113 \nL 5691 0 \nL 5113 0 \nL 5113 2094 \nQ 5113 2597 4934 2840 \nQ 4756 3084 4391 3084 \nQ 3944 3084 3684 2787 \nQ 3425 2491 3425 1978 \nL 3425 0 \nL 2847 0 \nL 2847 2094 \nQ 2847 2600 2669 2842 \nQ 2491 3084 2119 3084 \nQ 1678 3084 1418 2786 \nQ 1159 2488 1159 1978 \nL 1159 0 \nL 581 0 \nL 581 3500 \nL 1159 3500 \nL 1159 2956 \nQ 1356 3278 1631 3431 \nQ 1906 3584 2284 3584 \nQ 2666 3584 2933 3390 \nQ 3200 3197 3328 2828 \nz\n\" transform=\"scale(0.015625)\"/>\n        <path id=\"DejaVuSans-62\" d=\"M 3116 1747 \nQ 3116 2381 2855 2742 \nQ 2594 3103 2138 3103 \nQ 1681 3103 1420 2742 \nQ 1159 2381 1159 1747 \nQ 1159 1113 1420 752 \nQ 1681 391 2138 391 \nQ 2594 391 2855 752 \nQ 3116 1113 3116 1747 \nz\nM 1159 2969 \nQ 1341 3281 1617 3432 \nQ 1894 3584 2278 3584 \nQ 2916 3584 3314 3078 \nQ 3713 2572 3713 1747 \nQ 3713 922 3314 415 \nQ 2916 -91 2278 -91 \nQ 1894 -91 1617 61 \nQ 1341 213 1159 525 \nL 1159 0 \nL 581 0 \nL 581 4863 \nL 1159 4863 \nL 1159 2969 \nz\n\" transform=\"scale(0.015625)\"/>\n       </defs>\n       <use xlink:href=\"#DejaVuSans-61\"/>\n       <use xlink:href=\"#DejaVuSans-75\" x=\"61.279297\"/>\n       <use xlink:href=\"#DejaVuSans-74\" x=\"124.658203\"/>\n       <use xlink:href=\"#DejaVuSans-6f\" x=\"163.867188\"/>\n       <use xlink:href=\"#DejaVuSans-6d\" x=\"225.048828\"/>\n       <use xlink:href=\"#DejaVuSans-6f\" x=\"322.460938\"/>\n       <use xlink:href=\"#DejaVuSans-62\" x=\"383.642578\"/>\n       <use xlink:href=\"#DejaVuSans-69\" x=\"447.119141\"/>\n       <use xlink:href=\"#DejaVuSans-6c\" x=\"474.902344\"/>\n       <use xlink:href=\"#DejaVuSans-65\" x=\"502.685547\"/>\n      </g>\n     </g>\n    </g>\n   </g>\n   <g id=\"patch_3\">\n    <path d=\"M 484.386207 27.358125 \nL 667.637438 27.358125 \nL 667.637438 72.158125 \nL 484.386207 72.158125 \nz\n\" clip-path=\"url(#p0b4cce4e15)\" style=\"fill: #55a868; stroke: #ffffff; stroke-linejoin: miter\"/>\n   </g>\n   <g id=\"patch_4\">\n    <path d=\"M 484.386207 83.358125 \nL 484.386212 83.358125 \nL 484.386212 128.158125 \nL 484.386207 128.158125 \nz\n\" clip-path=\"url(#p0b4cce4e15)\" style=\"fill: #4c72b0; stroke: #ffffff; stroke-linejoin: miter\"/>\n   </g>\n   <g id=\"patch_5\">\n    <path d=\"M 484.386207 133.198125 \nL 484.386207 22.318125 \n\" style=\"fill: none; stroke: #ffffff; stroke-width: 1.25; stroke-linejoin: miter; stroke-linecap: square\"/>\n   </g>\n   <g id=\"patch_6\">\n    <path d=\"M 676.8 133.198125 \nL 676.8 22.318125 \n\" style=\"fill: none; stroke: #ffffff; stroke-width: 1.25; stroke-linejoin: miter; stroke-linecap: square\"/>\n   </g>\n   <g id=\"patch_7\">\n    <path d=\"M 484.386207 133.198125 \nL 676.8 133.198125 \n\" style=\"fill: none; stroke: #ffffff; stroke-width: 1.25; stroke-linejoin: miter; stroke-linecap: square\"/>\n   </g>\n   <g id=\"patch_8\">\n    <path d=\"M 484.386207 22.318125 \nL 676.8 22.318125 \n\" style=\"fill: none; stroke: #ffffff; stroke-width: 1.25; stroke-linejoin: miter; stroke-linecap: square\"/>\n   </g>\n   <g id=\"text_12\">\n    <!-- Predictions -->\n    <g style=\"fill: #262626\" transform=\"translate(547.663416 16.318125) scale(0.12 -0.12)\">\n     <defs>\n      <path id=\"DejaVuSans-50\" d=\"M 1259 4147 \nL 1259 2394 \nL 2053 2394 \nQ 2494 2394 2734 2622 \nQ 2975 2850 2975 3272 \nQ 2975 3691 2734 3919 \nQ 2494 4147 2053 4147 \nL 1259 4147 \nz\nM 628 4666 \nL 2053 4666 \nQ 2838 4666 3239 4311 \nQ 3641 3956 3641 3272 \nQ 3641 2581 3239 2228 \nQ 2838 1875 2053 1875 \nL 1259 1875 \nL 1259 0 \nL 628 0 \nL 628 4666 \nz\n\" transform=\"scale(0.015625)\"/>\n     </defs>\n     <use xlink:href=\"#DejaVuSans-50\"/>\n     <use xlink:href=\"#DejaVuSans-72\" x=\"58.552734\"/>\n     <use xlink:href=\"#DejaVuSans-65\" x=\"97.416016\"/>\n     <use xlink:href=\"#DejaVuSans-64\" x=\"158.939453\"/>\n     <use xlink:href=\"#DejaVuSans-69\" x=\"222.416016\"/>\n     <use xlink:href=\"#DejaVuSans-63\" x=\"250.199219\"/>\n     <use xlink:href=\"#DejaVuSans-74\" x=\"305.179688\"/>\n     <use xlink:href=\"#DejaVuSans-69\" x=\"344.388672\"/>\n     <use xlink:href=\"#DejaVuSans-6f\" x=\"372.171875\"/>\n     <use xlink:href=\"#DejaVuSans-6e\" x=\"433.353516\"/>\n     <use xlink:href=\"#DejaVuSans-73\" x=\"496.732422\"/>\n    </g>\n   </g>\n  </g>\n </g>\n <defs>\n  <clipPath id=\"p5c4c987192\">\n   <rect x=\"7.2\" y=\"29.654677\" width=\"96.206897\" height=\"96.206897\"/>\n  </clipPath>\n  <clipPath id=\"pc667189507\">\n   <rect x=\"126.496552\" y=\"29.654677\" width=\"96.206897\" height=\"96.206897\"/>\n  </clipPath>\n  <clipPath id=\"p9eb71db42c\">\n   <rect x=\"245.793103\" y=\"29.654677\" width=\"96.206897\" height=\"96.206897\"/>\n  </clipPath>\n  <clipPath id=\"p0b4cce4e15\">\n   <rect x=\"484.386207\" y=\"22.318125\" width=\"192.413793\" height=\"110.88\"/>\n  </clipPath>\n </defs>\n</svg>\n",
            "text/plain": [
              "<Figure size 1200x200 with 5 Axes>"
            ]
          },
          "metadata": {},
          "output_type": "display_data"
        },
        {
          "name": "stdout",
          "output_type": "stream",
          "text": [
            "tensor([2, 6], device='cuda:0')\n"
          ]
        },
        {
          "data": {
            "application/pdf": "[encoded data removed]",
            "image/svg+xml": "<?xml version=\"1.0\" encoding=\"utf-8\" standalone=\"no\"?>\n<!DOCTYPE svg PUBLIC \"-//W3C//DTD SVG 1.1//EN\"\n  \"http://www.w3.org/Graphics/SVG/1.1/DTD/svg11.dtd\">\n<svg xmlns:xlink=\"http://www.w3.org/1999/xlink\" width=\"685.335647pt\" height=\"176.157812pt\" viewBox=\"0 0 685.335647 176.157812\" xmlns=\"http://www.w3.org/2000/svg\" version=\"1.1\">\n <metadata>\n  <rdf:RDF xmlns:dc=\"http://purl.org/dc/elements/1.1/\" xmlns:cc=\"http://creativecommons.org/ns#\" xmlns:rdf=\"http://www.w3.org/1999/02/22-rdf-syntax-ns#\">\n   <cc:Work>\n    <dc:type rdf:resource=\"http://purl.org/dc/dcmitype/StillImage\"/>\n    <dc:date>2022-12-12T06:35:28.516794</dc:date>\n    <dc:format>image/svg+xml</dc:format>\n    <dc:creator>\n     <cc:Agent>\n      <dc:title>Matplotlib v3.6.0, https://matplotlib.org/</dc:title>\n     </cc:Agent>\n    </dc:creator>\n   </cc:Work>\n  </rdf:RDF>\n </metadata>\n <defs>\n  <style type=\"text/css\">*{stroke-linejoin: round; stroke-linecap: butt}</style>\n </defs>\n <g id=\"figure_1\">\n  <g id=\"patch_1\">\n   <path d=\"M 0 176.157812 \nL 685.335647 176.157812 \nL 685.335647 0 \nL 0 0 \nz\n\" style=\"fill: #ffffff\"/>\n  </g>\n  <g id=\"axes_1\">\n   <g clip-path=\"url(#p7f30d167de)\">\n    <image xlink:href=\"data:image/png;base64,\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\" id=\"image58b0430f5f\" transform=\"scale(1 -1) translate(0 -96.48)\" x=\"7.2\" y=\"-29.381573\" width=\"96.48\" height=\"96.48\"/>\n   </g>\n   <g id=\"text_1\">\n    <!-- bird -->\n    <g style=\"fill: #262626\" transform=\"translate(43.656886 23.654677) scale(0.12 -0.12)\">\n     <defs>\n      <path id=\"DejaVuSans-62\" d=\"M 3116 1747 \nQ 3116 2381 2855 2742 \nQ 2594 3103 2138 3103 \nQ 1681 3103 1420 2742 \nQ 1159 2381 1159 1747 \nQ 1159 1113 1420 752 \nQ 1681 391 2138 391 \nQ 2594 391 2855 752 \nQ 3116 1113 3116 1747 \nz\nM 1159 2969 \nQ 1341 3281 1617 3432 \nQ 1894 3584 2278 3584 \nQ 2916 3584 3314 3078 \nQ 3713 2572 3713 1747 \nQ 3713 922 3314 415 \nQ 2916 -91 2278 -91 \nQ 1894 -91 1617 61 \nQ 1341 213 1159 525 \nL 1159 0 \nL 581 0 \nL 581 4863 \nL 1159 4863 \nL 1159 2969 \nz\n\" transform=\"scale(0.015625)\"/>\n      <path id=\"DejaVuSans-69\" d=\"M 603 3500 \nL 1178 3500 \nL 1178 0 \nL 603 0 \nL 603 3500 \nz\nM 603 4863 \nL 1178 4863 \nL 1178 4134 \nL 603 4134 \nL 603 4863 \nz\n\" transform=\"scale(0.015625)\"/>\n      <path id=\"DejaVuSans-72\" d=\"M 2631 2963 \nQ 2534 3019 2420 3045 \nQ 2306 3072 2169 3072 \nQ 1681 3072 1420 2755 \nQ 1159 2438 1159 1844 \nL 1159 0 \nL 581 0 \nL 581 3500 \nL 1159 3500 \nL 1159 2956 \nQ 1341 3275 1631 3429 \nQ 1922 3584 2338 3584 \nQ 2397 3584 2469 3576 \nQ 2541 3569 2628 3553 \nL 2631 2963 \nz\n\" transform=\"scale(0.015625)\"/>\n      <path id=\"DejaVuSans-64\" d=\"M 2906 2969 \nL 2906 4863 \nL 3481 4863 \nL 3481 0 \nL 2906 0 \nL 2906 525 \nQ 2725 213 2448 61 \nQ 2172 -91 1784 -91 \nQ 1150 -91 751 415 \nQ 353 922 353 1747 \nQ 353 2572 751 3078 \nQ 1150 3584 1784 3584 \nQ 2172 3584 2448 3432 \nQ 2725 3281 2906 2969 \nz\nM 947 1747 \nQ 947 1113 1208 752 \nQ 1469 391 1925 391 \nQ 2381 391 2643 752 \nQ 2906 1113 2906 1747 \nQ 2906 2381 2643 2742 \nQ 2381 3103 1925 3103 \nQ 1469 3103 1208 2742 \nQ 947 2381 947 1747 \nz\n\" transform=\"scale(0.015625)\"/>\n     </defs>\n     <use xlink:href=\"#DejaVuSans-62\"/>\n     <use xlink:href=\"#DejaVuSans-69\" x=\"63.476562\"/>\n     <use xlink:href=\"#DejaVuSans-72\" x=\"91.259766\"/>\n     <use xlink:href=\"#DejaVuSans-64\" x=\"130.623047\"/>\n    </g>\n   </g>\n  </g>\n  <g id=\"axes_2\">\n   <g clip-path=\"url(#p65518f0915)\">\n    <image xlink:href=\"data:image/png;base64,\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\" id=\"imagea02a953fd0\" transform=\"scale(1 -1) translate(0 -96.48)\" x=\"126.496552\" y=\"-29.381573\" width=\"96.48\" height=\"96.48\"/>\n   </g>\n   <g id=\"text_2\">\n    <!-- Adversarial -->\n    <g style=\"fill: #262626\" transform=\"translate(140.802188 23.654677) scale(0.12 -0.12)\">\n     <defs>\n      <path id=\"DejaVuSans-41\" d=\"M 2188 4044 \nL 1331 1722 \nL 3047 1722 \nL 2188 4044 \nz\nM 1831 4666 \nL 2547 4666 \nL 4325 0 \nL 3669 0 \nL 3244 1197 \nL 1141 1197 \nL 716 0 \nL 50 0 \nL 1831 4666 \nz\n\" transform=\"scale(0.015625)\"/>\n      <path id=\"DejaVuSans-76\" d=\"M 191 3500 \nL 800 3500 \nL 1894 563 \nL 2988 3500 \nL 3597 3500 \nL 2284 0 \nL 1503 0 \nL 191 3500 \nz\n\" transform=\"scale(0.015625)\"/>\n      <path id=\"DejaVuSans-65\" d=\"M 3597 1894 \nL 3597 1613 \nL 953 1613 \nQ 991 1019 1311 708 \nQ 1631 397 2203 397 \nQ 2534 397 2845 478 \nQ 3156 559 3463 722 \nL 3463 178 \nQ 3153 47 2828 -22 \nQ 2503 -91 2169 -91 \nQ 1331 -91 842 396 \nQ 353 884 353 1716 \nQ 353 2575 817 3079 \nQ 1281 3584 2069 3584 \nQ 2775 3584 3186 3129 \nQ 3597 2675 3597 1894 \nz\nM 3022 2063 \nQ 3016 2534 2758 2815 \nQ 2500 3097 2075 3097 \nQ 1594 3097 1305 2825 \nQ 1016 2553 972 2059 \nL 3022 2063 \nz\n\" transform=\"scale(0.015625)\"/>\n      <path id=\"DejaVuSans-73\" d=\"M 2834 3397 \nL 2834 2853 \nQ 2591 2978 2328 3040 \nQ 2066 3103 1784 3103 \nQ 1356 3103 1142 2972 \nQ 928 2841 928 2578 \nQ 928 2378 1081 2264 \nQ 1234 2150 1697 2047 \nL 1894 2003 \nQ 2506 1872 2764 1633 \nQ 3022 1394 3022 966 \nQ 3022 478 2636 193 \nQ 2250 -91 1575 -91 \nQ 1294 -91 989 -36 \nQ 684 19 347 128 \nL 347 722 \nQ 666 556 975 473 \nQ 1284 391 1588 391 \nQ 1994 391 2212 530 \nQ 2431 669 2431 922 \nQ 2431 1156 2273 1281 \nQ 2116 1406 1581 1522 \nL 1381 1569 \nQ 847 1681 609 1914 \nQ 372 2147 372 2553 \nQ 372 3047 722 3315 \nQ 1072 3584 1716 3584 \nQ 2034 3584 2315 3537 \nQ 2597 3491 2834 3397 \nz\n\" transform=\"scale(0.015625)\"/>\n      <path id=\"DejaVuSans-61\" d=\"M 2194 1759 \nQ 1497 1759 1228 1600 \nQ 959 1441 959 1056 \nQ 959 750 1161 570 \nQ 1363 391 1709 391 \nQ 2188 391 2477 730 \nQ 2766 1069 2766 1631 \nL 2766 1759 \nL 2194 1759 \nz\nM 3341 1997 \nL 3341 0 \nL 2766 0 \nL 2766 531 \nQ 2569 213 2275 61 \nQ 1981 -91 1556 -91 \nQ 1019 -91 701 211 \nQ 384 513 384 1019 \nQ 384 1609 779 1909 \nQ 1175 2209 1959 2209 \nL 2766 2209 \nL 2766 2266 \nQ 2766 2663 2505 2880 \nQ 2244 3097 1772 3097 \nQ 1472 3097 1187 3025 \nQ 903 2953 641 2809 \nL 641 3341 \nQ 956 3463 1253 3523 \nQ 1550 3584 1831 3584 \nQ 2591 3584 2966 3190 \nQ 3341 2797 3341 1997 \nz\n\" transform=\"scale(0.015625)\"/>\n      <path id=\"DejaVuSans-6c\" d=\"M 603 4863 \nL 1178 4863 \nL 1178 0 \nL 603 0 \nL 603 4863 \nz\n\" transform=\"scale(0.015625)\"/>\n     </defs>\n     <use xlink:href=\"#DejaVuSans-41\"/>\n     <use xlink:href=\"#DejaVuSans-64\" x=\"66.658203\"/>\n     <use xlink:href=\"#DejaVuSans-76\" x=\"130.134766\"/>\n     <use xlink:href=\"#DejaVuSans-65\" x=\"189.314453\"/>\n     <use xlink:href=\"#DejaVuSans-72\" x=\"250.837891\"/>\n     <use xlink:href=\"#DejaVuSans-73\" x=\"291.951172\"/>\n     <use xlink:href=\"#DejaVuSans-61\" x=\"344.050781\"/>\n     <use xlink:href=\"#DejaVuSans-72\" x=\"405.330078\"/>\n     <use xlink:href=\"#DejaVuSans-69\" x=\"446.443359\"/>\n     <use xlink:href=\"#DejaVuSans-61\" x=\"474.226562\"/>\n     <use xlink:href=\"#DejaVuSans-6c\" x=\"535.505859\"/>\n    </g>\n   </g>\n  </g>\n  <g id=\"axes_3\">\n   <g clip-path=\"url(#p0b3799e8d5)\">\n    <image xlink:href=\"data:image/png;base64,\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\" id=\"imagee3a865e5a2\" transform=\"scale(1 -1) translate(0 -96.48)\" x=\"245.793103\" y=\"-29.381573\" width=\"96.48\" height=\"96.48\"/>\n   </g>\n   <g id=\"text_3\">\n    <!-- Noise -->\n    <g style=\"fill: #262626\" transform=\"translate(277.252177 23.654677) scale(0.12 -0.12)\">\n     <defs>\n      <path id=\"DejaVuSans-4e\" d=\"M 628 4666 \nL 1478 4666 \nL 3547 763 \nL 3547 4666 \nL 4159 4666 \nL 4159 0 \nL 3309 0 \nL 1241 3903 \nL 1241 0 \nL 628 0 \nL 628 4666 \nz\n\" transform=\"scale(0.015625)\"/>\n      <path id=\"DejaVuSans-6f\" d=\"M 1959 3097 \nQ 1497 3097 1228 2736 \nQ 959 2375 959 1747 \nQ 959 1119 1226 758 \nQ 1494 397 1959 397 \nQ 2419 397 2687 759 \nQ 2956 1122 2956 1747 \nQ 2956 2369 2687 2733 \nQ 2419 3097 1959 3097 \nz\nM 1959 3584 \nQ 2709 3584 3137 3096 \nQ 3566 2609 3566 1747 \nQ 3566 888 3137 398 \nQ 2709 -91 1959 -91 \nQ 1206 -91 779 398 \nQ 353 888 353 1747 \nQ 353 2609 779 3096 \nQ 1206 3584 1959 3584 \nz\n\" transform=\"scale(0.015625)\"/>\n     </defs>\n     <use xlink:href=\"#DejaVuSans-4e\"/>\n     <use xlink:href=\"#DejaVuSans-6f\" x=\"74.804688\"/>\n     <use xlink:href=\"#DejaVuSans-69\" x=\"135.986328\"/>\n     <use xlink:href=\"#DejaVuSans-73\" x=\"163.769531\"/>\n     <use xlink:href=\"#DejaVuSans-65\" x=\"215.869141\"/>\n    </g>\n   </g>\n  </g>\n  <g id=\"axes_4\"/>\n  <g id=\"axes_5\">\n   <g id=\"patch_2\">\n    <path d=\"M 484.386207 133.198125 \nL 676.8 133.198125 \nL 676.8 22.318125 \nL 484.386207 22.318125 \nz\n\" style=\"fill: #eaeaf2\"/>\n   </g>\n   <g id=\"matplotlib.axis_1\">\n    <g id=\"xtick_1\">\n     <g id=\"line2d_1\">\n      <path d=\"M 484.386207 133.198125 \nL 484.386207 22.318125 \n\" clip-path=\"url(#pd5d2e141fc)\" style=\"fill: none; stroke: #ffffff; stroke-linecap: round\"/>\n     </g>\n     <g id=\"text_4\">\n      <!-- 0 -->\n      <g style=\"fill: #262626\" transform=\"translate(480.886832 151.056406) scale(0.11 -0.11)\">\n       <defs>\n        <path id=\"DejaVuSans-30\" d=\"M 2034 4250 \nQ 1547 4250 1301 3770 \nQ 1056 3291 1056 2328 \nQ 1056 1369 1301 889 \nQ 1547 409 2034 409 \nQ 2525 409 2770 889 \nQ 3016 1369 3016 2328 \nQ 3016 3291 2770 3770 \nQ 2525 4250 2034 4250 \nz\nM 2034 4750 \nQ 2819 4750 3233 4129 \nQ 3647 3509 3647 2328 \nQ 3647 1150 3233 529 \nQ 2819 -91 2034 -91 \nQ 1250 -91 836 529 \nQ 422 1150 422 2328 \nQ 422 3509 836 4129 \nQ 1250 4750 2034 4750 \nz\n\" transform=\"scale(0.015625)\"/>\n       </defs>\n       <use xlink:href=\"#DejaVuSans-30\"/>\n      </g>\n     </g>\n    </g>\n    <g id=\"xtick_2\">\n     <g id=\"line2d_2\">\n      <path d=\"M 530.199036 133.198125 \nL 530.199036 22.318125 \n\" clip-path=\"url(#pd5d2e141fc)\" style=\"fill: none; stroke: #ffffff; stroke-linecap: round\"/>\n     </g>\n     <g id=\"text_5\">\n      <!-- 25 -->\n      <g style=\"fill: #262626\" transform=\"translate(523.200286 151.056406) scale(0.11 -0.11)\">\n       <defs>\n        <path id=\"DejaVuSans-32\" d=\"M 1228 531 \nL 3431 531 \nL 3431 0 \nL 469 0 \nL 469 531 \nQ 828 903 1448 1529 \nQ 2069 2156 2228 2338 \nQ 2531 2678 2651 2914 \nQ 2772 3150 2772 3378 \nQ 2772 3750 2511 3984 \nQ 2250 4219 1831 4219 \nQ 1534 4219 1204 4116 \nQ 875 4013 500 3803 \nL 500 4441 \nQ 881 4594 1212 4672 \nQ 1544 4750 1819 4750 \nQ 2544 4750 2975 4387 \nQ 3406 4025 3406 3419 \nQ 3406 3131 3298 2873 \nQ 3191 2616 2906 2266 \nQ 2828 2175 2409 1742 \nQ 1991 1309 1228 531 \nz\n\" transform=\"scale(0.015625)\"/>\n        <path id=\"DejaVuSans-35\" d=\"M 691 4666 \nL 3169 4666 \nL 3169 4134 \nL 1269 4134 \nL 1269 2991 \nQ 1406 3038 1543 3061 \nQ 1681 3084 1819 3084 \nQ 2600 3084 3056 2656 \nQ 3513 2228 3513 1497 \nQ 3513 744 3044 326 \nQ 2575 -91 1722 -91 \nQ 1428 -91 1123 -41 \nQ 819 9 494 109 \nL 494 744 \nQ 775 591 1075 516 \nQ 1375 441 1709 441 \nQ 2250 441 2565 725 \nQ 2881 1009 2881 1497 \nQ 2881 1984 2565 2268 \nQ 2250 2553 1709 2553 \nQ 1456 2553 1204 2497 \nQ 953 2441 691 2322 \nL 691 4666 \nz\n\" transform=\"scale(0.015625)\"/>\n       </defs>\n       <use xlink:href=\"#DejaVuSans-32\"/>\n       <use xlink:href=\"#DejaVuSans-35\" x=\"63.623047\"/>\n      </g>\n     </g>\n    </g>\n    <g id=\"xtick_3\">\n     <g id=\"line2d_3\">\n      <path d=\"M 576.011865 133.198125 \nL 576.011865 22.318125 \n\" clip-path=\"url(#pd5d2e141fc)\" style=\"fill: none; stroke: #ffffff; stroke-linecap: round\"/>\n     </g>\n     <g id=\"text_6\">\n      <!-- 50 -->\n      <g style=\"fill: #262626\" transform=\"translate(569.013115 151.056406) scale(0.11 -0.11)\">\n       <use xlink:href=\"#DejaVuSans-35\"/>\n       <use xlink:href=\"#DejaVuSans-30\" x=\"63.623047\"/>\n      </g>\n     </g>\n    </g>\n    <g id=\"xtick_4\">\n     <g id=\"line2d_4\">\n      <path d=\"M 621.824693 133.198125 \nL 621.824693 22.318125 \n\" clip-path=\"url(#pd5d2e141fc)\" style=\"fill: none; stroke: #ffffff; stroke-linecap: round\"/>\n     </g>\n     <g id=\"text_7\">\n      <!-- 75 -->\n      <g style=\"fill: #262626\" transform=\"translate(614.825943 151.056406) scale(0.11 -0.11)\">\n       <defs>\n        <path id=\"DejaVuSans-37\" d=\"M 525 4666 \nL 3525 4666 \nL 3525 4397 \nL 1831 0 \nL 1172 0 \nL 2766 4134 \nL 525 4134 \nL 525 4666 \nz\n\" transform=\"scale(0.015625)\"/>\n       </defs>\n       <use xlink:href=\"#DejaVuSans-37\"/>\n       <use xlink:href=\"#DejaVuSans-35\" x=\"63.623047\"/>\n      </g>\n     </g>\n    </g>\n    <g id=\"xtick_5\">\n     <g id=\"line2d_5\">\n      <path d=\"M 667.637522 133.198125 \nL 667.637522 22.318125 \n\" clip-path=\"url(#pd5d2e141fc)\" style=\"fill: none; stroke: #ffffff; stroke-linecap: round\"/>\n     </g>\n     <g id=\"text_8\">\n      <!-- 100 -->\n      <g style=\"fill: #262626\" transform=\"translate(657.139397 151.056406) scale(0.11 -0.11)\">\n       <defs>\n        <path id=\"DejaVuSans-31\" d=\"M 794 531 \nL 1825 531 \nL 1825 4091 \nL 703 3866 \nL 703 4441 \nL 1819 4666 \nL 2450 4666 \nL 2450 531 \nL 3481 531 \nL 3481 0 \nL 794 0 \nL 794 531 \nz\n\" transform=\"scale(0.015625)\"/>\n       </defs>\n       <use xlink:href=\"#DejaVuSans-31\"/>\n       <use xlink:href=\"#DejaVuSans-30\" x=\"63.623047\"/>\n       <use xlink:href=\"#DejaVuSans-30\" x=\"127.246094\"/>\n      </g>\n     </g>\n    </g>\n    <g id=\"text_9\">\n     <!-- Confidence -->\n     <g style=\"fill: #262626\" transform=\"translate(546.856228 166.462187) scale(0.12 -0.12)\">\n      <defs>\n       <path id=\"DejaVuSans-43\" d=\"M 4122 4306 \nL 4122 3641 \nQ 3803 3938 3442 4084 \nQ 3081 4231 2675 4231 \nQ 1875 4231 1450 3742 \nQ 1025 3253 1025 2328 \nQ 1025 1406 1450 917 \nQ 1875 428 2675 428 \nQ 3081 428 3442 575 \nQ 3803 722 4122 1019 \nL 4122 359 \nQ 3791 134 3420 21 \nQ 3050 -91 2638 -91 \nQ 1578 -91 968 557 \nQ 359 1206 359 2328 \nQ 359 3453 968 4101 \nQ 1578 4750 2638 4750 \nQ 3056 4750 3426 4639 \nQ 3797 4528 4122 4306 \nz\n\" transform=\"scale(0.015625)\"/>\n       <path id=\"DejaVuSans-6e\" d=\"M 3513 2113 \nL 3513 0 \nL 2938 0 \nL 2938 2094 \nQ 2938 2591 2744 2837 \nQ 2550 3084 2163 3084 \nQ 1697 3084 1428 2787 \nQ 1159 2491 1159 1978 \nL 1159 0 \nL 581 0 \nL 581 3500 \nL 1159 3500 \nL 1159 2956 \nQ 1366 3272 1645 3428 \nQ 1925 3584 2291 3584 \nQ 2894 3584 3203 3211 \nQ 3513 2838 3513 2113 \nz\n\" transform=\"scale(0.015625)\"/>\n       <path id=\"DejaVuSans-66\" d=\"M 2375 4863 \nL 2375 4384 \nL 1825 4384 \nQ 1516 4384 1395 4259 \nQ 1275 4134 1275 3809 \nL 1275 3500 \nL 2222 3500 \nL 2222 3053 \nL 1275 3053 \nL 1275 0 \nL 697 0 \nL 697 3053 \nL 147 3053 \nL 147 3500 \nL 697 3500 \nL 697 3744 \nQ 697 4328 969 4595 \nQ 1241 4863 1831 4863 \nL 2375 4863 \nz\n\" transform=\"scale(0.015625)\"/>\n       <path id=\"DejaVuSans-63\" d=\"M 3122 3366 \nL 3122 2828 \nQ 2878 2963 2633 3030 \nQ 2388 3097 2138 3097 \nQ 1578 3097 1268 2742 \nQ 959 2388 959 1747 \nQ 959 1106 1268 751 \nQ 1578 397 2138 397 \nQ 2388 397 2633 464 \nQ 2878 531 3122 666 \nL 3122 134 \nQ 2881 22 2623 -34 \nQ 2366 -91 2075 -91 \nQ 1284 -91 818 406 \nQ 353 903 353 1747 \nQ 353 2603 823 3093 \nQ 1294 3584 2113 3584 \nQ 2378 3584 2631 3529 \nQ 2884 3475 3122 3366 \nz\n\" transform=\"scale(0.015625)\"/>\n      </defs>\n      <use xlink:href=\"#DejaVuSans-43\"/>\n      <use xlink:href=\"#DejaVuSans-6f\" x=\"69.824219\"/>\n      <use xlink:href=\"#DejaVuSans-6e\" x=\"131.005859\"/>\n      <use xlink:href=\"#DejaVuSans-66\" x=\"194.384766\"/>\n      <use xlink:href=\"#DejaVuSans-69\" x=\"229.589844\"/>\n      <use xlink:href=\"#DejaVuSans-64\" x=\"257.373047\"/>\n      <use xlink:href=\"#DejaVuSans-65\" x=\"320.849609\"/>\n      <use xlink:href=\"#DejaVuSans-6e\" x=\"382.373047\"/>\n      <use xlink:href=\"#DejaVuSans-63\" x=\"445.751953\"/>\n      <use xlink:href=\"#DejaVuSans-65\" x=\"500.732422\"/>\n     </g>\n    </g>\n   </g>\n   <g id=\"matplotlib.axis_2\">\n    <g id=\"ytick_1\">\n     <g id=\"line2d_6\">\n      <path d=\"M 484.386207 49.758125 \nL 676.8 49.758125 \n\" clip-path=\"url(#pd5d2e141fc)\" style=\"fill: none; stroke: #ffffff; stroke-linecap: round\"/>\n     </g>\n     <g id=\"text_10\">\n      <!-- bird -->\n      <g style=\"fill: #262626\" transform=\"translate(453.534176 53.937266) scale(0.11 -0.11)\">\n       <use xlink:href=\"#DejaVuSans-62\"/>\n       <use xlink:href=\"#DejaVuSans-69\" x=\"63.476562\"/>\n       <use xlink:href=\"#DejaVuSans-72\" x=\"91.259766\"/>\n       <use xlink:href=\"#DejaVuSans-64\" x=\"130.623047\"/>\n      </g>\n     </g>\n    </g>\n    <g id=\"ytick_2\">\n     <g id=\"line2d_7\">\n      <path d=\"M 484.386207 105.758125 \nL 676.8 105.758125 \n\" clip-path=\"url(#pd5d2e141fc)\" style=\"fill: none; stroke: #ffffff; stroke-linecap: round\"/>\n     </g>\n     <g id=\"text_11\">\n      <!-- frog -->\n      <g style=\"fill: #262626\" transform=\"translate(453.025426 109.937266) scale(0.11 -0.11)\">\n       <defs>\n        <path id=\"DejaVuSans-67\" d=\"M 2906 1791 \nQ 2906 2416 2648 2759 \nQ 2391 3103 1925 3103 \nQ 1463 3103 1205 2759 \nQ 947 2416 947 1791 \nQ 947 1169 1205 825 \nQ 1463 481 1925 481 \nQ 2391 481 2648 825 \nQ 2906 1169 2906 1791 \nz\nM 3481 434 \nQ 3481 -459 3084 -895 \nQ 2688 -1331 1869 -1331 \nQ 1566 -1331 1297 -1286 \nQ 1028 -1241 775 -1147 \nL 775 -588 \nQ 1028 -725 1275 -790 \nQ 1522 -856 1778 -856 \nQ 2344 -856 2625 -561 \nQ 2906 -266 2906 331 \nL 2906 616 \nQ 2728 306 2450 153 \nQ 2172 0 1784 0 \nQ 1141 0 747 490 \nQ 353 981 353 1791 \nQ 353 2603 747 3093 \nQ 1141 3584 1784 3584 \nQ 2172 3584 2450 3431 \nQ 2728 3278 2906 2969 \nL 2906 3500 \nL 3481 3500 \nL 3481 434 \nz\n\" transform=\"scale(0.015625)\"/>\n       </defs>\n       <use xlink:href=\"#DejaVuSans-66\"/>\n       <use xlink:href=\"#DejaVuSans-72\" x=\"35.205078\"/>\n       <use xlink:href=\"#DejaVuSans-6f\" x=\"74.068359\"/>\n       <use xlink:href=\"#DejaVuSans-67\" x=\"135.25\"/>\n      </g>\n     </g>\n    </g>\n   </g>\n   <g id=\"patch_3\">\n    <path d=\"M 484.386207 27.358125 \nL 667.637438 27.358125 \nL 667.637438 72.158125 \nL 484.386207 72.158125 \nz\n\" clip-path=\"url(#pd5d2e141fc)\" style=\"fill: #55a868; stroke: #ffffff; stroke-linejoin: miter\"/>\n   </g>\n   <g id=\"patch_4\">\n    <path d=\"M 484.386207 83.358125 \nL 484.386244 83.358125 \nL 484.386244 128.158125 \nL 484.386207 128.158125 \nz\n\" clip-path=\"url(#pd5d2e141fc)\" style=\"fill: #4c72b0; stroke: #ffffff; stroke-linejoin: miter\"/>\n   </g>\n   <g id=\"patch_5\">\n    <path d=\"M 484.386207 133.198125 \nL 484.386207 22.318125 \n\" style=\"fill: none; stroke: #ffffff; stroke-width: 1.25; stroke-linejoin: miter; stroke-linecap: square\"/>\n   </g>\n   <g id=\"patch_6\">\n    <path d=\"M 676.8 133.198125 \nL 676.8 22.318125 \n\" style=\"fill: none; stroke: #ffffff; stroke-width: 1.25; stroke-linejoin: miter; stroke-linecap: square\"/>\n   </g>\n   <g id=\"patch_7\">\n    <path d=\"M 484.386207 133.198125 \nL 676.8 133.198125 \n\" style=\"fill: none; stroke: #ffffff; stroke-width: 1.25; stroke-linejoin: miter; stroke-linecap: square\"/>\n   </g>\n   <g id=\"patch_8\">\n    <path d=\"M 484.386207 22.318125 \nL 676.8 22.318125 \n\" style=\"fill: none; stroke: #ffffff; stroke-width: 1.25; stroke-linejoin: miter; stroke-linecap: square\"/>\n   </g>\n   <g id=\"text_12\">\n    <!-- Predictions -->\n    <g style=\"fill: #262626\" transform=\"translate(547.663416 16.318125) scale(0.12 -0.12)\">\n     <defs>\n      <path id=\"DejaVuSans-50\" d=\"M 1259 4147 \nL 1259 2394 \nL 2053 2394 \nQ 2494 2394 2734 2622 \nQ 2975 2850 2975 3272 \nQ 2975 3691 2734 3919 \nQ 2494 4147 2053 4147 \nL 1259 4147 \nz\nM 628 4666 \nL 2053 4666 \nQ 2838 4666 3239 4311 \nQ 3641 3956 3641 3272 \nQ 3641 2581 3239 2228 \nQ 2838 1875 2053 1875 \nL 1259 1875 \nL 1259 0 \nL 628 0 \nL 628 4666 \nz\n\" transform=\"scale(0.015625)\"/>\n      <path id=\"DejaVuSans-74\" d=\"M 1172 4494 \nL 1172 3500 \nL 2356 3500 \nL 2356 3053 \nL 1172 3053 \nL 1172 1153 \nQ 1172 725 1289 603 \nQ 1406 481 1766 481 \nL 2356 481 \nL 2356 0 \nL 1766 0 \nQ 1100 0 847 248 \nQ 594 497 594 1153 \nL 594 3053 \nL 172 3053 \nL 172 3500 \nL 594 3500 \nL 594 4494 \nL 1172 4494 \nz\n\" transform=\"scale(0.015625)\"/>\n     </defs>\n     <use xlink:href=\"#DejaVuSans-50\"/>\n     <use xlink:href=\"#DejaVuSans-72\" x=\"58.552734\"/>\n     <use xlink:href=\"#DejaVuSans-65\" x=\"97.416016\"/>\n     <use xlink:href=\"#DejaVuSans-64\" x=\"158.939453\"/>\n     <use xlink:href=\"#DejaVuSans-69\" x=\"222.416016\"/>\n     <use xlink:href=\"#DejaVuSans-63\" x=\"250.199219\"/>\n     <use xlink:href=\"#DejaVuSans-74\" x=\"305.179688\"/>\n     <use xlink:href=\"#DejaVuSans-69\" x=\"344.388672\"/>\n     <use xlink:href=\"#DejaVuSans-6f\" x=\"372.171875\"/>\n     <use xlink:href=\"#DejaVuSans-6e\" x=\"433.353516\"/>\n     <use xlink:href=\"#DejaVuSans-73\" x=\"496.732422\"/>\n    </g>\n   </g>\n  </g>\n </g>\n <defs>\n  <clipPath id=\"p7f30d167de\">\n   <rect x=\"7.2\" y=\"29.654677\" width=\"96.206897\" height=\"96.206897\"/>\n  </clipPath>\n  <clipPath id=\"p65518f0915\">\n   <rect x=\"126.496552\" y=\"29.654677\" width=\"96.206897\" height=\"96.206897\"/>\n  </clipPath>\n  <clipPath id=\"p0b3799e8d5\">\n   <rect x=\"245.793103\" y=\"29.654677\" width=\"96.206897\" height=\"96.206897\"/>\n  </clipPath>\n  <clipPath id=\"pd5d2e141fc\">\n   <rect x=\"484.386207\" y=\"22.318125\" width=\"192.413793\" height=\"110.88\"/>\n  </clipPath>\n </defs>\n</svg>\n",
            "text/plain": [
              "<Figure size 1200x200 with 5 Axes>"
            ]
          },
          "metadata": {},
          "output_type": "display_data"
        },
        {
          "name": "stdout",
          "output_type": "stream",
          "text": [
            "tensor([3, 5], device='cuda:0')\n"
          ]
        },
        {
          "data": {
            "application/pdf": "[encoded data removed]",
            "image/svg+xml": "<?xml version=\"1.0\" encoding=\"utf-8\" standalone=\"no\"?>\n<!DOCTYPE svg PUBLIC \"-//W3C//DTD SVG 1.1//EN\"\n  \"http://www.w3.org/Graphics/SVG/1.1/DTD/svg11.dtd\">\n<svg xmlns:xlink=\"http://www.w3.org/1999/xlink\" width=\"690.883845pt\" height=\"176.157812pt\" viewBox=\"0 0 690.883845 176.157812\" xmlns=\"http://www.w3.org/2000/svg\" version=\"1.1\">\n <metadata>\n  <rdf:RDF xmlns:dc=\"http://purl.org/dc/elements/1.1/\" xmlns:cc=\"http://creativecommons.org/ns#\" xmlns:rdf=\"http://www.w3.org/1999/02/22-rdf-syntax-ns#\">\n   <cc:Work>\n    <dc:type rdf:resource=\"http://purl.org/dc/dcmitype/StillImage\"/>\n    <dc:date>2022-12-12T06:35:29.400719</dc:date>\n    <dc:format>image/svg+xml</dc:format>\n    <dc:creator>\n     <cc:Agent>\n      <dc:title>Matplotlib v3.6.0, https://matplotlib.org/</dc:title>\n     </cc:Agent>\n    </dc:creator>\n   </cc:Work>\n  </rdf:RDF>\n </metadata>\n <defs>\n  <style type=\"text/css\">*{stroke-linejoin: round; stroke-linecap: butt}</style>\n </defs>\n <g id=\"figure_1\">\n  <g id=\"patch_1\">\n   <path d=\"M 0 176.157812 \nL 690.883845 176.157812 \nL 690.883845 0 \nL 0 0 \nz\n\" style=\"fill: #ffffff\"/>\n  </g>\n  <g id=\"axes_1\">\n   <g clip-path=\"url(#p97a6b6d088)\">\n    <image xlink:href=\"data:image/png;base64,\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\" id=\"image8c43f6dd22\" transform=\"scale(1 -1) translate(0 -96.48)\" x=\"7.2\" y=\"-29.381573\" width=\"96.48\" height=\"96.48\"/>\n   </g>\n   <g id=\"text_1\">\n    <!-- horse -->\n    <g style=\"fill: #262626\" transform=\"translate(38.545636 23.654677) scale(0.12 -0.12)\">\n     <defs>\n      <path id=\"DejaVuSans-68\" d=\"M 3513 2113 \nL 3513 0 \nL 2938 0 \nL 2938 2094 \nQ 2938 2591 2744 2837 \nQ 2550 3084 2163 3084 \nQ 1697 3084 1428 2787 \nQ 1159 2491 1159 1978 \nL 1159 0 \nL 581 0 \nL 581 4863 \nL 1159 4863 \nL 1159 2956 \nQ 1366 3272 1645 3428 \nQ 1925 3584 2291 3584 \nQ 2894 3584 3203 3211 \nQ 3513 2838 3513 2113 \nz\n\" transform=\"scale(0.015625)\"/>\n      <path id=\"DejaVuSans-6f\" d=\"M 1959 3097 \nQ 1497 3097 1228 2736 \nQ 959 2375 959 1747 \nQ 959 1119 1226 758 \nQ 1494 397 1959 397 \nQ 2419 397 2687 759 \nQ 2956 1122 2956 1747 \nQ 2956 2369 2687 2733 \nQ 2419 3097 1959 3097 \nz\nM 1959 3584 \nQ 2709 3584 3137 3096 \nQ 3566 2609 3566 1747 \nQ 3566 888 3137 398 \nQ 2709 -91 1959 -91 \nQ 1206 -91 779 398 \nQ 353 888 353 1747 \nQ 353 2609 779 3096 \nQ 1206 3584 1959 3584 \nz\n\" transform=\"scale(0.015625)\"/>\n      <path id=\"DejaVuSans-72\" d=\"M 2631 2963 \nQ 2534 3019 2420 3045 \nQ 2306 3072 2169 3072 \nQ 1681 3072 1420 2755 \nQ 1159 2438 1159 1844 \nL 1159 0 \nL 581 0 \nL 581 3500 \nL 1159 3500 \nL 1159 2956 \nQ 1341 3275 1631 3429 \nQ 1922 3584 2338 3584 \nQ 2397 3584 2469 3576 \nQ 2541 3569 2628 3553 \nL 2631 2963 \nz\n\" transform=\"scale(0.015625)\"/>\n      <path id=\"DejaVuSans-73\" d=\"M 2834 3397 \nL 2834 2853 \nQ 2591 2978 2328 3040 \nQ 2066 3103 1784 3103 \nQ 1356 3103 1142 2972 \nQ 928 2841 928 2578 \nQ 928 2378 1081 2264 \nQ 1234 2150 1697 2047 \nL 1894 2003 \nQ 2506 1872 2764 1633 \nQ 3022 1394 3022 966 \nQ 3022 478 2636 193 \nQ 2250 -91 1575 -91 \nQ 1294 -91 989 -36 \nQ 684 19 347 128 \nL 347 722 \nQ 666 556 975 473 \nQ 1284 391 1588 391 \nQ 1994 391 2212 530 \nQ 2431 669 2431 922 \nQ 2431 1156 2273 1281 \nQ 2116 1406 1581 1522 \nL 1381 1569 \nQ 847 1681 609 1914 \nQ 372 2147 372 2553 \nQ 372 3047 722 3315 \nQ 1072 3584 1716 3584 \nQ 2034 3584 2315 3537 \nQ 2597 3491 2834 3397 \nz\n\" transform=\"scale(0.015625)\"/>\n      <path id=\"DejaVuSans-65\" d=\"M 3597 1894 \nL 3597 1613 \nL 953 1613 \nQ 991 1019 1311 708 \nQ 1631 397 2203 397 \nQ 2534 397 2845 478 \nQ 3156 559 3463 722 \nL 3463 178 \nQ 3153 47 2828 -22 \nQ 2503 -91 2169 -91 \nQ 1331 -91 842 396 \nQ 353 884 353 1716 \nQ 353 2575 817 3079 \nQ 1281 3584 2069 3584 \nQ 2775 3584 3186 3129 \nQ 3597 2675 3597 1894 \nz\nM 3022 2063 \nQ 3016 2534 2758 2815 \nQ 2500 3097 2075 3097 \nQ 1594 3097 1305 2825 \nQ 1016 2553 972 2059 \nL 3022 2063 \nz\n\" transform=\"scale(0.015625)\"/>\n     </defs>\n     <use xlink:href=\"#DejaVuSans-68\"/>\n     <use xlink:href=\"#DejaVuSans-6f\" x=\"63.378906\"/>\n     <use xlink:href=\"#DejaVuSans-72\" x=\"124.560547\"/>\n     <use xlink:href=\"#DejaVuSans-73\" x=\"165.673828\"/>\n     <use xlink:href=\"#DejaVuSans-65\" x=\"217.773438\"/>\n    </g>\n   </g>\n  </g>\n  <g id=\"axes_2\">\n   <g clip-path=\"url(#pa21db1ffc9)\">\n    <image xlink:href=\"data:image/png;base64,\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\" id=\"image7f79676d80\" transform=\"scale(1 -1) translate(0 -96.48)\" x=\"126.496552\" y=\"-29.381573\" width=\"96.48\" height=\"96.48\"/>\n   </g>\n   <g id=\"text_2\">\n    <!-- Adversarial -->\n    <g style=\"fill: #262626\" transform=\"translate(140.802188 23.654677) scale(0.12 -0.12)\">\n     <defs>\n      <path id=\"DejaVuSans-41\" d=\"M 2188 4044 \nL 1331 1722 \nL 3047 1722 \nL 2188 4044 \nz\nM 1831 4666 \nL 2547 4666 \nL 4325 0 \nL 3669 0 \nL 3244 1197 \nL 1141 1197 \nL 716 0 \nL 50 0 \nL 1831 4666 \nz\n\" transform=\"scale(0.015625)\"/>\n      <path id=\"DejaVuSans-64\" d=\"M 2906 2969 \nL 2906 4863 \nL 3481 4863 \nL 3481 0 \nL 2906 0 \nL 2906 525 \nQ 2725 213 2448 61 \nQ 2172 -91 1784 -91 \nQ 1150 -91 751 415 \nQ 353 922 353 1747 \nQ 353 2572 751 3078 \nQ 1150 3584 1784 3584 \nQ 2172 3584 2448 3432 \nQ 2725 3281 2906 2969 \nz\nM 947 1747 \nQ 947 1113 1208 752 \nQ 1469 391 1925 391 \nQ 2381 391 2643 752 \nQ 2906 1113 2906 1747 \nQ 2906 2381 2643 2742 \nQ 2381 3103 1925 3103 \nQ 1469 3103 1208 2742 \nQ 947 2381 947 1747 \nz\n\" transform=\"scale(0.015625)\"/>\n      <path id=\"DejaVuSans-76\" d=\"M 191 3500 \nL 800 3500 \nL 1894 563 \nL 2988 3500 \nL 3597 3500 \nL 2284 0 \nL 1503 0 \nL 191 3500 \nz\n\" transform=\"scale(0.015625)\"/>\n      <path id=\"DejaVuSans-61\" d=\"M 2194 1759 \nQ 1497 1759 1228 1600 \nQ 959 1441 959 1056 \nQ 959 750 1161 570 \nQ 1363 391 1709 391 \nQ 2188 391 2477 730 \nQ 2766 1069 2766 1631 \nL 2766 1759 \nL 2194 1759 \nz\nM 3341 1997 \nL 3341 0 \nL 2766 0 \nL 2766 531 \nQ 2569 213 2275 61 \nQ 1981 -91 1556 -91 \nQ 1019 -91 701 211 \nQ 384 513 384 1019 \nQ 384 1609 779 1909 \nQ 1175 2209 1959 2209 \nL 2766 2209 \nL 2766 2266 \nQ 2766 2663 2505 2880 \nQ 2244 3097 1772 3097 \nQ 1472 3097 1187 3025 \nQ 903 2953 641 2809 \nL 641 3341 \nQ 956 3463 1253 3523 \nQ 1550 3584 1831 3584 \nQ 2591 3584 2966 3190 \nQ 3341 2797 3341 1997 \nz\n\" transform=\"scale(0.015625)\"/>\n      <path id=\"DejaVuSans-69\" d=\"M 603 3500 \nL 1178 3500 \nL 1178 0 \nL 603 0 \nL 603 3500 \nz\nM 603 4863 \nL 1178 4863 \nL 1178 4134 \nL 603 4134 \nL 603 4863 \nz\n\" transform=\"scale(0.015625)\"/>\n      <path id=\"DejaVuSans-6c\" d=\"M 603 4863 \nL 1178 4863 \nL 1178 0 \nL 603 0 \nL 603 4863 \nz\n\" transform=\"scale(0.015625)\"/>\n     </defs>\n     <use xlink:href=\"#DejaVuSans-41\"/>\n     <use xlink:href=\"#DejaVuSans-64\" x=\"66.658203\"/>\n     <use xlink:href=\"#DejaVuSans-76\" x=\"130.134766\"/>\n     <use xlink:href=\"#DejaVuSans-65\" x=\"189.314453\"/>\n     <use xlink:href=\"#DejaVuSans-72\" x=\"250.837891\"/>\n     <use xlink:href=\"#DejaVuSans-73\" x=\"291.951172\"/>\n     <use xlink:href=\"#DejaVuSans-61\" x=\"344.050781\"/>\n     <use xlink:href=\"#DejaVuSans-72\" x=\"405.330078\"/>\n     <use xlink:href=\"#DejaVuSans-69\" x=\"446.443359\"/>\n     <use xlink:href=\"#DejaVuSans-61\" x=\"474.226562\"/>\n     <use xlink:href=\"#DejaVuSans-6c\" x=\"535.505859\"/>\n    </g>\n   </g>\n  </g>\n  <g id=\"axes_3\">\n   <g clip-path=\"url(#p1e63100838)\">\n    <image xlink:href=\"data:image/png;base64,\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\" id=\"imaged99babb20f\" transform=\"scale(1 -1) translate(0 -96.48)\" x=\"245.793103\" y=\"-29.381573\" width=\"96.48\" height=\"96.48\"/>\n   </g>\n   <g id=\"text_3\">\n    <!-- Noise -->\n    <g style=\"fill: #262626\" transform=\"translate(277.252177 23.654677) scale(0.12 -0.12)\">\n     <defs>\n      <path id=\"DejaVuSans-4e\" d=\"M 628 4666 \nL 1478 4666 \nL 3547 763 \nL 3547 4666 \nL 4159 4666 \nL 4159 0 \nL 3309 0 \nL 1241 3903 \nL 1241 0 \nL 628 0 \nL 628 4666 \nz\n\" transform=\"scale(0.015625)\"/>\n     </defs>\n     <use xlink:href=\"#DejaVuSans-4e\"/>\n     <use xlink:href=\"#DejaVuSans-6f\" x=\"74.804688\"/>\n     <use xlink:href=\"#DejaVuSans-69\" x=\"135.986328\"/>\n     <use xlink:href=\"#DejaVuSans-73\" x=\"163.769531\"/>\n     <use xlink:href=\"#DejaVuSans-65\" x=\"215.869141\"/>\n    </g>\n   </g>\n  </g>\n  <g id=\"axes_4\"/>\n  <g id=\"axes_5\">\n   <g id=\"patch_2\">\n    <path d=\"M 484.386207 133.198125 \nL 676.8 133.198125 \nL 676.8 22.318125 \nL 484.386207 22.318125 \nz\n\" style=\"fill: #eaeaf2\"/>\n   </g>\n   <g id=\"matplotlib.axis_1\">\n    <g id=\"xtick_1\">\n     <g id=\"line2d_1\">\n      <path d=\"M 484.386207 133.198125 \nL 484.386207 22.318125 \n\" clip-path=\"url(#p7c0d18f155)\" style=\"fill: none; stroke: #ffffff; stroke-linecap: round\"/>\n     </g>\n     <g id=\"text_4\">\n      <!-- 0 -->\n      <g style=\"fill: #262626\" transform=\"translate(480.886832 151.056406) scale(0.11 -0.11)\">\n       <defs>\n        <path id=\"DejaVuSans-30\" d=\"M 2034 4250 \nQ 1547 4250 1301 3770 \nQ 1056 3291 1056 2328 \nQ 1056 1369 1301 889 \nQ 1547 409 2034 409 \nQ 2525 409 2770 889 \nQ 3016 1369 3016 2328 \nQ 3016 3291 2770 3770 \nQ 2525 4250 2034 4250 \nz\nM 2034 4750 \nQ 2819 4750 3233 4129 \nQ 3647 3509 3647 2328 \nQ 3647 1150 3233 529 \nQ 2819 -91 2034 -91 \nQ 1250 -91 836 529 \nQ 422 1150 422 2328 \nQ 422 3509 836 4129 \nQ 1250 4750 2034 4750 \nz\n\" transform=\"scale(0.015625)\"/>\n       </defs>\n       <use xlink:href=\"#DejaVuSans-30\"/>\n      </g>\n     </g>\n    </g>\n    <g id=\"xtick_2\">\n     <g id=\"line2d_2\">\n      <path d=\"M 548.485836 133.198125 \nL 548.485836 22.318125 \n\" clip-path=\"url(#p7c0d18f155)\" style=\"fill: none; stroke: #ffffff; stroke-linecap: round\"/>\n     </g>\n     <g id=\"text_5\">\n      <!-- 20 -->\n      <g style=\"fill: #262626\" transform=\"translate(541.487086 151.056406) scale(0.11 -0.11)\">\n       <defs>\n        <path id=\"DejaVuSans-32\" d=\"M 1228 531 \nL 3431 531 \nL 3431 0 \nL 469 0 \nL 469 531 \nQ 828 903 1448 1529 \nQ 2069 2156 2228 2338 \nQ 2531 2678 2651 2914 \nQ 2772 3150 2772 3378 \nQ 2772 3750 2511 3984 \nQ 2250 4219 1831 4219 \nQ 1534 4219 1204 4116 \nQ 875 4013 500 3803 \nL 500 4441 \nQ 881 4594 1212 4672 \nQ 1544 4750 1819 4750 \nQ 2544 4750 2975 4387 \nQ 3406 4025 3406 3419 \nQ 3406 3131 3298 2873 \nQ 3191 2616 2906 2266 \nQ 2828 2175 2409 1742 \nQ 1991 1309 1228 531 \nz\n\" transform=\"scale(0.015625)\"/>\n       </defs>\n       <use xlink:href=\"#DejaVuSans-32\"/>\n       <use xlink:href=\"#DejaVuSans-30\" x=\"63.623047\"/>\n      </g>\n     </g>\n    </g>\n    <g id=\"xtick_3\">\n     <g id=\"line2d_3\">\n      <path d=\"M 612.585466 133.198125 \nL 612.585466 22.318125 \n\" clip-path=\"url(#p7c0d18f155)\" style=\"fill: none; stroke: #ffffff; stroke-linecap: round\"/>\n     </g>\n     <g id=\"text_6\">\n      <!-- 40 -->\n      <g style=\"fill: #262626\" transform=\"translate(605.586716 151.056406) scale(0.11 -0.11)\">\n       <defs>\n        <path id=\"DejaVuSans-34\" d=\"M 2419 4116 \nL 825 1625 \nL 2419 1625 \nL 2419 4116 \nz\nM 2253 4666 \nL 3047 4666 \nL 3047 1625 \nL 3713 1625 \nL 3713 1100 \nL 3047 1100 \nL 3047 0 \nL 2419 0 \nL 2419 1100 \nL 313 1100 \nL 313 1709 \nL 2253 4666 \nz\n\" transform=\"scale(0.015625)\"/>\n       </defs>\n       <use xlink:href=\"#DejaVuSans-34\"/>\n       <use xlink:href=\"#DejaVuSans-30\" x=\"63.623047\"/>\n      </g>\n     </g>\n    </g>\n    <g id=\"xtick_4\">\n     <g id=\"line2d_4\">\n      <path d=\"M 676.685095 133.198125 \nL 676.685095 22.318125 \n\" clip-path=\"url(#p7c0d18f155)\" style=\"fill: none; stroke: #ffffff; stroke-linecap: round\"/>\n     </g>\n     <g id=\"text_7\">\n      <!-- 60 -->\n      <g style=\"fill: #262626\" transform=\"translate(669.686345 151.056406) scale(0.11 -0.11)\">\n       <defs>\n        <path id=\"DejaVuSans-36\" d=\"M 2113 2584 \nQ 1688 2584 1439 2293 \nQ 1191 2003 1191 1497 \nQ 1191 994 1439 701 \nQ 1688 409 2113 409 \nQ 2538 409 2786 701 \nQ 3034 994 3034 1497 \nQ 3034 2003 2786 2293 \nQ 2538 2584 2113 2584 \nz\nM 3366 4563 \nL 3366 3988 \nQ 3128 4100 2886 4159 \nQ 2644 4219 2406 4219 \nQ 1781 4219 1451 3797 \nQ 1122 3375 1075 2522 \nQ 1259 2794 1537 2939 \nQ 1816 3084 2150 3084 \nQ 2853 3084 3261 2657 \nQ 3669 2231 3669 1497 \nQ 3669 778 3244 343 \nQ 2819 -91 2113 -91 \nQ 1303 -91 875 529 \nQ 447 1150 447 2328 \nQ 447 3434 972 4092 \nQ 1497 4750 2381 4750 \nQ 2619 4750 2861 4703 \nQ 3103 4656 3366 4563 \nz\n\" transform=\"scale(0.015625)\"/>\n       </defs>\n       <use xlink:href=\"#DejaVuSans-36\"/>\n       <use xlink:href=\"#DejaVuSans-30\" x=\"63.623047\"/>\n      </g>\n     </g>\n    </g>\n    <g id=\"text_8\">\n     <!-- Confidence -->\n     <g style=\"fill: #262626\" transform=\"translate(546.856228 166.462187) scale(0.12 -0.12)\">\n      <defs>\n       <path id=\"DejaVuSans-43\" d=\"M 4122 4306 \nL 4122 3641 \nQ 3803 3938 3442 4084 \nQ 3081 4231 2675 4231 \nQ 1875 4231 1450 3742 \nQ 1025 3253 1025 2328 \nQ 1025 1406 1450 917 \nQ 1875 428 2675 428 \nQ 3081 428 3442 575 \nQ 3803 722 4122 1019 \nL 4122 359 \nQ 3791 134 3420 21 \nQ 3050 -91 2638 -91 \nQ 1578 -91 968 557 \nQ 359 1206 359 2328 \nQ 359 3453 968 4101 \nQ 1578 4750 2638 4750 \nQ 3056 4750 3426 4639 \nQ 3797 4528 4122 4306 \nz\n\" transform=\"scale(0.015625)\"/>\n       <path id=\"DejaVuSans-6e\" d=\"M 3513 2113 \nL 3513 0 \nL 2938 0 \nL 2938 2094 \nQ 2938 2591 2744 2837 \nQ 2550 3084 2163 3084 \nQ 1697 3084 1428 2787 \nQ 1159 2491 1159 1978 \nL 1159 0 \nL 581 0 \nL 581 3500 \nL 1159 3500 \nL 1159 2956 \nQ 1366 3272 1645 3428 \nQ 1925 3584 2291 3584 \nQ 2894 3584 3203 3211 \nQ 3513 2838 3513 2113 \nz\n\" transform=\"scale(0.015625)\"/>\n       <path id=\"DejaVuSans-66\" d=\"M 2375 4863 \nL 2375 4384 \nL 1825 4384 \nQ 1516 4384 1395 4259 \nQ 1275 4134 1275 3809 \nL 1275 3500 \nL 2222 3500 \nL 2222 3053 \nL 1275 3053 \nL 1275 0 \nL 697 0 \nL 697 3053 \nL 147 3053 \nL 147 3500 \nL 697 3500 \nL 697 3744 \nQ 697 4328 969 4595 \nQ 1241 4863 1831 4863 \nL 2375 4863 \nz\n\" transform=\"scale(0.015625)\"/>\n       <path id=\"DejaVuSans-63\" d=\"M 3122 3366 \nL 3122 2828 \nQ 2878 2963 2633 3030 \nQ 2388 3097 2138 3097 \nQ 1578 3097 1268 2742 \nQ 959 2388 959 1747 \nQ 959 1106 1268 751 \nQ 1578 397 2138 397 \nQ 2388 397 2633 464 \nQ 2878 531 3122 666 \nL 3122 134 \nQ 2881 22 2623 -34 \nQ 2366 -91 2075 -91 \nQ 1284 -91 818 406 \nQ 353 903 353 1747 \nQ 353 2603 823 3093 \nQ 1294 3584 2113 3584 \nQ 2378 3584 2631 3529 \nQ 2884 3475 3122 3366 \nz\n\" transform=\"scale(0.015625)\"/>\n      </defs>\n      <use xlink:href=\"#DejaVuSans-43\"/>\n      <use xlink:href=\"#DejaVuSans-6f\" x=\"69.824219\"/>\n      <use xlink:href=\"#DejaVuSans-6e\" x=\"131.005859\"/>\n      <use xlink:href=\"#DejaVuSans-66\" x=\"194.384766\"/>\n      <use xlink:href=\"#DejaVuSans-69\" x=\"229.589844\"/>\n      <use xlink:href=\"#DejaVuSans-64\" x=\"257.373047\"/>\n      <use xlink:href=\"#DejaVuSans-65\" x=\"320.849609\"/>\n      <use xlink:href=\"#DejaVuSans-6e\" x=\"382.373047\"/>\n      <use xlink:href=\"#DejaVuSans-63\" x=\"445.751953\"/>\n      <use xlink:href=\"#DejaVuSans-65\" x=\"500.732422\"/>\n     </g>\n    </g>\n   </g>\n   <g id=\"matplotlib.axis_2\">\n    <g id=\"ytick_1\">\n     <g id=\"line2d_5\">\n      <path d=\"M 484.386207 49.758125 \nL 676.8 49.758125 \n\" clip-path=\"url(#p7c0d18f155)\" style=\"fill: none; stroke: #ffffff; stroke-linecap: round\"/>\n     </g>\n     <g id=\"text_9\">\n      <!-- cat -->\n      <g style=\"fill: #262626\" transform=\"translate(457.784644 53.937266) scale(0.11 -0.11)\">\n       <defs>\n        <path id=\"DejaVuSans-74\" d=\"M 1172 4494 \nL 1172 3500 \nL 2356 3500 \nL 2356 3053 \nL 1172 3053 \nL 1172 1153 \nQ 1172 725 1289 603 \nQ 1406 481 1766 481 \nL 2356 481 \nL 2356 0 \nL 1766 0 \nQ 1100 0 847 248 \nQ 594 497 594 1153 \nL 594 3053 \nL 172 3053 \nL 172 3500 \nL 594 3500 \nL 594 4494 \nL 1172 4494 \nz\n\" transform=\"scale(0.015625)\"/>\n       </defs>\n       <use xlink:href=\"#DejaVuSans-63\"/>\n       <use xlink:href=\"#DejaVuSans-61\" x=\"54.980469\"/>\n       <use xlink:href=\"#DejaVuSans-74\" x=\"116.259766\"/>\n      </g>\n     </g>\n    </g>\n    <g id=\"ytick_2\">\n     <g id=\"line2d_6\">\n      <path d=\"M 484.386207 105.758125 \nL 676.8 105.758125 \n\" clip-path=\"url(#p7c0d18f155)\" style=\"fill: none; stroke: #ffffff; stroke-linecap: round\"/>\n     </g>\n     <g id=\"text_10\">\n      <!-- dog -->\n      <g style=\"fill: #262626\" transform=\"translate(454.189019 109.937266) scale(0.11 -0.11)\">\n       <defs>\n        <path id=\"DejaVuSans-67\" d=\"M 2906 1791 \nQ 2906 2416 2648 2759 \nQ 2391 3103 1925 3103 \nQ 1463 3103 1205 2759 \nQ 947 2416 947 1791 \nQ 947 1169 1205 825 \nQ 1463 481 1925 481 \nQ 2391 481 2648 825 \nQ 2906 1169 2906 1791 \nz\nM 3481 434 \nQ 3481 -459 3084 -895 \nQ 2688 -1331 1869 -1331 \nQ 1566 -1331 1297 -1286 \nQ 1028 -1241 775 -1147 \nL 775 -588 \nQ 1028 -725 1275 -790 \nQ 1522 -856 1778 -856 \nQ 2344 -856 2625 -561 \nQ 2906 -266 2906 331 \nL 2906 616 \nQ 2728 306 2450 153 \nQ 2172 0 1784 0 \nQ 1141 0 747 490 \nQ 353 981 353 1791 \nQ 353 2603 747 3093 \nQ 1141 3584 1784 3584 \nQ 2172 3584 2450 3431 \nQ 2728 3278 2906 2969 \nL 2906 3500 \nL 3481 3500 \nL 3481 434 \nz\n\" transform=\"scale(0.015625)\"/>\n       </defs>\n       <use xlink:href=\"#DejaVuSans-64\"/>\n       <use xlink:href=\"#DejaVuSans-6f\" x=\"63.476562\"/>\n       <use xlink:href=\"#DejaVuSans-67\" x=\"124.658203\"/>\n      </g>\n     </g>\n    </g>\n   </g>\n   <g id=\"patch_3\">\n    <path d=\"M 484.386207 27.358125 \nL 667.637438 27.358125 \nL 667.637438 72.158125 \nL 484.386207 72.158125 \nz\n\" clip-path=\"url(#p7c0d18f155)\" style=\"fill: #4c72b0; stroke: #ffffff; stroke-linejoin: miter\"/>\n   </g>\n   <g id=\"patch_4\">\n    <path d=\"M 484.386207 83.358125 \nL 598.74425 83.358125 \nL 598.74425 128.158125 \nL 484.386207 128.158125 \nz\n\" clip-path=\"url(#p7c0d18f155)\" style=\"fill: #4c72b0; stroke: #ffffff; stroke-linejoin: miter\"/>\n   </g>\n   <g id=\"patch_5\">\n    <path d=\"M 484.386207 133.198125 \nL 484.386207 22.318125 \n\" style=\"fill: none; stroke: #ffffff; stroke-width: 1.25; stroke-linejoin: miter; stroke-linecap: square\"/>\n   </g>\n   <g id=\"patch_6\">\n    <path d=\"M 676.8 133.198125 \nL 676.8 22.318125 \n\" style=\"fill: none; stroke: #ffffff; stroke-width: 1.25; stroke-linejoin: miter; stroke-linecap: square\"/>\n   </g>\n   <g id=\"patch_7\">\n    <path d=\"M 484.386207 133.198125 \nL 676.8 133.198125 \n\" style=\"fill: none; stroke: #ffffff; stroke-width: 1.25; stroke-linejoin: miter; stroke-linecap: square\"/>\n   </g>\n   <g id=\"patch_8\">\n    <path d=\"M 484.386207 22.318125 \nL 676.8 22.318125 \n\" style=\"fill: none; stroke: #ffffff; stroke-width: 1.25; stroke-linejoin: miter; stroke-linecap: square\"/>\n   </g>\n   <g id=\"text_11\">\n    <!-- Predictions -->\n    <g style=\"fill: #262626\" transform=\"translate(547.663416 16.318125) scale(0.12 -0.12)\">\n     <defs>\n      <path id=\"DejaVuSans-50\" d=\"M 1259 4147 \nL 1259 2394 \nL 2053 2394 \nQ 2494 2394 2734 2622 \nQ 2975 2850 2975 3272 \nQ 2975 3691 2734 3919 \nQ 2494 4147 2053 4147 \nL 1259 4147 \nz\nM 628 4666 \nL 2053 4666 \nQ 2838 4666 3239 4311 \nQ 3641 3956 3641 3272 \nQ 3641 2581 3239 2228 \nQ 2838 1875 2053 1875 \nL 1259 1875 \nL 1259 0 \nL 628 0 \nL 628 4666 \nz\n\" transform=\"scale(0.015625)\"/>\n     </defs>\n     <use xlink:href=\"#DejaVuSans-50\"/>\n     <use xlink:href=\"#DejaVuSans-72\" x=\"58.552734\"/>\n     <use xlink:href=\"#DejaVuSans-65\" x=\"97.416016\"/>\n     <use xlink:href=\"#DejaVuSans-64\" x=\"158.939453\"/>\n     <use xlink:href=\"#DejaVuSans-69\" x=\"222.416016\"/>\n     <use xlink:href=\"#DejaVuSans-63\" x=\"250.199219\"/>\n     <use xlink:href=\"#DejaVuSans-74\" x=\"305.179688\"/>\n     <use xlink:href=\"#DejaVuSans-69\" x=\"344.388672\"/>\n     <use xlink:href=\"#DejaVuSans-6f\" x=\"372.171875\"/>\n     <use xlink:href=\"#DejaVuSans-6e\" x=\"433.353516\"/>\n     <use xlink:href=\"#DejaVuSans-73\" x=\"496.732422\"/>\n    </g>\n   </g>\n  </g>\n </g>\n <defs>\n  <clipPath id=\"p97a6b6d088\">\n   <rect x=\"7.2\" y=\"29.654677\" width=\"96.206897\" height=\"96.206897\"/>\n  </clipPath>\n  <clipPath id=\"pa21db1ffc9\">\n   <rect x=\"126.496552\" y=\"29.654677\" width=\"96.206897\" height=\"96.206897\"/>\n  </clipPath>\n  <clipPath id=\"p1e63100838\">\n   <rect x=\"245.793103\" y=\"29.654677\" width=\"96.206897\" height=\"96.206897\"/>\n  </clipPath>\n  <clipPath id=\"p7c0d18f155\">\n   <rect x=\"484.386207\" y=\"22.318125\" width=\"192.413793\" height=\"110.88\"/>\n  </clipPath>\n </defs>\n</svg>\n",
            "text/plain": [
              "<Figure size 1200x200 with 5 Axes>"
            ]
          },
          "metadata": {},
          "output_type": "display_data"
        },
        {
          "name": "stdout",
          "output_type": "stream",
          "text": [
            "tensor([9, 1], device='cuda:0')\n"
          ]
        },
        {
          "data": {
            "application/pdf": "[encoded data removed]",
            "image/svg+xml": "<?xml version=\"1.0\" encoding=\"utf-8\" standalone=\"no\"?>\n<!DOCTYPE svg PUBLIC \"-//W3C//DTD SVG 1.1//EN\"\n  \"http://www.w3.org/Graphics/SVG/1.1/DTD/svg11.dtd\">\n<svg xmlns:xlink=\"http://www.w3.org/1999/xlink\" width=\"685.417752pt\" height=\"176.157812pt\" viewBox=\"0 0 685.417752 176.157812\" xmlns=\"http://www.w3.org/2000/svg\" version=\"1.1\">\n <metadata>\n  <rdf:RDF xmlns:dc=\"http://purl.org/dc/elements/1.1/\" xmlns:cc=\"http://creativecommons.org/ns#\" xmlns:rdf=\"http://www.w3.org/1999/02/22-rdf-syntax-ns#\">\n   <cc:Work>\n    <dc:type rdf:resource=\"http://purl.org/dc/dcmitype/StillImage\"/>\n    <dc:date>2022-12-12T06:35:30.301415</dc:date>\n    <dc:format>image/svg+xml</dc:format>\n    <dc:creator>\n     <cc:Agent>\n      <dc:title>Matplotlib v3.6.0, https://matplotlib.org/</dc:title>\n     </cc:Agent>\n    </dc:creator>\n   </cc:Work>\n  </rdf:RDF>\n </metadata>\n <defs>\n  <style type=\"text/css\">*{stroke-linejoin: round; stroke-linecap: butt}</style>\n </defs>\n <g id=\"figure_1\">\n  <g id=\"patch_1\">\n   <path d=\"M 0 176.157812 \nL 685.417752 176.157812 \nL 685.417752 0 \nL 0 0 \nz\n\" style=\"fill: #ffffff\"/>\n  </g>\n  <g id=\"axes_1\">\n   <g clip-path=\"url(#p4bf5164e05)\">\n    <image xlink:href=\"data:image/png;base64,\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\" id=\"image4c1b719712\" transform=\"scale(1 -1) translate(0 -96.48)\" x=\"7.2\" y=\"-29.381573\" width=\"96.48\" height=\"96.48\"/>\n   </g>\n   <g id=\"text_1\">\n    <!-- truck -->\n    <g style=\"fill: #262626\" transform=\"translate(39.908761 23.654677) scale(0.12 -0.12)\">\n     <defs>\n      <path id=\"DejaVuSans-74\" d=\"M 1172 4494 \nL 1172 3500 \nL 2356 3500 \nL 2356 3053 \nL 1172 3053 \nL 1172 1153 \nQ 1172 725 1289 603 \nQ 1406 481 1766 481 \nL 2356 481 \nL 2356 0 \nL 1766 0 \nQ 1100 0 847 248 \nQ 594 497 594 1153 \nL 594 3053 \nL 172 3053 \nL 172 3500 \nL 594 3500 \nL 594 4494 \nL 1172 4494 \nz\n\" transform=\"scale(0.015625)\"/>\n      <path id=\"DejaVuSans-72\" d=\"M 2631 2963 \nQ 2534 3019 2420 3045 \nQ 2306 3072 2169 3072 \nQ 1681 3072 1420 2755 \nQ 1159 2438 1159 1844 \nL 1159 0 \nL 581 0 \nL 581 3500 \nL 1159 3500 \nL 1159 2956 \nQ 1341 3275 1631 3429 \nQ 1922 3584 2338 3584 \nQ 2397 3584 2469 3576 \nQ 2541 3569 2628 3553 \nL 2631 2963 \nz\n\" transform=\"scale(0.015625)\"/>\n      <path id=\"DejaVuSans-75\" d=\"M 544 1381 \nL 544 3500 \nL 1119 3500 \nL 1119 1403 \nQ 1119 906 1312 657 \nQ 1506 409 1894 409 \nQ 2359 409 2629 706 \nQ 2900 1003 2900 1516 \nL 2900 3500 \nL 3475 3500 \nL 3475 0 \nL 2900 0 \nL 2900 538 \nQ 2691 219 2414 64 \nQ 2138 -91 1772 -91 \nQ 1169 -91 856 284 \nQ 544 659 544 1381 \nz\nM 1991 3584 \nL 1991 3584 \nz\n\" transform=\"scale(0.015625)\"/>\n      <path id=\"DejaVuSans-63\" d=\"M 3122 3366 \nL 3122 2828 \nQ 2878 2963 2633 3030 \nQ 2388 3097 2138 3097 \nQ 1578 3097 1268 2742 \nQ 959 2388 959 1747 \nQ 959 1106 1268 751 \nQ 1578 397 2138 397 \nQ 2388 397 2633 464 \nQ 2878 531 3122 666 \nL 3122 134 \nQ 2881 22 2623 -34 \nQ 2366 -91 2075 -91 \nQ 1284 -91 818 406 \nQ 353 903 353 1747 \nQ 353 2603 823 3093 \nQ 1294 3584 2113 3584 \nQ 2378 3584 2631 3529 \nQ 2884 3475 3122 3366 \nz\n\" transform=\"scale(0.015625)\"/>\n      <path id=\"DejaVuSans-6b\" d=\"M 581 4863 \nL 1159 4863 \nL 1159 1991 \nL 2875 3500 \nL 3609 3500 \nL 1753 1863 \nL 3688 0 \nL 2938 0 \nL 1159 1709 \nL 1159 0 \nL 581 0 \nL 581 4863 \nz\n\" transform=\"scale(0.015625)\"/>\n     </defs>\n     <use xlink:href=\"#DejaVuSans-74\"/>\n     <use xlink:href=\"#DejaVuSans-72\" x=\"39.208984\"/>\n     <use xlink:href=\"#DejaVuSans-75\" x=\"80.322266\"/>\n     <use xlink:href=\"#DejaVuSans-63\" x=\"143.701172\"/>\n     <use xlink:href=\"#DejaVuSans-6b\" x=\"198.681641\"/>\n    </g>\n   </g>\n  </g>\n  <g id=\"axes_2\">\n   <g clip-path=\"url(#pa2f985e468)\">\n    <image xlink:href=\"data:image/png;base64,\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\" id=\"image520a60b14a\" transform=\"scale(1 -1) translate(0 -96.48)\" x=\"126.496552\" y=\"-29.381573\" width=\"96.48\" height=\"96.48\"/>\n   </g>\n   <g id=\"text_2\">\n    <!-- Adversarial -->\n    <g style=\"fill: #262626\" transform=\"translate(140.802188 23.654677) scale(0.12 -0.12)\">\n     <defs>\n      <path id=\"DejaVuSans-41\" d=\"M 2188 4044 \nL 1331 1722 \nL 3047 1722 \nL 2188 4044 \nz\nM 1831 4666 \nL 2547 4666 \nL 4325 0 \nL 3669 0 \nL 3244 1197 \nL 1141 1197 \nL 716 0 \nL 50 0 \nL 1831 4666 \nz\n\" transform=\"scale(0.015625)\"/>\n      <path id=\"DejaVuSans-64\" d=\"M 2906 2969 \nL 2906 4863 \nL 3481 4863 \nL 3481 0 \nL 2906 0 \nL 2906 525 \nQ 2725 213 2448 61 \nQ 2172 -91 1784 -91 \nQ 1150 -91 751 415 \nQ 353 922 353 1747 \nQ 353 2572 751 3078 \nQ 1150 3584 1784 3584 \nQ 2172 3584 2448 3432 \nQ 2725 3281 2906 2969 \nz\nM 947 1747 \nQ 947 1113 1208 752 \nQ 1469 391 1925 391 \nQ 2381 391 2643 752 \nQ 2906 1113 2906 1747 \nQ 2906 2381 2643 2742 \nQ 2381 3103 1925 3103 \nQ 1469 3103 1208 2742 \nQ 947 2381 947 1747 \nz\n\" transform=\"scale(0.015625)\"/>\n      <path id=\"DejaVuSans-76\" d=\"M 191 3500 \nL 800 3500 \nL 1894 563 \nL 2988 3500 \nL 3597 3500 \nL 2284 0 \nL 1503 0 \nL 191 3500 \nz\n\" transform=\"scale(0.015625)\"/>\n      <path id=\"DejaVuSans-65\" d=\"M 3597 1894 \nL 3597 1613 \nL 953 1613 \nQ 991 1019 1311 708 \nQ 1631 397 2203 397 \nQ 2534 397 2845 478 \nQ 3156 559 3463 722 \nL 3463 178 \nQ 3153 47 2828 -22 \nQ 2503 -91 2169 -91 \nQ 1331 -91 842 396 \nQ 353 884 353 1716 \nQ 353 2575 817 3079 \nQ 1281 3584 2069 3584 \nQ 2775 3584 3186 3129 \nQ 3597 2675 3597 1894 \nz\nM 3022 2063 \nQ 3016 2534 2758 2815 \nQ 2500 3097 2075 3097 \nQ 1594 3097 1305 2825 \nQ 1016 2553 972 2059 \nL 3022 2063 \nz\n\" transform=\"scale(0.015625)\"/>\n      <path id=\"DejaVuSans-73\" d=\"M 2834 3397 \nL 2834 2853 \nQ 2591 2978 2328 3040 \nQ 2066 3103 1784 3103 \nQ 1356 3103 1142 2972 \nQ 928 2841 928 2578 \nQ 928 2378 1081 2264 \nQ 1234 2150 1697 2047 \nL 1894 2003 \nQ 2506 1872 2764 1633 \nQ 3022 1394 3022 966 \nQ 3022 478 2636 193 \nQ 2250 -91 1575 -91 \nQ 1294 -91 989 -36 \nQ 684 19 347 128 \nL 347 722 \nQ 666 556 975 473 \nQ 1284 391 1588 391 \nQ 1994 391 2212 530 \nQ 2431 669 2431 922 \nQ 2431 1156 2273 1281 \nQ 2116 1406 1581 1522 \nL 1381 1569 \nQ 847 1681 609 1914 \nQ 372 2147 372 2553 \nQ 372 3047 722 3315 \nQ 1072 3584 1716 3584 \nQ 2034 3584 2315 3537 \nQ 2597 3491 2834 3397 \nz\n\" transform=\"scale(0.015625)\"/>\n      <path id=\"DejaVuSans-61\" d=\"M 2194 1759 \nQ 1497 1759 1228 1600 \nQ 959 1441 959 1056 \nQ 959 750 1161 570 \nQ 1363 391 1709 391 \nQ 2188 391 2477 730 \nQ 2766 1069 2766 1631 \nL 2766 1759 \nL 2194 1759 \nz\nM 3341 1997 \nL 3341 0 \nL 2766 0 \nL 2766 531 \nQ 2569 213 2275 61 \nQ 1981 -91 1556 -91 \nQ 1019 -91 701 211 \nQ 384 513 384 1019 \nQ 384 1609 779 1909 \nQ 1175 2209 1959 2209 \nL 2766 2209 \nL 2766 2266 \nQ 2766 2663 2505 2880 \nQ 2244 3097 1772 3097 \nQ 1472 3097 1187 3025 \nQ 903 2953 641 2809 \nL 641 3341 \nQ 956 3463 1253 3523 \nQ 1550 3584 1831 3584 \nQ 2591 3584 2966 3190 \nQ 3341 2797 3341 1997 \nz\n\" transform=\"scale(0.015625)\"/>\n      <path id=\"DejaVuSans-69\" d=\"M 603 3500 \nL 1178 3500 \nL 1178 0 \nL 603 0 \nL 603 3500 \nz\nM 603 4863 \nL 1178 4863 \nL 1178 4134 \nL 603 4134 \nL 603 4863 \nz\n\" transform=\"scale(0.015625)\"/>\n      <path id=\"DejaVuSans-6c\" d=\"M 603 4863 \nL 1178 4863 \nL 1178 0 \nL 603 0 \nL 603 4863 \nz\n\" transform=\"scale(0.015625)\"/>\n     </defs>\n     <use xlink:href=\"#DejaVuSans-41\"/>\n     <use xlink:href=\"#DejaVuSans-64\" x=\"66.658203\"/>\n     <use xlink:href=\"#DejaVuSans-76\" x=\"130.134766\"/>\n     <use xlink:href=\"#DejaVuSans-65\" x=\"189.314453\"/>\n     <use xlink:href=\"#DejaVuSans-72\" x=\"250.837891\"/>\n     <use xlink:href=\"#DejaVuSans-73\" x=\"291.951172\"/>\n     <use xlink:href=\"#DejaVuSans-61\" x=\"344.050781\"/>\n     <use xlink:href=\"#DejaVuSans-72\" x=\"405.330078\"/>\n     <use xlink:href=\"#DejaVuSans-69\" x=\"446.443359\"/>\n     <use xlink:href=\"#DejaVuSans-61\" x=\"474.226562\"/>\n     <use xlink:href=\"#DejaVuSans-6c\" x=\"535.505859\"/>\n    </g>\n   </g>\n  </g>\n  <g id=\"axes_3\">\n   <g clip-path=\"url(#p31bf8326fe)\">\n    <image xlink:href=\"data:image/png;base64,\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\" id=\"image7a6eb274b4\" transform=\"scale(1 -1) translate(0 -96.48)\" x=\"245.793103\" y=\"-29.381573\" width=\"96.48\" height=\"96.48\"/>\n   </g>\n   <g id=\"text_3\">\n    <!-- Noise -->\n    <g style=\"fill: #262626\" transform=\"translate(277.252177 23.654677) scale(0.12 -0.12)\">\n     <defs>\n      <path id=\"DejaVuSans-4e\" d=\"M 628 4666 \nL 1478 4666 \nL 3547 763 \nL 3547 4666 \nL 4159 4666 \nL 4159 0 \nL 3309 0 \nL 1241 3903 \nL 1241 0 \nL 628 0 \nL 628 4666 \nz\n\" transform=\"scale(0.015625)\"/>\n      <path id=\"DejaVuSans-6f\" d=\"M 1959 3097 \nQ 1497 3097 1228 2736 \nQ 959 2375 959 1747 \nQ 959 1119 1226 758 \nQ 1494 397 1959 397 \nQ 2419 397 2687 759 \nQ 2956 1122 2956 1747 \nQ 2956 2369 2687 2733 \nQ 2419 3097 1959 3097 \nz\nM 1959 3584 \nQ 2709 3584 3137 3096 \nQ 3566 2609 3566 1747 \nQ 3566 888 3137 398 \nQ 2709 -91 1959 -91 \nQ 1206 -91 779 398 \nQ 353 888 353 1747 \nQ 353 2609 779 3096 \nQ 1206 3584 1959 3584 \nz\n\" transform=\"scale(0.015625)\"/>\n     </defs>\n     <use xlink:href=\"#DejaVuSans-4e\"/>\n     <use xlink:href=\"#DejaVuSans-6f\" x=\"74.804688\"/>\n     <use xlink:href=\"#DejaVuSans-69\" x=\"135.986328\"/>\n     <use xlink:href=\"#DejaVuSans-73\" x=\"163.769531\"/>\n     <use xlink:href=\"#DejaVuSans-65\" x=\"215.869141\"/>\n    </g>\n   </g>\n  </g>\n  <g id=\"axes_4\"/>\n  <g id=\"axes_5\">\n   <g id=\"patch_2\">\n    <path d=\"M 484.386207 133.198125 \nL 676.8 133.198125 \nL 676.8 22.318125 \nL 484.386207 22.318125 \nz\n\" style=\"fill: #eaeaf2\"/>\n   </g>\n   <g id=\"matplotlib.axis_1\">\n    <g id=\"xtick_1\">\n     <g id=\"line2d_1\">\n      <path d=\"M 484.386207 133.198125 \nL 484.386207 22.318125 \n\" clip-path=\"url(#pd3536ea804)\" style=\"fill: none; stroke: #ffffff; stroke-linecap: round\"/>\n     </g>\n     <g id=\"text_4\">\n      <!-- 0 -->\n      <g style=\"fill: #262626\" transform=\"translate(480.886832 151.056406) scale(0.11 -0.11)\">\n       <defs>\n        <path id=\"DejaVuSans-30\" d=\"M 2034 4250 \nQ 1547 4250 1301 3770 \nQ 1056 3291 1056 2328 \nQ 1056 1369 1301 889 \nQ 1547 409 2034 409 \nQ 2525 409 2770 889 \nQ 3016 1369 3016 2328 \nQ 3016 3291 2770 3770 \nQ 2525 4250 2034 4250 \nz\nM 2034 4750 \nQ 2819 4750 3233 4129 \nQ 3647 3509 3647 2328 \nQ 3647 1150 3233 529 \nQ 2819 -91 2034 -91 \nQ 1250 -91 836 529 \nQ 422 1150 422 2328 \nQ 422 3509 836 4129 \nQ 1250 4750 2034 4750 \nz\n\" transform=\"scale(0.015625)\"/>\n       </defs>\n       <use xlink:href=\"#DejaVuSans-30\"/>\n      </g>\n     </g>\n    </g>\n    <g id=\"xtick_2\">\n     <g id=\"line2d_2\">\n      <path d=\"M 530.219562 133.198125 \nL 530.219562 22.318125 \n\" clip-path=\"url(#pd3536ea804)\" style=\"fill: none; stroke: #ffffff; stroke-linecap: round\"/>\n     </g>\n     <g id=\"text_5\">\n      <!-- 25 -->\n      <g style=\"fill: #262626\" transform=\"translate(523.220812 151.056406) scale(0.11 -0.11)\">\n       <defs>\n        <path id=\"DejaVuSans-32\" d=\"M 1228 531 \nL 3431 531 \nL 3431 0 \nL 469 0 \nL 469 531 \nQ 828 903 1448 1529 \nQ 2069 2156 2228 2338 \nQ 2531 2678 2651 2914 \nQ 2772 3150 2772 3378 \nQ 2772 3750 2511 3984 \nQ 2250 4219 1831 4219 \nQ 1534 4219 1204 4116 \nQ 875 4013 500 3803 \nL 500 4441 \nQ 881 4594 1212 4672 \nQ 1544 4750 1819 4750 \nQ 2544 4750 2975 4387 \nQ 3406 4025 3406 3419 \nQ 3406 3131 3298 2873 \nQ 3191 2616 2906 2266 \nQ 2828 2175 2409 1742 \nQ 1991 1309 1228 531 \nz\n\" transform=\"scale(0.015625)\"/>\n        <path id=\"DejaVuSans-35\" d=\"M 691 4666 \nL 3169 4666 \nL 3169 4134 \nL 1269 4134 \nL 1269 2991 \nQ 1406 3038 1543 3061 \nQ 1681 3084 1819 3084 \nQ 2600 3084 3056 2656 \nQ 3513 2228 3513 1497 \nQ 3513 744 3044 326 \nQ 2575 -91 1722 -91 \nQ 1428 -91 1123 -41 \nQ 819 9 494 109 \nL 494 744 \nQ 775 591 1075 516 \nQ 1375 441 1709 441 \nQ 2250 441 2565 725 \nQ 2881 1009 2881 1497 \nQ 2881 1984 2565 2268 \nQ 2250 2553 1709 2553 \nQ 1456 2553 1204 2497 \nQ 953 2441 691 2322 \nL 691 4666 \nz\n\" transform=\"scale(0.015625)\"/>\n       </defs>\n       <use xlink:href=\"#DejaVuSans-32\"/>\n       <use xlink:href=\"#DejaVuSans-35\" x=\"63.623047\"/>\n      </g>\n     </g>\n    </g>\n    <g id=\"xtick_3\">\n     <g id=\"line2d_3\">\n      <path d=\"M 576.052917 133.198125 \nL 576.052917 22.318125 \n\" clip-path=\"url(#pd3536ea804)\" style=\"fill: none; stroke: #ffffff; stroke-linecap: round\"/>\n     </g>\n     <g id=\"text_6\">\n      <!-- 50 -->\n      <g style=\"fill: #262626\" transform=\"translate(569.054167 151.056406) scale(0.11 -0.11)\">\n       <use xlink:href=\"#DejaVuSans-35\"/>\n       <use xlink:href=\"#DejaVuSans-30\" x=\"63.623047\"/>\n      </g>\n     </g>\n    </g>\n    <g id=\"xtick_4\">\n     <g id=\"line2d_4\">\n      <path d=\"M 621.886272 133.198125 \nL 621.886272 22.318125 \n\" clip-path=\"url(#pd3536ea804)\" style=\"fill: none; stroke: #ffffff; stroke-linecap: round\"/>\n     </g>\n     <g id=\"text_7\">\n      <!-- 75 -->\n      <g style=\"fill: #262626\" transform=\"translate(614.887522 151.056406) scale(0.11 -0.11)\">\n       <defs>\n        <path id=\"DejaVuSans-37\" d=\"M 525 4666 \nL 3525 4666 \nL 3525 4397 \nL 1831 0 \nL 1172 0 \nL 2766 4134 \nL 525 4134 \nL 525 4666 \nz\n\" transform=\"scale(0.015625)\"/>\n       </defs>\n       <use xlink:href=\"#DejaVuSans-37\"/>\n       <use xlink:href=\"#DejaVuSans-35\" x=\"63.623047\"/>\n      </g>\n     </g>\n    </g>\n    <g id=\"xtick_5\">\n     <g id=\"line2d_5\">\n      <path d=\"M 667.719627 133.198125 \nL 667.719627 22.318125 \n\" clip-path=\"url(#pd3536ea804)\" style=\"fill: none; stroke: #ffffff; stroke-linecap: round\"/>\n     </g>\n     <g id=\"text_8\">\n      <!-- 100 -->\n      <g style=\"fill: #262626\" transform=\"translate(657.221502 151.056406) scale(0.11 -0.11)\">\n       <defs>\n        <path id=\"DejaVuSans-31\" d=\"M 794 531 \nL 1825 531 \nL 1825 4091 \nL 703 3866 \nL 703 4441 \nL 1819 4666 \nL 2450 4666 \nL 2450 531 \nL 3481 531 \nL 3481 0 \nL 794 0 \nL 794 531 \nz\n\" transform=\"scale(0.015625)\"/>\n       </defs>\n       <use xlink:href=\"#DejaVuSans-31\"/>\n       <use xlink:href=\"#DejaVuSans-30\" x=\"63.623047\"/>\n       <use xlink:href=\"#DejaVuSans-30\" x=\"127.246094\"/>\n      </g>\n     </g>\n    </g>\n    <g id=\"text_9\">\n     <!-- Confidence -->\n     <g style=\"fill: #262626\" transform=\"translate(546.856228 166.462187) scale(0.12 -0.12)\">\n      <defs>\n       <path id=\"DejaVuSans-43\" d=\"M 4122 4306 \nL 4122 3641 \nQ 3803 3938 3442 4084 \nQ 3081 4231 2675 4231 \nQ 1875 4231 1450 3742 \nQ 1025 3253 1025 2328 \nQ 1025 1406 1450 917 \nQ 1875 428 2675 428 \nQ 3081 428 3442 575 \nQ 3803 722 4122 1019 \nL 4122 359 \nQ 3791 134 3420 21 \nQ 3050 -91 2638 -91 \nQ 1578 -91 968 557 \nQ 359 1206 359 2328 \nQ 359 3453 968 4101 \nQ 1578 4750 2638 4750 \nQ 3056 4750 3426 4639 \nQ 3797 4528 4122 4306 \nz\n\" transform=\"scale(0.015625)\"/>\n       <path id=\"DejaVuSans-6e\" d=\"M 3513 2113 \nL 3513 0 \nL 2938 0 \nL 2938 2094 \nQ 2938 2591 2744 2837 \nQ 2550 3084 2163 3084 \nQ 1697 3084 1428 2787 \nQ 1159 2491 1159 1978 \nL 1159 0 \nL 581 0 \nL 581 3500 \nL 1159 3500 \nL 1159 2956 \nQ 1366 3272 1645 3428 \nQ 1925 3584 2291 3584 \nQ 2894 3584 3203 3211 \nQ 3513 2838 3513 2113 \nz\n\" transform=\"scale(0.015625)\"/>\n       <path id=\"DejaVuSans-66\" d=\"M 2375 4863 \nL 2375 4384 \nL 1825 4384 \nQ 1516 4384 1395 4259 \nQ 1275 4134 1275 3809 \nL 1275 3500 \nL 2222 3500 \nL 2222 3053 \nL 1275 3053 \nL 1275 0 \nL 697 0 \nL 697 3053 \nL 147 3053 \nL 147 3500 \nL 697 3500 \nL 697 3744 \nQ 697 4328 969 4595 \nQ 1241 4863 1831 4863 \nL 2375 4863 \nz\n\" transform=\"scale(0.015625)\"/>\n      </defs>\n      <use xlink:href=\"#DejaVuSans-43\"/>\n      <use xlink:href=\"#DejaVuSans-6f\" x=\"69.824219\"/>\n      <use xlink:href=\"#DejaVuSans-6e\" x=\"131.005859\"/>\n      <use xlink:href=\"#DejaVuSans-66\" x=\"194.384766\"/>\n      <use xlink:href=\"#DejaVuSans-69\" x=\"229.589844\"/>\n      <use xlink:href=\"#DejaVuSans-64\" x=\"257.373047\"/>\n      <use xlink:href=\"#DejaVuSans-65\" x=\"320.849609\"/>\n      <use xlink:href=\"#DejaVuSans-6e\" x=\"382.373047\"/>\n      <use xlink:href=\"#DejaVuSans-63\" x=\"445.751953\"/>\n      <use xlink:href=\"#DejaVuSans-65\" x=\"500.732422\"/>\n     </g>\n    </g>\n   </g>\n   <g id=\"matplotlib.axis_2\">\n    <g id=\"ytick_1\">\n     <g id=\"line2d_6\">\n      <path d=\"M 484.386207 49.758125 \nL 676.8 49.758125 \n\" clip-path=\"url(#pd3536ea804)\" style=\"fill: none; stroke: #ffffff; stroke-linecap: round\"/>\n     </g>\n     <g id=\"text_10\">\n      <!-- truck -->\n      <g style=\"fill: #262626\" transform=\"translate(446.662613 53.937266) scale(0.11 -0.11)\">\n       <use xlink:href=\"#DejaVuSans-74\"/>\n       <use xlink:href=\"#DejaVuSans-72\" x=\"39.208984\"/>\n       <use xlink:href=\"#DejaVuSans-75\" x=\"80.322266\"/>\n       <use xlink:href=\"#DejaVuSans-63\" x=\"143.701172\"/>\n       <use xlink:href=\"#DejaVuSans-6b\" x=\"198.681641\"/>\n      </g>\n     </g>\n    </g>\n    <g id=\"ytick_2\">\n     <g id=\"line2d_7\">\n      <path d=\"M 484.386207 105.758125 \nL 676.8 105.758125 \n\" clip-path=\"url(#pd3536ea804)\" style=\"fill: none; stroke: #ffffff; stroke-linecap: round\"/>\n     </g>\n     <g id=\"text_11\">\n      <!-- automobile -->\n      <g style=\"fill: #262626\" transform=\"translate(412.822144 109.937266) scale(0.11 -0.11)\">\n       <defs>\n        <path id=\"DejaVuSans-6d\" d=\"M 3328 2828 \nQ 3544 3216 3844 3400 \nQ 4144 3584 4550 3584 \nQ 5097 3584 5394 3201 \nQ 5691 2819 5691 2113 \nL 5691 0 \nL 5113 0 \nL 5113 2094 \nQ 5113 2597 4934 2840 \nQ 4756 3084 4391 3084 \nQ 3944 3084 3684 2787 \nQ 3425 2491 3425 1978 \nL 3425 0 \nL 2847 0 \nL 2847 2094 \nQ 2847 2600 2669 2842 \nQ 2491 3084 2119 3084 \nQ 1678 3084 1418 2786 \nQ 1159 2488 1159 1978 \nL 1159 0 \nL 581 0 \nL 581 3500 \nL 1159 3500 \nL 1159 2956 \nQ 1356 3278 1631 3431 \nQ 1906 3584 2284 3584 \nQ 2666 3584 2933 3390 \nQ 3200 3197 3328 2828 \nz\n\" transform=\"scale(0.015625)\"/>\n        <path id=\"DejaVuSans-62\" d=\"M 3116 1747 \nQ 3116 2381 2855 2742 \nQ 2594 3103 2138 3103 \nQ 1681 3103 1420 2742 \nQ 1159 2381 1159 1747 \nQ 1159 1113 1420 752 \nQ 1681 391 2138 391 \nQ 2594 391 2855 752 \nQ 3116 1113 3116 1747 \nz\nM 1159 2969 \nQ 1341 3281 1617 3432 \nQ 1894 3584 2278 3584 \nQ 2916 3584 3314 3078 \nQ 3713 2572 3713 1747 \nQ 3713 922 3314 415 \nQ 2916 -91 2278 -91 \nQ 1894 -91 1617 61 \nQ 1341 213 1159 525 \nL 1159 0 \nL 581 0 \nL 581 4863 \nL 1159 4863 \nL 1159 2969 \nz\n\" transform=\"scale(0.015625)\"/>\n       </defs>\n       <use xlink:href=\"#DejaVuSans-61\"/>\n       <use xlink:href=\"#DejaVuSans-75\" x=\"61.279297\"/>\n       <use xlink:href=\"#DejaVuSans-74\" x=\"124.658203\"/>\n       <use xlink:href=\"#DejaVuSans-6f\" x=\"163.867188\"/>\n       <use xlink:href=\"#DejaVuSans-6d\" x=\"225.048828\"/>\n       <use xlink:href=\"#DejaVuSans-6f\" x=\"322.460938\"/>\n       <use xlink:href=\"#DejaVuSans-62\" x=\"383.642578\"/>\n       <use xlink:href=\"#DejaVuSans-69\" x=\"447.119141\"/>\n       <use xlink:href=\"#DejaVuSans-6c\" x=\"474.902344\"/>\n       <use xlink:href=\"#DejaVuSans-65\" x=\"502.685547\"/>\n      </g>\n     </g>\n    </g>\n   </g>\n   <g id=\"patch_3\">\n    <path d=\"M 484.386207 27.358125 \nL 667.637438 27.358125 \nL 667.637438 72.158125 \nL 484.386207 72.158125 \nz\n\" clip-path=\"url(#pd3536ea804)\" style=\"fill: #55a868; stroke: #ffffff; stroke-linejoin: miter\"/>\n   </g>\n   <g id=\"patch_4\">\n    <path d=\"M 484.386207 83.358125 \nL 484.441081 83.358125 \nL 484.441081 128.158125 \nL 484.386207 128.158125 \nz\n\" clip-path=\"url(#pd3536ea804)\" style=\"fill: #4c72b0; stroke: #ffffff; stroke-linejoin: miter\"/>\n   </g>\n   <g id=\"patch_5\">\n    <path d=\"M 484.386207 133.198125 \nL 484.386207 22.318125 \n\" style=\"fill: none; stroke: #ffffff; stroke-width: 1.25; stroke-linejoin: miter; stroke-linecap: square\"/>\n   </g>\n   <g id=\"patch_6\">\n    <path d=\"M 676.8 133.198125 \nL 676.8 22.318125 \n\" style=\"fill: none; stroke: #ffffff; stroke-width: 1.25; stroke-linejoin: miter; stroke-linecap: square\"/>\n   </g>\n   <g id=\"patch_7\">\n    <path d=\"M 484.386207 133.198125 \nL 676.8 133.198125 \n\" style=\"fill: none; stroke: #ffffff; stroke-width: 1.25; stroke-linejoin: miter; stroke-linecap: square\"/>\n   </g>\n   <g id=\"patch_8\">\n    <path d=\"M 484.386207 22.318125 \nL 676.8 22.318125 \n\" style=\"fill: none; stroke: #ffffff; stroke-width: 1.25; stroke-linejoin: miter; stroke-linecap: square\"/>\n   </g>\n   <g id=\"text_12\">\n    <!-- Predictions -->\n    <g style=\"fill: #262626\" transform=\"translate(547.663416 16.318125) scale(0.12 -0.12)\">\n     <defs>\n      <path id=\"DejaVuSans-50\" d=\"M 1259 4147 \nL 1259 2394 \nL 2053 2394 \nQ 2494 2394 2734 2622 \nQ 2975 2850 2975 3272 \nQ 2975 3691 2734 3919 \nQ 2494 4147 2053 4147 \nL 1259 4147 \nz\nM 628 4666 \nL 2053 4666 \nQ 2838 4666 3239 4311 \nQ 3641 3956 3641 3272 \nQ 3641 2581 3239 2228 \nQ 2838 1875 2053 1875 \nL 1259 1875 \nL 1259 0 \nL 628 0 \nL 628 4666 \nz\n\" transform=\"scale(0.015625)\"/>\n     </defs>\n     <use xlink:href=\"#DejaVuSans-50\"/>\n     <use xlink:href=\"#DejaVuSans-72\" x=\"58.552734\"/>\n     <use xlink:href=\"#DejaVuSans-65\" x=\"97.416016\"/>\n     <use xlink:href=\"#DejaVuSans-64\" x=\"158.939453\"/>\n     <use xlink:href=\"#DejaVuSans-69\" x=\"222.416016\"/>\n     <use xlink:href=\"#DejaVuSans-63\" x=\"250.199219\"/>\n     <use xlink:href=\"#DejaVuSans-74\" x=\"305.179688\"/>\n     <use xlink:href=\"#DejaVuSans-69\" x=\"344.388672\"/>\n     <use xlink:href=\"#DejaVuSans-6f\" x=\"372.171875\"/>\n     <use xlink:href=\"#DejaVuSans-6e\" x=\"433.353516\"/>\n     <use xlink:href=\"#DejaVuSans-73\" x=\"496.732422\"/>\n    </g>\n   </g>\n  </g>\n </g>\n <defs>\n  <clipPath id=\"p4bf5164e05\">\n   <rect x=\"7.2\" y=\"29.654677\" width=\"96.206897\" height=\"96.206897\"/>\n  </clipPath>\n  <clipPath id=\"pa2f985e468\">\n   <rect x=\"126.496552\" y=\"29.654677\" width=\"96.206897\" height=\"96.206897\"/>\n  </clipPath>\n  <clipPath id=\"p31bf8326fe\">\n   <rect x=\"245.793103\" y=\"29.654677\" width=\"96.206897\" height=\"96.206897\"/>\n  </clipPath>\n  <clipPath id=\"pd3536ea804\">\n   <rect x=\"484.386207\" y=\"22.318125\" width=\"192.413793\" height=\"110.88\"/>\n  </clipPath>\n </defs>\n</svg>\n",
            "text/plain": [
              "<Figure size 1200x200 with 5 Axes>"
            ]
          },
          "metadata": {},
          "output_type": "display_data"
        }
      ],
      "source": [
        "adv_imgs, noise_grad = fast_gradient_sign_method(pretrained_model, exmp_batch, label_batch, epsilon=0.02)\n",
        "with torch.no_grad():\n",
        "    adv_preds = pretrained_model(adv_imgs.to(device))\n",
        "    \n",
        "for i in range(1,17,5):\n",
        "    show_prediction(exmp_batch[i], label_batch[i], adv_preds[i], adv_img=adv_imgs[i], noise=noise_grad[i])"
      ]
    },
    {
      "cell_type": "markdown",
      "metadata": {
        "id": "py8nvelYocby"
      },
      "source": [
        "Despite the minor amount of noise, we are able to fool the network on all of our examples. None of the labels have made it into the top-5 for the four images, showing that we indeed fooled the model. We can also check the accuracy of the model on the adversarial images:"
      ]
    },
    {
      "cell_type": "code",
      "execution_count": 18,
      "metadata": {
        "colab": {
          "referenced_widgets": [
            "50d6d8a1d98b49a7afd8fd6c25927c29"
          ]
        },
        "id": "E-l-uNLSocby",
        "outputId": "91137ed6-a9f8-4315-8b98-4ca9a5cb21ea"
      },
      "outputs": [
        {
          "data": {
            "application/vnd.jupyter.widget-view+json": {
              "model_id": "6835cfb62d00490bbb3720e01d93227f",
              "version_major": 2,
              "version_minor": 0
            },
            "text/plain": [
              "Validating...:   0%|          | 0/391 [00:00<?, ?it/s]"
            ]
          },
          "metadata": {},
          "output_type": "display_data"
        },
        {
          "name": "stderr",
          "output_type": "stream",
          "text": [
            "/home/codespace/venv/lib/python3.8/site-packages/torch/utils/data/dataloader.py:554: UserWarning: This DataLoader will create 8 worker processes in total. Our suggested max number of worker in current system is 6, which is smaller than what this DataLoader is going to create. Please be aware that excessive worker creation might get DataLoader running slow or even freeze, lower the worker number to avoid potential slowness/freeze if necessary.\n",
            "  warnings.warn(_create_warning_msg(\n"
          ]
        },
        {
          "name": "stdout",
          "output_type": "stream",
          "text": [
            "Top-1 error: 28.64%\n",
            "Top-2 error: 18.85%\n"
          ]
        }
      ],
      "source": [
        "_ = eval_model(data_loader, img_func=lambda x, y: fast_gradient_sign_method(pretrained_model, x, y, epsilon=0.02)[0])"
      ]
    },
    {
      "cell_type": "markdown",
      "metadata": {
        "id": "msCKgT29ocby"
      },
      "source": [
        "As expected, the model is fooled on almost every image at least for the top-1 error, and more than half don't have the true label in their top-5. This is a quite significant difference compared to the error rate of 4.3% on the clean images. However, note that the predictions remain semantically similar. For instance, in the images we visualized above, the tench is still recognized as another fish, as well as the great white shark being a dugong. FGSM could be adapted to increase the probability of a specific class instead of minimizing the probability of a label, but for those, there are usually better attacks such as the adversarial patch."
      ]
    },
    {
      "cell_type": "markdown",
      "metadata": {
        "id": "NfgvMq4Focby"
      },
      "source": [
        "### Adversarial Patches\n",
        "\n",
        "Instead of changing every pixel by a little bit, we can also try to change a small part of the image into whatever values we would like. In other words, we will create a small image patch that covers a minor part of the original image but causes the model to confidentially predict a specific class we choose. This form of attack is an even bigger threat in real-world applications than FSGM. Imagine a network in an autonomous car that receives a live image from a camera. Another driver could print out a specific pattern and put it on the back of his/her vehicle to make the autonomous car believe that the car is actually a pedestrian. Meanwhile, humans would not notice it. [Tom Brown et al.](https://arxiv.org/pdf/1712.09665.pdf) proposed a way of learning such adversarial image patches robustly in 2017 and provided a short demonstration on [YouTube](https://youtu.be/i1sp4X57TL4). Interestingly, if you add a small picture of the target class (here *toaster*) to the original image, the model does not pick it up at all. A specifically designed patch, however, which only roughly looks like a toaster, can change the network's prediction instantaneously.\n",
        "\n",
        "[![Adversarial patch in real world](https://img.youtube.com/vi/i1sp4X57TL4/0.jpg)](https://youtu.be/i1sp4X57TL4)\n",
        "\n",
        "Let's take a closer look at how we can actually train such patches. The general idea is very similar to FSGM in the sense that we calculate gradients for the input, and update our adversarial input correspondingly. However, there are also some differences in the setup. Firstly, we do not calculate a gradient for every pixel. Instead, we replace parts of the input image with our patch and then calculate the gradients just for our patch. Secondly, we don't just do it for one image, but we want the patch to work with any possible image. Hence, we have a whole training loop where we train the patch using SGD. Lastly, image patches are usually designed to make the model predict a specific class, not just any other arbitrary class except the true label. For instance, we can try to create a patch for the class \"toaster\" and train the patch so that our pretrained model predicts the class \"toaster\" for any image with the patch in it.\n",
        "\n",
        "Additionally, to the setup described above, there are a couple of design choices we can take. For instance, [Brown et al.](https://arxiv.org/pdf/1712.09665.pdf) randomly rotated and scaled the patch during training before placing it at a random position in an input image. This makes the patch more robust to small changes and is necessary if we want to fool a neural network in a real-world application. For simplicity, we will only focus on making the patch robust to the location in the image. Given a batch of input images and a patch, we can add the patch as follows:"
      ]
    },
    {
      "cell_type": "code",
      "execution_count": 19,
      "metadata": {
        "id": "BU6tbkCmocby"
      },
      "outputs": [],
      "source": [
        "def place_patch(img, patch):\n",
        "    for i in range(img.shape[0]):\n",
        "        h_offset = np.random.randint(0,img.shape[2]-patch.shape[1]-1)\n",
        "        w_offset = np.random.randint(0,img.shape[3]-patch.shape[2]-1)\n",
        "        img[i,:,h_offset:h_offset+patch.shape[1],w_offset:w_offset+patch.shape[2]] = patch_forward(patch)\n",
        "    return img"
      ]
    },
    {
      "cell_type": "markdown",
      "metadata": {
        "id": "Q9EUlOLTocby"
      },
      "source": [
        "The patch itself will be an `nn.Parameter` whose values are in the range between $-\\infty$ and $\\infty$. Images are, however, naturally limited in their range, and thus we write a small function that maps the parameter into the image value range of ImageNet:"
      ]
    },
    {
      "cell_type": "code",
      "execution_count": 20,
      "metadata": {
        "id": "QTuTZQ15ocby"
      },
      "outputs": [],
      "source": [
        "TENSOR_MEANS, TENSOR_STD = torch.FloatTensor(NORM_MEAN)[:,None,None], torch.FloatTensor(NORM_STD)[:,None,None]\n",
        "def patch_forward(patch):\n",
        "    # Map patch values from [-infty,infty] to ImageNet min and max\n",
        "    patch = (torch.tanh(patch) + 1 - 2 * TENSOR_MEANS) / (2 * TENSOR_STD)\n",
        "    return patch"
      ]
    },
    {
      "cell_type": "markdown",
      "metadata": {
        "id": "UP2XhwPKocbz"
      },
      "source": [
        "Before looking at the actual training code, we can write a small evaluation function. We evaluate the success of a patch by how many times we were able to fool the network into predicting our target class. A simple function for this is implemented below."
      ]
    },
    {
      "cell_type": "code",
      "execution_count": 21,
      "metadata": {
        "id": "YpjUc1rfocbz"
      },
      "outputs": [],
      "source": [
        "def eval_patch(model, patch, val_loader, target_class):\n",
        "    model.eval()\n",
        "    tp, tp_5, counter = 0., 0., 0.\n",
        "    with torch.no_grad():\n",
        "        for img, img_labels in tqdm(val_loader, desc=\"Validating...\", leave=False):\n",
        "            # For stability, place the patch at 4 random locations per image, and average the performance\n",
        "            for _ in range(4): \n",
        "                patch_img = place_patch(img, patch)\n",
        "                patch_img = patch_img.to(device)\n",
        "                img_labels = img_labels.to(device)\n",
        "                pred = model(patch_img)\n",
        "                # In the accuracy calculation, we need to exclude the images that are of our target class\n",
        "                # as we would not \"fool\" the model into predicting those\n",
        "                tp += torch.logical_and(pred.argmax(dim=-1) == target_class, img_labels != target_class).sum()\n",
        "                tp_5 += torch.logical_and((pred.topk(5, dim=-1)[1] == target_class).any(dim=-1), img_labels != target_class).sum()\n",
        "                counter += (img_labels != target_class).sum()\n",
        "    acc = tp/counter\n",
        "    top5 = tp_5/counter\n",
        "    return acc, top5"
      ]
    },
    {
      "cell_type": "markdown",
      "metadata": {
        "id": "x-Ui7du6ocbz"
      },
      "source": [
        "Finally, we can look at the training loop. Given a model to fool, a target class to design the patch for, and a size $k$ of the patch in the number of pixels, we first start by creating a parameter of size $3\\times k\\times k$. These are the only parameters we will train, and the network itself remains untouched. We use a simple SGD optimizer with momentum to minimize the classification loss of the model given the patch in the image. While we first start with a very high loss due to the good initial performance of the network, the loss quickly decreases once we start changing the patch. In the end, the patch will represent patterns that are characteristic of the class. For instance, if we would want the model to predict a \"goldfish\" in every image, we would expect the pattern to look somewhat like a goldfish. Over the iterations, the model finetunes the pattern and, hopefully, achieves a high fooling accuracy."
      ]
    },
    {
      "cell_type": "code",
      "execution_count": 23,
      "metadata": {},
      "outputs": [
        {
          "name": "stdout",
          "output_type": "stream",
          "text": [
            "50000\n"
          ]
        }
      ],
      "source": [
        "# get dataset size \n",
        "dataset_size = len(data_loader.dataset)\n",
        "print(dataset_size)"
      ]
    },
    {
      "cell_type": "code",
      "execution_count": 24,
      "metadata": {
        "id": "NLdojBB2ocbz"
      },
      "outputs": [],
      "source": [
        "def patch_attack(model, target_class, patch_size=64, num_epochs=5):\n",
        "    # Leave a small set of images out to check generalization\n",
        "    # In most of our experiments, the performance on the hold-out data points\n",
        "    # was as good as on the training set. Overfitting was little possible due\n",
        "    # to the small size of the patches.\n",
        "    # split train_set and val_set by 90% and 10% of dataset_size\n",
        "    dataset_size = len(data_loader.dataset)\n",
        "    train_set, val_set = torch.utils.data.random_split(dataset, [int(dataset_size*0.9), int(dataset_size*0.1)])\n",
        "    #train_set, val_set = torch.utils.data.random_split(dataset, [4500, 500])\n",
        "    train_loader = data.DataLoader(train_set, batch_size=32, shuffle=True, drop_last=True, num_workers=8)\n",
        "    val_loader = data.DataLoader(val_set, batch_size=32, shuffle=False, drop_last=False, num_workers=4)\n",
        "    \n",
        "    # Create parameter and optimizer\n",
        "    if not isinstance(patch_size, tuple):\n",
        "        patch_size = (patch_size, patch_size)\n",
        "    patch = nn.Parameter(torch.zeros(3, patch_size[0], patch_size[1]), requires_grad=True)\n",
        "    optimizer = torch.optim.SGD([patch], lr=1e-1, momentum=0.8)\n",
        "    loss_module = nn.CrossEntropyLoss()\n",
        "    \n",
        "    # Training loop\n",
        "    for epoch in range(num_epochs):\n",
        "        t = tqdm(train_loader, leave=False)\n",
        "        for img, _ in t:\n",
        "            img = place_patch(img, patch)\n",
        "            img = img.to(device)\n",
        "            pred = model(img)\n",
        "            labels = torch.zeros(img.shape[0], device=pred.device, dtype=torch.long).fill_(target_class)\n",
        "            loss = loss_module(pred, labels)\n",
        "            optimizer.zero_grad()\n",
        "            loss.mean().backward()\n",
        "            optimizer.step()\n",
        "            t.set_description(f\"Epoch {epoch}, Loss: {loss.item():4.2f}\")\n",
        "    \n",
        "    # Final validation\n",
        "    acc, top5 = eval_patch(model, patch, val_loader, target_class)\n",
        "    \n",
        "    return patch.data, {\"acc\": acc.item(), \"top5\": top5.item()}"
      ]
    },
    {
      "cell_type": "markdown",
      "metadata": {
        "id": "Y63bNeziocbz"
      },
      "source": [
        "To get some experience with what to expect from an adversarial patch attack, we want to train multiple patches for different classes. As the training of a patch can take one or two minutes on a GPU, we have provided a couple of pre-trained patches including their results on the full dataset. The results are saved in a JSON file, which is loaded below."
      ]
    },
    {
      "cell_type": "code",
      "execution_count": 25,
      "metadata": {
        "id": "QXSIzNWsocbz"
      },
      "outputs": [],
      "source": [
        "# Load evaluation results of the pretrained patches\n",
        "json_results_file = os.path.join(CHECKPOINT_PATH, \"patch_results.json\")\n",
        "json_results = {}\n",
        "if os.path.isfile(json_results_file):\n",
        "    with open(json_results_file, \"r\") as f:\n",
        "        json_results = json.load(f)\n",
        "        \n",
        "# If you train new patches, you can save the results via calling this function\n",
        "def save_results(patch_dict):\n",
        "    result_dict = {cname: {psize: [t.item() if isinstance(t, torch.Tensor) else t \n",
        "                                   for t in patch_dict[cname][psize][\"results\"]] \n",
        "                           for psize in patch_dict[cname]} \n",
        "                   for cname in patch_dict}\n",
        "    with open(os.path.join(CHECKPOINT_PATH, \"patch_results.json\"), \"w\") as f:\n",
        "        json.dump(result_dict, f, indent=4)"
      ]
    },
    {
      "cell_type": "markdown",
      "metadata": {
        "id": "HT2Zj9uUocbz"
      },
      "source": [
        "Additionally, we implement a function to train and evaluate patches for a list of classes and patch sizes. The pretrained patches include the classes *toaster*, *goldfish*, *school bus*, *lipstick*, and *pineapple*. We chose the classes arbitrarily to cover multiple domains (animals, vehicles, fruits, devices, etc.). We trained each class for three different patch sizes: $32\\times32$ pixels, $48\\times48$ pixels, and $64\\times64$ pixels. We can load them in the two cells below."
      ]
    },
    {
      "cell_type": "code",
      "execution_count": 26,
      "metadata": {
        "id": "2hRC25Vvocbz"
      },
      "outputs": [],
      "source": [
        "def get_patches(class_names, patch_sizes):\n",
        "    result_dict = dict()\n",
        "\n",
        "    # Loop over all classes and patch sizes\n",
        "    for name in class_names:\n",
        "        result_dict[name] = dict()\n",
        "        for patch_size in patch_sizes:\n",
        "            c = label_names.index(name)\n",
        "            file_name = os.path.join(CHECKPOINT_PATH, f\"{name}_{patch_size}_patch.pt\")\n",
        "            # Load patch if pretrained file exists, otherwise start training\n",
        "            if not os.path.isfile(file_name):\n",
        "                patch, val_results = patch_attack(pretrained_model, target_class=c, patch_size=patch_size, num_epochs=5)\n",
        "                print(f\"Validation results for {name} and {patch_size}:\", val_results)\n",
        "                torch.save(patch, file_name)\n",
        "            else:\n",
        "                patch = torch.load(file_name)\n",
        "            # Load evaluation results if exist, otherwise manually evaluate the patch\n",
        "            if name in json_results:\n",
        "                results = json_results[name][str(patch_size)]\n",
        "            else:\n",
        "                results = eval_patch(pretrained_model, patch, data_loader, target_class=c)    \n",
        "            \n",
        "            # Store results and the patches in a dict for better access\n",
        "            result_dict[name][patch_size] = {\n",
        "                \"results\": results,\n",
        "                \"patch\": patch\n",
        "            }\n",
        "        \n",
        "    return result_dict"
      ]
    },
    {
      "cell_type": "markdown",
      "metadata": {
        "id": "aXQRwA4Wocbz"
      },
      "source": [
        "Feel free to add any additional classes and/or patch sizes."
      ]
    },
    {
      "cell_type": "code",
      "execution_count": 27,
      "metadata": {
        "id": "fjh8NVD6ocbz"
      },
      "outputs": [
        {
          "name": "stderr",
          "output_type": "stream",
          "text": [
            "/home/codespace/venv/lib/python3.8/site-packages/torch/utils/data/dataloader.py:554: UserWarning: This DataLoader will create 8 worker processes in total. Our suggested max number of worker in current system is 6, which is smaller than what this DataLoader is going to create. Please be aware that excessive worker creation might get DataLoader running slow or even freeze, lower the worker number to avoid potential slowness/freeze if necessary.\n",
            "  warnings.warn(_create_warning_msg(\n"
          ]
        },
        {
          "data": {
            "application/vnd.jupyter.widget-view+json": {
              "model_id": "bd19f729c20e4484a5378ca366638485",
              "version_major": 2,
              "version_minor": 0
            },
            "text/plain": [
              "  0%|          | 0/1406 [00:00<?, ?it/s]"
            ]
          },
          "metadata": {},
          "output_type": "display_data"
        },
        {
          "data": {
            "application/vnd.jupyter.widget-view+json": {
              "model_id": "5dfe531cc9a146ed90222193f3c0aa53",
              "version_major": 2,
              "version_minor": 0
            },
            "text/plain": [
              "  0%|          | 0/1406 [00:00<?, ?it/s]"
            ]
          },
          "metadata": {},
          "output_type": "display_data"
        },
        {
          "data": {
            "application/vnd.jupyter.widget-view+json": {
              "model_id": "a127d46de48243da8106b1f4546786f3",
              "version_major": 2,
              "version_minor": 0
            },
            "text/plain": [
              "  0%|          | 0/1406 [00:00<?, ?it/s]"
            ]
          },
          "metadata": {},
          "output_type": "display_data"
        },
        {
          "data": {
            "application/vnd.jupyter.widget-view+json": {
              "model_id": "a3ad0c12a96a41a591908732d34fecd1",
              "version_major": 2,
              "version_minor": 0
            },
            "text/plain": [
              "  0%|          | 0/1406 [00:00<?, ?it/s]"
            ]
          },
          "metadata": {},
          "output_type": "display_data"
        },
        {
          "data": {
            "application/vnd.jupyter.widget-view+json": {
              "model_id": "3cd487780ab646e092e6eab61140b624",
              "version_major": 2,
              "version_minor": 0
            },
            "text/plain": [
              "  0%|          | 0/1406 [00:00<?, ?it/s]"
            ]
          },
          "metadata": {},
          "output_type": "display_data"
        },
        {
          "data": {
            "application/vnd.jupyter.widget-view+json": {
              "model_id": "a9af38b5ebd04960a3168cc8b6e5affe",
              "version_major": 2,
              "version_minor": 0
            },
            "text/plain": [
              "Validating...:   0%|          | 0/157 [00:00<?, ?it/s]"
            ]
          },
          "metadata": {},
          "output_type": "display_data"
        },
        {
          "name": "stdout",
          "output_type": "stream",
          "text": [
            "Validation results for airplane and 3: {'acc': 0.05927777662873268, 'top5': 0.5418333411216736}\n"
          ]
        },
        {
          "data": {
            "application/vnd.jupyter.widget-view+json": {
              "model_id": "049ed7defefe4fc8ab10670200dcf694",
              "version_major": 2,
              "version_minor": 0
            },
            "text/plain": [
              "Validating...:   0%|          | 0/391 [00:00<?, ?it/s]"
            ]
          },
          "metadata": {},
          "output_type": "display_data"
        },
        {
          "data": {
            "application/vnd.jupyter.widget-view+json": {
              "model_id": "4a0170e054f44bb0bec40a5edebce21e",
              "version_major": 2,
              "version_minor": 0
            },
            "text/plain": [
              "  0%|          | 0/1406 [00:00<?, ?it/s]"
            ]
          },
          "metadata": {},
          "output_type": "display_data"
        },
        {
          "data": {
            "application/vnd.jupyter.widget-view+json": {
              "model_id": "7a1645fd371c44c0acb63796d72cde70",
              "version_major": 2,
              "version_minor": 0
            },
            "text/plain": [
              "  0%|          | 0/1406 [00:00<?, ?it/s]"
            ]
          },
          "metadata": {},
          "output_type": "display_data"
        },
        {
          "data": {
            "application/vnd.jupyter.widget-view+json": {
              "model_id": "e3af7795791e4195b3f5c349a05ac3c2",
              "version_major": 2,
              "version_minor": 0
            },
            "text/plain": [
              "  0%|          | 0/1406 [00:00<?, ?it/s]"
            ]
          },
          "metadata": {},
          "output_type": "display_data"
        },
        {
          "data": {
            "application/vnd.jupyter.widget-view+json": {
              "model_id": "3cf41aa8372145269e28eb9b67568781",
              "version_major": 2,
              "version_minor": 0
            },
            "text/plain": [
              "  0%|          | 0/1406 [00:00<?, ?it/s]"
            ]
          },
          "metadata": {},
          "output_type": "display_data"
        },
        {
          "data": {
            "application/vnd.jupyter.widget-view+json": {
              "model_id": "0ed01c78c958495ebf0fedf9917e0a11",
              "version_major": 2,
              "version_minor": 0
            },
            "text/plain": [
              "  0%|          | 0/1406 [00:00<?, ?it/s]"
            ]
          },
          "metadata": {},
          "output_type": "display_data"
        },
        {
          "data": {
            "application/vnd.jupyter.widget-view+json": {
              "model_id": "fe83dcd10aee435498b2cafb9bc755e4",
              "version_major": 2,
              "version_minor": 0
            },
            "text/plain": [
              "Validating...:   0%|          | 0/157 [00:00<?, ?it/s]"
            ]
          },
          "metadata": {},
          "output_type": "display_data"
        },
        {
          "name": "stdout",
          "output_type": "stream",
          "text": [
            "Validation results for airplane and 5: {'acc': 0.24994410574436188, 'top5': 0.810082733631134}\n"
          ]
        },
        {
          "data": {
            "application/vnd.jupyter.widget-view+json": {
              "model_id": "534375ae2ecd4b02922e8f974094fd19",
              "version_major": 2,
              "version_minor": 0
            },
            "text/plain": [
              "Validating...:   0%|          | 0/391 [00:00<?, ?it/s]"
            ]
          },
          "metadata": {},
          "output_type": "display_data"
        },
        {
          "data": {
            "application/vnd.jupyter.widget-view+json": {
              "model_id": "7589431bf43f4a4e83defd2834dc30f3",
              "version_major": 2,
              "version_minor": 0
            },
            "text/plain": [
              "  0%|          | 0/1406 [00:00<?, ?it/s]"
            ]
          },
          "metadata": {},
          "output_type": "display_data"
        },
        {
          "data": {
            "application/vnd.jupyter.widget-view+json": {
              "model_id": "cf10bc4f0c3f494b9525c28caf60e040",
              "version_major": 2,
              "version_minor": 0
            },
            "text/plain": [
              "  0%|          | 0/1406 [00:00<?, ?it/s]"
            ]
          },
          "metadata": {},
          "output_type": "display_data"
        },
        {
          "data": {
            "application/vnd.jupyter.widget-view+json": {
              "model_id": "153d7cd68cc3498a9b08391baa47ee97",
              "version_major": 2,
              "version_minor": 0
            },
            "text/plain": [
              "  0%|          | 0/1406 [00:00<?, ?it/s]"
            ]
          },
          "metadata": {},
          "output_type": "display_data"
        },
        {
          "data": {
            "application/vnd.jupyter.widget-view+json": {
              "model_id": "76927d980a01426a8751a4a00ba62d5a",
              "version_major": 2,
              "version_minor": 0
            },
            "text/plain": [
              "  0%|          | 0/1406 [00:00<?, ?it/s]"
            ]
          },
          "metadata": {},
          "output_type": "display_data"
        },
        {
          "data": {
            "application/vnd.jupyter.widget-view+json": {
              "model_id": "bfbd1d8abcf14c6cbb73d21590e08e35",
              "version_major": 2,
              "version_minor": 0
            },
            "text/plain": [
              "  0%|          | 0/1406 [00:00<?, ?it/s]"
            ]
          },
          "metadata": {},
          "output_type": "display_data"
        },
        {
          "data": {
            "application/vnd.jupyter.widget-view+json": {
              "model_id": "b3f39d8232a04437860012645c2db3ef",
              "version_major": 2,
              "version_minor": 0
            },
            "text/plain": [
              "Validating...:   0%|          | 0/157 [00:00<?, ?it/s]"
            ]
          },
          "metadata": {},
          "output_type": "display_data"
        },
        {
          "name": "stdout",
          "output_type": "stream",
          "text": [
            "Validation results for airplane and 7: {'acc': 0.4546109437942505, 'top5': 0.9259033203125}\n"
          ]
        },
        {
          "data": {
            "application/vnd.jupyter.widget-view+json": {
              "model_id": "ce2b832b15fa486ca885cf1f4c62e4b7",
              "version_major": 2,
              "version_minor": 0
            },
            "text/plain": [
              "Validating...:   0%|          | 0/391 [00:00<?, ?it/s]"
            ]
          },
          "metadata": {},
          "output_type": "display_data"
        },
        {
          "data": {
            "application/vnd.jupyter.widget-view+json": {
              "model_id": "1897c5ca27fe4f3abd8f4ec276a3236d",
              "version_major": 2,
              "version_minor": 0
            },
            "text/plain": [
              "  0%|          | 0/1406 [00:00<?, ?it/s]"
            ]
          },
          "metadata": {},
          "output_type": "display_data"
        },
        {
          "data": {
            "application/vnd.jupyter.widget-view+json": {
              "model_id": "280dd915a8614c5e91b1608a50f3cc4c",
              "version_major": 2,
              "version_minor": 0
            },
            "text/plain": [
              "  0%|          | 0/1406 [00:00<?, ?it/s]"
            ]
          },
          "metadata": {},
          "output_type": "display_data"
        },
        {
          "data": {
            "application/vnd.jupyter.widget-view+json": {
              "model_id": "8b4f3d71c4724a71af280fef9f8a73c5",
              "version_major": 2,
              "version_minor": 0
            },
            "text/plain": [
              "  0%|          | 0/1406 [00:00<?, ?it/s]"
            ]
          },
          "metadata": {},
          "output_type": "display_data"
        },
        {
          "data": {
            "application/vnd.jupyter.widget-view+json": {
              "model_id": "042a871128a649f28bd42fe2785022a4",
              "version_major": 2,
              "version_minor": 0
            },
            "text/plain": [
              "  0%|          | 0/1406 [00:00<?, ?it/s]"
            ]
          },
          "metadata": {},
          "output_type": "display_data"
        },
        {
          "data": {
            "application/vnd.jupyter.widget-view+json": {
              "model_id": "e81754dbaafb4161ae66635140f8b98f",
              "version_major": 2,
              "version_minor": 0
            },
            "text/plain": [
              "  0%|          | 0/1406 [00:00<?, ?it/s]"
            ]
          },
          "metadata": {},
          "output_type": "display_data"
        },
        {
          "data": {
            "application/vnd.jupyter.widget-view+json": {
              "model_id": "fef2e1532d2346b9af635b893c73c5f0",
              "version_major": 2,
              "version_minor": 0
            },
            "text/plain": [
              "Validating...:   0%|          | 0/157 [00:00<?, ?it/s]"
            ]
          },
          "metadata": {},
          "output_type": "display_data"
        },
        {
          "name": "stdout",
          "output_type": "stream",
          "text": [
            "Validation results for airplane and 16: {'acc': 0.9995549917221069, 'top5': 1.0}\n"
          ]
        },
        {
          "data": {
            "application/vnd.jupyter.widget-view+json": {
              "model_id": "c49d22a1df0d4669898b931681269677",
              "version_major": 2,
              "version_minor": 0
            },
            "text/plain": [
              "Validating...:   0%|          | 0/391 [00:00<?, ?it/s]"
            ]
          },
          "metadata": {},
          "output_type": "display_data"
        },
        {
          "data": {
            "application/vnd.jupyter.widget-view+json": {
              "model_id": "c702b5e5c8cb4166a6b799beac2df038",
              "version_major": 2,
              "version_minor": 0
            },
            "text/plain": [
              "  0%|          | 0/1406 [00:00<?, ?it/s]"
            ]
          },
          "metadata": {},
          "output_type": "display_data"
        },
        {
          "data": {
            "application/vnd.jupyter.widget-view+json": {
              "model_id": "2a1ec2b9c2f34de2b757072b4e59de7c",
              "version_major": 2,
              "version_minor": 0
            },
            "text/plain": [
              "  0%|          | 0/1406 [00:00<?, ?it/s]"
            ]
          },
          "metadata": {},
          "output_type": "display_data"
        },
        {
          "data": {
            "application/vnd.jupyter.widget-view+json": {
              "model_id": "3acb7f5d97ee4454a4d0f130257c7b18",
              "version_major": 2,
              "version_minor": 0
            },
            "text/plain": [
              "  0%|          | 0/1406 [00:00<?, ?it/s]"
            ]
          },
          "metadata": {},
          "output_type": "display_data"
        },
        {
          "data": {
            "application/vnd.jupyter.widget-view+json": {
              "model_id": "c64006d2d9ef49b9bff2d1af711b84ce",
              "version_major": 2,
              "version_minor": 0
            },
            "text/plain": [
              "  0%|          | 0/1406 [00:00<?, ?it/s]"
            ]
          },
          "metadata": {},
          "output_type": "display_data"
        },
        {
          "data": {
            "application/vnd.jupyter.widget-view+json": {
              "model_id": "f9b9bdfea7984f65921adce129cdaebf",
              "version_major": 2,
              "version_minor": 0
            },
            "text/plain": [
              "  0%|          | 0/1406 [00:00<?, ?it/s]"
            ]
          },
          "metadata": {},
          "output_type": "display_data"
        },
        {
          "data": {
            "application/vnd.jupyter.widget-view+json": {
              "model_id": "d7bd93e9fff94b2d9a4e5de1f8a66b3d",
              "version_major": 2,
              "version_minor": 0
            },
            "text/plain": [
              "Validating...:   0%|          | 0/157 [00:00<?, ?it/s]"
            ]
          },
          "metadata": {},
          "output_type": "display_data"
        },
        {
          "name": "stdout",
          "output_type": "stream",
          "text": [
            "Validation results for automobile and 3: {'acc': 0.02354910783469677, 'top5': 0.5116629600524902}\n"
          ]
        },
        {
          "data": {
            "application/vnd.jupyter.widget-view+json": {
              "model_id": "0c2f9f789715495b9d4b02c1710730ef",
              "version_major": 2,
              "version_minor": 0
            },
            "text/plain": [
              "Validating...:   0%|          | 0/391 [00:00<?, ?it/s]"
            ]
          },
          "metadata": {},
          "output_type": "display_data"
        },
        {
          "data": {
            "application/vnd.jupyter.widget-view+json": {
              "model_id": "f88d079fb07a46b18be2c3bf0a9a8d26",
              "version_major": 2,
              "version_minor": 0
            },
            "text/plain": [
              "  0%|          | 0/1406 [00:00<?, ?it/s]"
            ]
          },
          "metadata": {},
          "output_type": "display_data"
        },
        {
          "data": {
            "application/vnd.jupyter.widget-view+json": {
              "model_id": "31c479db94484d75bedc305290bb9bce",
              "version_major": 2,
              "version_minor": 0
            },
            "text/plain": [
              "  0%|          | 0/1406 [00:00<?, ?it/s]"
            ]
          },
          "metadata": {},
          "output_type": "display_data"
        },
        {
          "data": {
            "application/vnd.jupyter.widget-view+json": {
              "model_id": "3cc8536fb59142e59e33851cb823f526",
              "version_major": 2,
              "version_minor": 0
            },
            "text/plain": [
              "  0%|          | 0/1406 [00:00<?, ?it/s]"
            ]
          },
          "metadata": {},
          "output_type": "display_data"
        },
        {
          "data": {
            "application/vnd.jupyter.widget-view+json": {
              "model_id": "6ee6386846b64347a09835eeb845f6e6",
              "version_major": 2,
              "version_minor": 0
            },
            "text/plain": [
              "  0%|          | 0/1406 [00:00<?, ?it/s]"
            ]
          },
          "metadata": {},
          "output_type": "display_data"
        },
        {
          "data": {
            "application/vnd.jupyter.widget-view+json": {
              "model_id": "5e8c6c13f45d459b8f7afd87ac125721",
              "version_major": 2,
              "version_minor": 0
            },
            "text/plain": [
              "  0%|          | 0/1406 [00:00<?, ?it/s]"
            ]
          },
          "metadata": {},
          "output_type": "display_data"
        },
        {
          "data": {
            "application/vnd.jupyter.widget-view+json": {
              "model_id": "be233545d5334c96818e5adbb9ec176d",
              "version_major": 2,
              "version_minor": 0
            },
            "text/plain": [
              "Validating...:   0%|          | 0/157 [00:00<?, ?it/s]"
            ]
          },
          "metadata": {},
          "output_type": "display_data"
        },
        {
          "name": "stdout",
          "output_type": "stream",
          "text": [
            "Validation results for automobile and 5: {'acc': 0.5025011301040649, 'top5': 0.9145731329917908}\n"
          ]
        },
        {
          "data": {
            "application/vnd.jupyter.widget-view+json": {
              "model_id": "519b499f70364bc290ace33d1ca8e20a",
              "version_major": 2,
              "version_minor": 0
            },
            "text/plain": [
              "Validating...:   0%|          | 0/391 [00:00<?, ?it/s]"
            ]
          },
          "metadata": {},
          "output_type": "display_data"
        },
        {
          "data": {
            "application/vnd.jupyter.widget-view+json": {
              "model_id": "ed45e12b6e53484da7c0a2b7c8bcbdfd",
              "version_major": 2,
              "version_minor": 0
            },
            "text/plain": [
              "  0%|          | 0/1406 [00:00<?, ?it/s]"
            ]
          },
          "metadata": {},
          "output_type": "display_data"
        },
        {
          "data": {
            "application/vnd.jupyter.widget-view+json": {
              "model_id": "f86bb048ae1544a5902b2e6f39bc42ea",
              "version_major": 2,
              "version_minor": 0
            },
            "text/plain": [
              "  0%|          | 0/1406 [00:00<?, ?it/s]"
            ]
          },
          "metadata": {},
          "output_type": "display_data"
        },
        {
          "data": {
            "application/vnd.jupyter.widget-view+json": {
              "model_id": "8356e3d4c81f45b4950cb195900a6048",
              "version_major": 2,
              "version_minor": 0
            },
            "text/plain": [
              "  0%|          | 0/1406 [00:00<?, ?it/s]"
            ]
          },
          "metadata": {},
          "output_type": "display_data"
        },
        {
          "data": {
            "application/vnd.jupyter.widget-view+json": {
              "model_id": "961626fcf63248beaaa9ad694430f82c",
              "version_major": 2,
              "version_minor": 0
            },
            "text/plain": [
              "  0%|          | 0/1406 [00:00<?, ?it/s]"
            ]
          },
          "metadata": {},
          "output_type": "display_data"
        },
        {
          "data": {
            "application/vnd.jupyter.widget-view+json": {
              "model_id": "2f278cf8e53e410690d732ad0deed7c0",
              "version_major": 2,
              "version_minor": 0
            },
            "text/plain": [
              "  0%|          | 0/1406 [00:00<?, ?it/s]"
            ]
          },
          "metadata": {},
          "output_type": "display_data"
        },
        {
          "data": {
            "application/vnd.jupyter.widget-view+json": {
              "model_id": "868871e01df941588e208d55768485dc",
              "version_major": 2,
              "version_minor": 0
            },
            "text/plain": [
              "Validating...:   0%|          | 0/157 [00:00<?, ?it/s]"
            ]
          },
          "metadata": {},
          "output_type": "display_data"
        },
        {
          "name": "stdout",
          "output_type": "stream",
          "text": [
            "Validation results for automobile and 7: {'acc': 0.7757230997085571, 'top5': 0.9829984307289124}\n"
          ]
        },
        {
          "data": {
            "application/vnd.jupyter.widget-view+json": {
              "model_id": "8131378e062445f0a589d4d53341e891",
              "version_major": 2,
              "version_minor": 0
            },
            "text/plain": [
              "Validating...:   0%|          | 0/391 [00:00<?, ?it/s]"
            ]
          },
          "metadata": {},
          "output_type": "display_data"
        },
        {
          "data": {
            "application/vnd.jupyter.widget-view+json": {
              "model_id": "11511a0b725749b5bb735657e70a433c",
              "version_major": 2,
              "version_minor": 0
            },
            "text/plain": [
              "  0%|          | 0/1406 [00:00<?, ?it/s]"
            ]
          },
          "metadata": {},
          "output_type": "display_data"
        },
        {
          "data": {
            "application/vnd.jupyter.widget-view+json": {
              "model_id": "ecaac41e47ae4aa1af0f67e2b5c6c6ba",
              "version_major": 2,
              "version_minor": 0
            },
            "text/plain": [
              "  0%|          | 0/1406 [00:00<?, ?it/s]"
            ]
          },
          "metadata": {},
          "output_type": "display_data"
        },
        {
          "data": {
            "application/vnd.jupyter.widget-view+json": {
              "model_id": "60785ed2c76a4769aa0fb6dd81201edd",
              "version_major": 2,
              "version_minor": 0
            },
            "text/plain": [
              "  0%|          | 0/1406 [00:00<?, ?it/s]"
            ]
          },
          "metadata": {},
          "output_type": "display_data"
        },
        {
          "data": {
            "application/vnd.jupyter.widget-view+json": {
              "model_id": "6b7d6af252cd4d258fb8e4b24ea8cf1c",
              "version_major": 2,
              "version_minor": 0
            },
            "text/plain": [
              "  0%|          | 0/1406 [00:00<?, ?it/s]"
            ]
          },
          "metadata": {},
          "output_type": "display_data"
        },
        {
          "data": {
            "application/vnd.jupyter.widget-view+json": {
              "model_id": "5efea61b32db4076b3565fb33ec6900f",
              "version_major": 2,
              "version_minor": 0
            },
            "text/plain": [
              "  0%|          | 0/1406 [00:00<?, ?it/s]"
            ]
          },
          "metadata": {},
          "output_type": "display_data"
        },
        {
          "data": {
            "application/vnd.jupyter.widget-view+json": {
              "model_id": "d85e76c5e24e430898456702279dfc53",
              "version_major": 2,
              "version_minor": 0
            },
            "text/plain": [
              "Validating...:   0%|          | 0/157 [00:00<?, ?it/s]"
            ]
          },
          "metadata": {},
          "output_type": "display_data"
        },
        {
          "name": "stdout",
          "output_type": "stream",
          "text": [
            "Validation results for automobile and 16: {'acc': 1.0, 'top5': 1.0}\n"
          ]
        },
        {
          "data": {
            "application/vnd.jupyter.widget-view+json": {
              "model_id": "92b099e1ef994c8aa46e9e071eb4af0f",
              "version_major": 2,
              "version_minor": 0
            },
            "text/plain": [
              "Validating...:   0%|          | 0/391 [00:00<?, ?it/s]"
            ]
          },
          "metadata": {},
          "output_type": "display_data"
        },
        {
          "data": {
            "application/vnd.jupyter.widget-view+json": {
              "model_id": "6670387520d54cd1b6e52d4d93484a78",
              "version_major": 2,
              "version_minor": 0
            },
            "text/plain": [
              "  0%|          | 0/1406 [00:00<?, ?it/s]"
            ]
          },
          "metadata": {},
          "output_type": "display_data"
        },
        {
          "data": {
            "application/vnd.jupyter.widget-view+json": {
              "model_id": "10fff111ef6d432bb6bfa0c723df9a1d",
              "version_major": 2,
              "version_minor": 0
            },
            "text/plain": [
              "  0%|          | 0/1406 [00:00<?, ?it/s]"
            ]
          },
          "metadata": {},
          "output_type": "display_data"
        },
        {
          "data": {
            "application/vnd.jupyter.widget-view+json": {
              "model_id": "a2658ba4e1c74cea9e5d2ea33cd92e53",
              "version_major": 2,
              "version_minor": 0
            },
            "text/plain": [
              "  0%|          | 0/1406 [00:00<?, ?it/s]"
            ]
          },
          "metadata": {},
          "output_type": "display_data"
        },
        {
          "data": {
            "application/vnd.jupyter.widget-view+json": {
              "model_id": "e52a770c35b7432a988d830cbac9694d",
              "version_major": 2,
              "version_minor": 0
            },
            "text/plain": [
              "  0%|          | 0/1406 [00:00<?, ?it/s]"
            ]
          },
          "metadata": {},
          "output_type": "display_data"
        },
        {
          "data": {
            "application/vnd.jupyter.widget-view+json": {
              "model_id": "e5c898c0122b4f5e931ad18cd0a22489",
              "version_major": 2,
              "version_minor": 0
            },
            "text/plain": [
              "  0%|          | 0/1406 [00:00<?, ?it/s]"
            ]
          },
          "metadata": {},
          "output_type": "display_data"
        },
        {
          "data": {
            "application/vnd.jupyter.widget-view+json": {
              "model_id": "ea55eefb2350474b897b0bb6d5d4f380",
              "version_major": 2,
              "version_minor": 0
            },
            "text/plain": [
              "Validating...:   0%|          | 0/157 [00:00<?, ?it/s]"
            ]
          },
          "metadata": {},
          "output_type": "display_data"
        },
        {
          "name": "stdout",
          "output_type": "stream",
          "text": [
            "Validation results for bird and 3: {'acc': 0.056919146329164505, 'top5': 0.6208351850509644}\n"
          ]
        },
        {
          "data": {
            "application/vnd.jupyter.widget-view+json": {
              "model_id": "5c66229af70b4c29bf07e47445953595",
              "version_major": 2,
              "version_minor": 0
            },
            "text/plain": [
              "Validating...:   0%|          | 0/391 [00:00<?, ?it/s]"
            ]
          },
          "metadata": {},
          "output_type": "display_data"
        },
        {
          "data": {
            "application/vnd.jupyter.widget-view+json": {
              "model_id": "7e049e0c853e4ed7934b5dae47896f4e",
              "version_major": 2,
              "version_minor": 0
            },
            "text/plain": [
              "  0%|          | 0/1406 [00:00<?, ?it/s]"
            ]
          },
          "metadata": {},
          "output_type": "display_data"
        },
        {
          "data": {
            "application/vnd.jupyter.widget-view+json": {
              "model_id": "6c36a6c2b0224bc38985bcf8f942040d",
              "version_major": 2,
              "version_minor": 0
            },
            "text/plain": [
              "  0%|          | 0/1406 [00:00<?, ?it/s]"
            ]
          },
          "metadata": {},
          "output_type": "display_data"
        },
        {
          "data": {
            "application/vnd.jupyter.widget-view+json": {
              "model_id": "121e6c57370745928707e5b904069140",
              "version_major": 2,
              "version_minor": 0
            },
            "text/plain": [
              "  0%|          | 0/1406 [00:00<?, ?it/s]"
            ]
          },
          "metadata": {},
          "output_type": "display_data"
        },
        {
          "data": {
            "application/vnd.jupyter.widget-view+json": {
              "model_id": "9bf1c675a21740f9a13359ae9fa7e054",
              "version_major": 2,
              "version_minor": 0
            },
            "text/plain": [
              "  0%|          | 0/1406 [00:00<?, ?it/s]"
            ]
          },
          "metadata": {},
          "output_type": "display_data"
        },
        {
          "data": {
            "application/vnd.jupyter.widget-view+json": {
              "model_id": "c5f27c75760d4a60b3dfc3cb8f0e31d6",
              "version_major": 2,
              "version_minor": 0
            },
            "text/plain": [
              "  0%|          | 0/1406 [00:00<?, ?it/s]"
            ]
          },
          "metadata": {},
          "output_type": "display_data"
        },
        {
          "data": {
            "application/vnd.jupyter.widget-view+json": {
              "model_id": "ac17552fd8ac4be7bf996e04046a867e",
              "version_major": 2,
              "version_minor": 0
            },
            "text/plain": [
              "Validating...:   0%|          | 0/157 [00:00<?, ?it/s]"
            ]
          },
          "metadata": {},
          "output_type": "display_data"
        },
        {
          "name": "stdout",
          "output_type": "stream",
          "text": [
            "Validation results for bird and 5: {'acc': 0.45287203788757324, 'top5': 0.9331891536712646}\n"
          ]
        },
        {
          "data": {
            "application/vnd.jupyter.widget-view+json": {
              "model_id": "00ee470ffeab4871af813541d09eac5b",
              "version_major": 2,
              "version_minor": 0
            },
            "text/plain": [
              "Validating...:   0%|          | 0/391 [00:00<?, ?it/s]"
            ]
          },
          "metadata": {},
          "output_type": "display_data"
        },
        {
          "data": {
            "application/vnd.jupyter.widget-view+json": {
              "model_id": "0f89deed3a484535abb77b64b846bf4c",
              "version_major": 2,
              "version_minor": 0
            },
            "text/plain": [
              "  0%|          | 0/1406 [00:00<?, ?it/s]"
            ]
          },
          "metadata": {},
          "output_type": "display_data"
        },
        {
          "data": {
            "application/vnd.jupyter.widget-view+json": {
              "model_id": "1f7c3cf27f994803919cd88e603ada39",
              "version_major": 2,
              "version_minor": 0
            },
            "text/plain": [
              "  0%|          | 0/1406 [00:00<?, ?it/s]"
            ]
          },
          "metadata": {},
          "output_type": "display_data"
        },
        {
          "data": {
            "application/vnd.jupyter.widget-view+json": {
              "model_id": "4989adba002b423dab4a92bc647e31b6",
              "version_major": 2,
              "version_minor": 0
            },
            "text/plain": [
              "  0%|          | 0/1406 [00:00<?, ?it/s]"
            ]
          },
          "metadata": {},
          "output_type": "display_data"
        },
        {
          "data": {
            "application/vnd.jupyter.widget-view+json": {
              "model_id": "cd06237bfbd44a3c8ffedcac2097adeb",
              "version_major": 2,
              "version_minor": 0
            },
            "text/plain": [
              "  0%|          | 0/1406 [00:00<?, ?it/s]"
            ]
          },
          "metadata": {},
          "output_type": "display_data"
        },
        {
          "data": {
            "application/vnd.jupyter.widget-view+json": {
              "model_id": "ce47cf8e638f4ea39080aa3a317c8daa",
              "version_major": 2,
              "version_minor": 0
            },
            "text/plain": [
              "  0%|          | 0/1406 [00:00<?, ?it/s]"
            ]
          },
          "metadata": {},
          "output_type": "display_data"
        },
        {
          "data": {
            "application/vnd.jupyter.widget-view+json": {
              "model_id": "e5e3f316558748ec939a8273c2ca39f1",
              "version_major": 2,
              "version_minor": 0
            },
            "text/plain": [
              "Validating...:   0%|          | 0/157 [00:00<?, ?it/s]"
            ]
          },
          "metadata": {},
          "output_type": "display_data"
        },
        {
          "name": "stdout",
          "output_type": "stream",
          "text": [
            "Validation results for bird and 7: {'acc': 0.7562723755836487, 'top5': 0.9915434718132019}\n"
          ]
        },
        {
          "data": {
            "application/vnd.jupyter.widget-view+json": {
              "model_id": "3960de38002047178e68c0df70e43c00",
              "version_major": 2,
              "version_minor": 0
            },
            "text/plain": [
              "Validating...:   0%|          | 0/391 [00:00<?, ?it/s]"
            ]
          },
          "metadata": {},
          "output_type": "display_data"
        },
        {
          "data": {
            "application/vnd.jupyter.widget-view+json": {
              "model_id": "88d43bd186ae49d28038be18a83b00d5",
              "version_major": 2,
              "version_minor": 0
            },
            "text/plain": [
              "  0%|          | 0/1406 [00:00<?, ?it/s]"
            ]
          },
          "metadata": {},
          "output_type": "display_data"
        },
        {
          "data": {
            "application/vnd.jupyter.widget-view+json": {
              "model_id": "b028df588e7d4f50892b500117919601",
              "version_major": 2,
              "version_minor": 0
            },
            "text/plain": [
              "  0%|          | 0/1406 [00:00<?, ?it/s]"
            ]
          },
          "metadata": {},
          "output_type": "display_data"
        },
        {
          "data": {
            "application/vnd.jupyter.widget-view+json": {
              "model_id": "c39c6d97febe49f9b0cf8a598872737c",
              "version_major": 2,
              "version_minor": 0
            },
            "text/plain": [
              "  0%|          | 0/1406 [00:00<?, ?it/s]"
            ]
          },
          "metadata": {},
          "output_type": "display_data"
        },
        {
          "data": {
            "application/vnd.jupyter.widget-view+json": {
              "model_id": "daca10c9378f41ac9f2a07685c3bc205",
              "version_major": 2,
              "version_minor": 0
            },
            "text/plain": [
              "  0%|          | 0/1406 [00:00<?, ?it/s]"
            ]
          },
          "metadata": {},
          "output_type": "display_data"
        },
        {
          "data": {
            "application/vnd.jupyter.widget-view+json": {
              "model_id": "78664f1ecef442a29802a8472f69b05f",
              "version_major": 2,
              "version_minor": 0
            },
            "text/plain": [
              "  0%|          | 0/1406 [00:00<?, ?it/s]"
            ]
          },
          "metadata": {},
          "output_type": "display_data"
        },
        {
          "data": {
            "application/vnd.jupyter.widget-view+json": {
              "model_id": "e4f5d718472d4071be55f833bd5f3ade",
              "version_major": 2,
              "version_minor": 0
            },
            "text/plain": [
              "Validating...:   0%|          | 0/157 [00:00<?, ?it/s]"
            ]
          },
          "metadata": {},
          "output_type": "display_data"
        },
        {
          "name": "stdout",
          "output_type": "stream",
          "text": [
            "Validation results for bird and 16: {'acc': 0.999888002872467, 'top5': 1.0}\n"
          ]
        },
        {
          "data": {
            "application/vnd.jupyter.widget-view+json": {
              "model_id": "b52dab3a77a145cf8bd586364a6de7be",
              "version_major": 2,
              "version_minor": 0
            },
            "text/plain": [
              "Validating...:   0%|          | 0/391 [00:00<?, ?it/s]"
            ]
          },
          "metadata": {},
          "output_type": "display_data"
        },
        {
          "data": {
            "application/vnd.jupyter.widget-view+json": {
              "model_id": "15aa111bebc045759592f688e96faf5e",
              "version_major": 2,
              "version_minor": 0
            },
            "text/plain": [
              "  0%|          | 0/1406 [00:00<?, ?it/s]"
            ]
          },
          "metadata": {},
          "output_type": "display_data"
        },
        {
          "data": {
            "application/vnd.jupyter.widget-view+json": {
              "model_id": "9dd08230d798468b986de4a106e2afc7",
              "version_major": 2,
              "version_minor": 0
            },
            "text/plain": [
              "  0%|          | 0/1406 [00:00<?, ?it/s]"
            ]
          },
          "metadata": {},
          "output_type": "display_data"
        },
        {
          "data": {
            "application/vnd.jupyter.widget-view+json": {
              "model_id": "ee6c9c18c0764cfeb90b7f597377f04a",
              "version_major": 2,
              "version_minor": 0
            },
            "text/plain": [
              "  0%|          | 0/1406 [00:00<?, ?it/s]"
            ]
          },
          "metadata": {},
          "output_type": "display_data"
        },
        {
          "data": {
            "application/vnd.jupyter.widget-view+json": {
              "model_id": "9d4544cb62ca481aaf4e12afcca9e138",
              "version_major": 2,
              "version_minor": 0
            },
            "text/plain": [
              "  0%|          | 0/1406 [00:00<?, ?it/s]"
            ]
          },
          "metadata": {},
          "output_type": "display_data"
        },
        {
          "data": {
            "application/vnd.jupyter.widget-view+json": {
              "model_id": "8b5bfadc4287432baebc47412e12dc9a",
              "version_major": 2,
              "version_minor": 0
            },
            "text/plain": [
              "  0%|          | 0/1406 [00:00<?, ?it/s]"
            ]
          },
          "metadata": {},
          "output_type": "display_data"
        },
        {
          "data": {
            "application/vnd.jupyter.widget-view+json": {
              "model_id": "ac2c72fccaba41ec983b47f657f2f757",
              "version_major": 2,
              "version_minor": 0
            },
            "text/plain": [
              "Validating...:   0%|          | 0/157 [00:00<?, ?it/s]"
            ]
          },
          "metadata": {},
          "output_type": "display_data"
        },
        {
          "name": "stdout",
          "output_type": "stream",
          "text": [
            "Validation results for cat and 3: {'acc': 0.07687150686979294, 'top5': 0.7446368932723999}\n"
          ]
        },
        {
          "data": {
            "application/vnd.jupyter.widget-view+json": {
              "model_id": "8b3f1896527847e08d38999c40e4c645",
              "version_major": 2,
              "version_minor": 0
            },
            "text/plain": [
              "Validating...:   0%|          | 0/391 [00:00<?, ?it/s]"
            ]
          },
          "metadata": {},
          "output_type": "display_data"
        },
        {
          "data": {
            "application/vnd.jupyter.widget-view+json": {
              "model_id": "45fd52917bcf439cae213cca51b5c4a7",
              "version_major": 2,
              "version_minor": 0
            },
            "text/plain": [
              "  0%|          | 0/1406 [00:00<?, ?it/s]"
            ]
          },
          "metadata": {},
          "output_type": "display_data"
        },
        {
          "data": {
            "application/vnd.jupyter.widget-view+json": {
              "model_id": "1115ab9d7b624f6896b7d1c7df5c1533",
              "version_major": 2,
              "version_minor": 0
            },
            "text/plain": [
              "  0%|          | 0/1406 [00:00<?, ?it/s]"
            ]
          },
          "metadata": {},
          "output_type": "display_data"
        },
        {
          "data": {
            "application/vnd.jupyter.widget-view+json": {
              "model_id": "64e7789536e5457081ed5cde77f87d5b",
              "version_major": 2,
              "version_minor": 0
            },
            "text/plain": [
              "  0%|          | 0/1406 [00:00<?, ?it/s]"
            ]
          },
          "metadata": {},
          "output_type": "display_data"
        },
        {
          "data": {
            "application/vnd.jupyter.widget-view+json": {
              "model_id": "f61408cd30614959a95131a6ec5c2fe0",
              "version_major": 2,
              "version_minor": 0
            },
            "text/plain": [
              "  0%|          | 0/1406 [00:00<?, ?it/s]"
            ]
          },
          "metadata": {},
          "output_type": "display_data"
        },
        {
          "data": {
            "application/vnd.jupyter.widget-view+json": {
              "model_id": "2bbe183a23cc405da615a9f40be4a086",
              "version_major": 2,
              "version_minor": 0
            },
            "text/plain": [
              "  0%|          | 0/1406 [00:00<?, ?it/s]"
            ]
          },
          "metadata": {},
          "output_type": "display_data"
        },
        {
          "data": {
            "application/vnd.jupyter.widget-view+json": {
              "model_id": "82bad3fc1aeb469b90c5690641c22ed3",
              "version_major": 2,
              "version_minor": 0
            },
            "text/plain": [
              "Validating...:   0%|          | 0/157 [00:00<?, ?it/s]"
            ]
          },
          "metadata": {},
          "output_type": "display_data"
        },
        {
          "name": "stdout",
          "output_type": "stream",
          "text": [
            "Validation results for cat and 5: {'acc': 0.371277779340744, 'top5': 0.9570555686950684}\n"
          ]
        },
        {
          "data": {
            "application/vnd.jupyter.widget-view+json": {
              "model_id": "d647b00efbee44319264e574f5779248",
              "version_major": 2,
              "version_minor": 0
            },
            "text/plain": [
              "Validating...:   0%|          | 0/391 [00:00<?, ?it/s]"
            ]
          },
          "metadata": {},
          "output_type": "display_data"
        },
        {
          "data": {
            "application/vnd.jupyter.widget-view+json": {
              "model_id": "b8d5358d72f24c5792b5a4a104e8023d",
              "version_major": 2,
              "version_minor": 0
            },
            "text/plain": [
              "  0%|          | 0/1406 [00:00<?, ?it/s]"
            ]
          },
          "metadata": {},
          "output_type": "display_data"
        },
        {
          "data": {
            "application/vnd.jupyter.widget-view+json": {
              "model_id": "5820204e1b174c229652f78123137933",
              "version_major": 2,
              "version_minor": 0
            },
            "text/plain": [
              "  0%|          | 0/1406 [00:00<?, ?it/s]"
            ]
          },
          "metadata": {},
          "output_type": "display_data"
        },
        {
          "data": {
            "application/vnd.jupyter.widget-view+json": {
              "model_id": "d59b3ea1d656413290df2aaa53b0b4ec",
              "version_major": 2,
              "version_minor": 0
            },
            "text/plain": [
              "  0%|          | 0/1406 [00:00<?, ?it/s]"
            ]
          },
          "metadata": {},
          "output_type": "display_data"
        },
        {
          "data": {
            "application/vnd.jupyter.widget-view+json": {
              "model_id": "2e94c88be5674f97a6ea76216766f2e1",
              "version_major": 2,
              "version_minor": 0
            },
            "text/plain": [
              "  0%|          | 0/1406 [00:00<?, ?it/s]"
            ]
          },
          "metadata": {},
          "output_type": "display_data"
        },
        {
          "data": {
            "application/vnd.jupyter.widget-view+json": {
              "model_id": "237ad3a4ed6b42adbc13dd1a37a085f9",
              "version_major": 2,
              "version_minor": 0
            },
            "text/plain": [
              "  0%|          | 0/1406 [00:00<?, ?it/s]"
            ]
          },
          "metadata": {},
          "output_type": "display_data"
        },
        {
          "data": {
            "application/vnd.jupyter.widget-view+json": {
              "model_id": "9932fa93cd24410b9d9530f3616e372b",
              "version_major": 2,
              "version_minor": 0
            },
            "text/plain": [
              "Validating...:   0%|          | 0/157 [00:00<?, ?it/s]"
            ]
          },
          "metadata": {},
          "output_type": "display_data"
        },
        {
          "name": "stdout",
          "output_type": "stream",
          "text": [
            "Validation results for cat and 7: {'acc': 0.7197648286819458, 'top5': 0.9931690692901611}\n"
          ]
        },
        {
          "data": {
            "application/vnd.jupyter.widget-view+json": {
              "model_id": "c3532af40f194c919d46872df1202b11",
              "version_major": 2,
              "version_minor": 0
            },
            "text/plain": [
              "Validating...:   0%|          | 0/391 [00:00<?, ?it/s]"
            ]
          },
          "metadata": {},
          "output_type": "display_data"
        },
        {
          "data": {
            "application/vnd.jupyter.widget-view+json": {
              "model_id": "90ec107cc84340c783c67fc30f61932f",
              "version_major": 2,
              "version_minor": 0
            },
            "text/plain": [
              "  0%|          | 0/1406 [00:00<?, ?it/s]"
            ]
          },
          "metadata": {},
          "output_type": "display_data"
        },
        {
          "data": {
            "application/vnd.jupyter.widget-view+json": {
              "model_id": "0db4e555a3a343f6afd40cfaba42407a",
              "version_major": 2,
              "version_minor": 0
            },
            "text/plain": [
              "  0%|          | 0/1406 [00:00<?, ?it/s]"
            ]
          },
          "metadata": {},
          "output_type": "display_data"
        },
        {
          "data": {
            "application/vnd.jupyter.widget-view+json": {
              "model_id": "ba64c5798fef48c88f423c8fa0eb298b",
              "version_major": 2,
              "version_minor": 0
            },
            "text/plain": [
              "  0%|          | 0/1406 [00:00<?, ?it/s]"
            ]
          },
          "metadata": {},
          "output_type": "display_data"
        },
        {
          "data": {
            "application/vnd.jupyter.widget-view+json": {
              "model_id": "363b94e0dc864b2f9c93e9b7c7c58963",
              "version_major": 2,
              "version_minor": 0
            },
            "text/plain": [
              "  0%|          | 0/1406 [00:00<?, ?it/s]"
            ]
          },
          "metadata": {},
          "output_type": "display_data"
        },
        {
          "data": {
            "application/vnd.jupyter.widget-view+json": {
              "model_id": "14911a60454f4df2a5622e3d5230cb87",
              "version_major": 2,
              "version_minor": 0
            },
            "text/plain": [
              "  0%|          | 0/1406 [00:00<?, ?it/s]"
            ]
          },
          "metadata": {},
          "output_type": "display_data"
        },
        {
          "data": {
            "application/vnd.jupyter.widget-view+json": {
              "model_id": "e683ddb1afd04fcaaafa7f05ec68bb8b",
              "version_major": 2,
              "version_minor": 0
            },
            "text/plain": [
              "Validating...:   0%|          | 0/157 [00:00<?, ?it/s]"
            ]
          },
          "metadata": {},
          "output_type": "display_data"
        },
        {
          "name": "stdout",
          "output_type": "stream",
          "text": [
            "Validation results for cat and 16: {'acc': 1.0, 'top5': 1.0}\n"
          ]
        },
        {
          "data": {
            "application/vnd.jupyter.widget-view+json": {
              "model_id": "c4992658ccf8476487dfc2e22e9877d5",
              "version_major": 2,
              "version_minor": 0
            },
            "text/plain": [
              "Validating...:   0%|          | 0/391 [00:00<?, ?it/s]"
            ]
          },
          "metadata": {},
          "output_type": "display_data"
        },
        {
          "data": {
            "application/vnd.jupyter.widget-view+json": {
              "model_id": "92502db6383b4271bb0b7ecbb686c28a",
              "version_major": 2,
              "version_minor": 0
            },
            "text/plain": [
              "  0%|          | 0/1406 [00:00<?, ?it/s]"
            ]
          },
          "metadata": {},
          "output_type": "display_data"
        },
        {
          "data": {
            "application/vnd.jupyter.widget-view+json": {
              "model_id": "fff8905d119f4b299b18f7fa866b0ed4",
              "version_major": 2,
              "version_minor": 0
            },
            "text/plain": [
              "  0%|          | 0/1406 [00:00<?, ?it/s]"
            ]
          },
          "metadata": {},
          "output_type": "display_data"
        },
        {
          "data": {
            "application/vnd.jupyter.widget-view+json": {
              "model_id": "68544489ca3841378995c488324adb7d",
              "version_major": 2,
              "version_minor": 0
            },
            "text/plain": [
              "  0%|          | 0/1406 [00:00<?, ?it/s]"
            ]
          },
          "metadata": {},
          "output_type": "display_data"
        },
        {
          "data": {
            "application/vnd.jupyter.widget-view+json": {
              "model_id": "29f6bb6156014a6c9120449256480fd9",
              "version_major": 2,
              "version_minor": 0
            },
            "text/plain": [
              "  0%|          | 0/1406 [00:00<?, ?it/s]"
            ]
          },
          "metadata": {},
          "output_type": "display_data"
        },
        {
          "data": {
            "application/vnd.jupyter.widget-view+json": {
              "model_id": "0ae9d246904d4fc3a1464f1f404e525c",
              "version_major": 2,
              "version_minor": 0
            },
            "text/plain": [
              "  0%|          | 0/1406 [00:00<?, ?it/s]"
            ]
          },
          "metadata": {},
          "output_type": "display_data"
        },
        {
          "data": {
            "application/vnd.jupyter.widget-view+json": {
              "model_id": "e07d9f825cb54eae937c79b665308b36",
              "version_major": 2,
              "version_minor": 0
            },
            "text/plain": [
              "Validating...:   0%|          | 0/157 [00:00<?, ?it/s]"
            ]
          },
          "metadata": {},
          "output_type": "display_data"
        },
        {
          "name": "stdout",
          "output_type": "stream",
          "text": [
            "Validation results for deer and 3: {'acc': 0.032482728362083435, 'top5': 0.5210051536560059}\n"
          ]
        },
        {
          "data": {
            "application/vnd.jupyter.widget-view+json": {
              "model_id": "e1ed36cdfe164808af2535afed5b0b03",
              "version_major": 2,
              "version_minor": 0
            },
            "text/plain": [
              "Validating...:   0%|          | 0/391 [00:00<?, ?it/s]"
            ]
          },
          "metadata": {},
          "output_type": "display_data"
        },
        {
          "data": {
            "application/vnd.jupyter.widget-view+json": {
              "model_id": "94d2281869044b209b42987efd2da4e2",
              "version_major": 2,
              "version_minor": 0
            },
            "text/plain": [
              "  0%|          | 0/1406 [00:00<?, ?it/s]"
            ]
          },
          "metadata": {},
          "output_type": "display_data"
        },
        {
          "data": {
            "application/vnd.jupyter.widget-view+json": {
              "model_id": "a2da0a2fef9c4ee08996b20b8b8d1831",
              "version_major": 2,
              "version_minor": 0
            },
            "text/plain": [
              "  0%|          | 0/1406 [00:00<?, ?it/s]"
            ]
          },
          "metadata": {},
          "output_type": "display_data"
        },
        {
          "data": {
            "application/vnd.jupyter.widget-view+json": {
              "model_id": "8ab9119193224c7b9c55cdd48c985613",
              "version_major": 2,
              "version_minor": 0
            },
            "text/plain": [
              "  0%|          | 0/1406 [00:00<?, ?it/s]"
            ]
          },
          "metadata": {},
          "output_type": "display_data"
        },
        {
          "data": {
            "application/vnd.jupyter.widget-view+json": {
              "model_id": "b3e3ff10f87642d6a633fa19a8fcb422",
              "version_major": 2,
              "version_minor": 0
            },
            "text/plain": [
              "  0%|          | 0/1406 [00:00<?, ?it/s]"
            ]
          },
          "metadata": {},
          "output_type": "display_data"
        },
        {
          "data": {
            "application/vnd.jupyter.widget-view+json": {
              "model_id": "69f22f610f2647eab64945b38f7fe9be",
              "version_major": 2,
              "version_minor": 0
            },
            "text/plain": [
              "  0%|          | 0/1406 [00:00<?, ?it/s]"
            ]
          },
          "metadata": {},
          "output_type": "display_data"
        },
        {
          "data": {
            "application/vnd.jupyter.widget-view+json": {
              "model_id": "2d611d5338844be8b41dda61b205c858",
              "version_major": 2,
              "version_minor": 0
            },
            "text/plain": [
              "Validating...:   0%|          | 0/157 [00:00<?, ?it/s]"
            ]
          },
          "metadata": {},
          "output_type": "display_data"
        },
        {
          "name": "stdout",
          "output_type": "stream",
          "text": [
            "Validation results for deer and 5: {'acc': 0.23495781421661377, 'top5': 0.8171070218086243}\n"
          ]
        },
        {
          "data": {
            "application/vnd.jupyter.widget-view+json": {
              "model_id": "fb205fce175c4d57bb3643d407852c30",
              "version_major": 2,
              "version_minor": 0
            },
            "text/plain": [
              "Validating...:   0%|          | 0/391 [00:00<?, ?it/s]"
            ]
          },
          "metadata": {},
          "output_type": "display_data"
        },
        {
          "data": {
            "application/vnd.jupyter.widget-view+json": {
              "model_id": "b4278a9aa8db4f5cb075d7ea3e257563",
              "version_major": 2,
              "version_minor": 0
            },
            "text/plain": [
              "  0%|          | 0/1406 [00:00<?, ?it/s]"
            ]
          },
          "metadata": {},
          "output_type": "display_data"
        },
        {
          "data": {
            "application/vnd.jupyter.widget-view+json": {
              "model_id": "8e93a7127130443d91a3421115032720",
              "version_major": 2,
              "version_minor": 0
            },
            "text/plain": [
              "  0%|          | 0/1406 [00:00<?, ?it/s]"
            ]
          },
          "metadata": {},
          "output_type": "display_data"
        },
        {
          "data": {
            "application/vnd.jupyter.widget-view+json": {
              "model_id": "0dce979846e345f18f16b8743a62aec9",
              "version_major": 2,
              "version_minor": 0
            },
            "text/plain": [
              "  0%|          | 0/1406 [00:00<?, ?it/s]"
            ]
          },
          "metadata": {},
          "output_type": "display_data"
        },
        {
          "data": {
            "application/vnd.jupyter.widget-view+json": {
              "model_id": "fd262e1a4ea54ee0b0ba66866c13138c",
              "version_major": 2,
              "version_minor": 0
            },
            "text/plain": [
              "  0%|          | 0/1406 [00:00<?, ?it/s]"
            ]
          },
          "metadata": {},
          "output_type": "display_data"
        },
        {
          "data": {
            "application/vnd.jupyter.widget-view+json": {
              "model_id": "d474e4b2dab448a4bb988c89cff9b5bb",
              "version_major": 2,
              "version_minor": 0
            },
            "text/plain": [
              "  0%|          | 0/1406 [00:00<?, ?it/s]"
            ]
          },
          "metadata": {},
          "output_type": "display_data"
        },
        {
          "data": {
            "application/vnd.jupyter.widget-view+json": {
              "model_id": "2fcc43c9e5884cf3bec104966f2c2e7e",
              "version_major": 2,
              "version_minor": 0
            },
            "text/plain": [
              "Validating...:   0%|          | 0/157 [00:00<?, ?it/s]"
            ]
          },
          "metadata": {},
          "output_type": "display_data"
        },
        {
          "name": "stdout",
          "output_type": "stream",
          "text": [
            "Validation results for deer and 7: {'acc': 0.7628797888755798, 'top5': 0.9820563793182373}\n"
          ]
        },
        {
          "data": {
            "application/vnd.jupyter.widget-view+json": {
              "model_id": "7b5e454025ba4f799c53aa28e971fd7a",
              "version_major": 2,
              "version_minor": 0
            },
            "text/plain": [
              "Validating...:   0%|          | 0/391 [00:00<?, ?it/s]"
            ]
          },
          "metadata": {},
          "output_type": "display_data"
        },
        {
          "data": {
            "application/vnd.jupyter.widget-view+json": {
              "model_id": "3bc2f2bf1f844f75846d737ede258499",
              "version_major": 2,
              "version_minor": 0
            },
            "text/plain": [
              "  0%|          | 0/1406 [00:00<?, ?it/s]"
            ]
          },
          "metadata": {},
          "output_type": "display_data"
        },
        {
          "data": {
            "application/vnd.jupyter.widget-view+json": {
              "model_id": "362634478d4a4fa19ec696bc70f55eb6",
              "version_major": 2,
              "version_minor": 0
            },
            "text/plain": [
              "  0%|          | 0/1406 [00:00<?, ?it/s]"
            ]
          },
          "metadata": {},
          "output_type": "display_data"
        },
        {
          "data": {
            "application/vnd.jupyter.widget-view+json": {
              "model_id": "50277515dc364d95bfb8bea69e62d617",
              "version_major": 2,
              "version_minor": 0
            },
            "text/plain": [
              "  0%|          | 0/1406 [00:00<?, ?it/s]"
            ]
          },
          "metadata": {},
          "output_type": "display_data"
        },
        {
          "data": {
            "application/vnd.jupyter.widget-view+json": {
              "model_id": "afd05c80d05b4be5985f96b1e2e2bdc3",
              "version_major": 2,
              "version_minor": 0
            },
            "text/plain": [
              "  0%|          | 0/1406 [00:00<?, ?it/s]"
            ]
          },
          "metadata": {},
          "output_type": "display_data"
        },
        {
          "data": {
            "application/vnd.jupyter.widget-view+json": {
              "model_id": "06c3cd8d0fff455b8612acb7ec66636f",
              "version_major": 2,
              "version_minor": 0
            },
            "text/plain": [
              "  0%|          | 0/1406 [00:00<?, ?it/s]"
            ]
          },
          "metadata": {},
          "output_type": "display_data"
        },
        {
          "data": {
            "application/vnd.jupyter.widget-view+json": {
              "model_id": "36a0ca3f65824be8909b433b416d07b1",
              "version_major": 2,
              "version_minor": 0
            },
            "text/plain": [
              "Validating...:   0%|          | 0/157 [00:00<?, ?it/s]"
            ]
          },
          "metadata": {},
          "output_type": "display_data"
        },
        {
          "name": "stdout",
          "output_type": "stream",
          "text": [
            "Validation results for deer and 16: {'acc': 1.0, 'top5': 1.0}\n"
          ]
        },
        {
          "data": {
            "application/vnd.jupyter.widget-view+json": {
              "model_id": "29bd976516d14ec38f95b9782f26ec08",
              "version_major": 2,
              "version_minor": 0
            },
            "text/plain": [
              "Validating...:   0%|          | 0/391 [00:00<?, ?it/s]"
            ]
          },
          "metadata": {},
          "output_type": "display_data"
        },
        {
          "data": {
            "application/vnd.jupyter.widget-view+json": {
              "model_id": "6bcef71ed64b403e83e9281f2492829c",
              "version_major": 2,
              "version_minor": 0
            },
            "text/plain": [
              "  0%|          | 0/1406 [00:00<?, ?it/s]"
            ]
          },
          "metadata": {},
          "output_type": "display_data"
        },
        {
          "data": {
            "application/vnd.jupyter.widget-view+json": {
              "model_id": "11a11fb48c2c442a89ca3f1c3733317e",
              "version_major": 2,
              "version_minor": 0
            },
            "text/plain": [
              "  0%|          | 0/1406 [00:00<?, ?it/s]"
            ]
          },
          "metadata": {},
          "output_type": "display_data"
        },
        {
          "data": {
            "application/vnd.jupyter.widget-view+json": {
              "model_id": "d7c6dd4585424fcdaaa39ec344acd877",
              "version_major": 2,
              "version_minor": 0
            },
            "text/plain": [
              "  0%|          | 0/1406 [00:00<?, ?it/s]"
            ]
          },
          "metadata": {},
          "output_type": "display_data"
        },
        {
          "data": {
            "application/vnd.jupyter.widget-view+json": {
              "model_id": "e196251874f5461caa8128f375583764",
              "version_major": 2,
              "version_minor": 0
            },
            "text/plain": [
              "  0%|          | 0/1406 [00:00<?, ?it/s]"
            ]
          },
          "metadata": {},
          "output_type": "display_data"
        },
        {
          "data": {
            "application/vnd.jupyter.widget-view+json": {
              "model_id": "8a6913b5ee7942968238b6c16103967f",
              "version_major": 2,
              "version_minor": 0
            },
            "text/plain": [
              "  0%|          | 0/1406 [00:00<?, ?it/s]"
            ]
          },
          "metadata": {},
          "output_type": "display_data"
        },
        {
          "data": {
            "application/vnd.jupyter.widget-view+json": {
              "model_id": "5cb17d556fc14ad28373b4187cad0ba3",
              "version_major": 2,
              "version_minor": 0
            },
            "text/plain": [
              "Validating...:   0%|          | 0/157 [00:00<?, ?it/s]"
            ]
          },
          "metadata": {},
          "output_type": "display_data"
        },
        {
          "name": "stdout",
          "output_type": "stream",
          "text": [
            "Validation results for dog and 3: {'acc': 0.03807983919978142, 'top5': 0.5728144645690918}\n"
          ]
        },
        {
          "data": {
            "application/vnd.jupyter.widget-view+json": {
              "model_id": "bac4a45a049f4cc79e6081f100b7a73e",
              "version_major": 2,
              "version_minor": 0
            },
            "text/plain": [
              "Validating...:   0%|          | 0/391 [00:00<?, ?it/s]"
            ]
          },
          "metadata": {},
          "output_type": "display_data"
        },
        {
          "data": {
            "application/vnd.jupyter.widget-view+json": {
              "model_id": "f88d0053127444839a784ce11426ee34",
              "version_major": 2,
              "version_minor": 0
            },
            "text/plain": [
              "  0%|          | 0/1406 [00:00<?, ?it/s]"
            ]
          },
          "metadata": {},
          "output_type": "display_data"
        },
        {
          "data": {
            "application/vnd.jupyter.widget-view+json": {
              "model_id": "46d1ce3b4bb44d418d74810d88bf91fe",
              "version_major": 2,
              "version_minor": 0
            },
            "text/plain": [
              "  0%|          | 0/1406 [00:00<?, ?it/s]"
            ]
          },
          "metadata": {},
          "output_type": "display_data"
        },
        {
          "data": {
            "application/vnd.jupyter.widget-view+json": {
              "model_id": "c81780c35b36442a8a3a78370a8d9b55",
              "version_major": 2,
              "version_minor": 0
            },
            "text/plain": [
              "  0%|          | 0/1406 [00:00<?, ?it/s]"
            ]
          },
          "metadata": {},
          "output_type": "display_data"
        },
        {
          "data": {
            "application/vnd.jupyter.widget-view+json": {
              "model_id": "b8a56cbedf9e45f8a90548d5d97620df",
              "version_major": 2,
              "version_minor": 0
            },
            "text/plain": [
              "  0%|          | 0/1406 [00:00<?, ?it/s]"
            ]
          },
          "metadata": {},
          "output_type": "display_data"
        },
        {
          "data": {
            "application/vnd.jupyter.widget-view+json": {
              "model_id": "c03fcb20ad734e9e8b261b43a192db15",
              "version_major": 2,
              "version_minor": 0
            },
            "text/plain": [
              "  0%|          | 0/1406 [00:00<?, ?it/s]"
            ]
          },
          "metadata": {},
          "output_type": "display_data"
        },
        {
          "data": {
            "application/vnd.jupyter.widget-view+json": {
              "model_id": "364a44f39d594500909318d6c3017509",
              "version_major": 2,
              "version_minor": 0
            },
            "text/plain": [
              "Validating...:   0%|          | 0/157 [00:00<?, ?it/s]"
            ]
          },
          "metadata": {},
          "output_type": "display_data"
        },
        {
          "name": "stdout",
          "output_type": "stream",
          "text": [
            "Validation results for dog and 5: {'acc': 0.47154515981674194, 'top5': 0.9443202018737793}\n"
          ]
        },
        {
          "data": {
            "application/vnd.jupyter.widget-view+json": {
              "model_id": "c07b718602df4335be5c7e120ff2513f",
              "version_major": 2,
              "version_minor": 0
            },
            "text/plain": [
              "Validating...:   0%|          | 0/391 [00:00<?, ?it/s]"
            ]
          },
          "metadata": {},
          "output_type": "display_data"
        },
        {
          "data": {
            "application/vnd.jupyter.widget-view+json": {
              "model_id": "8ec70454d89944c5bfd6987d919f88e6",
              "version_major": 2,
              "version_minor": 0
            },
            "text/plain": [
              "  0%|          | 0/1406 [00:00<?, ?it/s]"
            ]
          },
          "metadata": {},
          "output_type": "display_data"
        },
        {
          "data": {
            "application/vnd.jupyter.widget-view+json": {
              "model_id": "809276a76a8a4c67939a64e2801b43bd",
              "version_major": 2,
              "version_minor": 0
            },
            "text/plain": [
              "  0%|          | 0/1406 [00:00<?, ?it/s]"
            ]
          },
          "metadata": {},
          "output_type": "display_data"
        },
        {
          "data": {
            "application/vnd.jupyter.widget-view+json": {
              "model_id": "da1c5923eb294246819acbe183e92f09",
              "version_major": 2,
              "version_minor": 0
            },
            "text/plain": [
              "  0%|          | 0/1406 [00:00<?, ?it/s]"
            ]
          },
          "metadata": {},
          "output_type": "display_data"
        },
        {
          "data": {
            "application/vnd.jupyter.widget-view+json": {
              "model_id": "9232c6874ebb46aabdfaf1d29fb382c2",
              "version_major": 2,
              "version_minor": 0
            },
            "text/plain": [
              "  0%|          | 0/1406 [00:00<?, ?it/s]"
            ]
          },
          "metadata": {},
          "output_type": "display_data"
        },
        {
          "data": {
            "application/vnd.jupyter.widget-view+json": {
              "model_id": "630fabd82ccb49d1911ca864c0b25886",
              "version_major": 2,
              "version_minor": 0
            },
            "text/plain": [
              "  0%|          | 0/1406 [00:00<?, ?it/s]"
            ]
          },
          "metadata": {},
          "output_type": "display_data"
        },
        {
          "data": {
            "application/vnd.jupyter.widget-view+json": {
              "model_id": "f852059977b6450e9a7681d8237288c6",
              "version_major": 2,
              "version_minor": 0
            },
            "text/plain": [
              "Validating...:   0%|          | 0/157 [00:00<?, ?it/s]"
            ]
          },
          "metadata": {},
          "output_type": "display_data"
        },
        {
          "name": "stdout",
          "output_type": "stream",
          "text": [
            "Validation results for dog and 7: {'acc': 0.8596188426017761, 'top5': 0.9971578121185303}\n"
          ]
        },
        {
          "data": {
            "application/vnd.jupyter.widget-view+json": {
              "model_id": "49479dffbd8c49e5bed5114c8cb7d83a",
              "version_major": 2,
              "version_minor": 0
            },
            "text/plain": [
              "Validating...:   0%|          | 0/391 [00:00<?, ?it/s]"
            ]
          },
          "metadata": {},
          "output_type": "display_data"
        },
        {
          "data": {
            "application/vnd.jupyter.widget-view+json": {
              "model_id": "84b1d4b1073f4e9b8b74f4e1dc47c1e0",
              "version_major": 2,
              "version_minor": 0
            },
            "text/plain": [
              "  0%|          | 0/1406 [00:00<?, ?it/s]"
            ]
          },
          "metadata": {},
          "output_type": "display_data"
        },
        {
          "data": {
            "application/vnd.jupyter.widget-view+json": {
              "model_id": "04695223448344f0ad54c4f4f8aa7990",
              "version_major": 2,
              "version_minor": 0
            },
            "text/plain": [
              "  0%|          | 0/1406 [00:00<?, ?it/s]"
            ]
          },
          "metadata": {},
          "output_type": "display_data"
        },
        {
          "data": {
            "application/vnd.jupyter.widget-view+json": {
              "model_id": "4303a0666783408f9d9df6923930c810",
              "version_major": 2,
              "version_minor": 0
            },
            "text/plain": [
              "  0%|          | 0/1406 [00:00<?, ?it/s]"
            ]
          },
          "metadata": {},
          "output_type": "display_data"
        },
        {
          "data": {
            "application/vnd.jupyter.widget-view+json": {
              "model_id": "c1cddef530b342358c1eb301e5643298",
              "version_major": 2,
              "version_minor": 0
            },
            "text/plain": [
              "  0%|          | 0/1406 [00:00<?, ?it/s]"
            ]
          },
          "metadata": {},
          "output_type": "display_data"
        },
        {
          "data": {
            "application/vnd.jupyter.widget-view+json": {
              "model_id": "80084df4c8c2429d8fced1b7a1f868a5",
              "version_major": 2,
              "version_minor": 0
            },
            "text/plain": [
              "  0%|          | 0/1406 [00:00<?, ?it/s]"
            ]
          },
          "metadata": {},
          "output_type": "display_data"
        },
        {
          "data": {
            "application/vnd.jupyter.widget-view+json": {
              "model_id": "9da3bc246bcf49a7b46295b534372f40",
              "version_major": 2,
              "version_minor": 0
            },
            "text/plain": [
              "Validating...:   0%|          | 0/157 [00:00<?, ?it/s]"
            ]
          },
          "metadata": {},
          "output_type": "display_data"
        },
        {
          "name": "stdout",
          "output_type": "stream",
          "text": [
            "Validation results for dog and 16: {'acc': 0.9993296265602112, 'top5': 1.0}\n"
          ]
        },
        {
          "data": {
            "application/vnd.jupyter.widget-view+json": {
              "model_id": "f78bded11f504b4784e8758862a04296",
              "version_major": 2,
              "version_minor": 0
            },
            "text/plain": [
              "Validating...:   0%|          | 0/391 [00:00<?, ?it/s]"
            ]
          },
          "metadata": {},
          "output_type": "display_data"
        },
        {
          "data": {
            "application/vnd.jupyter.widget-view+json": {
              "model_id": "a5858651d3684c41b56f95c15c7956e9",
              "version_major": 2,
              "version_minor": 0
            },
            "text/plain": [
              "  0%|          | 0/1406 [00:00<?, ?it/s]"
            ]
          },
          "metadata": {},
          "output_type": "display_data"
        },
        {
          "data": {
            "application/vnd.jupyter.widget-view+json": {
              "model_id": "8efa12b531f8476d8ddbc1095650691a",
              "version_major": 2,
              "version_minor": 0
            },
            "text/plain": [
              "  0%|          | 0/1406 [00:00<?, ?it/s]"
            ]
          },
          "metadata": {},
          "output_type": "display_data"
        },
        {
          "data": {
            "application/vnd.jupyter.widget-view+json": {
              "model_id": "09411302ccce4177ad4b3dcd6c52d4aa",
              "version_major": 2,
              "version_minor": 0
            },
            "text/plain": [
              "  0%|          | 0/1406 [00:00<?, ?it/s]"
            ]
          },
          "metadata": {},
          "output_type": "display_data"
        },
        {
          "data": {
            "application/vnd.jupyter.widget-view+json": {
              "model_id": "9085a036defe4c74b30fd0aff764f23f",
              "version_major": 2,
              "version_minor": 0
            },
            "text/plain": [
              "  0%|          | 0/1406 [00:00<?, ?it/s]"
            ]
          },
          "metadata": {},
          "output_type": "display_data"
        },
        {
          "data": {
            "application/vnd.jupyter.widget-view+json": {
              "model_id": "e9a2ddf843a5455b8f07ffea1d7a2970",
              "version_major": 2,
              "version_minor": 0
            },
            "text/plain": [
              "  0%|          | 0/1406 [00:00<?, ?it/s]"
            ]
          },
          "metadata": {},
          "output_type": "display_data"
        },
        {
          "data": {
            "application/vnd.jupyter.widget-view+json": {
              "model_id": "ecc007f71b9b40f091db60017f46b110",
              "version_major": 2,
              "version_minor": 0
            },
            "text/plain": [
              "Validating...:   0%|          | 0/157 [00:00<?, ?it/s]"
            ]
          },
          "metadata": {},
          "output_type": "display_data"
        },
        {
          "name": "stdout",
          "output_type": "stream",
          "text": [
            "Validation results for frog and 3: {'acc': 0.0451713390648365, 'top5': 0.5608589053153992}\n"
          ]
        },
        {
          "data": {
            "application/vnd.jupyter.widget-view+json": {
              "model_id": "6a360e79940b46388c888b682ebcede8",
              "version_major": 2,
              "version_minor": 0
            },
            "text/plain": [
              "Validating...:   0%|          | 0/391 [00:00<?, ?it/s]"
            ]
          },
          "metadata": {},
          "output_type": "display_data"
        },
        {
          "data": {
            "application/vnd.jupyter.widget-view+json": {
              "model_id": "14c607fbe5474760bc8337fc8001c0c5",
              "version_major": 2,
              "version_minor": 0
            },
            "text/plain": [
              "  0%|          | 0/1406 [00:00<?, ?it/s]"
            ]
          },
          "metadata": {},
          "output_type": "display_data"
        },
        {
          "data": {
            "application/vnd.jupyter.widget-view+json": {
              "model_id": "9b333daa6c064bd882afb94ddc8e3d01",
              "version_major": 2,
              "version_minor": 0
            },
            "text/plain": [
              "  0%|          | 0/1406 [00:00<?, ?it/s]"
            ]
          },
          "metadata": {},
          "output_type": "display_data"
        },
        {
          "data": {
            "application/vnd.jupyter.widget-view+json": {
              "model_id": "f082ea0b71a5478e8f4da24bf6728cf0",
              "version_major": 2,
              "version_minor": 0
            },
            "text/plain": [
              "  0%|          | 0/1406 [00:00<?, ?it/s]"
            ]
          },
          "metadata": {},
          "output_type": "display_data"
        },
        {
          "data": {
            "application/vnd.jupyter.widget-view+json": {
              "model_id": "0a5fd38d9b044834b9d227e4e21e43d3",
              "version_major": 2,
              "version_minor": 0
            },
            "text/plain": [
              "  0%|          | 0/1406 [00:00<?, ?it/s]"
            ]
          },
          "metadata": {},
          "output_type": "display_data"
        },
        {
          "data": {
            "application/vnd.jupyter.widget-view+json": {
              "model_id": "cddd26a30bdd4126a7a5e5134982b9cf",
              "version_major": 2,
              "version_minor": 0
            },
            "text/plain": [
              "  0%|          | 0/1406 [00:00<?, ?it/s]"
            ]
          },
          "metadata": {},
          "output_type": "display_data"
        },
        {
          "data": {
            "application/vnd.jupyter.widget-view+json": {
              "model_id": "3050c0df131a4dc18c552c9f63e58461",
              "version_major": 2,
              "version_minor": 0
            },
            "text/plain": [
              "Validating...:   0%|          | 0/157 [00:00<?, ?it/s]"
            ]
          },
          "metadata": {},
          "output_type": "display_data"
        },
        {
          "name": "stdout",
          "output_type": "stream",
          "text": [
            "Validation results for frog and 5: {'acc': 0.28748610615730286, 'top5': 0.8829810619354248}\n"
          ]
        },
        {
          "data": {
            "application/vnd.jupyter.widget-view+json": {
              "model_id": "0c8d0f1596584be48326e3628ebd6930",
              "version_major": 2,
              "version_minor": 0
            },
            "text/plain": [
              "Validating...:   0%|          | 0/391 [00:00<?, ?it/s]"
            ]
          },
          "metadata": {},
          "output_type": "display_data"
        },
        {
          "data": {
            "application/vnd.jupyter.widget-view+json": {
              "model_id": "079d0e12f2af46808b7f5d56d7c5613b",
              "version_major": 2,
              "version_minor": 0
            },
            "text/plain": [
              "  0%|          | 0/1406 [00:00<?, ?it/s]"
            ]
          },
          "metadata": {},
          "output_type": "display_data"
        },
        {
          "data": {
            "application/vnd.jupyter.widget-view+json": {
              "model_id": "79195a9d3276473b922e9674da8aed36",
              "version_major": 2,
              "version_minor": 0
            },
            "text/plain": [
              "  0%|          | 0/1406 [00:00<?, ?it/s]"
            ]
          },
          "metadata": {},
          "output_type": "display_data"
        },
        {
          "data": {
            "application/vnd.jupyter.widget-view+json": {
              "model_id": "7e161b340a4348168cd3fd2a97ffa78b",
              "version_major": 2,
              "version_minor": 0
            },
            "text/plain": [
              "  0%|          | 0/1406 [00:00<?, ?it/s]"
            ]
          },
          "metadata": {},
          "output_type": "display_data"
        },
        {
          "data": {
            "application/vnd.jupyter.widget-view+json": {
              "model_id": "f0e074df2cf541f49beede524bd449ac",
              "version_major": 2,
              "version_minor": 0
            },
            "text/plain": [
              "  0%|          | 0/1406 [00:00<?, ?it/s]"
            ]
          },
          "metadata": {},
          "output_type": "display_data"
        },
        {
          "data": {
            "application/vnd.jupyter.widget-view+json": {
              "model_id": "d0f90ea8748541dab3231cc4ecdcb2d1",
              "version_major": 2,
              "version_minor": 0
            },
            "text/plain": [
              "  0%|          | 0/1406 [00:00<?, ?it/s]"
            ]
          },
          "metadata": {},
          "output_type": "display_data"
        },
        {
          "data": {
            "application/vnd.jupyter.widget-view+json": {
              "model_id": "4f15729f221249a5affca92de3538e0b",
              "version_major": 2,
              "version_minor": 0
            },
            "text/plain": [
              "Validating...:   0%|          | 0/157 [00:00<?, ?it/s]"
            ]
          },
          "metadata": {},
          "output_type": "display_data"
        },
        {
          "name": "stdout",
          "output_type": "stream",
          "text": [
            "Validation results for frog and 7: {'acc': 0.7050586938858032, 'top5': 0.986440122127533}\n"
          ]
        },
        {
          "data": {
            "application/vnd.jupyter.widget-view+json": {
              "model_id": "151777a1237344d9bb12bd41b28ac135",
              "version_major": 2,
              "version_minor": 0
            },
            "text/plain": [
              "Validating...:   0%|          | 0/391 [00:00<?, ?it/s]"
            ]
          },
          "metadata": {},
          "output_type": "display_data"
        },
        {
          "data": {
            "application/vnd.jupyter.widget-view+json": {
              "model_id": "934b79406c7b41a5ba628a3882b2f949",
              "version_major": 2,
              "version_minor": 0
            },
            "text/plain": [
              "  0%|          | 0/1406 [00:00<?, ?it/s]"
            ]
          },
          "metadata": {},
          "output_type": "display_data"
        },
        {
          "data": {
            "application/vnd.jupyter.widget-view+json": {
              "model_id": "f8b73093b5494873977b29636c55e06a",
              "version_major": 2,
              "version_minor": 0
            },
            "text/plain": [
              "  0%|          | 0/1406 [00:00<?, ?it/s]"
            ]
          },
          "metadata": {},
          "output_type": "display_data"
        },
        {
          "data": {
            "application/vnd.jupyter.widget-view+json": {
              "model_id": "5dde02c6d54d41a288fe516f4f9c8f6c",
              "version_major": 2,
              "version_minor": 0
            },
            "text/plain": [
              "  0%|          | 0/1406 [00:00<?, ?it/s]"
            ]
          },
          "metadata": {},
          "output_type": "display_data"
        },
        {
          "data": {
            "application/vnd.jupyter.widget-view+json": {
              "model_id": "6ea6302fc1494a2aad4faff7e7c15e82",
              "version_major": 2,
              "version_minor": 0
            },
            "text/plain": [
              "  0%|          | 0/1406 [00:00<?, ?it/s]"
            ]
          },
          "metadata": {},
          "output_type": "display_data"
        },
        {
          "data": {
            "application/vnd.jupyter.widget-view+json": {
              "model_id": "4fb9abbcdb524b559ba965dd81ba7ba4",
              "version_major": 2,
              "version_minor": 0
            },
            "text/plain": [
              "  0%|          | 0/1406 [00:00<?, ?it/s]"
            ]
          },
          "metadata": {},
          "output_type": "display_data"
        },
        {
          "data": {
            "application/vnd.jupyter.widget-view+json": {
              "model_id": "dde35d85f618499ba357d6a9d9520252",
              "version_major": 2,
              "version_minor": 0
            },
            "text/plain": [
              "Validating...:   0%|          | 0/157 [00:00<?, ?it/s]"
            ]
          },
          "metadata": {},
          "output_type": "display_data"
        },
        {
          "name": "stdout",
          "output_type": "stream",
          "text": [
            "Validation results for frog and 16: {'acc': 0.9999445080757141, 'top5': 1.0}\n"
          ]
        },
        {
          "data": {
            "application/vnd.jupyter.widget-view+json": {
              "model_id": "f9971402bdd743f1814938f4ebf5e0b3",
              "version_major": 2,
              "version_minor": 0
            },
            "text/plain": [
              "Validating...:   0%|          | 0/391 [00:00<?, ?it/s]"
            ]
          },
          "metadata": {},
          "output_type": "display_data"
        },
        {
          "data": {
            "application/vnd.jupyter.widget-view+json": {
              "model_id": "362c53cfc3bd440d9714e742b591e83d",
              "version_major": 2,
              "version_minor": 0
            },
            "text/plain": [
              "  0%|          | 0/1406 [00:00<?, ?it/s]"
            ]
          },
          "metadata": {},
          "output_type": "display_data"
        },
        {
          "data": {
            "application/vnd.jupyter.widget-view+json": {
              "model_id": "0d6a104e3f954bee8042906f96cfc66a",
              "version_major": 2,
              "version_minor": 0
            },
            "text/plain": [
              "  0%|          | 0/1406 [00:00<?, ?it/s]"
            ]
          },
          "metadata": {},
          "output_type": "display_data"
        },
        {
          "data": {
            "application/vnd.jupyter.widget-view+json": {
              "model_id": "ec434723a86644a6aef8f5e8643b181c",
              "version_major": 2,
              "version_minor": 0
            },
            "text/plain": [
              "  0%|          | 0/1406 [00:00<?, ?it/s]"
            ]
          },
          "metadata": {},
          "output_type": "display_data"
        },
        {
          "data": {
            "application/vnd.jupyter.widget-view+json": {
              "model_id": "f7df585e56934753a85eaea49ee90c2a",
              "version_major": 2,
              "version_minor": 0
            },
            "text/plain": [
              "  0%|          | 0/1406 [00:00<?, ?it/s]"
            ]
          },
          "metadata": {},
          "output_type": "display_data"
        },
        {
          "data": {
            "application/vnd.jupyter.widget-view+json": {
              "model_id": "7864008fcff842a1a0bf01afdfea5a75",
              "version_major": 2,
              "version_minor": 0
            },
            "text/plain": [
              "  0%|          | 0/1406 [00:00<?, ?it/s]"
            ]
          },
          "metadata": {},
          "output_type": "display_data"
        },
        {
          "data": {
            "application/vnd.jupyter.widget-view+json": {
              "model_id": "1b0c071e5f4a4e0abf5e48af1c5aac88",
              "version_major": 2,
              "version_minor": 0
            },
            "text/plain": [
              "Validating...:   0%|          | 0/157 [00:00<?, ?it/s]"
            ]
          },
          "metadata": {},
          "output_type": "display_data"
        },
        {
          "name": "stdout",
          "output_type": "stream",
          "text": [
            "Validation results for horse and 3: {'acc': 0.021260017529129982, 'top5': 0.47740426659584045}\n"
          ]
        },
        {
          "data": {
            "application/vnd.jupyter.widget-view+json": {
              "model_id": "dc1afa5811a648149da28a70814fe93a",
              "version_major": 2,
              "version_minor": 0
            },
            "text/plain": [
              "Validating...:   0%|          | 0/391 [00:00<?, ?it/s]"
            ]
          },
          "metadata": {},
          "output_type": "display_data"
        },
        {
          "data": {
            "application/vnd.jupyter.widget-view+json": {
              "model_id": "ce3e27d4ad204a358b7ba0edb9b6fcf2",
              "version_major": 2,
              "version_minor": 0
            },
            "text/plain": [
              "  0%|          | 0/1406 [00:00<?, ?it/s]"
            ]
          },
          "metadata": {},
          "output_type": "display_data"
        },
        {
          "data": {
            "application/vnd.jupyter.widget-view+json": {
              "model_id": "a64d76465e75475096bc88f8568ba491",
              "version_major": 2,
              "version_minor": 0
            },
            "text/plain": [
              "  0%|          | 0/1406 [00:00<?, ?it/s]"
            ]
          },
          "metadata": {},
          "output_type": "display_data"
        },
        {
          "data": {
            "application/vnd.jupyter.widget-view+json": {
              "model_id": "23329146e080409a9c358cce32622212",
              "version_major": 2,
              "version_minor": 0
            },
            "text/plain": [
              "  0%|          | 0/1406 [00:00<?, ?it/s]"
            ]
          },
          "metadata": {},
          "output_type": "display_data"
        },
        {
          "data": {
            "application/vnd.jupyter.widget-view+json": {
              "model_id": "da00ef7eeb604c109e91658890116bd5",
              "version_major": 2,
              "version_minor": 0
            },
            "text/plain": [
              "  0%|          | 0/1406 [00:00<?, ?it/s]"
            ]
          },
          "metadata": {},
          "output_type": "display_data"
        },
        {
          "data": {
            "application/vnd.jupyter.widget-view+json": {
              "model_id": "778bd9844f68449d99e696e768684ffa",
              "version_major": 2,
              "version_minor": 0
            },
            "text/plain": [
              "  0%|          | 0/1406 [00:00<?, ?it/s]"
            ]
          },
          "metadata": {},
          "output_type": "display_data"
        },
        {
          "data": {
            "application/vnd.jupyter.widget-view+json": {
              "model_id": "c786eebc45424a82a59ede14f8be470b",
              "version_major": 2,
              "version_minor": 0
            },
            "text/plain": [
              "Validating...:   0%|          | 0/157 [00:00<?, ?it/s]"
            ]
          },
          "metadata": {},
          "output_type": "display_data"
        },
        {
          "name": "stdout",
          "output_type": "stream",
          "text": [
            "Validation results for horse and 5: {'acc': 0.03803380951285362, 'top5': 0.48404136300086975}\n"
          ]
        },
        {
          "data": {
            "application/vnd.jupyter.widget-view+json": {
              "model_id": "d61e28ca194f4ac58b4493e74d1cfd5f",
              "version_major": 2,
              "version_minor": 0
            },
            "text/plain": [
              "Validating...:   0%|          | 0/391 [00:00<?, ?it/s]"
            ]
          },
          "metadata": {},
          "output_type": "display_data"
        },
        {
          "data": {
            "application/vnd.jupyter.widget-view+json": {
              "model_id": "4c16263496754b4abe823e97608327ad",
              "version_major": 2,
              "version_minor": 0
            },
            "text/plain": [
              "  0%|          | 0/1406 [00:00<?, ?it/s]"
            ]
          },
          "metadata": {},
          "output_type": "display_data"
        },
        {
          "data": {
            "application/vnd.jupyter.widget-view+json": {
              "model_id": "5988ecd69ec84d0a9248a618c66b593b",
              "version_major": 2,
              "version_minor": 0
            },
            "text/plain": [
              "  0%|          | 0/1406 [00:00<?, ?it/s]"
            ]
          },
          "metadata": {},
          "output_type": "display_data"
        },
        {
          "data": {
            "application/vnd.jupyter.widget-view+json": {
              "model_id": "29c58aead069408b91472c6fa1bbb060",
              "version_major": 2,
              "version_minor": 0
            },
            "text/plain": [
              "  0%|          | 0/1406 [00:00<?, ?it/s]"
            ]
          },
          "metadata": {},
          "output_type": "display_data"
        },
        {
          "data": {
            "application/vnd.jupyter.widget-view+json": {
              "model_id": "011f61fe4b014f7eaa88fd4f5afb8a59",
              "version_major": 2,
              "version_minor": 0
            },
            "text/plain": [
              "  0%|          | 0/1406 [00:00<?, ?it/s]"
            ]
          },
          "metadata": {},
          "output_type": "display_data"
        },
        {
          "data": {
            "application/vnd.jupyter.widget-view+json": {
              "model_id": "6fc2a286182145cc9c078c1a39fd381c",
              "version_major": 2,
              "version_minor": 0
            },
            "text/plain": [
              "  0%|          | 0/1406 [00:00<?, ?it/s]"
            ]
          },
          "metadata": {},
          "output_type": "display_data"
        },
        {
          "data": {
            "application/vnd.jupyter.widget-view+json": {
              "model_id": "95e3e51497cb45fda2c2f7b028950e8d",
              "version_major": 2,
              "version_minor": 0
            },
            "text/plain": [
              "Validating...:   0%|          | 0/157 [00:00<?, ?it/s]"
            ]
          },
          "metadata": {},
          "output_type": "display_data"
        },
        {
          "name": "stdout",
          "output_type": "stream",
          "text": [
            "Validation results for horse and 7: {'acc': 0.36749887466430664, 'top5': 0.8824451565742493}\n"
          ]
        },
        {
          "data": {
            "application/vnd.jupyter.widget-view+json": {
              "model_id": "c970fda6f0834cd38ca0e4095b55bce7",
              "version_major": 2,
              "version_minor": 0
            },
            "text/plain": [
              "Validating...:   0%|          | 0/391 [00:00<?, ?it/s]"
            ]
          },
          "metadata": {},
          "output_type": "display_data"
        },
        {
          "data": {
            "application/vnd.jupyter.widget-view+json": {
              "model_id": "11a3e23e3da24a3598b3a201bdbb6aee",
              "version_major": 2,
              "version_minor": 0
            },
            "text/plain": [
              "  0%|          | 0/1406 [00:00<?, ?it/s]"
            ]
          },
          "metadata": {},
          "output_type": "display_data"
        },
        {
          "data": {
            "application/vnd.jupyter.widget-view+json": {
              "model_id": "a656427b7bb7430e8faab5936d231626",
              "version_major": 2,
              "version_minor": 0
            },
            "text/plain": [
              "  0%|          | 0/1406 [00:00<?, ?it/s]"
            ]
          },
          "metadata": {},
          "output_type": "display_data"
        },
        {
          "data": {
            "application/vnd.jupyter.widget-view+json": {
              "model_id": "ee483a6a9d484cfbbb63deae302f6ed4",
              "version_major": 2,
              "version_minor": 0
            },
            "text/plain": [
              "  0%|          | 0/1406 [00:00<?, ?it/s]"
            ]
          },
          "metadata": {},
          "output_type": "display_data"
        },
        {
          "data": {
            "application/vnd.jupyter.widget-view+json": {
              "model_id": "cecfcc51768b47c8b613abd1cc3ed6a1",
              "version_major": 2,
              "version_minor": 0
            },
            "text/plain": [
              "  0%|          | 0/1406 [00:00<?, ?it/s]"
            ]
          },
          "metadata": {},
          "output_type": "display_data"
        },
        {
          "data": {
            "application/vnd.jupyter.widget-view+json": {
              "model_id": "3aebd923d8dc41e3a2ed10ecf6884a17",
              "version_major": 2,
              "version_minor": 0
            },
            "text/plain": [
              "  0%|          | 0/1406 [00:00<?, ?it/s]"
            ]
          },
          "metadata": {},
          "output_type": "display_data"
        },
        {
          "data": {
            "application/vnd.jupyter.widget-view+json": {
              "model_id": "3b392199f82c46b59649d9bc460fe261",
              "version_major": 2,
              "version_minor": 0
            },
            "text/plain": [
              "Validating...:   0%|          | 0/157 [00:00<?, ?it/s]"
            ]
          },
          "metadata": {},
          "output_type": "display_data"
        },
        {
          "name": "stdout",
          "output_type": "stream",
          "text": [
            "Validation results for horse and 16: {'acc': 0.999722957611084, 'top5': 1.0}\n"
          ]
        },
        {
          "data": {
            "application/vnd.jupyter.widget-view+json": {
              "model_id": "0065ea17a8344708a89f3cf2dc977d73",
              "version_major": 2,
              "version_minor": 0
            },
            "text/plain": [
              "Validating...:   0%|          | 0/391 [00:00<?, ?it/s]"
            ]
          },
          "metadata": {},
          "output_type": "display_data"
        },
        {
          "data": {
            "application/vnd.jupyter.widget-view+json": {
              "model_id": "a7f6f8c925944e6b96b024b986fba297",
              "version_major": 2,
              "version_minor": 0
            },
            "text/plain": [
              "  0%|          | 0/1406 [00:00<?, ?it/s]"
            ]
          },
          "metadata": {},
          "output_type": "display_data"
        },
        {
          "data": {
            "application/vnd.jupyter.widget-view+json": {
              "model_id": "9c6e5d0cd4944dff8bc9eb0fcc58f7ea",
              "version_major": 2,
              "version_minor": 0
            },
            "text/plain": [
              "  0%|          | 0/1406 [00:00<?, ?it/s]"
            ]
          },
          "metadata": {},
          "output_type": "display_data"
        },
        {
          "data": {
            "application/vnd.jupyter.widget-view+json": {
              "model_id": "08ae2f2a622b4b06b61c3e1bf36492c0",
              "version_major": 2,
              "version_minor": 0
            },
            "text/plain": [
              "  0%|          | 0/1406 [00:00<?, ?it/s]"
            ]
          },
          "metadata": {},
          "output_type": "display_data"
        },
        {
          "data": {
            "application/vnd.jupyter.widget-view+json": {
              "model_id": "f1cbb71ea5c745aeb9740db2693af046",
              "version_major": 2,
              "version_minor": 0
            },
            "text/plain": [
              "  0%|          | 0/1406 [00:00<?, ?it/s]"
            ]
          },
          "metadata": {},
          "output_type": "display_data"
        },
        {
          "data": {
            "application/vnd.jupyter.widget-view+json": {
              "model_id": "08e389f27af042009652a11ecdab6a44",
              "version_major": 2,
              "version_minor": 0
            },
            "text/plain": [
              "  0%|          | 0/1406 [00:00<?, ?it/s]"
            ]
          },
          "metadata": {},
          "output_type": "display_data"
        },
        {
          "data": {
            "application/vnd.jupyter.widget-view+json": {
              "model_id": "76750a8ff0984c30a92e2458856ab10f",
              "version_major": 2,
              "version_minor": 0
            },
            "text/plain": [
              "Validating...:   0%|          | 0/157 [00:00<?, ?it/s]"
            ]
          },
          "metadata": {},
          "output_type": "display_data"
        },
        {
          "name": "stdout",
          "output_type": "stream",
          "text": [
            "Validation results for ship and 3: {'acc': 0.02435723878443241, 'top5': 0.4444068670272827}\n"
          ]
        },
        {
          "data": {
            "application/vnd.jupyter.widget-view+json": {
              "model_id": "1edd64a01be74d5baf095c6bef4145d1",
              "version_major": 2,
              "version_minor": 0
            },
            "text/plain": [
              "Validating...:   0%|          | 0/391 [00:00<?, ?it/s]"
            ]
          },
          "metadata": {},
          "output_type": "display_data"
        },
        {
          "data": {
            "application/vnd.jupyter.widget-view+json": {
              "model_id": "896741fa093c44cea5b740a0d82a8845",
              "version_major": 2,
              "version_minor": 0
            },
            "text/plain": [
              "  0%|          | 0/1406 [00:00<?, ?it/s]"
            ]
          },
          "metadata": {},
          "output_type": "display_data"
        },
        {
          "data": {
            "application/vnd.jupyter.widget-view+json": {
              "model_id": "14a00effbfb34864b9655754abe3a8ff",
              "version_major": 2,
              "version_minor": 0
            },
            "text/plain": [
              "  0%|          | 0/1406 [00:00<?, ?it/s]"
            ]
          },
          "metadata": {},
          "output_type": "display_data"
        },
        {
          "data": {
            "application/vnd.jupyter.widget-view+json": {
              "model_id": "662f00e323414148882af6e25528b7f5",
              "version_major": 2,
              "version_minor": 0
            },
            "text/plain": [
              "  0%|          | 0/1406 [00:00<?, ?it/s]"
            ]
          },
          "metadata": {},
          "output_type": "display_data"
        },
        {
          "data": {
            "application/vnd.jupyter.widget-view+json": {
              "model_id": "6d9ada054d2843b892cd5a2e76f17c50",
              "version_major": 2,
              "version_minor": 0
            },
            "text/plain": [
              "  0%|          | 0/1406 [00:00<?, ?it/s]"
            ]
          },
          "metadata": {},
          "output_type": "display_data"
        },
        {
          "data": {
            "application/vnd.jupyter.widget-view+json": {
              "model_id": "166d9c92f3874887be394ca0259517f6",
              "version_major": 2,
              "version_minor": 0
            },
            "text/plain": [
              "  0%|          | 0/1406 [00:00<?, ?it/s]"
            ]
          },
          "metadata": {},
          "output_type": "display_data"
        },
        {
          "data": {
            "application/vnd.jupyter.widget-view+json": {
              "model_id": "83893a51d517491397ad77851cd271f6",
              "version_major": 2,
              "version_minor": 0
            },
            "text/plain": [
              "Validating...:   0%|          | 0/157 [00:00<?, ?it/s]"
            ]
          },
          "metadata": {},
          "output_type": "display_data"
        },
        {
          "name": "stdout",
          "output_type": "stream",
          "text": [
            "Validation results for ship and 5: {'acc': 0.1534494161605835, 'top5': 0.6813442707061768}\n"
          ]
        },
        {
          "data": {
            "application/vnd.jupyter.widget-view+json": {
              "model_id": "bfd193f8cf814e978eac0f6c7e50f172",
              "version_major": 2,
              "version_minor": 0
            },
            "text/plain": [
              "Validating...:   0%|          | 0/391 [00:00<?, ?it/s]"
            ]
          },
          "metadata": {},
          "output_type": "display_data"
        },
        {
          "data": {
            "application/vnd.jupyter.widget-view+json": {
              "model_id": "59e3a6629745418e915d928c91c8531b",
              "version_major": 2,
              "version_minor": 0
            },
            "text/plain": [
              "  0%|          | 0/1406 [00:00<?, ?it/s]"
            ]
          },
          "metadata": {},
          "output_type": "display_data"
        },
        {
          "data": {
            "application/vnd.jupyter.widget-view+json": {
              "model_id": "70204d8d86384f75b38038bfa3c32126",
              "version_major": 2,
              "version_minor": 0
            },
            "text/plain": [
              "  0%|          | 0/1406 [00:00<?, ?it/s]"
            ]
          },
          "metadata": {},
          "output_type": "display_data"
        },
        {
          "data": {
            "application/vnd.jupyter.widget-view+json": {
              "model_id": "f4e178850d794daab63d365c750959b8",
              "version_major": 2,
              "version_minor": 0
            },
            "text/plain": [
              "  0%|          | 0/1406 [00:00<?, ?it/s]"
            ]
          },
          "metadata": {},
          "output_type": "display_data"
        },
        {
          "data": {
            "application/vnd.jupyter.widget-view+json": {
              "model_id": "15099d4694584206ab68ec8760502910",
              "version_major": 2,
              "version_minor": 0
            },
            "text/plain": [
              "  0%|          | 0/1406 [00:00<?, ?it/s]"
            ]
          },
          "metadata": {},
          "output_type": "display_data"
        },
        {
          "data": {
            "application/vnd.jupyter.widget-view+json": {
              "model_id": "3cefbe6557b140bcaceb1b179c6314ae",
              "version_major": 2,
              "version_minor": 0
            },
            "text/plain": [
              "  0%|          | 0/1406 [00:00<?, ?it/s]"
            ]
          },
          "metadata": {},
          "output_type": "display_data"
        },
        {
          "data": {
            "application/vnd.jupyter.widget-view+json": {
              "model_id": "857871da50f84756934676bde4c31436",
              "version_major": 2,
              "version_minor": 0
            },
            "text/plain": [
              "Validating...:   0%|          | 0/157 [00:00<?, ?it/s]"
            ]
          },
          "metadata": {},
          "output_type": "display_data"
        },
        {
          "name": "stdout",
          "output_type": "stream",
          "text": [
            "Validation results for ship and 7: {'acc': 0.4423291087150574, 'top5': 0.8863282203674316}\n"
          ]
        },
        {
          "data": {
            "application/vnd.jupyter.widget-view+json": {
              "model_id": "e422605fdc35490487a48c79aec4ca6e",
              "version_major": 2,
              "version_minor": 0
            },
            "text/plain": [
              "Validating...:   0%|          | 0/391 [00:00<?, ?it/s]"
            ]
          },
          "metadata": {},
          "output_type": "display_data"
        },
        {
          "data": {
            "application/vnd.jupyter.widget-view+json": {
              "model_id": "d0ce8fa58d8546689d0a8fa3fb91314a",
              "version_major": 2,
              "version_minor": 0
            },
            "text/plain": [
              "  0%|          | 0/1406 [00:00<?, ?it/s]"
            ]
          },
          "metadata": {},
          "output_type": "display_data"
        },
        {
          "data": {
            "application/vnd.jupyter.widget-view+json": {
              "model_id": "b6c5280712084231bdb3ad338bd9bfb1",
              "version_major": 2,
              "version_minor": 0
            },
            "text/plain": [
              "  0%|          | 0/1406 [00:00<?, ?it/s]"
            ]
          },
          "metadata": {},
          "output_type": "display_data"
        },
        {
          "data": {
            "application/vnd.jupyter.widget-view+json": {
              "model_id": "46ac39246b3b4d2d9249fac8d7da8f8d",
              "version_major": 2,
              "version_minor": 0
            },
            "text/plain": [
              "  0%|          | 0/1406 [00:00<?, ?it/s]"
            ]
          },
          "metadata": {},
          "output_type": "display_data"
        },
        {
          "data": {
            "application/vnd.jupyter.widget-view+json": {
              "model_id": "d5fd6caae8fb4811a7b36ad39c3ad95e",
              "version_major": 2,
              "version_minor": 0
            },
            "text/plain": [
              "  0%|          | 0/1406 [00:00<?, ?it/s]"
            ]
          },
          "metadata": {},
          "output_type": "display_data"
        },
        {
          "data": {
            "application/vnd.jupyter.widget-view+json": {
              "model_id": "c0f9eea890684c77a18dced6b9e971e8",
              "version_major": 2,
              "version_minor": 0
            },
            "text/plain": [
              "  0%|          | 0/1406 [00:00<?, ?it/s]"
            ]
          },
          "metadata": {},
          "output_type": "display_data"
        },
        {
          "data": {
            "application/vnd.jupyter.widget-view+json": {
              "model_id": "5c4db86196374e018ed0b73dcee84501",
              "version_major": 2,
              "version_minor": 0
            },
            "text/plain": [
              "Validating...:   0%|          | 0/157 [00:00<?, ?it/s]"
            ]
          },
          "metadata": {},
          "output_type": "display_data"
        },
        {
          "name": "stdout",
          "output_type": "stream",
          "text": [
            "Validation results for ship and 16: {'acc': 0.9999444484710693, 'top5': 1.0}\n"
          ]
        },
        {
          "data": {
            "application/vnd.jupyter.widget-view+json": {
              "model_id": "494df2e86ecf4b2abba5bc5738d5f256",
              "version_major": 2,
              "version_minor": 0
            },
            "text/plain": [
              "Validating...:   0%|          | 0/391 [00:00<?, ?it/s]"
            ]
          },
          "metadata": {},
          "output_type": "display_data"
        },
        {
          "data": {
            "application/vnd.jupyter.widget-view+json": {
              "model_id": "23e53819652745178f10c4eef1118d19",
              "version_major": 2,
              "version_minor": 0
            },
            "text/plain": [
              "  0%|          | 0/1406 [00:00<?, ?it/s]"
            ]
          },
          "metadata": {},
          "output_type": "display_data"
        },
        {
          "data": {
            "application/vnd.jupyter.widget-view+json": {
              "model_id": "b1c27f334ddb4154982860cf40894f82",
              "version_major": 2,
              "version_minor": 0
            },
            "text/plain": [
              "  0%|          | 0/1406 [00:00<?, ?it/s]"
            ]
          },
          "metadata": {},
          "output_type": "display_data"
        },
        {
          "data": {
            "application/vnd.jupyter.widget-view+json": {
              "model_id": "ef1d16e4f4bb450b9deeaadce1d7a60e",
              "version_major": 2,
              "version_minor": 0
            },
            "text/plain": [
              "  0%|          | 0/1406 [00:00<?, ?it/s]"
            ]
          },
          "metadata": {},
          "output_type": "display_data"
        },
        {
          "data": {
            "application/vnd.jupyter.widget-view+json": {
              "model_id": "fc937dc716f2451da0348eb4322414fc",
              "version_major": 2,
              "version_minor": 0
            },
            "text/plain": [
              "  0%|          | 0/1406 [00:00<?, ?it/s]"
            ]
          },
          "metadata": {},
          "output_type": "display_data"
        },
        {
          "data": {
            "application/vnd.jupyter.widget-view+json": {
              "model_id": "59df8a6a0e414c14a0184e2c1172f7db",
              "version_major": 2,
              "version_minor": 0
            },
            "text/plain": [
              "  0%|          | 0/1406 [00:00<?, ?it/s]"
            ]
          },
          "metadata": {},
          "output_type": "display_data"
        },
        {
          "data": {
            "application/vnd.jupyter.widget-view+json": {
              "model_id": "41b30a630ab74720bbf3b8ddd6b4beda",
              "version_major": 2,
              "version_minor": 0
            },
            "text/plain": [
              "Validating...:   0%|          | 0/157 [00:00<?, ?it/s]"
            ]
          },
          "metadata": {},
          "output_type": "display_data"
        },
        {
          "name": "stdout",
          "output_type": "stream",
          "text": [
            "Validation results for truck and 3: {'acc': 0.04069509357213974, 'top5': 0.6452920436859131}\n"
          ]
        },
        {
          "data": {
            "application/vnd.jupyter.widget-view+json": {
              "model_id": "be6a773b5a014a45bd5043b3fdca9b5e",
              "version_major": 2,
              "version_minor": 0
            },
            "text/plain": [
              "Validating...:   0%|          | 0/391 [00:00<?, ?it/s]"
            ]
          },
          "metadata": {},
          "output_type": "display_data"
        },
        {
          "data": {
            "application/vnd.jupyter.widget-view+json": {
              "model_id": "e8d2ab4dbea3493cb7c94e5e07c7d8a3",
              "version_major": 2,
              "version_minor": 0
            },
            "text/plain": [
              "  0%|          | 0/1406 [00:00<?, ?it/s]"
            ]
          },
          "metadata": {},
          "output_type": "display_data"
        },
        {
          "data": {
            "application/vnd.jupyter.widget-view+json": {
              "model_id": "42ffa52fe0f548189a691c67ef655936",
              "version_major": 2,
              "version_minor": 0
            },
            "text/plain": [
              "  0%|          | 0/1406 [00:00<?, ?it/s]"
            ]
          },
          "metadata": {},
          "output_type": "display_data"
        },
        {
          "data": {
            "application/vnd.jupyter.widget-view+json": {
              "model_id": "6dece850b83c4439927da38f9815b169",
              "version_major": 2,
              "version_minor": 0
            },
            "text/plain": [
              "  0%|          | 0/1406 [00:00<?, ?it/s]"
            ]
          },
          "metadata": {},
          "output_type": "display_data"
        },
        {
          "data": {
            "application/vnd.jupyter.widget-view+json": {
              "model_id": "1fc5a67694964c28b30da23af9e3316e",
              "version_major": 2,
              "version_minor": 0
            },
            "text/plain": [
              "  0%|          | 0/1406 [00:00<?, ?it/s]"
            ]
          },
          "metadata": {},
          "output_type": "display_data"
        },
        {
          "data": {
            "application/vnd.jupyter.widget-view+json": {
              "model_id": "181f5bd5fcd346f39cac29b3632c7bac",
              "version_major": 2,
              "version_minor": 0
            },
            "text/plain": [
              "  0%|          | 0/1406 [00:00<?, ?it/s]"
            ]
          },
          "metadata": {},
          "output_type": "display_data"
        },
        {
          "data": {
            "application/vnd.jupyter.widget-view+json": {
              "model_id": "55154eb8f6eb47089d1b31d9895f7e3d",
              "version_major": 2,
              "version_minor": 0
            },
            "text/plain": [
              "Validating...:   0%|          | 0/157 [00:00<?, ?it/s]"
            ]
          },
          "metadata": {},
          "output_type": "display_data"
        },
        {
          "name": "stdout",
          "output_type": "stream",
          "text": [
            "Validation results for truck and 5: {'acc': 0.2826305329799652, 'top5': 0.9027220010757446}\n"
          ]
        },
        {
          "data": {
            "application/vnd.jupyter.widget-view+json": {
              "model_id": "e4358c2ca8364ccc8003e24fd98a119b",
              "version_major": 2,
              "version_minor": 0
            },
            "text/plain": [
              "Validating...:   0%|          | 0/391 [00:00<?, ?it/s]"
            ]
          },
          "metadata": {},
          "output_type": "display_data"
        },
        {
          "data": {
            "application/vnd.jupyter.widget-view+json": {
              "model_id": "63b036d84132445283bb51d652eb3fe7",
              "version_major": 2,
              "version_minor": 0
            },
            "text/plain": [
              "  0%|          | 0/1406 [00:00<?, ?it/s]"
            ]
          },
          "metadata": {},
          "output_type": "display_data"
        },
        {
          "data": {
            "application/vnd.jupyter.widget-view+json": {
              "model_id": "b3776ab99c7c42a7825cd6c8a714a099",
              "version_major": 2,
              "version_minor": 0
            },
            "text/plain": [
              "  0%|          | 0/1406 [00:00<?, ?it/s]"
            ]
          },
          "metadata": {},
          "output_type": "display_data"
        },
        {
          "data": {
            "application/vnd.jupyter.widget-view+json": {
              "model_id": "2122d45eae36452794fef106e1af0ef6",
              "version_major": 2,
              "version_minor": 0
            },
            "text/plain": [
              "  0%|          | 0/1406 [00:00<?, ?it/s]"
            ]
          },
          "metadata": {},
          "output_type": "display_data"
        },
        {
          "data": {
            "application/vnd.jupyter.widget-view+json": {
              "model_id": "3f59d98cb68f482e982b5e94c5e575ef",
              "version_major": 2,
              "version_minor": 0
            },
            "text/plain": [
              "  0%|          | 0/1406 [00:00<?, ?it/s]"
            ]
          },
          "metadata": {},
          "output_type": "display_data"
        },
        {
          "data": {
            "application/vnd.jupyter.widget-view+json": {
              "model_id": "307b4ea2efa64ea1b2063d970b3e5079",
              "version_major": 2,
              "version_minor": 0
            },
            "text/plain": [
              "  0%|          | 0/1406 [00:00<?, ?it/s]"
            ]
          },
          "metadata": {},
          "output_type": "display_data"
        },
        {
          "data": {
            "application/vnd.jupyter.widget-view+json": {
              "model_id": "1dfcb6b3ac744e79983028c888de1375",
              "version_major": 2,
              "version_minor": 0
            },
            "text/plain": [
              "Validating...:   0%|          | 0/157 [00:00<?, ?it/s]"
            ]
          },
          "metadata": {},
          "output_type": "display_data"
        },
        {
          "name": "stdout",
          "output_type": "stream",
          "text": [
            "Validation results for truck and 7: {'acc': 0.6661508083343506, 'top5': 0.9831969738006592}\n"
          ]
        },
        {
          "data": {
            "application/vnd.jupyter.widget-view+json": {
              "model_id": "7f96693298044eab8e1b1c80d8ef991b",
              "version_major": 2,
              "version_minor": 0
            },
            "text/plain": [
              "Validating...:   0%|          | 0/391 [00:00<?, ?it/s]"
            ]
          },
          "metadata": {},
          "output_type": "display_data"
        },
        {
          "data": {
            "application/vnd.jupyter.widget-view+json": {
              "model_id": "19b56153d0af4596805beedb046f7fd0",
              "version_major": 2,
              "version_minor": 0
            },
            "text/plain": [
              "  0%|          | 0/1406 [00:00<?, ?it/s]"
            ]
          },
          "metadata": {},
          "output_type": "display_data"
        },
        {
          "data": {
            "application/vnd.jupyter.widget-view+json": {
              "model_id": "679717ae092c4feea7ad9521cf921de0",
              "version_major": 2,
              "version_minor": 0
            },
            "text/plain": [
              "  0%|          | 0/1406 [00:00<?, ?it/s]"
            ]
          },
          "metadata": {},
          "output_type": "display_data"
        },
        {
          "data": {
            "application/vnd.jupyter.widget-view+json": {
              "model_id": "c788e89ab2a64693ab8e3e60928eec9b",
              "version_major": 2,
              "version_minor": 0
            },
            "text/plain": [
              "  0%|          | 0/1406 [00:00<?, ?it/s]"
            ]
          },
          "metadata": {},
          "output_type": "display_data"
        },
        {
          "data": {
            "application/vnd.jupyter.widget-view+json": {
              "model_id": "82d83c27666343909fd6cf9782a2006c",
              "version_major": 2,
              "version_minor": 0
            },
            "text/plain": [
              "  0%|          | 0/1406 [00:00<?, ?it/s]"
            ]
          },
          "metadata": {},
          "output_type": "display_data"
        },
        {
          "data": {
            "application/vnd.jupyter.widget-view+json": {
              "model_id": "d019daae1cb04f7d9d79ce627adf1c51",
              "version_major": 2,
              "version_minor": 0
            },
            "text/plain": [
              "  0%|          | 0/1406 [00:00<?, ?it/s]"
            ]
          },
          "metadata": {},
          "output_type": "display_data"
        },
        {
          "data": {
            "application/vnd.jupyter.widget-view+json": {
              "model_id": "3350829b7aa746db976a43486b608ecb",
              "version_major": 2,
              "version_minor": 0
            },
            "text/plain": [
              "Validating...:   0%|          | 0/157 [00:00<?, ?it/s]"
            ]
          },
          "metadata": {},
          "output_type": "display_data"
        },
        {
          "name": "stdout",
          "output_type": "stream",
          "text": [
            "Validation results for truck and 16: {'acc': 0.9998893737792969, 'top5': 1.0}\n"
          ]
        },
        {
          "data": {
            "application/vnd.jupyter.widget-view+json": {
              "model_id": "a8637dabb3b94e0d9da70a1a1b26694b",
              "version_major": 2,
              "version_minor": 0
            },
            "text/plain": [
              "Validating...:   0%|          | 0/391 [00:00<?, ?it/s]"
            ]
          },
          "metadata": {},
          "output_type": "display_data"
        }
      ],
      "source": [
        "#class_names = ['toaster', 'goldfish', 'school bus', 'lipstick', 'pineapple']\n",
        "class_names = label_names\n",
        "patch_sizes = [3, 5, 7, 16]\n",
        "\n",
        "patch_dict = get_patches(class_names, patch_sizes)\n",
        "save_results(patch_dict) # Uncomment if you add new class names and want to save the new results"
      ]
    },
    {
      "cell_type": "markdown",
      "metadata": {
        "id": "nkAFyQpWocbz"
      },
      "source": [
        "Before looking at the quantitative results, we can actually visualize the patches."
      ]
    },
    {
      "cell_type": "code",
      "execution_count": null,
      "metadata": {
        "id": "Ay7oDvdTocbz",
        "outputId": "72bcb26d-468e-4367-ab34-b03805c344e5"
      },
      "outputs": [
        {
          "ename": "",
          "evalue": "",
          "output_type": "error",
          "traceback": [
            "\u001b[1;31mnotebook controller is DISPOSED. \n",
            "\u001b[1;31mView Jupyter <a href='command:jupyter.viewOutput'>log</a> for further details."
          ]
        },
        {
          "ename": "",
          "evalue": "",
          "output_type": "error",
          "traceback": [
            "\u001b[1;31mnotebook controller is DISPOSED. \n",
            "\u001b[1;31mView Jupyter <a href='command:jupyter.viewOutput'>log</a> for further details."
          ]
        }
      ],
      "source": [
        "def show_patches():\n",
        "    fig, ax = plt.subplots(len(patch_sizes), len(class_names), figsize=(len(class_names)*2.2, len(patch_sizes)*2.2))\n",
        "    for c_idx, cname in enumerate(class_names):\n",
        "        for p_idx, psize in enumerate(patch_sizes):\n",
        "            patch = patch_dict[cname][psize][\"patch\"]\n",
        "            patch = (torch.tanh(patch) + 1) / 2 # Parameter to pixel values\n",
        "            patch = patch.cpu().permute(1, 2, 0).numpy()\n",
        "            patch = np.clip(patch, a_min=0.0, a_max=1.0)\n",
        "            ax[p_idx][c_idx].imshow(patch)\n",
        "            ax[p_idx][c_idx].set_title(f\"{cname}, size {psize}\")\n",
        "            ax[p_idx][c_idx].axis('off')\n",
        "    fig.subplots_adjust(hspace=0.3, wspace=0.3)\n",
        "    plt.show()\n",
        "show_patches()"
      ]
    },
    {
      "cell_type": "markdown",
      "metadata": {
        "id": "nUj14TRcocbz"
      },
      "source": [
        "We can see a clear difference between patches of different classes and sizes. In the smallest size, $32\\times 32$ pixels, some of the patches clearly resemble their class. For instance, the goldfish patch clearly shows a goldfish. The eye and the color are very characteristic of the class. Overall, the patches with $32$ pixels have very strong colors that are typical for their class (yellow school bus, pink lipstick, greenish pineapple). The larger the patch becomes, the more stretched the pattern becomes. For the goldfish, we can still spot regions that might represent eyes and the characteristic orange color, but it is not clearly a single fish anymore. For the pineapple, we might interpret the top part of the image as the leaves of pineapple fruit, but it is more abstract than our small patches. Nevertheless, we can easily spot the alignment of the patch to class, even on the largest scale.\n",
        "\n",
        "Let's now look at the quantitative results."
      ]
    },
    {
      "cell_type": "code",
      "execution_count": null,
      "metadata": {
        "id": "HPPj1W7locbz",
        "outputId": "343a58ba-b994-4f49-be0b-c88b84e320d8"
      },
      "outputs": [
        {
          "ename": "",
          "evalue": "",
          "output_type": "error",
          "traceback": [
            "\u001b[1;31mnotebook controller is DISPOSED. \n",
            "\u001b[1;31mView Jupyter <a href='command:jupyter.viewOutput'>log</a> for further details."
          ]
        },
        {
          "ename": "",
          "evalue": "",
          "output_type": "error",
          "traceback": [
            "\u001b[1;31mnotebook controller is DISPOSED. \n",
            "\u001b[1;31mView Jupyter <a href='command:jupyter.viewOutput'>log</a> for further details."
          ]
        }
      ],
      "source": [
        "%%html\n",
        "<!-- Some HTML code to increase font size in the following table -->\n",
        "<style>\n",
        "th {font-size: 120%;}\n",
        "td {font-size: 120%;}\n",
        "</style>"
      ]
    },
    {
      "cell_type": "code",
      "execution_count": null,
      "metadata": {},
      "outputs": [
        {
          "ename": "",
          "evalue": "",
          "output_type": "error",
          "traceback": [
            "\u001b[1;31mnotebook controller is DISPOSED. \n",
            "\u001b[1;31mView Jupyter <a href='command:jupyter.viewOutput'>log</a> for further details."
          ]
        },
        {
          "ename": "",
          "evalue": "",
          "output_type": "error",
          "traceback": [
            "\u001b[1;31mnotebook controller is DISPOSED. \n",
            "\u001b[1;31mView Jupyter <a href='command:jupyter.viewOutput'>log</a> for further details."
          ]
        }
      ],
      "source": [
        "patch_dict"
      ]
    },
    {
      "cell_type": "code",
      "execution_count": null,
      "metadata": {
        "id": "EviI9bQSocb0"
      },
      "outputs": [
        {
          "ename": "",
          "evalue": "",
          "output_type": "error",
          "traceback": [
            "\u001b[1;31mnotebook controller is DISPOSED. \n",
            "\u001b[1;31mView Jupyter <a href='command:jupyter.viewOutput'>log</a> for further details."
          ]
        },
        {
          "ename": "",
          "evalue": "",
          "output_type": "error",
          "traceback": [
            "\u001b[1;31mnotebook controller is DISPOSED. \n",
            "\u001b[1;31mView Jupyter <a href='command:jupyter.viewOutput'>log</a> for further details."
          ]
        }
      ],
      "source": [
        "import tabulate\n",
        "from IPython.display import display, HTML\n",
        "\n",
        "def show_table(top_1=True):\n",
        "    i = 0 if top_1 else 1\n",
        "    table = [[name] + [f'{(100.0 * patch_dict[name][psize][\"results\"][i]):4.2f}%' for psize in patch_sizes] for name in class_names]\n",
        "    display(HTML(tabulate.tabulate(table, tablefmt='html', headers=[\"Class name\"] + [f\"Patch size {psize}x{psize}\" for psize in patch_sizes])))"
      ]
    },
    {
      "cell_type": "markdown",
      "metadata": {
        "id": "uv_2G5MZocb0"
      },
      "source": [
        "First, we will create a table of top-1 accuracy, meaning that how many images have been classified with the target class as highest prediction?"
      ]
    },
    {
      "cell_type": "code",
      "execution_count": null,
      "metadata": {
        "id": "zd7QON8aocb0",
        "outputId": "c280964c-4a59-4ef9-f3c1-289044c4218b"
      },
      "outputs": [
        {
          "ename": "",
          "evalue": "",
          "output_type": "error",
          "traceback": [
            "\u001b[1;31mnotebook controller is DISPOSED. \n",
            "\u001b[1;31mView Jupyter <a href='command:jupyter.viewOutput'>log</a> for further details."
          ]
        },
        {
          "ename": "",
          "evalue": "",
          "output_type": "error",
          "traceback": [
            "\u001b[1;31mnotebook controller is DISPOSED. \n",
            "\u001b[1;31mView Jupyter <a href='command:jupyter.viewOutput'>log</a> for further details."
          ]
        }
      ],
      "source": [
        "show_table(top_1=True)"
      ]
    },
    {
      "cell_type": "markdown",
      "metadata": {
        "id": "rEOBMBiqocb0"
      },
      "source": [
        "The clear trend, that we would also have expected, is that the larger the patch, the easier it is to fool the model. For the largest patch size of $64\\times 64$, we are able to fool the model on almost all images, despite the patch covering only 8% of the image. The smallest patch actually covers 2% of the image, which is almost neglectable. Still, the fooling accuracy is quite remarkable. A large variation can be however seen across classes. While *school bus* and *pineapple* seem to be classes that were easily predicted, *toaster* and *lipstick* seem to be much harder for creating a patch. It is hard to intuitively explain why our patches underperform on those classes. Nonetheless, a fooling accuracy of >40% is still very good for such a tiny patch.\n",
        "\n",
        "Let's also take a look at the top-5 accuracy:"
      ]
    },
    {
      "cell_type": "code",
      "execution_count": null,
      "metadata": {
        "id": "ilg_rNFbocb0",
        "outputId": "aafb0cef-7d20-4f4a-fe10-2dc2e0c6ac10"
      },
      "outputs": [
        {
          "ename": "",
          "evalue": "",
          "output_type": "error",
          "traceback": [
            "\u001b[1;31mnotebook controller is DISPOSED. \n",
            "\u001b[1;31mView Jupyter <a href='command:jupyter.viewOutput'>log</a> for further details."
          ]
        },
        {
          "ename": "",
          "evalue": "",
          "output_type": "error",
          "traceback": [
            "\u001b[1;31mnotebook controller is DISPOSED. \n",
            "\u001b[1;31mView Jupyter <a href='command:jupyter.viewOutput'>log</a> for further details."
          ]
        }
      ],
      "source": [
        "show_table(top_1=False)"
      ]
    },
    {
      "cell_type": "markdown",
      "metadata": {
        "id": "s964AEdOocb0"
      },
      "source": [
        "We see a very similar pattern across classes and patch sizes. The patch size $64$ obtains >99.7% top-5 accuracy for any class, showing that we can almost fool the network on any image. A top-5 accuracy of >70% for the hard classes and small patches is still impressive and shows how vulnerable deep CNNs are to such attacks.\n",
        "\n",
        "Finally, let's create some example visualizations of the patch attack in action."
      ]
    },
    {
      "cell_type": "code",
      "execution_count": null,
      "metadata": {
        "id": "LgJ_roLhocb0"
      },
      "outputs": [
        {
          "ename": "",
          "evalue": "",
          "output_type": "error",
          "traceback": [
            "\u001b[1;31mnotebook controller is DISPOSED. \n",
            "\u001b[1;31mView Jupyter <a href='command:jupyter.viewOutput'>log</a> for further details."
          ]
        },
        {
          "ename": "",
          "evalue": "",
          "output_type": "error",
          "traceback": [
            "\u001b[1;31mnotebook controller is DISPOSED. \n",
            "\u001b[1;31mView Jupyter <a href='command:jupyter.viewOutput'>log</a> for further details."
          ]
        }
      ],
      "source": [
        "def perform_patch_attack(patch):\n",
        "    patch_batch = exmp_batch.clone()\n",
        "    patch_batch = place_patch(patch_batch, patch)\n",
        "    with torch.no_grad():\n",
        "        patch_preds = pretrained_model(patch_batch.to(device))\n",
        "    for i in range(1,17,5):\n",
        "        show_prediction(patch_batch[i], label_batch[i], patch_preds[i])"
      ]
    },
    {
      "cell_type": "code",
      "execution_count": null,
      "metadata": {
        "id": "OkTbExXWocb0",
        "outputId": "61355d11-6b7e-4c1a-86bc-e752f6e2691d"
      },
      "outputs": [
        {
          "ename": "",
          "evalue": "",
          "output_type": "error",
          "traceback": [
            "\u001b[1;31mnotebook controller is DISPOSED. \n",
            "\u001b[1;31mView Jupyter <a href='command:jupyter.viewOutput'>log</a> for further details."
          ]
        },
        {
          "ename": "",
          "evalue": "",
          "output_type": "error",
          "traceback": [
            "\u001b[1;31mnotebook controller is DISPOSED. \n",
            "\u001b[1;31mView Jupyter <a href='command:jupyter.viewOutput'>log</a> for further details."
          ]
        }
      ],
      "source": [
        "perform_patch_attack(patch_dict['goldfish'][32]['patch'])"
      ]
    },
    {
      "cell_type": "markdown",
      "metadata": {
        "id": "2RXRk51Cocb0"
      },
      "source": [
        "The tiny goldfish patch can change all of the predictions to \"goldfish\" as top class. Note that the patch attacks work especially well if the input image is semantically similar to the target class (e.g. a fish and the target class \"goldfish\" works better than an airplane image with that patch). Nevertheless, we can also let the network predict semantically dis-similar classes by using a larger patch:"
      ]
    },
    {
      "cell_type": "code",
      "execution_count": null,
      "metadata": {
        "id": "EOxm6dQWocb0",
        "outputId": "37eb68a6-4015-4276-d388-5ace348437ac"
      },
      "outputs": [
        {
          "ename": "",
          "evalue": "",
          "output_type": "error",
          "traceback": [
            "\u001b[1;31mnotebook controller is DISPOSED. \n",
            "\u001b[1;31mView Jupyter <a href='command:jupyter.viewOutput'>log</a> for further details."
          ]
        },
        {
          "ename": "",
          "evalue": "",
          "output_type": "error",
          "traceback": [
            "\u001b[1;31mnotebook controller is DISPOSED. \n",
            "\u001b[1;31mView Jupyter <a href='command:jupyter.viewOutput'>log</a> for further details."
          ]
        }
      ],
      "source": [
        "perform_patch_attack(patch_dict['school bus'][64]['patch'])"
      ]
    },
    {
      "cell_type": "markdown",
      "metadata": {
        "id": "CxL0wvyAocb0"
      },
      "source": [
        "Although none of the images have anything to do with an American school bus, the high confidence of often 100% shows how powerful such attacks can be. With a few lines of code and access to the model, we were able to generate patches that we add to any image to make the model predict any class we want. "
      ]
    },
    {
      "cell_type": "markdown",
      "metadata": {
        "id": "f6f3Gurpocb0"
      },
      "source": [
        "### Transferability of white-box attacks\n",
        "\n",
        "FGSM and the adversarial patch attack were both focused on one specific image. However, can we transfer those attacks to other models? The adversarial patch attack as proposed in [Brown et al.](https://arxiv.org/pdf/1712.09665.pdf), was originally trained on multiple models, and hence was also able to work on many different network architecture. But how different are the patches for different models anyway? For instance, let's evaluate some of our patches trained above on a different network, e.g. DenseNet121."
      ]
    },
    {
      "cell_type": "code",
      "execution_count": null,
      "metadata": {
        "id": "Ygskb20wocb0"
      },
      "outputs": [
        {
          "ename": "",
          "evalue": "",
          "output_type": "error",
          "traceback": [
            "\u001b[1;31mnotebook controller is DISPOSED. \n",
            "\u001b[1;31mView Jupyter <a href='command:jupyter.viewOutput'>log</a> for further details."
          ]
        },
        {
          "ename": "",
          "evalue": "",
          "output_type": "error",
          "traceback": [
            "\u001b[1;31mnotebook controller is DISPOSED. \n",
            "\u001b[1;31mView Jupyter <a href='command:jupyter.viewOutput'>log</a> for further details."
          ]
        }
      ],
      "source": [
        "transfer_model = torchvision.models.densenet121(weights='IMAGENET1K_V1')\n",
        "transfer_model = transfer_model.to(device)\n",
        "\n",
        "# No gradients needed for the network\n",
        "transfer_model.eval()\n",
        "for p in transfer_model.parameters():\n",
        "    p.requires_grad = False"
      ]
    },
    {
      "cell_type": "markdown",
      "metadata": {
        "id": "b9LGmSJeocb0"
      },
      "source": [
        "Feel free to change the class name and/or patch size below to test out different patches."
      ]
    },
    {
      "cell_type": "code",
      "execution_count": null,
      "metadata": {
        "id": "J36aCBtBocb0",
        "outputId": "3ea2c7a7-de1d-4908-f49c-d270cc37e507"
      },
      "outputs": [
        {
          "ename": "",
          "evalue": "",
          "output_type": "error",
          "traceback": [
            "\u001b[1;31mnotebook controller is DISPOSED. \n",
            "\u001b[1;31mView Jupyter <a href='command:jupyter.viewOutput'>log</a> for further details."
          ]
        },
        {
          "ename": "",
          "evalue": "",
          "output_type": "error",
          "traceback": [
            "\u001b[1;31mnotebook controller is DISPOSED. \n",
            "\u001b[1;31mView Jupyter <a href='command:jupyter.viewOutput'>log</a> for further details."
          ]
        }
      ],
      "source": [
        "class_name = 'pineapple'\n",
        "patch_size = 64\n",
        "print(f\"Testing patch \\\"{class_name}\\\" of size {patch_size}x{patch_size}\")\n",
        "\n",
        "results = eval_patch(transfer_model, \n",
        "                     patch_dict[class_name][patch_size][\"patch\"], \n",
        "                     data_loader, \n",
        "                     target_class=label_names.index(class_name))\n",
        "\n",
        "print(f\"Top-1 fool accuracy: {(results[0] * 100.0):4.2f}%\")\n",
        "print(f\"Top-5 fool accuracy: {(results[1] * 100.0):4.2f}%\")"
      ]
    },
    {
      "cell_type": "markdown",
      "metadata": {
        "id": "n8Y90rfDocb1"
      },
      "source": [
        "Although the fool accuracy is significantly lower than on the original ResNet34, it still has a considerable impact on DenseNet although the networks have completely different architectures and weights. If you would compare more patches and models, some would work better than others. However, one aspect which allows patch attacks to generalize well is if all the networks have been trained on the same data. In this case, all networks have been trained on ImageNet. Dataset biases make the networks recognize specific patterns in the underlying image data that humans would not have seen, and/or only work for the given dataset. This is why the knowledge of what data has been used to train a specific model is already worth a lot in the context of adversarial attacks."
      ]
    },
    {
      "cell_type": "markdown",
      "metadata": {
        "id": "uFDV3aYkocb1"
      },
      "source": [
        "## Protecting against adversarial attacks\n",
        "\n",
        "There are many more attack strategies than just FGSM and adversarial patches that we haven't discussed and implemented ourselves here. However, what about the other perspective? What can we do to *protect* a network against adversarial attacks? The sad truth to this is: not much.\n",
        "\n",
        "White-box attacks require access to the model and its gradient calculation. The easiest way of preventing this is by ensuring safe, private storage of the model and its weights. However, some attacks, called black-box attacks, also work without access to the model's parameters, or white-box attacks can also generalize as we have seen above on our short test on transferability. \n",
        "\n",
        "So, how could we eventually protect a model? An intuitive approach would to train/finetune a model on such adversarial images, leading to an adversarial training similar to a GAN. During training, we would pretend to be the attacker, and use for example FGSM as an augmentation strategy. However, this usually just ends up in an oscillation of the defending network between weak spots. Another common trick to increase robustness against adversarial attacks is defensive distillation ([Papernot et al.](https://arxiv.org/pdf/1511.04508.pdf)). Instead of training the model on the dataset labels, we train a secondary model on the softmax predictions of the first one. This way, the loss surface is \"smoothed\" in the directions an attacker might try to exploit, and it becomes more difficult for the attacker to find adversarial examples. Nevertheless, there hasn't been found the one, true strategy that works against all possible adversarial attacks.\n",
        "\n",
        "Why are CNNs, or neural networks in general, so vulnerable to adversarial attacks? While there are many possible explanations, the most intuitive is that neural networks don't know what they don't know. Even a large dataset represents just a few sparse points in the extremely large space of possible images. A lot of the input space has not been seen by the network during training, and hence, we cannot guarantee that the prediction for those images is any useful. The network instead learns a very good classification on a smaller region, often referred to as manifold, while ignoring the points outside of it. NNs with uncertainty prediction could potentially help to discover what the network does not know. \n",
        "Another possible explanation lies in the activation function. As we know, most CNNs use ReLU-based activation functions. While those have enabled great success in training deep neural networks due to their stable gradient for positive values, they also constitute a possible flaw. The output range of a ReLU neuron can be arbitrarily high. Thus, if we design a patch or the noise in the image to cause a very high value for a single neuron, it can overpower many other features in the network. Thus, although ReLU stabilizes training, it also offers a potential point of attack for adversaries."
      ]
    },
    {
      "cell_type": "markdown",
      "metadata": {
        "id": "Brm1JJ30ocb1"
      },
      "source": [
        "## Conclusion\n",
        "\n",
        "In this tutorial, we have looked at different forms of adversarial attacks. Deep CNNs can be fooled by only slight modifications to the input. Whether it is a carefully designed noise pattern, unnoticeable for a human, or a small patch, we are able to manipulate the networks' predictions significantly. The fact that even white-box attacks can be transferable across networks, and that there exist no suitable protections against all possible adversarial attacks, make this concept a massive problem for real-world applications. While adversarial attacks can also be used for improving/training a robust model or a GAN, it is not close to being solved yet. This is also because neural networks are currently complex, unknown non-linear functions in high-dimensional looking for correlations instead of causation. In the next years, we might hopefully see an improvement in the stability of such models by using causal approaches and/or introducing uncertainty. "
      ]
    },
    {
      "cell_type": "markdown",
      "metadata": {
        "id": "xuRRnnqjocb1"
      },
      "source": [
        "## References\n",
        "\n",
        "[1] Goodfellow, Ian J., Jonathon Shlens, and Christian Szegedy. \"Explaining and harnessing adversarial examples.\" ICLR 2015.\n",
        "\n",
        "[2] Hendrik Metzen, Jan, et al. \"Universal adversarial perturbations against semantic image segmentation.\" Proceedings of the IEEE International Conference on Computer Vision. 2017.\n",
        "\n",
        "[3] Anant Jain. \"Breaking neural networks with adversarial attacks.\" [Blog post](https://towardsdatascience.com/breaking-neural-networks-with-adversarial-attacks-f4290a9a45aa) 2019."
      ]
    },
    {
      "cell_type": "markdown",
      "metadata": {
        "id": "t2iZA5Urocb1"
      },
      "source": [
        "---\n",
        "\n",
        "[![Star our repository](https://img.shields.io/static/v1.svg?logo=star&label=⭐&message=Star%20Our%20Repository&color=yellow)](https://github.com/phlippe/uvadlc_notebooks/)  If you found this tutorial helpful, consider ⭐-ing our repository.    \n",
        "[![Ask questions](https://img.shields.io/static/v1.svg?logo=star&label=❔&message=Ask%20Questions&color=9cf)](https://github.com/phlippe/uvadlc_notebooks/issues)  For any questions, typos, or bugs that you found, please raise an issue on GitHub. \n",
        "\n",
        "---"
      ]
    }
  ],
  "metadata": {
    "colab": {
      "provenance": []
    },
    "kernelspec": {
      "display_name": "venv",
      "language": "python",
      "name": "python3"
    },
    "language_info": {
      "codemirror_mode": {
        "name": "ipython",
        "version": 3
      },
      "file_extension": ".py",
      "mimetype": "text/x-python",
      "name": "python",
      "nbconvert_exporter": "python",
      "pygments_lexer": "ipython3",
      "version": "3.8.10 (default, Nov 14 2022, 12:59:47) \n[GCC 9.4.0]"
    },
    "vscode": {
      "interpreter": {
        "hash": "e8ba96d35f524bf788e0a066ae8555804e9c3c2c45d7eaf088b255e4838dd8cc"
      }
    }
  },
  "nbformat": 4,
  "nbformat_minor": 0
}
