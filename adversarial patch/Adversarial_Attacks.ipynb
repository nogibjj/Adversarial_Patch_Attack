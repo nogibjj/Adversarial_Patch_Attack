{
 "cells": [
  {
   "attachments": {},
   "cell_type": "markdown",
   "metadata": {
    "id": "Gd5uck2_ocbq"
   },
   "source": [
    "# Adversarial Patch Attack"
   ]
  },
  {
   "cell_type": "code",
   "execution_count": 1,
   "metadata": {
    "id": "btI7vLGvocbt",
    "outputId": "9d950abe-3514-4af0-b28c-195c6ad8984c"
   },
   "outputs": [
    {
     "name": "stderr",
     "output_type": "stream",
     "text": [
      "/tmp/ipykernel_17958/2487907964.py:15: DeprecationWarning: `set_matplotlib_formats` is deprecated since IPython 7.23, directly use `matplotlib_inline.backend_inline.set_matplotlib_formats()`\n",
      "  set_matplotlib_formats(\"svg\", \"pdf\")  # For export\n",
      "Global seed set to 42\n"
     ]
    },
    {
     "name": "stdout",
     "output_type": "stream",
     "text": [
      "Using device cuda:0\n",
      "/workspaces/Adversarial_Patch_Attack\n",
      "/workspaces/Adversarial_Patch_Attack\n",
      "/workspaces/Adversarial_Patch_Attack/adversarial patch\n"
     ]
    }
   ],
   "source": [
    "## standard libraries\n",
    "import os\n",
    "import json\n",
    "import math\n",
    "import time\n",
    "import numpy as np\n",
    "import scipy.linalg\n",
    "\n",
    "## plotting libraries\n",
    "import matplotlib.pyplot as plt\n",
    "\n",
    "%matplotlib inline\n",
    "from IPython.display import set_matplotlib_formats\n",
    "\n",
    "set_matplotlib_formats(\"svg\", \"pdf\")  # For export\n",
    "from matplotlib.colors import to_rgb\n",
    "import matplotlib\n",
    "\n",
    "matplotlib.rcParams[\"lines.linewidth\"] = 2.0\n",
    "import seaborn as sns\n",
    "\n",
    "sns.set()\n",
    "\n",
    "## image processing libraries\n",
    "from tqdm.notebook import tqdm\n",
    "\n",
    "## pytorch libraries\n",
    "import torch\n",
    "import torch.nn as nn\n",
    "import torch.nn.functional as F\n",
    "import torch.utils.data as data\n",
    "import torch.optim as optim\n",
    "\n",
    "# Torchvision\n",
    "import torchvision\n",
    "from torchvision.datasets import CIFAR10\n",
    "from torchvision import transforms\n",
    "\n",
    "# PyTorch Lightning\n",
    "try:\n",
    "    import pytorch_lightning as pl\n",
    "except ModuleNotFoundError:  # Google Colab does not have PyTorch Lightning installed by default. Hence, we do it here if necessary\n",
    "    !pip install --quiet pytorch-lightning>=1.4\n",
    "    import pytorch_lightning as pl\n",
    "from pytorch_lightning.callbacks import LearningRateMonitor, ModelCheckpoint\n",
    "\n",
    "# Path to the folder where the datasets are/should be downloaded (e.g. MNIST)\n",
    "DATASET_PATH = \"../data\"\n",
    "# Path to the folder where the pretrained models are saved\n",
    "CHECKPOINT_PATH = \"../saved_models\"\n",
    "\n",
    "# Setting the seed\n",
    "pl.seed_everything(42)\n",
    "\n",
    "# Ensure that all operations are deterministic on GPU (if used) for reproducibility\n",
    "torch.backends.cudnn.deterministic = True\n",
    "torch.backends.cudnn.benchmark = False\n",
    "\n",
    "# Fetching the device that will be used throughout this notebook\n",
    "device = (\n",
    "    torch.device(\"cpu\") if not torch.cuda.is_available() else torch.device(\"cuda:0\")\n",
    ")\n",
    "print(\"Using device\", device)\n",
    "\n",
    "# from tools\n",
    "# Move up one directory to import from the tools folder\n",
    "%cd ..\n",
    "from tools.resnet20 import ResNetCIFAR\n",
    "from tools.train_util import *\n",
    "\n",
    "# Move back to the adversarial patch folder\n",
    "!pwd\n",
    "%cd /workspaces/Adversarial_Patch_Attack/adversarial patch"
   ]
  },
  {
   "cell_type": "code",
   "execution_count": 2,
   "metadata": {},
   "outputs": [],
   "source": [
    "# create the directories if they do not exist\n",
    "os.makedirs(DATASET_PATH, exist_ok=True)\n",
    "os.makedirs(CHECKPOINT_PATH, exist_ok=True)"
   ]
  },
  {
   "attachments": {},
   "cell_type": "markdown",
   "metadata": {
    "id": "4vRgvPW8ocbv"
   },
   "source": [
    "## ResNet20 on CIFAR-10"
   ]
  },
  {
   "cell_type": "code",
   "execution_count": 3,
   "metadata": {
    "id": "GH8cCwOWocbv"
   },
   "outputs": [],
   "source": [
    "# load ResNet20 architecture pretrained on CIFAR-10\n",
    "os.environ[\"TORCH_HOME\"] = CHECKPOINT_PATH\n",
    "pretrained_model = ResNetCIFAR(num_layers=20, Nbits=None)\n",
    "pretrained_model = pretrained_model.to(device)\n",
    "pretrained_model.load_state_dict(\n",
    "    torch.load(\n",
    "        \"/workspaces/Adversarial_Patch_Attack/tools/pretrained_model_resnet20.pt\",\n",
    "        map_location=torch.device(\"cpu\"),\n",
    "    )\n",
    ")\n",
    "\n",
    "# set the model to evaluation mode\n",
    "pretrained_model.eval()\n",
    "for p in pretrained_model.parameters():\n",
    "    p.requires_grad = False"
   ]
  },
  {
   "attachments": {},
   "cell_type": "markdown",
   "metadata": {
    "id": "GCH-6Nt2ocbw"
   },
   "source": [
    "Perform attacks on CIFAR-10 images. Load images and create data loader."
   ]
  },
  {
   "cell_type": "code",
   "execution_count": 4,
   "metadata": {
    "id": "qW83V1Vlocbw"
   },
   "outputs": [
    {
     "name": "stdout",
     "output_type": "stream",
     "text": [
      "Files already downloaded and verified\n"
     ]
    },
    {
     "name": "stderr",
     "output_type": "stream",
     "text": [
      "/home/codespace/venv/lib/python3.8/site-packages/torch/utils/data/dataloader.py:554: UserWarning: This DataLoader will create 8 worker processes in total. Our suggested max number of worker in current system is 6, which is smaller than what this DataLoader is going to create. Please be aware that excessive worker creation might get DataLoader running slow or even freeze, lower the worker number to avoid potential slowness/freeze if necessary.\n",
      "  warnings.warn(_create_warning_msg(\n"
     ]
    },
    {
     "name": "stdout",
     "output_type": "stream",
     "text": [
      "Files already downloaded and verified\n",
      "['airplane', 'automobile', 'bird', 'cat', 'deer', 'dog', 'frog', 'horse', 'ship', 'truck']\n"
     ]
    },
    {
     "data": {
      "text/plain": [
       "3"
      ]
     },
     "execution_count": 4,
     "metadata": {},
     "output_type": "execute_result"
    }
   ],
   "source": [
    "# Load CIFAR10 dataset\n",
    "NORM_MEAN = np.array([0.4914, 0.4822, 0.4465])\n",
    "NORM_STD = np.array([0.2023, 0.1994, 0.2010])\n",
    "# No resizing and center crop necessary \n",
    "plain_transforms = transforms.Compose(\n",
    "    [\n",
    "        transforms.ToTensor(),\n",
    "        transforms.Normalize(mean=NORM_MEAN, std=NORM_STD),\n",
    "    ]\n",
    ")\n",
    "test_transforms = transforms.Compose(\n",
    "    [\n",
    "        transforms.ToTensor(),\n",
    "        transforms.Normalize(mean=NORM_MEAN, std=NORM_STD),\n",
    "    ]\n",
    ")\n",
    "# load CIFAR10 training set\n",
    "dataset = torchvision.datasets.CIFAR10(\n",
    "    root=DATASET_PATH, train=True, download=True, transform=plain_transforms\n",
    ")\n",
    "data_loader = data.DataLoader(\n",
    "    dataset, batch_size=128, shuffle=False, drop_last=False, num_workers=8\n",
    ")\n",
    "# load CIFAR10 test set\n",
    "test_dataset = torchvision.datasets.CIFAR10(\n",
    "    root=DATASET_PATH, train=False, download=True, transform=test_transforms\n",
    ")\n",
    "test_data_loader = data.DataLoader(\n",
    "    test_dataset, batch_size=128, shuffle=False, drop_last=False, num_workers=8\n",
    ")\n",
    "\n",
    "# get label names of CIFAR10 class\n",
    "label_names = dataset.classes\n",
    "print(label_names)\n",
    "\n",
    "# get label index of CIFAR10 class\n",
    "def get_label_index(lab_str):\n",
    "    assert (\n",
    "        lab_str in label_names\n",
    "    ), f'Label \"{lab_str}\" not found. Please use one of the following labels: {label_names}'\n",
    "    return label_names.index(lab_str)\n",
    "\n",
    "# try get_label_index\n",
    "get_label_index(\"cat\")"
   ]
  },
  {
   "cell_type": "code",
   "execution_count": 6,
   "metadata": {},
   "outputs": [
    {
     "name": "stdout",
     "output_type": "stream",
     "text": [
      "Dataset size: 50000\n",
      "Test dataset size: 10000\n"
     ]
    }
   ],
   "source": [
    "# get size of dataset and test set\n",
    "dataset_size = len(dataset)\n",
    "test_dataset_size = len(test_dataset)\n",
    "print(f\"Dataset size: {dataset_size}\")\n",
    "print(f\"Test dataset size: {test_dataset_size}\")"
   ]
  },
  {
   "attachments": {},
   "cell_type": "markdown",
   "metadata": {
    "id": "N13cZd-Nocbw"
   },
   "source": [
    "Verify model performance using the error (1 - accuracy) instead of the accuracy."
   ]
  },
  {
   "cell_type": "code",
   "execution_count": 7,
   "metadata": {
    "id": "kySDWdLJocbw"
   },
   "outputs": [],
   "source": [
    "# evaluate the model on the test set\n",
    "def eval_model(dataset_loader, img_func=None):\n",
    "    tp, counter = 0.0, 0.0\n",
    "    for imgs, labels in tqdm(dataset_loader, desc=\"Validating...\"):\n",
    "        imgs = imgs.to(device)\n",
    "        labels = labels.to(device)\n",
    "        if img_func is not None:\n",
    "            imgs = img_func(imgs, labels)\n",
    "        with torch.no_grad():\n",
    "            preds = pretrained_model(imgs)\n",
    "        tp += (preds.argmax(dim=-1) == labels).sum()\n",
    "        counter += preds.shape[0]\n",
    "    acc = tp.float().item() / counter\n",
    "    print(f\"Error: {(100.0 * (1 - acc)):4.2f}%\")\n",
    "    return acc"
   ]
  },
  {
   "cell_type": "code",
   "execution_count": 8,
   "metadata": {
    "colab": {
     "referenced_widgets": [
      "570f009b72a84eee807c65eecd83c735"
     ]
    },
    "id": "vxCZnrRbocbx",
    "outputId": "f99db999-f4fb-4e29-f8d0-1a76b4e7550e"
   },
   "outputs": [
    {
     "data": {
      "application/vnd.jupyter.widget-view+json": {
       "model_id": "dea1d9f1a23741bbaf0db84a2922c4cb",
       "version_major": 2,
       "version_minor": 0
      },
      "text/plain": [
       "Validating...:   0%|          | 0/79 [00:00<?, ?it/s]"
      ]
     },
     "metadata": {},
     "output_type": "display_data"
    },
    {
     "name": "stdout",
     "output_type": "stream",
     "text": [
      "Error: 8.49%\n"
     ]
    }
   ],
   "source": [
    "_ = eval_model(test_data_loader)"
   ]
  },
  {
   "attachments": {},
   "cell_type": "markdown",
   "metadata": {
    "id": "7p_hdRkrocbx"
   },
   "source": [
    "Function show_prediction plots an image along with a bar diagram of its top 2 predictions. We also prepare it to show adversarial examples for later applications."
   ]
  },
  {
   "cell_type": "code",
   "execution_count": 11,
   "metadata": {
    "id": "RKJf8Oxiocbx"
   },
   "outputs": [],
   "source": [
    "# get the prediction of the model\n",
    "def show_prediction(img, label, pred, K=2, adv_img=None, noise=None):\n",
    "\n",
    "    if isinstance(img, torch.Tensor):\n",
    "        # Tensor image to numpy\n",
    "        img = img.cpu().permute(1, 2, 0).numpy()\n",
    "        img = (img * NORM_STD[None, None]) + NORM_MEAN[None, None]\n",
    "        img = np.clip(img, a_min=0.0, a_max=1.0)\n",
    "        label = label.item()\n",
    "\n",
    "    # Plot on the left the image with the true label as title.\n",
    "    # On the right, have a horizontal bar plot with the top k predictions including probabilities\n",
    "    if noise is None or adv_img is None:\n",
    "        fig, ax = plt.subplots(\n",
    "            1, 2, figsize=(10, 2), gridspec_kw={\"width_ratios\": [1, 1]}\n",
    "        )\n",
    "    else:\n",
    "        fig, ax = plt.subplots(\n",
    "            1, 5, figsize=(12, 2), gridspec_kw={\"width_ratios\": [1, 1, 1, 1, 2]}\n",
    "        )\n",
    "\n",
    "    ax[0].imshow(img)\n",
    "    ax[0].set_title(label_names[label])\n",
    "    ax[0].axis(\"off\")\n",
    "\n",
    "    if adv_img is not None and noise is not None:\n",
    "        # Visualize adversarial images\n",
    "        adv_img = adv_img.cpu().permute(1, 2, 0).numpy()\n",
    "        adv_img = (adv_img * NORM_STD[None, None]) + NORM_MEAN[None, None]\n",
    "        adv_img = np.clip(adv_img, a_min=0.0, a_max=1.0)\n",
    "        ax[1].imshow(adv_img)\n",
    "        ax[1].set_title(\"Adversarial\")\n",
    "        ax[1].axis(\"off\")\n",
    "        # Visualize noise\n",
    "        noise = noise.cpu().permute(1, 2, 0).numpy()\n",
    "        noise = noise * 0.5 + 0.5  # Scale between 0 to 1\n",
    "        ax[2].imshow(noise)\n",
    "        ax[2].set_title(\"Noise\")\n",
    "        ax[2].axis(\"off\")\n",
    "        # buffer\n",
    "        ax[3].axis(\"off\")\n",
    "\n",
    "    if abs(pred.sum().item() - 1.0) > 1e-4:\n",
    "        pred = torch.softmax(pred, dim=-1)\n",
    "    topk_vals, topk_idx = pred.topk(K, dim=-1)\n",
    "    print(topk_idx)\n",
    "    topk_vals, topk_idx = topk_vals.cpu().numpy(), topk_idx.cpu().numpy()\n",
    "    ax[-1].barh(\n",
    "        np.arange(K),\n",
    "        topk_vals * 100.0,\n",
    "        align=\"center\",\n",
    "        color=[\"C0\" if topk_idx[i] != label else \"C2\" for i in range(K)],\n",
    "    )\n",
    "    ax[-1].set_yticks(np.arange(K))\n",
    "    ax[-1].set_yticklabels([label_names[c] for c in topk_idx])\n",
    "    ax[-1].invert_yaxis()\n",
    "    ax[-1].set_xlabel(\"Confidence\")\n",
    "    ax[-1].set_title(\"Predictions\")\n",
    "\n",
    "    plt.show()\n",
    "    plt.close()"
   ]
  },
  {
   "cell_type": "code",
   "execution_count": 12,
   "metadata": {
    "id": "b6L9ha08ocbx",
    "outputId": "95f1df98-2f39-4ab6-d217-0b7701d823a1"
   },
   "outputs": [
    {
     "name": "stdout",
     "output_type": "stream",
     "text": [
      "tensor([8, 1], device='cuda:0')\n"
     ]
    },
    {
     "data": {
      "application/pdf": "[encoded data removed]",
      "image/svg+xml": "<?xml version=\"1.0\" encoding=\"utf-8\" standalone=\"no\"?>\n<!DOCTYPE svg PUBLIC \"-//W3C//DTD SVG 1.1//EN\"\n  \"http://www.w3.org/Graphics/SVG/1.1/DTD/svg11.dtd\">\n<svg xmlns:xlink=\"http://www.w3.org/1999/xlink\" width=\"501.021818pt\" height=\"176.157812pt\" viewBox=\"0 0 501.021818 176.157812\" xmlns=\"http://www.w3.org/2000/svg\" version=\"1.1\">\n <metadata>\n  <rdf:RDF xmlns:dc=\"http://purl.org/dc/elements/1.1/\" xmlns:cc=\"http://creativecommons.org/ns#\" xmlns:rdf=\"http://www.w3.org/1999/02/22-rdf-syntax-ns#\">\n   <cc:Work>\n    <dc:type rdf:resource=\"http://purl.org/dc/dcmitype/StillImage\"/>\n    <dc:date>2022-12-12T22:13:14.056794</dc:date>\n    <dc:format>image/svg+xml</dc:format>\n    <dc:creator>\n     <cc:Agent>\n      <dc:title>Matplotlib v3.6.0, https://matplotlib.org/</dc:title>\n     </cc:Agent>\n    </dc:creator>\n   </cc:Work>\n  </rdf:RDF>\n </metadata>\n <defs>\n  <style type=\"text/css\">*{stroke-linejoin: round; stroke-linecap: butt}</style>\n </defs>\n <g id=\"figure_1\">\n  <g id=\"patch_1\">\n   <path d=\"M 0 176.157812 \nL 501.021818 176.157812 \nL 501.021818 0 \nL 0 0 \nz\n\" style=\"fill: #ffffff\"/>\n  </g>\n  <g id=\"axes_1\">\n   <g clip-path=\"url(#pb0a16d5ad9)\">\n    <image xlink:href=\"data:image/png;base64,\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\" id=\"image1e6664bb7a\" transform=\"scale(1 -1) translate(0 -110.88)\" x=\"7.2\" y=\"-22.318125\" width=\"111.6\" height=\"110.88\"/>\n   </g>\n   <g id=\"text_1\">\n    <!-- ship -->\n    <g style=\"fill: #262626\" transform=\"translate(50.235938 16.318125) scale(0.12 -0.12)\">\n     <defs>\n      <path id=\"DejaVuSans-73\" d=\"M 2834 3397 \nL 2834 2853 \nQ 2591 2978 2328 3040 \nQ 2066 3103 1784 3103 \nQ 1356 3103 1142 2972 \nQ 928 2841 928 2578 \nQ 928 2378 1081 2264 \nQ 1234 2150 1697 2047 \nL 1894 2003 \nQ 2506 1872 2764 1633 \nQ 3022 1394 3022 966 \nQ 3022 478 2636 193 \nQ 2250 -91 1575 -91 \nQ 1294 -91 989 -36 \nQ 684 19 347 128 \nL 347 722 \nQ 666 556 975 473 \nQ 1284 391 1588 391 \nQ 1994 391 2212 530 \nQ 2431 669 2431 922 \nQ 2431 1156 2273 1281 \nQ 2116 1406 1581 1522 \nL 1381 1569 \nQ 847 1681 609 1914 \nQ 372 2147 372 2553 \nQ 372 3047 722 3315 \nQ 1072 3584 1716 3584 \nQ 2034 3584 2315 3537 \nQ 2597 3491 2834 3397 \nz\n\" transform=\"scale(0.015625)\"/>\n      <path id=\"DejaVuSans-68\" d=\"M 3513 2113 \nL 3513 0 \nL 2938 0 \nL 2938 2094 \nQ 2938 2591 2744 2837 \nQ 2550 3084 2163 3084 \nQ 1697 3084 1428 2787 \nQ 1159 2491 1159 1978 \nL 1159 0 \nL 581 0 \nL 581 4863 \nL 1159 4863 \nL 1159 2956 \nQ 1366 3272 1645 3428 \nQ 1925 3584 2291 3584 \nQ 2894 3584 3203 3211 \nQ 3513 2838 3513 2113 \nz\n\" transform=\"scale(0.015625)\"/>\n      <path id=\"DejaVuSans-69\" d=\"M 603 3500 \nL 1178 3500 \nL 1178 0 \nL 603 0 \nL 603 3500 \nz\nM 603 4863 \nL 1178 4863 \nL 1178 4134 \nL 603 4134 \nL 603 4863 \nz\n\" transform=\"scale(0.015625)\"/>\n      <path id=\"DejaVuSans-70\" d=\"M 1159 525 \nL 1159 -1331 \nL 581 -1331 \nL 581 3500 \nL 1159 3500 \nL 1159 2969 \nQ 1341 3281 1617 3432 \nQ 1894 3584 2278 3584 \nQ 2916 3584 3314 3078 \nQ 3713 2572 3713 1747 \nQ 3713 922 3314 415 \nQ 2916 -91 2278 -91 \nQ 1894 -91 1617 61 \nQ 1341 213 1159 525 \nz\nM 3116 1747 \nQ 3116 2381 2855 2742 \nQ 2594 3103 2138 3103 \nQ 1681 3103 1420 2742 \nQ 1159 2381 1159 1747 \nQ 1159 1113 1420 752 \nQ 1681 391 2138 391 \nQ 2594 391 2855 752 \nQ 3116 1113 3116 1747 \nz\n\" transform=\"scale(0.015625)\"/>\n     </defs>\n     <use xlink:href=\"#DejaVuSans-73\"/>\n     <use xlink:href=\"#DejaVuSans-68\" x=\"52.099609\"/>\n     <use xlink:href=\"#DejaVuSans-69\" x=\"115.478516\"/>\n     <use xlink:href=\"#DejaVuSans-70\" x=\"143.261719\"/>\n    </g>\n   </g>\n  </g>\n  <g id=\"axes_2\">\n   <g id=\"patch_2\">\n    <path d=\"M 240.185455 133.198125 \nL 493.821818 133.198125 \nL 493.821818 22.318125 \nL 240.185455 22.318125 \nz\n\" style=\"fill: #eaeaf2\"/>\n   </g>\n   <g id=\"matplotlib.axis_1\">\n    <g id=\"xtick_1\">\n     <g id=\"line2d_1\">\n      <path d=\"M 240.185455 133.198125 \nL 240.185455 22.318125 \n\" clip-path=\"url(#p247217e955)\" style=\"fill: none; stroke: #ffffff; stroke-linecap: round\"/>\n     </g>\n     <g id=\"text_2\">\n      <!-- 0 -->\n      <g style=\"fill: #262626\" transform=\"translate(236.68608 151.056406) scale(0.11 -0.11)\">\n       <defs>\n        <path id=\"DejaVuSans-30\" d=\"M 2034 4250 \nQ 1547 4250 1301 3770 \nQ 1056 3291 1056 2328 \nQ 1056 1369 1301 889 \nQ 1547 409 2034 409 \nQ 2525 409 2770 889 \nQ 3016 1369 3016 2328 \nQ 3016 3291 2770 3770 \nQ 2525 4250 2034 4250 \nz\nM 2034 4750 \nQ 2819 4750 3233 4129 \nQ 3647 3509 3647 2328 \nQ 3647 1150 3233 529 \nQ 2819 -91 2034 -91 \nQ 1250 -91 836 529 \nQ 422 1150 422 2328 \nQ 422 3509 836 4129 \nQ 1250 4750 2034 4750 \nz\n\" transform=\"scale(0.015625)\"/>\n       </defs>\n       <use xlink:href=\"#DejaVuSans-30\"/>\n      </g>\n     </g>\n    </g>\n    <g id=\"xtick_2\">\n     <g id=\"line2d_2\">\n      <path d=\"M 288.497161 133.198125 \nL 288.497161 22.318125 \n\" clip-path=\"url(#p247217e955)\" style=\"fill: none; stroke: #ffffff; stroke-linecap: round\"/>\n     </g>\n     <g id=\"text_3\">\n      <!-- 20 -->\n      <g style=\"fill: #262626\" transform=\"translate(281.498411 151.056406) scale(0.11 -0.11)\">\n       <defs>\n        <path id=\"DejaVuSans-32\" d=\"M 1228 531 \nL 3431 531 \nL 3431 0 \nL 469 0 \nL 469 531 \nQ 828 903 1448 1529 \nQ 2069 2156 2228 2338 \nQ 2531 2678 2651 2914 \nQ 2772 3150 2772 3378 \nQ 2772 3750 2511 3984 \nQ 2250 4219 1831 4219 \nQ 1534 4219 1204 4116 \nQ 875 4013 500 3803 \nL 500 4441 \nQ 881 4594 1212 4672 \nQ 1544 4750 1819 4750 \nQ 2544 4750 2975 4387 \nQ 3406 4025 3406 3419 \nQ 3406 3131 3298 2873 \nQ 3191 2616 2906 2266 \nQ 2828 2175 2409 1742 \nQ 1991 1309 1228 531 \nz\n\" transform=\"scale(0.015625)\"/>\n       </defs>\n       <use xlink:href=\"#DejaVuSans-32\"/>\n       <use xlink:href=\"#DejaVuSans-30\" x=\"63.623047\"/>\n      </g>\n     </g>\n    </g>\n    <g id=\"xtick_3\">\n     <g id=\"line2d_3\">\n      <path d=\"M 336.808868 133.198125 \nL 336.808868 22.318125 \n\" clip-path=\"url(#p247217e955)\" style=\"fill: none; stroke: #ffffff; stroke-linecap: round\"/>\n     </g>\n     <g id=\"text_4\">\n      <!-- 40 -->\n      <g style=\"fill: #262626\" transform=\"translate(329.810118 151.056406) scale(0.11 -0.11)\">\n       <defs>\n        <path id=\"DejaVuSans-34\" d=\"M 2419 4116 \nL 825 1625 \nL 2419 1625 \nL 2419 4116 \nz\nM 2253 4666 \nL 3047 4666 \nL 3047 1625 \nL 3713 1625 \nL 3713 1100 \nL 3047 1100 \nL 3047 0 \nL 2419 0 \nL 2419 1100 \nL 313 1100 \nL 313 1709 \nL 2253 4666 \nz\n\" transform=\"scale(0.015625)\"/>\n       </defs>\n       <use xlink:href=\"#DejaVuSans-34\"/>\n       <use xlink:href=\"#DejaVuSans-30\" x=\"63.623047\"/>\n      </g>\n     </g>\n    </g>\n    <g id=\"xtick_4\">\n     <g id=\"line2d_4\">\n      <path d=\"M 385.120575 133.198125 \nL 385.120575 22.318125 \n\" clip-path=\"url(#p247217e955)\" style=\"fill: none; stroke: #ffffff; stroke-linecap: round\"/>\n     </g>\n     <g id=\"text_5\">\n      <!-- 60 -->\n      <g style=\"fill: #262626\" transform=\"translate(378.121825 151.056406) scale(0.11 -0.11)\">\n       <defs>\n        <path id=\"DejaVuSans-36\" d=\"M 2113 2584 \nQ 1688 2584 1439 2293 \nQ 1191 2003 1191 1497 \nQ 1191 994 1439 701 \nQ 1688 409 2113 409 \nQ 2538 409 2786 701 \nQ 3034 994 3034 1497 \nQ 3034 2003 2786 2293 \nQ 2538 2584 2113 2584 \nz\nM 3366 4563 \nL 3366 3988 \nQ 3128 4100 2886 4159 \nQ 2644 4219 2406 4219 \nQ 1781 4219 1451 3797 \nQ 1122 3375 1075 2522 \nQ 1259 2794 1537 2939 \nQ 1816 3084 2150 3084 \nQ 2853 3084 3261 2657 \nQ 3669 2231 3669 1497 \nQ 3669 778 3244 343 \nQ 2819 -91 2113 -91 \nQ 1303 -91 875 529 \nQ 447 1150 447 2328 \nQ 447 3434 972 4092 \nQ 1497 4750 2381 4750 \nQ 2619 4750 2861 4703 \nQ 3103 4656 3366 4563 \nz\n\" transform=\"scale(0.015625)\"/>\n       </defs>\n       <use xlink:href=\"#DejaVuSans-36\"/>\n       <use xlink:href=\"#DejaVuSans-30\" x=\"63.623047\"/>\n      </g>\n     </g>\n    </g>\n    <g id=\"xtick_5\">\n     <g id=\"line2d_5\">\n      <path d=\"M 433.432282 133.198125 \nL 433.432282 22.318125 \n\" clip-path=\"url(#p247217e955)\" style=\"fill: none; stroke: #ffffff; stroke-linecap: round\"/>\n     </g>\n     <g id=\"text_6\">\n      <!-- 80 -->\n      <g style=\"fill: #262626\" transform=\"translate(426.433532 151.056406) scale(0.11 -0.11)\">\n       <defs>\n        <path id=\"DejaVuSans-38\" d=\"M 2034 2216 \nQ 1584 2216 1326 1975 \nQ 1069 1734 1069 1313 \nQ 1069 891 1326 650 \nQ 1584 409 2034 409 \nQ 2484 409 2743 651 \nQ 3003 894 3003 1313 \nQ 3003 1734 2745 1975 \nQ 2488 2216 2034 2216 \nz\nM 1403 2484 \nQ 997 2584 770 2862 \nQ 544 3141 544 3541 \nQ 544 4100 942 4425 \nQ 1341 4750 2034 4750 \nQ 2731 4750 3128 4425 \nQ 3525 4100 3525 3541 \nQ 3525 3141 3298 2862 \nQ 3072 2584 2669 2484 \nQ 3125 2378 3379 2068 \nQ 3634 1759 3634 1313 \nQ 3634 634 3220 271 \nQ 2806 -91 2034 -91 \nQ 1263 -91 848 271 \nQ 434 634 434 1313 \nQ 434 1759 690 2068 \nQ 947 2378 1403 2484 \nz\nM 1172 3481 \nQ 1172 3119 1398 2916 \nQ 1625 2713 2034 2713 \nQ 2441 2713 2670 2916 \nQ 2900 3119 2900 3481 \nQ 2900 3844 2670 4047 \nQ 2441 4250 2034 4250 \nQ 1625 4250 1398 4047 \nQ 1172 3844 1172 3481 \nz\n\" transform=\"scale(0.015625)\"/>\n       </defs>\n       <use xlink:href=\"#DejaVuSans-38\"/>\n       <use xlink:href=\"#DejaVuSans-30\" x=\"63.623047\"/>\n      </g>\n     </g>\n    </g>\n    <g id=\"xtick_6\">\n     <g id=\"line2d_6\">\n      <path d=\"M 481.743988 133.198125 \nL 481.743988 22.318125 \n\" clip-path=\"url(#p247217e955)\" style=\"fill: none; stroke: #ffffff; stroke-linecap: round\"/>\n     </g>\n     <g id=\"text_7\">\n      <!-- 100 -->\n      <g style=\"fill: #262626\" transform=\"translate(471.245863 151.056406) scale(0.11 -0.11)\">\n       <defs>\n        <path id=\"DejaVuSans-31\" d=\"M 794 531 \nL 1825 531 \nL 1825 4091 \nL 703 3866 \nL 703 4441 \nL 1819 4666 \nL 2450 4666 \nL 2450 531 \nL 3481 531 \nL 3481 0 \nL 794 0 \nL 794 531 \nz\n\" transform=\"scale(0.015625)\"/>\n       </defs>\n       <use xlink:href=\"#DejaVuSans-31\"/>\n       <use xlink:href=\"#DejaVuSans-30\" x=\"63.623047\"/>\n       <use xlink:href=\"#DejaVuSans-30\" x=\"127.246094\"/>\n      </g>\n     </g>\n    </g>\n    <g id=\"text_8\">\n     <!-- Confidence -->\n     <g style=\"fill: #262626\" transform=\"translate(333.266761 166.462187) scale(0.12 -0.12)\">\n      <defs>\n       <path id=\"DejaVuSans-43\" d=\"M 4122 4306 \nL 4122 3641 \nQ 3803 3938 3442 4084 \nQ 3081 4231 2675 4231 \nQ 1875 4231 1450 3742 \nQ 1025 3253 1025 2328 \nQ 1025 1406 1450 917 \nQ 1875 428 2675 428 \nQ 3081 428 3442 575 \nQ 3803 722 4122 1019 \nL 4122 359 \nQ 3791 134 3420 21 \nQ 3050 -91 2638 -91 \nQ 1578 -91 968 557 \nQ 359 1206 359 2328 \nQ 359 3453 968 4101 \nQ 1578 4750 2638 4750 \nQ 3056 4750 3426 4639 \nQ 3797 4528 4122 4306 \nz\n\" transform=\"scale(0.015625)\"/>\n       <path id=\"DejaVuSans-6f\" d=\"M 1959 3097 \nQ 1497 3097 1228 2736 \nQ 959 2375 959 1747 \nQ 959 1119 1226 758 \nQ 1494 397 1959 397 \nQ 2419 397 2687 759 \nQ 2956 1122 2956 1747 \nQ 2956 2369 2687 2733 \nQ 2419 3097 1959 3097 \nz\nM 1959 3584 \nQ 2709 3584 3137 3096 \nQ 3566 2609 3566 1747 \nQ 3566 888 3137 398 \nQ 2709 -91 1959 -91 \nQ 1206 -91 779 398 \nQ 353 888 353 1747 \nQ 353 2609 779 3096 \nQ 1206 3584 1959 3584 \nz\n\" transform=\"scale(0.015625)\"/>\n       <path id=\"DejaVuSans-6e\" d=\"M 3513 2113 \nL 3513 0 \nL 2938 0 \nL 2938 2094 \nQ 2938 2591 2744 2837 \nQ 2550 3084 2163 3084 \nQ 1697 3084 1428 2787 \nQ 1159 2491 1159 1978 \nL 1159 0 \nL 581 0 \nL 581 3500 \nL 1159 3500 \nL 1159 2956 \nQ 1366 3272 1645 3428 \nQ 1925 3584 2291 3584 \nQ 2894 3584 3203 3211 \nQ 3513 2838 3513 2113 \nz\n\" transform=\"scale(0.015625)\"/>\n       <path id=\"DejaVuSans-66\" d=\"M 2375 4863 \nL 2375 4384 \nL 1825 4384 \nQ 1516 4384 1395 4259 \nQ 1275 4134 1275 3809 \nL 1275 3500 \nL 2222 3500 \nL 2222 3053 \nL 1275 3053 \nL 1275 0 \nL 697 0 \nL 697 3053 \nL 147 3053 \nL 147 3500 \nL 697 3500 \nL 697 3744 \nQ 697 4328 969 4595 \nQ 1241 4863 1831 4863 \nL 2375 4863 \nz\n\" transform=\"scale(0.015625)\"/>\n       <path id=\"DejaVuSans-64\" d=\"M 2906 2969 \nL 2906 4863 \nL 3481 4863 \nL 3481 0 \nL 2906 0 \nL 2906 525 \nQ 2725 213 2448 61 \nQ 2172 -91 1784 -91 \nQ 1150 -91 751 415 \nQ 353 922 353 1747 \nQ 353 2572 751 3078 \nQ 1150 3584 1784 3584 \nQ 2172 3584 2448 3432 \nQ 2725 3281 2906 2969 \nz\nM 947 1747 \nQ 947 1113 1208 752 \nQ 1469 391 1925 391 \nQ 2381 391 2643 752 \nQ 2906 1113 2906 1747 \nQ 2906 2381 2643 2742 \nQ 2381 3103 1925 3103 \nQ 1469 3103 1208 2742 \nQ 947 2381 947 1747 \nz\n\" transform=\"scale(0.015625)\"/>\n       <path id=\"DejaVuSans-65\" d=\"M 3597 1894 \nL 3597 1613 \nL 953 1613 \nQ 991 1019 1311 708 \nQ 1631 397 2203 397 \nQ 2534 397 2845 478 \nQ 3156 559 3463 722 \nL 3463 178 \nQ 3153 47 2828 -22 \nQ 2503 -91 2169 -91 \nQ 1331 -91 842 396 \nQ 353 884 353 1716 \nQ 353 2575 817 3079 \nQ 1281 3584 2069 3584 \nQ 2775 3584 3186 3129 \nQ 3597 2675 3597 1894 \nz\nM 3022 2063 \nQ 3016 2534 2758 2815 \nQ 2500 3097 2075 3097 \nQ 1594 3097 1305 2825 \nQ 1016 2553 972 2059 \nL 3022 2063 \nz\n\" transform=\"scale(0.015625)\"/>\n       <path id=\"DejaVuSans-63\" d=\"M 3122 3366 \nL 3122 2828 \nQ 2878 2963 2633 3030 \nQ 2388 3097 2138 3097 \nQ 1578 3097 1268 2742 \nQ 959 2388 959 1747 \nQ 959 1106 1268 751 \nQ 1578 397 2138 397 \nQ 2388 397 2633 464 \nQ 2878 531 3122 666 \nL 3122 134 \nQ 2881 22 2623 -34 \nQ 2366 -91 2075 -91 \nQ 1284 -91 818 406 \nQ 353 903 353 1747 \nQ 353 2603 823 3093 \nQ 1294 3584 2113 3584 \nQ 2378 3584 2631 3529 \nQ 2884 3475 3122 3366 \nz\n\" transform=\"scale(0.015625)\"/>\n      </defs>\n      <use xlink:href=\"#DejaVuSans-43\"/>\n      <use xlink:href=\"#DejaVuSans-6f\" x=\"69.824219\"/>\n      <use xlink:href=\"#DejaVuSans-6e\" x=\"131.005859\"/>\n      <use xlink:href=\"#DejaVuSans-66\" x=\"194.384766\"/>\n      <use xlink:href=\"#DejaVuSans-69\" x=\"229.589844\"/>\n      <use xlink:href=\"#DejaVuSans-64\" x=\"257.373047\"/>\n      <use xlink:href=\"#DejaVuSans-65\" x=\"320.849609\"/>\n      <use xlink:href=\"#DejaVuSans-6e\" x=\"382.373047\"/>\n      <use xlink:href=\"#DejaVuSans-63\" x=\"445.751953\"/>\n      <use xlink:href=\"#DejaVuSans-65\" x=\"500.732422\"/>\n     </g>\n    </g>\n   </g>\n   <g id=\"matplotlib.axis_2\">\n    <g id=\"ytick_1\">\n     <g id=\"line2d_7\">\n      <path d=\"M 240.185455 49.758125 \nL 493.821818 49.758125 \n\" clip-path=\"url(#p247217e955)\" style=\"fill: none; stroke: #ffffff; stroke-linecap: round\"/>\n     </g>\n     <g id=\"text_9\">\n      <!-- ship -->\n      <g style=\"fill: #262626\" transform=\"translate(207.944673 53.937266) scale(0.11 -0.11)\">\n       <use xlink:href=\"#DejaVuSans-73\"/>\n       <use xlink:href=\"#DejaVuSans-68\" x=\"52.099609\"/>\n       <use xlink:href=\"#DejaVuSans-69\" x=\"115.478516\"/>\n       <use xlink:href=\"#DejaVuSans-70\" x=\"143.261719\"/>\n      </g>\n     </g>\n    </g>\n    <g id=\"ytick_2\">\n     <g id=\"line2d_8\">\n      <path d=\"M 240.185455 105.758125 \nL 493.821818 105.758125 \n\" clip-path=\"url(#p247217e955)\" style=\"fill: none; stroke: #ffffff; stroke-linecap: round\"/>\n     </g>\n     <g id=\"text_10\">\n      <!-- automobile -->\n      <g style=\"fill: #262626\" transform=\"translate(168.621392 109.937266) scale(0.11 -0.11)\">\n       <defs>\n        <path id=\"DejaVuSans-61\" d=\"M 2194 1759 \nQ 1497 1759 1228 1600 \nQ 959 1441 959 1056 \nQ 959 750 1161 570 \nQ 1363 391 1709 391 \nQ 2188 391 2477 730 \nQ 2766 1069 2766 1631 \nL 2766 1759 \nL 2194 1759 \nz\nM 3341 1997 \nL 3341 0 \nL 2766 0 \nL 2766 531 \nQ 2569 213 2275 61 \nQ 1981 -91 1556 -91 \nQ 1019 -91 701 211 \nQ 384 513 384 1019 \nQ 384 1609 779 1909 \nQ 1175 2209 1959 2209 \nL 2766 2209 \nL 2766 2266 \nQ 2766 2663 2505 2880 \nQ 2244 3097 1772 3097 \nQ 1472 3097 1187 3025 \nQ 903 2953 641 2809 \nL 641 3341 \nQ 956 3463 1253 3523 \nQ 1550 3584 1831 3584 \nQ 2591 3584 2966 3190 \nQ 3341 2797 3341 1997 \nz\n\" transform=\"scale(0.015625)\"/>\n        <path id=\"DejaVuSans-75\" d=\"M 544 1381 \nL 544 3500 \nL 1119 3500 \nL 1119 1403 \nQ 1119 906 1312 657 \nQ 1506 409 1894 409 \nQ 2359 409 2629 706 \nQ 2900 1003 2900 1516 \nL 2900 3500 \nL 3475 3500 \nL 3475 0 \nL 2900 0 \nL 2900 538 \nQ 2691 219 2414 64 \nQ 2138 -91 1772 -91 \nQ 1169 -91 856 284 \nQ 544 659 544 1381 \nz\nM 1991 3584 \nL 1991 3584 \nz\n\" transform=\"scale(0.015625)\"/>\n        <path id=\"DejaVuSans-74\" d=\"M 1172 4494 \nL 1172 3500 \nL 2356 3500 \nL 2356 3053 \nL 1172 3053 \nL 1172 1153 \nQ 1172 725 1289 603 \nQ 1406 481 1766 481 \nL 2356 481 \nL 2356 0 \nL 1766 0 \nQ 1100 0 847 248 \nQ 594 497 594 1153 \nL 594 3053 \nL 172 3053 \nL 172 3500 \nL 594 3500 \nL 594 4494 \nL 1172 4494 \nz\n\" transform=\"scale(0.015625)\"/>\n        <path id=\"DejaVuSans-6d\" d=\"M 3328 2828 \nQ 3544 3216 3844 3400 \nQ 4144 3584 4550 3584 \nQ 5097 3584 5394 3201 \nQ 5691 2819 5691 2113 \nL 5691 0 \nL 5113 0 \nL 5113 2094 \nQ 5113 2597 4934 2840 \nQ 4756 3084 4391 3084 \nQ 3944 3084 3684 2787 \nQ 3425 2491 3425 1978 \nL 3425 0 \nL 2847 0 \nL 2847 2094 \nQ 2847 2600 2669 2842 \nQ 2491 3084 2119 3084 \nQ 1678 3084 1418 2786 \nQ 1159 2488 1159 1978 \nL 1159 0 \nL 581 0 \nL 581 3500 \nL 1159 3500 \nL 1159 2956 \nQ 1356 3278 1631 3431 \nQ 1906 3584 2284 3584 \nQ 2666 3584 2933 3390 \nQ 3200 3197 3328 2828 \nz\n\" transform=\"scale(0.015625)\"/>\n        <path id=\"DejaVuSans-62\" d=\"M 3116 1747 \nQ 3116 2381 2855 2742 \nQ 2594 3103 2138 3103 \nQ 1681 3103 1420 2742 \nQ 1159 2381 1159 1747 \nQ 1159 1113 1420 752 \nQ 1681 391 2138 391 \nQ 2594 391 2855 752 \nQ 3116 1113 3116 1747 \nz\nM 1159 2969 \nQ 1341 3281 1617 3432 \nQ 1894 3584 2278 3584 \nQ 2916 3584 3314 3078 \nQ 3713 2572 3713 1747 \nQ 3713 922 3314 415 \nQ 2916 -91 2278 -91 \nQ 1894 -91 1617 61 \nQ 1341 213 1159 525 \nL 1159 0 \nL 581 0 \nL 581 4863 \nL 1159 4863 \nL 1159 2969 \nz\n\" transform=\"scale(0.015625)\"/>\n        <path id=\"DejaVuSans-6c\" d=\"M 603 4863 \nL 1178 4863 \nL 1178 0 \nL 603 0 \nL 603 4863 \nz\n\" transform=\"scale(0.015625)\"/>\n       </defs>\n       <use xlink:href=\"#DejaVuSans-61\"/>\n       <use xlink:href=\"#DejaVuSans-75\" x=\"61.279297\"/>\n       <use xlink:href=\"#DejaVuSans-74\" x=\"124.658203\"/>\n       <use xlink:href=\"#DejaVuSans-6f\" x=\"163.867188\"/>\n       <use xlink:href=\"#DejaVuSans-6d\" x=\"225.048828\"/>\n       <use xlink:href=\"#DejaVuSans-6f\" x=\"322.460938\"/>\n       <use xlink:href=\"#DejaVuSans-62\" x=\"383.642578\"/>\n       <use xlink:href=\"#DejaVuSans-69\" x=\"447.119141\"/>\n       <use xlink:href=\"#DejaVuSans-6c\" x=\"474.902344\"/>\n       <use xlink:href=\"#DejaVuSans-65\" x=\"502.685547\"/>\n      </g>\n     </g>\n    </g>\n   </g>\n   <g id=\"patch_3\">\n    <path d=\"M 240.185455 27.358125 \nL 481.743896 27.358125 \nL 481.743896 72.158125 \nL 240.185455 72.158125 \nz\n\" clip-path=\"url(#p247217e955)\" style=\"fill: #55a868; stroke: #ffffff; stroke-linejoin: miter\"/>\n   </g>\n   <g id=\"patch_4\">\n    <path d=\"M 240.185455 83.358125 \nL 240.185546 83.358125 \nL 240.185546 128.158125 \nL 240.185455 128.158125 \nz\n\" clip-path=\"url(#p247217e955)\" style=\"fill: #4c72b0; stroke: #ffffff; stroke-linejoin: miter\"/>\n   </g>\n   <g id=\"patch_5\">\n    <path d=\"M 240.185455 133.198125 \nL 240.185455 22.318125 \n\" style=\"fill: none; stroke: #ffffff; stroke-width: 1.25; stroke-linejoin: miter; stroke-linecap: square\"/>\n   </g>\n   <g id=\"patch_6\">\n    <path d=\"M 493.821818 133.198125 \nL 493.821818 22.318125 \n\" style=\"fill: none; stroke: #ffffff; stroke-width: 1.25; stroke-linejoin: miter; stroke-linecap: square\"/>\n   </g>\n   <g id=\"patch_7\">\n    <path d=\"M 240.185455 133.198125 \nL 493.821818 133.198125 \n\" style=\"fill: none; stroke: #ffffff; stroke-width: 1.25; stroke-linejoin: miter; stroke-linecap: square\"/>\n   </g>\n   <g id=\"patch_8\">\n    <path d=\"M 240.185455 22.318125 \nL 493.821818 22.318125 \n\" style=\"fill: none; stroke: #ffffff; stroke-width: 1.25; stroke-linejoin: miter; stroke-linecap: square\"/>\n   </g>\n   <g id=\"text_11\">\n    <!-- Predictions -->\n    <g style=\"fill: #262626\" transform=\"translate(334.073949 16.318125) scale(0.12 -0.12)\">\n     <defs>\n      <path id=\"DejaVuSans-50\" d=\"M 1259 4147 \nL 1259 2394 \nL 2053 2394 \nQ 2494 2394 2734 2622 \nQ 2975 2850 2975 3272 \nQ 2975 3691 2734 3919 \nQ 2494 4147 2053 4147 \nL 1259 4147 \nz\nM 628 4666 \nL 2053 4666 \nQ 2838 4666 3239 4311 \nQ 3641 3956 3641 3272 \nQ 3641 2581 3239 2228 \nQ 2838 1875 2053 1875 \nL 1259 1875 \nL 1259 0 \nL 628 0 \nL 628 4666 \nz\n\" transform=\"scale(0.015625)\"/>\n      <path id=\"DejaVuSans-72\" d=\"M 2631 2963 \nQ 2534 3019 2420 3045 \nQ 2306 3072 2169 3072 \nQ 1681 3072 1420 2755 \nQ 1159 2438 1159 1844 \nL 1159 0 \nL 581 0 \nL 581 3500 \nL 1159 3500 \nL 1159 2956 \nQ 1341 3275 1631 3429 \nQ 1922 3584 2338 3584 \nQ 2397 3584 2469 3576 \nQ 2541 3569 2628 3553 \nL 2631 2963 \nz\n\" transform=\"scale(0.015625)\"/>\n     </defs>\n     <use xlink:href=\"#DejaVuSans-50\"/>\n     <use xlink:href=\"#DejaVuSans-72\" x=\"58.552734\"/>\n     <use xlink:href=\"#DejaVuSans-65\" x=\"97.416016\"/>\n     <use xlink:href=\"#DejaVuSans-64\" x=\"158.939453\"/>\n     <use xlink:href=\"#DejaVuSans-69\" x=\"222.416016\"/>\n     <use xlink:href=\"#DejaVuSans-63\" x=\"250.199219\"/>\n     <use xlink:href=\"#DejaVuSans-74\" x=\"305.179688\"/>\n     <use xlink:href=\"#DejaVuSans-69\" x=\"344.388672\"/>\n     <use xlink:href=\"#DejaVuSans-6f\" x=\"372.171875\"/>\n     <use xlink:href=\"#DejaVuSans-6e\" x=\"433.353516\"/>\n     <use xlink:href=\"#DejaVuSans-73\" x=\"496.732422\"/>\n    </g>\n   </g>\n  </g>\n </g>\n <defs>\n  <clipPath id=\"pb0a16d5ad9\">\n   <rect x=\"7.2\" y=\"22.318125\" width=\"110.88\" height=\"110.88\"/>\n  </clipPath>\n  <clipPath id=\"p247217e955\">\n   <rect x=\"240.185455\" y=\"22.318125\" width=\"253.636364\" height=\"110.88\"/>\n  </clipPath>\n </defs>\n</svg>\n",
      "text/plain": [
       "<Figure size 1000x200 with 2 Axes>"
      ]
     },
     "metadata": {},
     "output_type": "display_data"
    },
    {
     "name": "stdout",
     "output_type": "stream",
     "text": [
      "tensor([1, 9], device='cuda:0')\n"
     ]
    },
    {
     "data": {
      "application/pdf": "[encoded data removed]",
      "image/svg+xml": "<?xml version=\"1.0\" encoding=\"utf-8\" standalone=\"no\"?>\n<!DOCTYPE svg PUBLIC \"-//W3C//DTD SVG 1.1//EN\"\n  \"http://www.w3.org/Graphics/SVG/1.1/DTD/svg11.dtd\">\n<svg xmlns:xlink=\"http://www.w3.org/1999/xlink\" width=\"501.021818pt\" height=\"176.157812pt\" viewBox=\"0 0 501.021818 176.157812\" xmlns=\"http://www.w3.org/2000/svg\" version=\"1.1\">\n <metadata>\n  <rdf:RDF xmlns:dc=\"http://purl.org/dc/elements/1.1/\" xmlns:cc=\"http://creativecommons.org/ns#\" xmlns:rdf=\"http://www.w3.org/1999/02/22-rdf-syntax-ns#\">\n   <cc:Work>\n    <dc:type rdf:resource=\"http://purl.org/dc/dcmitype/StillImage\"/>\n    <dc:date>2022-12-12T22:13:14.951641</dc:date>\n    <dc:format>image/svg+xml</dc:format>\n    <dc:creator>\n     <cc:Agent>\n      <dc:title>Matplotlib v3.6.0, https://matplotlib.org/</dc:title>\n     </cc:Agent>\n    </dc:creator>\n   </cc:Work>\n  </rdf:RDF>\n </metadata>\n <defs>\n  <style type=\"text/css\">*{stroke-linejoin: round; stroke-linecap: butt}</style>\n </defs>\n <g id=\"figure_1\">\n  <g id=\"patch_1\">\n   <path d=\"M 0 176.157812 \nL 501.021818 176.157812 \nL 501.021818 0 \nL 0 0 \nz\n\" style=\"fill: #ffffff\"/>\n  </g>\n  <g id=\"axes_1\">\n   <g clip-path=\"url(#paad81d70f2)\">\n    <image xlink:href=\"data:image/png;base64,\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\" id=\"image218a3ba9d6\" transform=\"scale(1 -1) translate(0 -110.88)\" x=\"7.2\" y=\"-22.318125\" width=\"111.6\" height=\"110.88\"/>\n   </g>\n   <g id=\"text_1\">\n    <!-- automobile -->\n    <g style=\"fill: #262626\" transform=\"translate(28.786875 16.318125) scale(0.12 -0.12)\">\n     <defs>\n      <path id=\"DejaVuSans-61\" d=\"M 2194 1759 \nQ 1497 1759 1228 1600 \nQ 959 1441 959 1056 \nQ 959 750 1161 570 \nQ 1363 391 1709 391 \nQ 2188 391 2477 730 \nQ 2766 1069 2766 1631 \nL 2766 1759 \nL 2194 1759 \nz\nM 3341 1997 \nL 3341 0 \nL 2766 0 \nL 2766 531 \nQ 2569 213 2275 61 \nQ 1981 -91 1556 -91 \nQ 1019 -91 701 211 \nQ 384 513 384 1019 \nQ 384 1609 779 1909 \nQ 1175 2209 1959 2209 \nL 2766 2209 \nL 2766 2266 \nQ 2766 2663 2505 2880 \nQ 2244 3097 1772 3097 \nQ 1472 3097 1187 3025 \nQ 903 2953 641 2809 \nL 641 3341 \nQ 956 3463 1253 3523 \nQ 1550 3584 1831 3584 \nQ 2591 3584 2966 3190 \nQ 3341 2797 3341 1997 \nz\n\" transform=\"scale(0.015625)\"/>\n      <path id=\"DejaVuSans-75\" d=\"M 544 1381 \nL 544 3500 \nL 1119 3500 \nL 1119 1403 \nQ 1119 906 1312 657 \nQ 1506 409 1894 409 \nQ 2359 409 2629 706 \nQ 2900 1003 2900 1516 \nL 2900 3500 \nL 3475 3500 \nL 3475 0 \nL 2900 0 \nL 2900 538 \nQ 2691 219 2414 64 \nQ 2138 -91 1772 -91 \nQ 1169 -91 856 284 \nQ 544 659 544 1381 \nz\nM 1991 3584 \nL 1991 3584 \nz\n\" transform=\"scale(0.015625)\"/>\n      <path id=\"DejaVuSans-74\" d=\"M 1172 4494 \nL 1172 3500 \nL 2356 3500 \nL 2356 3053 \nL 1172 3053 \nL 1172 1153 \nQ 1172 725 1289 603 \nQ 1406 481 1766 481 \nL 2356 481 \nL 2356 0 \nL 1766 0 \nQ 1100 0 847 248 \nQ 594 497 594 1153 \nL 594 3053 \nL 172 3053 \nL 172 3500 \nL 594 3500 \nL 594 4494 \nL 1172 4494 \nz\n\" transform=\"scale(0.015625)\"/>\n      <path id=\"DejaVuSans-6f\" d=\"M 1959 3097 \nQ 1497 3097 1228 2736 \nQ 959 2375 959 1747 \nQ 959 1119 1226 758 \nQ 1494 397 1959 397 \nQ 2419 397 2687 759 \nQ 2956 1122 2956 1747 \nQ 2956 2369 2687 2733 \nQ 2419 3097 1959 3097 \nz\nM 1959 3584 \nQ 2709 3584 3137 3096 \nQ 3566 2609 3566 1747 \nQ 3566 888 3137 398 \nQ 2709 -91 1959 -91 \nQ 1206 -91 779 398 \nQ 353 888 353 1747 \nQ 353 2609 779 3096 \nQ 1206 3584 1959 3584 \nz\n\" transform=\"scale(0.015625)\"/>\n      <path id=\"DejaVuSans-6d\" d=\"M 3328 2828 \nQ 3544 3216 3844 3400 \nQ 4144 3584 4550 3584 \nQ 5097 3584 5394 3201 \nQ 5691 2819 5691 2113 \nL 5691 0 \nL 5113 0 \nL 5113 2094 \nQ 5113 2597 4934 2840 \nQ 4756 3084 4391 3084 \nQ 3944 3084 3684 2787 \nQ 3425 2491 3425 1978 \nL 3425 0 \nL 2847 0 \nL 2847 2094 \nQ 2847 2600 2669 2842 \nQ 2491 3084 2119 3084 \nQ 1678 3084 1418 2786 \nQ 1159 2488 1159 1978 \nL 1159 0 \nL 581 0 \nL 581 3500 \nL 1159 3500 \nL 1159 2956 \nQ 1356 3278 1631 3431 \nQ 1906 3584 2284 3584 \nQ 2666 3584 2933 3390 \nQ 3200 3197 3328 2828 \nz\n\" transform=\"scale(0.015625)\"/>\n      <path id=\"DejaVuSans-62\" d=\"M 3116 1747 \nQ 3116 2381 2855 2742 \nQ 2594 3103 2138 3103 \nQ 1681 3103 1420 2742 \nQ 1159 2381 1159 1747 \nQ 1159 1113 1420 752 \nQ 1681 391 2138 391 \nQ 2594 391 2855 752 \nQ 3116 1113 3116 1747 \nz\nM 1159 2969 \nQ 1341 3281 1617 3432 \nQ 1894 3584 2278 3584 \nQ 2916 3584 3314 3078 \nQ 3713 2572 3713 1747 \nQ 3713 922 3314 415 \nQ 2916 -91 2278 -91 \nQ 1894 -91 1617 61 \nQ 1341 213 1159 525 \nL 1159 0 \nL 581 0 \nL 581 4863 \nL 1159 4863 \nL 1159 2969 \nz\n\" transform=\"scale(0.015625)\"/>\n      <path id=\"DejaVuSans-69\" d=\"M 603 3500 \nL 1178 3500 \nL 1178 0 \nL 603 0 \nL 603 3500 \nz\nM 603 4863 \nL 1178 4863 \nL 1178 4134 \nL 603 4134 \nL 603 4863 \nz\n\" transform=\"scale(0.015625)\"/>\n      <path id=\"DejaVuSans-6c\" d=\"M 603 4863 \nL 1178 4863 \nL 1178 0 \nL 603 0 \nL 603 4863 \nz\n\" transform=\"scale(0.015625)\"/>\n      <path id=\"DejaVuSans-65\" d=\"M 3597 1894 \nL 3597 1613 \nL 953 1613 \nQ 991 1019 1311 708 \nQ 1631 397 2203 397 \nQ 2534 397 2845 478 \nQ 3156 559 3463 722 \nL 3463 178 \nQ 3153 47 2828 -22 \nQ 2503 -91 2169 -91 \nQ 1331 -91 842 396 \nQ 353 884 353 1716 \nQ 353 2575 817 3079 \nQ 1281 3584 2069 3584 \nQ 2775 3584 3186 3129 \nQ 3597 2675 3597 1894 \nz\nM 3022 2063 \nQ 3016 2534 2758 2815 \nQ 2500 3097 2075 3097 \nQ 1594 3097 1305 2825 \nQ 1016 2553 972 2059 \nL 3022 2063 \nz\n\" transform=\"scale(0.015625)\"/>\n     </defs>\n     <use xlink:href=\"#DejaVuSans-61\"/>\n     <use xlink:href=\"#DejaVuSans-75\" x=\"61.279297\"/>\n     <use xlink:href=\"#DejaVuSans-74\" x=\"124.658203\"/>\n     <use xlink:href=\"#DejaVuSans-6f\" x=\"163.867188\"/>\n     <use xlink:href=\"#DejaVuSans-6d\" x=\"225.048828\"/>\n     <use xlink:href=\"#DejaVuSans-6f\" x=\"322.460938\"/>\n     <use xlink:href=\"#DejaVuSans-62\" x=\"383.642578\"/>\n     <use xlink:href=\"#DejaVuSans-69\" x=\"447.119141\"/>\n     <use xlink:href=\"#DejaVuSans-6c\" x=\"474.902344\"/>\n     <use xlink:href=\"#DejaVuSans-65\" x=\"502.685547\"/>\n    </g>\n   </g>\n  </g>\n  <g id=\"axes_2\">\n   <g id=\"patch_2\">\n    <path d=\"M 240.185455 133.198125 \nL 493.821818 133.198125 \nL 493.821818 22.318125 \nL 240.185455 22.318125 \nz\n\" style=\"fill: #eaeaf2\"/>\n   </g>\n   <g id=\"matplotlib.axis_1\">\n    <g id=\"xtick_1\">\n     <g id=\"line2d_1\">\n      <path d=\"M 240.185455 133.198125 \nL 240.185455 22.318125 \n\" clip-path=\"url(#p4e134a4843)\" style=\"fill: none; stroke: #ffffff; stroke-linecap: round\"/>\n     </g>\n     <g id=\"text_2\">\n      <!-- 0 -->\n      <g style=\"fill: #262626\" transform=\"translate(236.68608 151.056406) scale(0.11 -0.11)\">\n       <defs>\n        <path id=\"DejaVuSans-30\" d=\"M 2034 4250 \nQ 1547 4250 1301 3770 \nQ 1056 3291 1056 2328 \nQ 1056 1369 1301 889 \nQ 1547 409 2034 409 \nQ 2525 409 2770 889 \nQ 3016 1369 3016 2328 \nQ 3016 3291 2770 3770 \nQ 2525 4250 2034 4250 \nz\nM 2034 4750 \nQ 2819 4750 3233 4129 \nQ 3647 3509 3647 2328 \nQ 3647 1150 3233 529 \nQ 2819 -91 2034 -91 \nQ 1250 -91 836 529 \nQ 422 1150 422 2328 \nQ 422 3509 836 4129 \nQ 1250 4750 2034 4750 \nz\n\" transform=\"scale(0.015625)\"/>\n       </defs>\n       <use xlink:href=\"#DejaVuSans-30\"/>\n      </g>\n     </g>\n    </g>\n    <g id=\"xtick_2\">\n     <g id=\"line2d_2\">\n      <path d=\"M 288.598818 133.198125 \nL 288.598818 22.318125 \n\" clip-path=\"url(#p4e134a4843)\" style=\"fill: none; stroke: #ffffff; stroke-linecap: round\"/>\n     </g>\n     <g id=\"text_3\">\n      <!-- 20 -->\n      <g style=\"fill: #262626\" transform=\"translate(281.600068 151.056406) scale(0.11 -0.11)\">\n       <defs>\n        <path id=\"DejaVuSans-32\" d=\"M 1228 531 \nL 3431 531 \nL 3431 0 \nL 469 0 \nL 469 531 \nQ 828 903 1448 1529 \nQ 2069 2156 2228 2338 \nQ 2531 2678 2651 2914 \nQ 2772 3150 2772 3378 \nQ 2772 3750 2511 3984 \nQ 2250 4219 1831 4219 \nQ 1534 4219 1204 4116 \nQ 875 4013 500 3803 \nL 500 4441 \nQ 881 4594 1212 4672 \nQ 1544 4750 1819 4750 \nQ 2544 4750 2975 4387 \nQ 3406 4025 3406 3419 \nQ 3406 3131 3298 2873 \nQ 3191 2616 2906 2266 \nQ 2828 2175 2409 1742 \nQ 1991 1309 1228 531 \nz\n\" transform=\"scale(0.015625)\"/>\n       </defs>\n       <use xlink:href=\"#DejaVuSans-32\"/>\n       <use xlink:href=\"#DejaVuSans-30\" x=\"63.623047\"/>\n      </g>\n     </g>\n    </g>\n    <g id=\"xtick_3\">\n     <g id=\"line2d_3\">\n      <path d=\"M 337.012181 133.198125 \nL 337.012181 22.318125 \n\" clip-path=\"url(#p4e134a4843)\" style=\"fill: none; stroke: #ffffff; stroke-linecap: round\"/>\n     </g>\n     <g id=\"text_4\">\n      <!-- 40 -->\n      <g style=\"fill: #262626\" transform=\"translate(330.013431 151.056406) scale(0.11 -0.11)\">\n       <defs>\n        <path id=\"DejaVuSans-34\" d=\"M 2419 4116 \nL 825 1625 \nL 2419 1625 \nL 2419 4116 \nz\nM 2253 4666 \nL 3047 4666 \nL 3047 1625 \nL 3713 1625 \nL 3713 1100 \nL 3047 1100 \nL 3047 0 \nL 2419 0 \nL 2419 1100 \nL 313 1100 \nL 313 1709 \nL 2253 4666 \nz\n\" transform=\"scale(0.015625)\"/>\n       </defs>\n       <use xlink:href=\"#DejaVuSans-34\"/>\n       <use xlink:href=\"#DejaVuSans-30\" x=\"63.623047\"/>\n      </g>\n     </g>\n    </g>\n    <g id=\"xtick_4\">\n     <g id=\"line2d_4\">\n      <path d=\"M 385.425545 133.198125 \nL 385.425545 22.318125 \n\" clip-path=\"url(#p4e134a4843)\" style=\"fill: none; stroke: #ffffff; stroke-linecap: round\"/>\n     </g>\n     <g id=\"text_5\">\n      <!-- 60 -->\n      <g style=\"fill: #262626\" transform=\"translate(378.426795 151.056406) scale(0.11 -0.11)\">\n       <defs>\n        <path id=\"DejaVuSans-36\" d=\"M 2113 2584 \nQ 1688 2584 1439 2293 \nQ 1191 2003 1191 1497 \nQ 1191 994 1439 701 \nQ 1688 409 2113 409 \nQ 2538 409 2786 701 \nQ 3034 994 3034 1497 \nQ 3034 2003 2786 2293 \nQ 2538 2584 2113 2584 \nz\nM 3366 4563 \nL 3366 3988 \nQ 3128 4100 2886 4159 \nQ 2644 4219 2406 4219 \nQ 1781 4219 1451 3797 \nQ 1122 3375 1075 2522 \nQ 1259 2794 1537 2939 \nQ 1816 3084 2150 3084 \nQ 2853 3084 3261 2657 \nQ 3669 2231 3669 1497 \nQ 3669 778 3244 343 \nQ 2819 -91 2113 -91 \nQ 1303 -91 875 529 \nQ 447 1150 447 2328 \nQ 447 3434 972 4092 \nQ 1497 4750 2381 4750 \nQ 2619 4750 2861 4703 \nQ 3103 4656 3366 4563 \nz\n\" transform=\"scale(0.015625)\"/>\n       </defs>\n       <use xlink:href=\"#DejaVuSans-36\"/>\n       <use xlink:href=\"#DejaVuSans-30\" x=\"63.623047\"/>\n      </g>\n     </g>\n    </g>\n    <g id=\"xtick_5\">\n     <g id=\"line2d_5\">\n      <path d=\"M 433.838908 133.198125 \nL 433.838908 22.318125 \n\" clip-path=\"url(#p4e134a4843)\" style=\"fill: none; stroke: #ffffff; stroke-linecap: round\"/>\n     </g>\n     <g id=\"text_6\">\n      <!-- 80 -->\n      <g style=\"fill: #262626\" transform=\"translate(426.840158 151.056406) scale(0.11 -0.11)\">\n       <defs>\n        <path id=\"DejaVuSans-38\" d=\"M 2034 2216 \nQ 1584 2216 1326 1975 \nQ 1069 1734 1069 1313 \nQ 1069 891 1326 650 \nQ 1584 409 2034 409 \nQ 2484 409 2743 651 \nQ 3003 894 3003 1313 \nQ 3003 1734 2745 1975 \nQ 2488 2216 2034 2216 \nz\nM 1403 2484 \nQ 997 2584 770 2862 \nQ 544 3141 544 3541 \nQ 544 4100 942 4425 \nQ 1341 4750 2034 4750 \nQ 2731 4750 3128 4425 \nQ 3525 4100 3525 3541 \nQ 3525 3141 3298 2862 \nQ 3072 2584 2669 2484 \nQ 3125 2378 3379 2068 \nQ 3634 1759 3634 1313 \nQ 3634 634 3220 271 \nQ 2806 -91 2034 -91 \nQ 1263 -91 848 271 \nQ 434 634 434 1313 \nQ 434 1759 690 2068 \nQ 947 2378 1403 2484 \nz\nM 1172 3481 \nQ 1172 3119 1398 2916 \nQ 1625 2713 2034 2713 \nQ 2441 2713 2670 2916 \nQ 2900 3119 2900 3481 \nQ 2900 3844 2670 4047 \nQ 2441 4250 2034 4250 \nQ 1625 4250 1398 4047 \nQ 1172 3844 1172 3481 \nz\n\" transform=\"scale(0.015625)\"/>\n       </defs>\n       <use xlink:href=\"#DejaVuSans-38\"/>\n       <use xlink:href=\"#DejaVuSans-30\" x=\"63.623047\"/>\n      </g>\n     </g>\n    </g>\n    <g id=\"xtick_6\">\n     <g id=\"line2d_6\">\n      <path d=\"M 482.252271 133.198125 \nL 482.252271 22.318125 \n\" clip-path=\"url(#p4e134a4843)\" style=\"fill: none; stroke: #ffffff; stroke-linecap: round\"/>\n     </g>\n     <g id=\"text_7\">\n      <!-- 100 -->\n      <g style=\"fill: #262626\" transform=\"translate(471.754146 151.056406) scale(0.11 -0.11)\">\n       <defs>\n        <path id=\"DejaVuSans-31\" d=\"M 794 531 \nL 1825 531 \nL 1825 4091 \nL 703 3866 \nL 703 4441 \nL 1819 4666 \nL 2450 4666 \nL 2450 531 \nL 3481 531 \nL 3481 0 \nL 794 0 \nL 794 531 \nz\n\" transform=\"scale(0.015625)\"/>\n       </defs>\n       <use xlink:href=\"#DejaVuSans-31\"/>\n       <use xlink:href=\"#DejaVuSans-30\" x=\"63.623047\"/>\n       <use xlink:href=\"#DejaVuSans-30\" x=\"127.246094\"/>\n      </g>\n     </g>\n    </g>\n    <g id=\"text_8\">\n     <!-- Confidence -->\n     <g style=\"fill: #262626\" transform=\"translate(333.266761 166.462187) scale(0.12 -0.12)\">\n      <defs>\n       <path id=\"DejaVuSans-43\" d=\"M 4122 4306 \nL 4122 3641 \nQ 3803 3938 3442 4084 \nQ 3081 4231 2675 4231 \nQ 1875 4231 1450 3742 \nQ 1025 3253 1025 2328 \nQ 1025 1406 1450 917 \nQ 1875 428 2675 428 \nQ 3081 428 3442 575 \nQ 3803 722 4122 1019 \nL 4122 359 \nQ 3791 134 3420 21 \nQ 3050 -91 2638 -91 \nQ 1578 -91 968 557 \nQ 359 1206 359 2328 \nQ 359 3453 968 4101 \nQ 1578 4750 2638 4750 \nQ 3056 4750 3426 4639 \nQ 3797 4528 4122 4306 \nz\n\" transform=\"scale(0.015625)\"/>\n       <path id=\"DejaVuSans-6e\" d=\"M 3513 2113 \nL 3513 0 \nL 2938 0 \nL 2938 2094 \nQ 2938 2591 2744 2837 \nQ 2550 3084 2163 3084 \nQ 1697 3084 1428 2787 \nQ 1159 2491 1159 1978 \nL 1159 0 \nL 581 0 \nL 581 3500 \nL 1159 3500 \nL 1159 2956 \nQ 1366 3272 1645 3428 \nQ 1925 3584 2291 3584 \nQ 2894 3584 3203 3211 \nQ 3513 2838 3513 2113 \nz\n\" transform=\"scale(0.015625)\"/>\n       <path id=\"DejaVuSans-66\" d=\"M 2375 4863 \nL 2375 4384 \nL 1825 4384 \nQ 1516 4384 1395 4259 \nQ 1275 4134 1275 3809 \nL 1275 3500 \nL 2222 3500 \nL 2222 3053 \nL 1275 3053 \nL 1275 0 \nL 697 0 \nL 697 3053 \nL 147 3053 \nL 147 3500 \nL 697 3500 \nL 697 3744 \nQ 697 4328 969 4595 \nQ 1241 4863 1831 4863 \nL 2375 4863 \nz\n\" transform=\"scale(0.015625)\"/>\n       <path id=\"DejaVuSans-64\" d=\"M 2906 2969 \nL 2906 4863 \nL 3481 4863 \nL 3481 0 \nL 2906 0 \nL 2906 525 \nQ 2725 213 2448 61 \nQ 2172 -91 1784 -91 \nQ 1150 -91 751 415 \nQ 353 922 353 1747 \nQ 353 2572 751 3078 \nQ 1150 3584 1784 3584 \nQ 2172 3584 2448 3432 \nQ 2725 3281 2906 2969 \nz\nM 947 1747 \nQ 947 1113 1208 752 \nQ 1469 391 1925 391 \nQ 2381 391 2643 752 \nQ 2906 1113 2906 1747 \nQ 2906 2381 2643 2742 \nQ 2381 3103 1925 3103 \nQ 1469 3103 1208 2742 \nQ 947 2381 947 1747 \nz\n\" transform=\"scale(0.015625)\"/>\n       <path id=\"DejaVuSans-63\" d=\"M 3122 3366 \nL 3122 2828 \nQ 2878 2963 2633 3030 \nQ 2388 3097 2138 3097 \nQ 1578 3097 1268 2742 \nQ 959 2388 959 1747 \nQ 959 1106 1268 751 \nQ 1578 397 2138 397 \nQ 2388 397 2633 464 \nQ 2878 531 3122 666 \nL 3122 134 \nQ 2881 22 2623 -34 \nQ 2366 -91 2075 -91 \nQ 1284 -91 818 406 \nQ 353 903 353 1747 \nQ 353 2603 823 3093 \nQ 1294 3584 2113 3584 \nQ 2378 3584 2631 3529 \nQ 2884 3475 3122 3366 \nz\n\" transform=\"scale(0.015625)\"/>\n      </defs>\n      <use xlink:href=\"#DejaVuSans-43\"/>\n      <use xlink:href=\"#DejaVuSans-6f\" x=\"69.824219\"/>\n      <use xlink:href=\"#DejaVuSans-6e\" x=\"131.005859\"/>\n      <use xlink:href=\"#DejaVuSans-66\" x=\"194.384766\"/>\n      <use xlink:href=\"#DejaVuSans-69\" x=\"229.589844\"/>\n      <use xlink:href=\"#DejaVuSans-64\" x=\"257.373047\"/>\n      <use xlink:href=\"#DejaVuSans-65\" x=\"320.849609\"/>\n      <use xlink:href=\"#DejaVuSans-6e\" x=\"382.373047\"/>\n      <use xlink:href=\"#DejaVuSans-63\" x=\"445.751953\"/>\n      <use xlink:href=\"#DejaVuSans-65\" x=\"500.732422\"/>\n     </g>\n    </g>\n   </g>\n   <g id=\"matplotlib.axis_2\">\n    <g id=\"ytick_1\">\n     <g id=\"line2d_7\">\n      <path d=\"M 240.185455 49.758125 \nL 493.821818 49.758125 \n\" clip-path=\"url(#p4e134a4843)\" style=\"fill: none; stroke: #ffffff; stroke-linecap: round\"/>\n     </g>\n     <g id=\"text_9\">\n      <!-- automobile -->\n      <g style=\"fill: #262626\" transform=\"translate(168.621392 53.937266) scale(0.11 -0.11)\">\n       <use xlink:href=\"#DejaVuSans-61\"/>\n       <use xlink:href=\"#DejaVuSans-75\" x=\"61.279297\"/>\n       <use xlink:href=\"#DejaVuSans-74\" x=\"124.658203\"/>\n       <use xlink:href=\"#DejaVuSans-6f\" x=\"163.867188\"/>\n       <use xlink:href=\"#DejaVuSans-6d\" x=\"225.048828\"/>\n       <use xlink:href=\"#DejaVuSans-6f\" x=\"322.460938\"/>\n       <use xlink:href=\"#DejaVuSans-62\" x=\"383.642578\"/>\n       <use xlink:href=\"#DejaVuSans-69\" x=\"447.119141\"/>\n       <use xlink:href=\"#DejaVuSans-6c\" x=\"474.902344\"/>\n       <use xlink:href=\"#DejaVuSans-65\" x=\"502.685547\"/>\n      </g>\n     </g>\n    </g>\n    <g id=\"ytick_2\">\n     <g id=\"line2d_8\">\n      <path d=\"M 240.185455 105.758125 \nL 493.821818 105.758125 \n\" clip-path=\"url(#p4e134a4843)\" style=\"fill: none; stroke: #ffffff; stroke-linecap: round\"/>\n     </g>\n     <g id=\"text_10\">\n      <!-- truck -->\n      <g style=\"fill: #262626\" transform=\"translate(202.461861 109.937266) scale(0.11 -0.11)\">\n       <defs>\n        <path id=\"DejaVuSans-72\" d=\"M 2631 2963 \nQ 2534 3019 2420 3045 \nQ 2306 3072 2169 3072 \nQ 1681 3072 1420 2755 \nQ 1159 2438 1159 1844 \nL 1159 0 \nL 581 0 \nL 581 3500 \nL 1159 3500 \nL 1159 2956 \nQ 1341 3275 1631 3429 \nQ 1922 3584 2338 3584 \nQ 2397 3584 2469 3576 \nQ 2541 3569 2628 3553 \nL 2631 2963 \nz\n\" transform=\"scale(0.015625)\"/>\n        <path id=\"DejaVuSans-6b\" d=\"M 581 4863 \nL 1159 4863 \nL 1159 1991 \nL 2875 3500 \nL 3609 3500 \nL 1753 1863 \nL 3688 0 \nL 2938 0 \nL 1159 1709 \nL 1159 0 \nL 581 0 \nL 581 4863 \nz\n\" transform=\"scale(0.015625)\"/>\n       </defs>\n       <use xlink:href=\"#DejaVuSans-74\"/>\n       <use xlink:href=\"#DejaVuSans-72\" x=\"39.208984\"/>\n       <use xlink:href=\"#DejaVuSans-75\" x=\"80.322266\"/>\n       <use xlink:href=\"#DejaVuSans-63\" x=\"143.701172\"/>\n       <use xlink:href=\"#DejaVuSans-6b\" x=\"198.681641\"/>\n      </g>\n     </g>\n    </g>\n   </g>\n   <g id=\"patch_3\">\n    <path d=\"M 240.185455 27.358125 \nL 481.743896 27.358125 \nL 481.743896 72.158125 \nL 240.185455 72.158125 \nz\n\" clip-path=\"url(#p4e134a4843)\" style=\"fill: #55a868; stroke: #ffffff; stroke-linejoin: miter\"/>\n   </g>\n   <g id=\"patch_4\">\n    <path d=\"M 240.185455 83.358125 \nL 240.580204 83.358125 \nL 240.580204 128.158125 \nL 240.185455 128.158125 \nz\n\" clip-path=\"url(#p4e134a4843)\" style=\"fill: #4c72b0; stroke: #ffffff; stroke-linejoin: miter\"/>\n   </g>\n   <g id=\"patch_5\">\n    <path d=\"M 240.185455 133.198125 \nL 240.185455 22.318125 \n\" style=\"fill: none; stroke: #ffffff; stroke-width: 1.25; stroke-linejoin: miter; stroke-linecap: square\"/>\n   </g>\n   <g id=\"patch_6\">\n    <path d=\"M 493.821818 133.198125 \nL 493.821818 22.318125 \n\" style=\"fill: none; stroke: #ffffff; stroke-width: 1.25; stroke-linejoin: miter; stroke-linecap: square\"/>\n   </g>\n   <g id=\"patch_7\">\n    <path d=\"M 240.185455 133.198125 \nL 493.821818 133.198125 \n\" style=\"fill: none; stroke: #ffffff; stroke-width: 1.25; stroke-linejoin: miter; stroke-linecap: square\"/>\n   </g>\n   <g id=\"patch_8\">\n    <path d=\"M 240.185455 22.318125 \nL 493.821818 22.318125 \n\" style=\"fill: none; stroke: #ffffff; stroke-width: 1.25; stroke-linejoin: miter; stroke-linecap: square\"/>\n   </g>\n   <g id=\"text_11\">\n    <!-- Predictions -->\n    <g style=\"fill: #262626\" transform=\"translate(334.073949 16.318125) scale(0.12 -0.12)\">\n     <defs>\n      <path id=\"DejaVuSans-50\" d=\"M 1259 4147 \nL 1259 2394 \nL 2053 2394 \nQ 2494 2394 2734 2622 \nQ 2975 2850 2975 3272 \nQ 2975 3691 2734 3919 \nQ 2494 4147 2053 4147 \nL 1259 4147 \nz\nM 628 4666 \nL 2053 4666 \nQ 2838 4666 3239 4311 \nQ 3641 3956 3641 3272 \nQ 3641 2581 3239 2228 \nQ 2838 1875 2053 1875 \nL 1259 1875 \nL 1259 0 \nL 628 0 \nL 628 4666 \nz\n\" transform=\"scale(0.015625)\"/>\n      <path id=\"DejaVuSans-73\" d=\"M 2834 3397 \nL 2834 2853 \nQ 2591 2978 2328 3040 \nQ 2066 3103 1784 3103 \nQ 1356 3103 1142 2972 \nQ 928 2841 928 2578 \nQ 928 2378 1081 2264 \nQ 1234 2150 1697 2047 \nL 1894 2003 \nQ 2506 1872 2764 1633 \nQ 3022 1394 3022 966 \nQ 3022 478 2636 193 \nQ 2250 -91 1575 -91 \nQ 1294 -91 989 -36 \nQ 684 19 347 128 \nL 347 722 \nQ 666 556 975 473 \nQ 1284 391 1588 391 \nQ 1994 391 2212 530 \nQ 2431 669 2431 922 \nQ 2431 1156 2273 1281 \nQ 2116 1406 1581 1522 \nL 1381 1569 \nQ 847 1681 609 1914 \nQ 372 2147 372 2553 \nQ 372 3047 722 3315 \nQ 1072 3584 1716 3584 \nQ 2034 3584 2315 3537 \nQ 2597 3491 2834 3397 \nz\n\" transform=\"scale(0.015625)\"/>\n     </defs>\n     <use xlink:href=\"#DejaVuSans-50\"/>\n     <use xlink:href=\"#DejaVuSans-72\" x=\"58.552734\"/>\n     <use xlink:href=\"#DejaVuSans-65\" x=\"97.416016\"/>\n     <use xlink:href=\"#DejaVuSans-64\" x=\"158.939453\"/>\n     <use xlink:href=\"#DejaVuSans-69\" x=\"222.416016\"/>\n     <use xlink:href=\"#DejaVuSans-63\" x=\"250.199219\"/>\n     <use xlink:href=\"#DejaVuSans-74\" x=\"305.179688\"/>\n     <use xlink:href=\"#DejaVuSans-69\" x=\"344.388672\"/>\n     <use xlink:href=\"#DejaVuSans-6f\" x=\"372.171875\"/>\n     <use xlink:href=\"#DejaVuSans-6e\" x=\"433.353516\"/>\n     <use xlink:href=\"#DejaVuSans-73\" x=\"496.732422\"/>\n    </g>\n   </g>\n  </g>\n </g>\n <defs>\n  <clipPath id=\"paad81d70f2\">\n   <rect x=\"7.2\" y=\"22.318125\" width=\"110.88\" height=\"110.88\"/>\n  </clipPath>\n  <clipPath id=\"p4e134a4843\">\n   <rect x=\"240.185455\" y=\"22.318125\" width=\"253.636364\" height=\"110.88\"/>\n  </clipPath>\n </defs>\n</svg>\n",
      "text/plain": [
       "<Figure size 1000x200 with 2 Axes>"
      ]
     },
     "metadata": {},
     "output_type": "display_data"
    },
    {
     "name": "stdout",
     "output_type": "stream",
     "text": [
      "tensor([9, 1], device='cuda:0')\n"
     ]
    },
    {
     "data": {
      "application/pdf": "[encoded data removed]",
      "image/svg+xml": "<?xml version=\"1.0\" encoding=\"utf-8\" standalone=\"no\"?>\n<!DOCTYPE svg PUBLIC \"-//W3C//DTD SVG 1.1//EN\"\n  \"http://www.w3.org/Graphics/SVG/1.1/DTD/svg11.dtd\">\n<svg xmlns:xlink=\"http://www.w3.org/1999/xlink\" width=\"501.021818pt\" height=\"176.157812pt\" viewBox=\"0 0 501.021818 176.157812\" xmlns=\"http://www.w3.org/2000/svg\" version=\"1.1\">\n <metadata>\n  <rdf:RDF xmlns:dc=\"http://purl.org/dc/elements/1.1/\" xmlns:cc=\"http://creativecommons.org/ns#\" xmlns:rdf=\"http://www.w3.org/1999/02/22-rdf-syntax-ns#\">\n   <cc:Work>\n    <dc:type rdf:resource=\"http://purl.org/dc/dcmitype/StillImage\"/>\n    <dc:date>2022-12-12T22:13:15.427988</dc:date>\n    <dc:format>image/svg+xml</dc:format>\n    <dc:creator>\n     <cc:Agent>\n      <dc:title>Matplotlib v3.6.0, https://matplotlib.org/</dc:title>\n     </cc:Agent>\n    </dc:creator>\n   </cc:Work>\n  </rdf:RDF>\n </metadata>\n <defs>\n  <style type=\"text/css\">*{stroke-linejoin: round; stroke-linecap: butt}</style>\n </defs>\n <g id=\"figure_1\">\n  <g id=\"patch_1\">\n   <path d=\"M 0 176.157812 \nL 501.021818 176.157812 \nL 501.021818 0 \nL 0 0 \nz\n\" style=\"fill: #ffffff\"/>\n  </g>\n  <g id=\"axes_1\">\n   <g clip-path=\"url(#p1707028bab)\">\n    <image xlink:href=\"data:image/png;base64,\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\" id=\"image01337209ec\" transform=\"scale(1 -1) translate(0 -110.88)\" x=\"7.2\" y=\"-22.318125\" width=\"111.6\" height=\"110.88\"/>\n   </g>\n   <g id=\"text_1\">\n    <!-- truck -->\n    <g style=\"fill: #262626\" transform=\"translate(47.245313 16.318125) scale(0.12 -0.12)\">\n     <defs>\n      <path id=\"DejaVuSans-74\" d=\"M 1172 4494 \nL 1172 3500 \nL 2356 3500 \nL 2356 3053 \nL 1172 3053 \nL 1172 1153 \nQ 1172 725 1289 603 \nQ 1406 481 1766 481 \nL 2356 481 \nL 2356 0 \nL 1766 0 \nQ 1100 0 847 248 \nQ 594 497 594 1153 \nL 594 3053 \nL 172 3053 \nL 172 3500 \nL 594 3500 \nL 594 4494 \nL 1172 4494 \nz\n\" transform=\"scale(0.015625)\"/>\n      <path id=\"DejaVuSans-72\" d=\"M 2631 2963 \nQ 2534 3019 2420 3045 \nQ 2306 3072 2169 3072 \nQ 1681 3072 1420 2755 \nQ 1159 2438 1159 1844 \nL 1159 0 \nL 581 0 \nL 581 3500 \nL 1159 3500 \nL 1159 2956 \nQ 1341 3275 1631 3429 \nQ 1922 3584 2338 3584 \nQ 2397 3584 2469 3576 \nQ 2541 3569 2628 3553 \nL 2631 2963 \nz\n\" transform=\"scale(0.015625)\"/>\n      <path id=\"DejaVuSans-75\" d=\"M 544 1381 \nL 544 3500 \nL 1119 3500 \nL 1119 1403 \nQ 1119 906 1312 657 \nQ 1506 409 1894 409 \nQ 2359 409 2629 706 \nQ 2900 1003 2900 1516 \nL 2900 3500 \nL 3475 3500 \nL 3475 0 \nL 2900 0 \nL 2900 538 \nQ 2691 219 2414 64 \nQ 2138 -91 1772 -91 \nQ 1169 -91 856 284 \nQ 544 659 544 1381 \nz\nM 1991 3584 \nL 1991 3584 \nz\n\" transform=\"scale(0.015625)\"/>\n      <path id=\"DejaVuSans-63\" d=\"M 3122 3366 \nL 3122 2828 \nQ 2878 2963 2633 3030 \nQ 2388 3097 2138 3097 \nQ 1578 3097 1268 2742 \nQ 959 2388 959 1747 \nQ 959 1106 1268 751 \nQ 1578 397 2138 397 \nQ 2388 397 2633 464 \nQ 2878 531 3122 666 \nL 3122 134 \nQ 2881 22 2623 -34 \nQ 2366 -91 2075 -91 \nQ 1284 -91 818 406 \nQ 353 903 353 1747 \nQ 353 2603 823 3093 \nQ 1294 3584 2113 3584 \nQ 2378 3584 2631 3529 \nQ 2884 3475 3122 3366 \nz\n\" transform=\"scale(0.015625)\"/>\n      <path id=\"DejaVuSans-6b\" d=\"M 581 4863 \nL 1159 4863 \nL 1159 1991 \nL 2875 3500 \nL 3609 3500 \nL 1753 1863 \nL 3688 0 \nL 2938 0 \nL 1159 1709 \nL 1159 0 \nL 581 0 \nL 581 4863 \nz\n\" transform=\"scale(0.015625)\"/>\n     </defs>\n     <use xlink:href=\"#DejaVuSans-74\"/>\n     <use xlink:href=\"#DejaVuSans-72\" x=\"39.208984\"/>\n     <use xlink:href=\"#DejaVuSans-75\" x=\"80.322266\"/>\n     <use xlink:href=\"#DejaVuSans-63\" x=\"143.701172\"/>\n     <use xlink:href=\"#DejaVuSans-6b\" x=\"198.681641\"/>\n    </g>\n   </g>\n  </g>\n  <g id=\"axes_2\">\n   <g id=\"patch_2\">\n    <path d=\"M 240.185455 133.198125 \nL 493.821818 133.198125 \nL 493.821818 22.318125 \nL 240.185455 22.318125 \nz\n\" style=\"fill: #eaeaf2\"/>\n   </g>\n   <g id=\"matplotlib.axis_1\">\n    <g id=\"xtick_1\">\n     <g id=\"line2d_1\">\n      <path d=\"M 240.185455 133.198125 \nL 240.185455 22.318125 \n\" clip-path=\"url(#pd22406ce51)\" style=\"fill: none; stroke: #ffffff; stroke-linecap: round\"/>\n     </g>\n     <g id=\"text_2\">\n      <!-- 0 -->\n      <g style=\"fill: #262626\" transform=\"translate(236.68608 151.056406) scale(0.11 -0.11)\">\n       <defs>\n        <path id=\"DejaVuSans-30\" d=\"M 2034 4250 \nQ 1547 4250 1301 3770 \nQ 1056 3291 1056 2328 \nQ 1056 1369 1301 889 \nQ 1547 409 2034 409 \nQ 2525 409 2770 889 \nQ 3016 1369 3016 2328 \nQ 3016 3291 2770 3770 \nQ 2525 4250 2034 4250 \nz\nM 2034 4750 \nQ 2819 4750 3233 4129 \nQ 3647 3509 3647 2328 \nQ 3647 1150 3233 529 \nQ 2819 -91 2034 -91 \nQ 1250 -91 836 529 \nQ 422 1150 422 2328 \nQ 422 3509 836 4129 \nQ 1250 4750 2034 4750 \nz\n\" transform=\"scale(0.015625)\"/>\n       </defs>\n       <use xlink:href=\"#DejaVuSans-30\"/>\n      </g>\n     </g>\n    </g>\n    <g id=\"xtick_2\">\n     <g id=\"line2d_2\">\n      <path d=\"M 288.497143 133.198125 \nL 288.497143 22.318125 \n\" clip-path=\"url(#pd22406ce51)\" style=\"fill: none; stroke: #ffffff; stroke-linecap: round\"/>\n     </g>\n     <g id=\"text_3\">\n      <!-- 20 -->\n      <g style=\"fill: #262626\" transform=\"translate(281.498393 151.056406) scale(0.11 -0.11)\">\n       <defs>\n        <path id=\"DejaVuSans-32\" d=\"M 1228 531 \nL 3431 531 \nL 3431 0 \nL 469 0 \nL 469 531 \nQ 828 903 1448 1529 \nQ 2069 2156 2228 2338 \nQ 2531 2678 2651 2914 \nQ 2772 3150 2772 3378 \nQ 2772 3750 2511 3984 \nQ 2250 4219 1831 4219 \nQ 1534 4219 1204 4116 \nQ 875 4013 500 3803 \nL 500 4441 \nQ 881 4594 1212 4672 \nQ 1544 4750 1819 4750 \nQ 2544 4750 2975 4387 \nQ 3406 4025 3406 3419 \nQ 3406 3131 3298 2873 \nQ 3191 2616 2906 2266 \nQ 2828 2175 2409 1742 \nQ 1991 1309 1228 531 \nz\n\" transform=\"scale(0.015625)\"/>\n       </defs>\n       <use xlink:href=\"#DejaVuSans-32\"/>\n       <use xlink:href=\"#DejaVuSans-30\" x=\"63.623047\"/>\n      </g>\n     </g>\n    </g>\n    <g id=\"xtick_3\">\n     <g id=\"line2d_3\">\n      <path d=\"M 336.808831 133.198125 \nL 336.808831 22.318125 \n\" clip-path=\"url(#pd22406ce51)\" style=\"fill: none; stroke: #ffffff; stroke-linecap: round\"/>\n     </g>\n     <g id=\"text_4\">\n      <!-- 40 -->\n      <g style=\"fill: #262626\" transform=\"translate(329.810081 151.056406) scale(0.11 -0.11)\">\n       <defs>\n        <path id=\"DejaVuSans-34\" d=\"M 2419 4116 \nL 825 1625 \nL 2419 1625 \nL 2419 4116 \nz\nM 2253 4666 \nL 3047 4666 \nL 3047 1625 \nL 3713 1625 \nL 3713 1100 \nL 3047 1100 \nL 3047 0 \nL 2419 0 \nL 2419 1100 \nL 313 1100 \nL 313 1709 \nL 2253 4666 \nz\n\" transform=\"scale(0.015625)\"/>\n       </defs>\n       <use xlink:href=\"#DejaVuSans-34\"/>\n       <use xlink:href=\"#DejaVuSans-30\" x=\"63.623047\"/>\n      </g>\n     </g>\n    </g>\n    <g id=\"xtick_4\">\n     <g id=\"line2d_4\">\n      <path d=\"M 385.120519 133.198125 \nL 385.120519 22.318125 \n\" clip-path=\"url(#pd22406ce51)\" style=\"fill: none; stroke: #ffffff; stroke-linecap: round\"/>\n     </g>\n     <g id=\"text_5\">\n      <!-- 60 -->\n      <g style=\"fill: #262626\" transform=\"translate(378.121769 151.056406) scale(0.11 -0.11)\">\n       <defs>\n        <path id=\"DejaVuSans-36\" d=\"M 2113 2584 \nQ 1688 2584 1439 2293 \nQ 1191 2003 1191 1497 \nQ 1191 994 1439 701 \nQ 1688 409 2113 409 \nQ 2538 409 2786 701 \nQ 3034 994 3034 1497 \nQ 3034 2003 2786 2293 \nQ 2538 2584 2113 2584 \nz\nM 3366 4563 \nL 3366 3988 \nQ 3128 4100 2886 4159 \nQ 2644 4219 2406 4219 \nQ 1781 4219 1451 3797 \nQ 1122 3375 1075 2522 \nQ 1259 2794 1537 2939 \nQ 1816 3084 2150 3084 \nQ 2853 3084 3261 2657 \nQ 3669 2231 3669 1497 \nQ 3669 778 3244 343 \nQ 2819 -91 2113 -91 \nQ 1303 -91 875 529 \nQ 447 1150 447 2328 \nQ 447 3434 972 4092 \nQ 1497 4750 2381 4750 \nQ 2619 4750 2861 4703 \nQ 3103 4656 3366 4563 \nz\n\" transform=\"scale(0.015625)\"/>\n       </defs>\n       <use xlink:href=\"#DejaVuSans-36\"/>\n       <use xlink:href=\"#DejaVuSans-30\" x=\"63.623047\"/>\n      </g>\n     </g>\n    </g>\n    <g id=\"xtick_5\">\n     <g id=\"line2d_5\">\n      <path d=\"M 433.432208 133.198125 \nL 433.432208 22.318125 \n\" clip-path=\"url(#pd22406ce51)\" style=\"fill: none; stroke: #ffffff; stroke-linecap: round\"/>\n     </g>\n     <g id=\"text_6\">\n      <!-- 80 -->\n      <g style=\"fill: #262626\" transform=\"translate(426.433458 151.056406) scale(0.11 -0.11)\">\n       <defs>\n        <path id=\"DejaVuSans-38\" d=\"M 2034 2216 \nQ 1584 2216 1326 1975 \nQ 1069 1734 1069 1313 \nQ 1069 891 1326 650 \nQ 1584 409 2034 409 \nQ 2484 409 2743 651 \nQ 3003 894 3003 1313 \nQ 3003 1734 2745 1975 \nQ 2488 2216 2034 2216 \nz\nM 1403 2484 \nQ 997 2584 770 2862 \nQ 544 3141 544 3541 \nQ 544 4100 942 4425 \nQ 1341 4750 2034 4750 \nQ 2731 4750 3128 4425 \nQ 3525 4100 3525 3541 \nQ 3525 3141 3298 2862 \nQ 3072 2584 2669 2484 \nQ 3125 2378 3379 2068 \nQ 3634 1759 3634 1313 \nQ 3634 634 3220 271 \nQ 2806 -91 2034 -91 \nQ 1263 -91 848 271 \nQ 434 634 434 1313 \nQ 434 1759 690 2068 \nQ 947 2378 1403 2484 \nz\nM 1172 3481 \nQ 1172 3119 1398 2916 \nQ 1625 2713 2034 2713 \nQ 2441 2713 2670 2916 \nQ 2900 3119 2900 3481 \nQ 2900 3844 2670 4047 \nQ 2441 4250 2034 4250 \nQ 1625 4250 1398 4047 \nQ 1172 3844 1172 3481 \nz\n\" transform=\"scale(0.015625)\"/>\n       </defs>\n       <use xlink:href=\"#DejaVuSans-38\"/>\n       <use xlink:href=\"#DejaVuSans-30\" x=\"63.623047\"/>\n      </g>\n     </g>\n    </g>\n    <g id=\"xtick_6\">\n     <g id=\"line2d_6\">\n      <path d=\"M 481.743896 133.198125 \nL 481.743896 22.318125 \n\" clip-path=\"url(#pd22406ce51)\" style=\"fill: none; stroke: #ffffff; stroke-linecap: round\"/>\n     </g>\n     <g id=\"text_7\">\n      <!-- 100 -->\n      <g style=\"fill: #262626\" transform=\"translate(471.245771 151.056406) scale(0.11 -0.11)\">\n       <defs>\n        <path id=\"DejaVuSans-31\" d=\"M 794 531 \nL 1825 531 \nL 1825 4091 \nL 703 3866 \nL 703 4441 \nL 1819 4666 \nL 2450 4666 \nL 2450 531 \nL 3481 531 \nL 3481 0 \nL 794 0 \nL 794 531 \nz\n\" transform=\"scale(0.015625)\"/>\n       </defs>\n       <use xlink:href=\"#DejaVuSans-31\"/>\n       <use xlink:href=\"#DejaVuSans-30\" x=\"63.623047\"/>\n       <use xlink:href=\"#DejaVuSans-30\" x=\"127.246094\"/>\n      </g>\n     </g>\n    </g>\n    <g id=\"text_8\">\n     <!-- Confidence -->\n     <g style=\"fill: #262626\" transform=\"translate(333.266761 166.462187) scale(0.12 -0.12)\">\n      <defs>\n       <path id=\"DejaVuSans-43\" d=\"M 4122 4306 \nL 4122 3641 \nQ 3803 3938 3442 4084 \nQ 3081 4231 2675 4231 \nQ 1875 4231 1450 3742 \nQ 1025 3253 1025 2328 \nQ 1025 1406 1450 917 \nQ 1875 428 2675 428 \nQ 3081 428 3442 575 \nQ 3803 722 4122 1019 \nL 4122 359 \nQ 3791 134 3420 21 \nQ 3050 -91 2638 -91 \nQ 1578 -91 968 557 \nQ 359 1206 359 2328 \nQ 359 3453 968 4101 \nQ 1578 4750 2638 4750 \nQ 3056 4750 3426 4639 \nQ 3797 4528 4122 4306 \nz\n\" transform=\"scale(0.015625)\"/>\n       <path id=\"DejaVuSans-6f\" d=\"M 1959 3097 \nQ 1497 3097 1228 2736 \nQ 959 2375 959 1747 \nQ 959 1119 1226 758 \nQ 1494 397 1959 397 \nQ 2419 397 2687 759 \nQ 2956 1122 2956 1747 \nQ 2956 2369 2687 2733 \nQ 2419 3097 1959 3097 \nz\nM 1959 3584 \nQ 2709 3584 3137 3096 \nQ 3566 2609 3566 1747 \nQ 3566 888 3137 398 \nQ 2709 -91 1959 -91 \nQ 1206 -91 779 398 \nQ 353 888 353 1747 \nQ 353 2609 779 3096 \nQ 1206 3584 1959 3584 \nz\n\" transform=\"scale(0.015625)\"/>\n       <path id=\"DejaVuSans-6e\" d=\"M 3513 2113 \nL 3513 0 \nL 2938 0 \nL 2938 2094 \nQ 2938 2591 2744 2837 \nQ 2550 3084 2163 3084 \nQ 1697 3084 1428 2787 \nQ 1159 2491 1159 1978 \nL 1159 0 \nL 581 0 \nL 581 3500 \nL 1159 3500 \nL 1159 2956 \nQ 1366 3272 1645 3428 \nQ 1925 3584 2291 3584 \nQ 2894 3584 3203 3211 \nQ 3513 2838 3513 2113 \nz\n\" transform=\"scale(0.015625)\"/>\n       <path id=\"DejaVuSans-66\" d=\"M 2375 4863 \nL 2375 4384 \nL 1825 4384 \nQ 1516 4384 1395 4259 \nQ 1275 4134 1275 3809 \nL 1275 3500 \nL 2222 3500 \nL 2222 3053 \nL 1275 3053 \nL 1275 0 \nL 697 0 \nL 697 3053 \nL 147 3053 \nL 147 3500 \nL 697 3500 \nL 697 3744 \nQ 697 4328 969 4595 \nQ 1241 4863 1831 4863 \nL 2375 4863 \nz\n\" transform=\"scale(0.015625)\"/>\n       <path id=\"DejaVuSans-69\" d=\"M 603 3500 \nL 1178 3500 \nL 1178 0 \nL 603 0 \nL 603 3500 \nz\nM 603 4863 \nL 1178 4863 \nL 1178 4134 \nL 603 4134 \nL 603 4863 \nz\n\" transform=\"scale(0.015625)\"/>\n       <path id=\"DejaVuSans-64\" d=\"M 2906 2969 \nL 2906 4863 \nL 3481 4863 \nL 3481 0 \nL 2906 0 \nL 2906 525 \nQ 2725 213 2448 61 \nQ 2172 -91 1784 -91 \nQ 1150 -91 751 415 \nQ 353 922 353 1747 \nQ 353 2572 751 3078 \nQ 1150 3584 1784 3584 \nQ 2172 3584 2448 3432 \nQ 2725 3281 2906 2969 \nz\nM 947 1747 \nQ 947 1113 1208 752 \nQ 1469 391 1925 391 \nQ 2381 391 2643 752 \nQ 2906 1113 2906 1747 \nQ 2906 2381 2643 2742 \nQ 2381 3103 1925 3103 \nQ 1469 3103 1208 2742 \nQ 947 2381 947 1747 \nz\n\" transform=\"scale(0.015625)\"/>\n       <path id=\"DejaVuSans-65\" d=\"M 3597 1894 \nL 3597 1613 \nL 953 1613 \nQ 991 1019 1311 708 \nQ 1631 397 2203 397 \nQ 2534 397 2845 478 \nQ 3156 559 3463 722 \nL 3463 178 \nQ 3153 47 2828 -22 \nQ 2503 -91 2169 -91 \nQ 1331 -91 842 396 \nQ 353 884 353 1716 \nQ 353 2575 817 3079 \nQ 1281 3584 2069 3584 \nQ 2775 3584 3186 3129 \nQ 3597 2675 3597 1894 \nz\nM 3022 2063 \nQ 3016 2534 2758 2815 \nQ 2500 3097 2075 3097 \nQ 1594 3097 1305 2825 \nQ 1016 2553 972 2059 \nL 3022 2063 \nz\n\" transform=\"scale(0.015625)\"/>\n      </defs>\n      <use xlink:href=\"#DejaVuSans-43\"/>\n      <use xlink:href=\"#DejaVuSans-6f\" x=\"69.824219\"/>\n      <use xlink:href=\"#DejaVuSans-6e\" x=\"131.005859\"/>\n      <use xlink:href=\"#DejaVuSans-66\" x=\"194.384766\"/>\n      <use xlink:href=\"#DejaVuSans-69\" x=\"229.589844\"/>\n      <use xlink:href=\"#DejaVuSans-64\" x=\"257.373047\"/>\n      <use xlink:href=\"#DejaVuSans-65\" x=\"320.849609\"/>\n      <use xlink:href=\"#DejaVuSans-6e\" x=\"382.373047\"/>\n      <use xlink:href=\"#DejaVuSans-63\" x=\"445.751953\"/>\n      <use xlink:href=\"#DejaVuSans-65\" x=\"500.732422\"/>\n     </g>\n    </g>\n   </g>\n   <g id=\"matplotlib.axis_2\">\n    <g id=\"ytick_1\">\n     <g id=\"line2d_7\">\n      <path d=\"M 240.185455 49.758125 \nL 493.821818 49.758125 \n\" clip-path=\"url(#pd22406ce51)\" style=\"fill: none; stroke: #ffffff; stroke-linecap: round\"/>\n     </g>\n     <g id=\"text_9\">\n      <!-- truck -->\n      <g style=\"fill: #262626\" transform=\"translate(202.461861 53.937266) scale(0.11 -0.11)\">\n       <use xlink:href=\"#DejaVuSans-74\"/>\n       <use xlink:href=\"#DejaVuSans-72\" x=\"39.208984\"/>\n       <use xlink:href=\"#DejaVuSans-75\" x=\"80.322266\"/>\n       <use xlink:href=\"#DejaVuSans-63\" x=\"143.701172\"/>\n       <use xlink:href=\"#DejaVuSans-6b\" x=\"198.681641\"/>\n      </g>\n     </g>\n    </g>\n    <g id=\"ytick_2\">\n     <g id=\"line2d_8\">\n      <path d=\"M 240.185455 105.758125 \nL 493.821818 105.758125 \n\" clip-path=\"url(#pd22406ce51)\" style=\"fill: none; stroke: #ffffff; stroke-linecap: round\"/>\n     </g>\n     <g id=\"text_10\">\n      <!-- automobile -->\n      <g style=\"fill: #262626\" transform=\"translate(168.621392 109.937266) scale(0.11 -0.11)\">\n       <defs>\n        <path id=\"DejaVuSans-61\" d=\"M 2194 1759 \nQ 1497 1759 1228 1600 \nQ 959 1441 959 1056 \nQ 959 750 1161 570 \nQ 1363 391 1709 391 \nQ 2188 391 2477 730 \nQ 2766 1069 2766 1631 \nL 2766 1759 \nL 2194 1759 \nz\nM 3341 1997 \nL 3341 0 \nL 2766 0 \nL 2766 531 \nQ 2569 213 2275 61 \nQ 1981 -91 1556 -91 \nQ 1019 -91 701 211 \nQ 384 513 384 1019 \nQ 384 1609 779 1909 \nQ 1175 2209 1959 2209 \nL 2766 2209 \nL 2766 2266 \nQ 2766 2663 2505 2880 \nQ 2244 3097 1772 3097 \nQ 1472 3097 1187 3025 \nQ 903 2953 641 2809 \nL 641 3341 \nQ 956 3463 1253 3523 \nQ 1550 3584 1831 3584 \nQ 2591 3584 2966 3190 \nQ 3341 2797 3341 1997 \nz\n\" transform=\"scale(0.015625)\"/>\n        <path id=\"DejaVuSans-6d\" d=\"M 3328 2828 \nQ 3544 3216 3844 3400 \nQ 4144 3584 4550 3584 \nQ 5097 3584 5394 3201 \nQ 5691 2819 5691 2113 \nL 5691 0 \nL 5113 0 \nL 5113 2094 \nQ 5113 2597 4934 2840 \nQ 4756 3084 4391 3084 \nQ 3944 3084 3684 2787 \nQ 3425 2491 3425 1978 \nL 3425 0 \nL 2847 0 \nL 2847 2094 \nQ 2847 2600 2669 2842 \nQ 2491 3084 2119 3084 \nQ 1678 3084 1418 2786 \nQ 1159 2488 1159 1978 \nL 1159 0 \nL 581 0 \nL 581 3500 \nL 1159 3500 \nL 1159 2956 \nQ 1356 3278 1631 3431 \nQ 1906 3584 2284 3584 \nQ 2666 3584 2933 3390 \nQ 3200 3197 3328 2828 \nz\n\" transform=\"scale(0.015625)\"/>\n        <path id=\"DejaVuSans-62\" d=\"M 3116 1747 \nQ 3116 2381 2855 2742 \nQ 2594 3103 2138 3103 \nQ 1681 3103 1420 2742 \nQ 1159 2381 1159 1747 \nQ 1159 1113 1420 752 \nQ 1681 391 2138 391 \nQ 2594 391 2855 752 \nQ 3116 1113 3116 1747 \nz\nM 1159 2969 \nQ 1341 3281 1617 3432 \nQ 1894 3584 2278 3584 \nQ 2916 3584 3314 3078 \nQ 3713 2572 3713 1747 \nQ 3713 922 3314 415 \nQ 2916 -91 2278 -91 \nQ 1894 -91 1617 61 \nQ 1341 213 1159 525 \nL 1159 0 \nL 581 0 \nL 581 4863 \nL 1159 4863 \nL 1159 2969 \nz\n\" transform=\"scale(0.015625)\"/>\n        <path id=\"DejaVuSans-6c\" d=\"M 603 4863 \nL 1178 4863 \nL 1178 0 \nL 603 0 \nL 603 4863 \nz\n\" transform=\"scale(0.015625)\"/>\n       </defs>\n       <use xlink:href=\"#DejaVuSans-61\"/>\n       <use xlink:href=\"#DejaVuSans-75\" x=\"61.279297\"/>\n       <use xlink:href=\"#DejaVuSans-74\" x=\"124.658203\"/>\n       <use xlink:href=\"#DejaVuSans-6f\" x=\"163.867188\"/>\n       <use xlink:href=\"#DejaVuSans-6d\" x=\"225.048828\"/>\n       <use xlink:href=\"#DejaVuSans-6f\" x=\"322.460938\"/>\n       <use xlink:href=\"#DejaVuSans-62\" x=\"383.642578\"/>\n       <use xlink:href=\"#DejaVuSans-69\" x=\"447.119141\"/>\n       <use xlink:href=\"#DejaVuSans-6c\" x=\"474.902344\"/>\n       <use xlink:href=\"#DejaVuSans-65\" x=\"502.685547\"/>\n      </g>\n     </g>\n    </g>\n   </g>\n   <g id=\"patch_3\">\n    <path d=\"M 240.185455 27.358125 \nL 481.743896 27.358125 \nL 481.743896 72.158125 \nL 240.185455 72.158125 \nz\n\" clip-path=\"url(#pd22406ce51)\" style=\"fill: #55a868; stroke: #ffffff; stroke-linejoin: miter\"/>\n   </g>\n   <g id=\"patch_4\">\n    <path d=\"M 240.185455 83.358125 \nL 240.185455 83.358125 \nL 240.185455 128.158125 \nL 240.185455 128.158125 \nz\n\" clip-path=\"url(#pd22406ce51)\" style=\"fill: #4c72b0; stroke: #ffffff; stroke-linejoin: miter\"/>\n   </g>\n   <g id=\"patch_5\">\n    <path d=\"M 240.185455 133.198125 \nL 240.185455 22.318125 \n\" style=\"fill: none; stroke: #ffffff; stroke-width: 1.25; stroke-linejoin: miter; stroke-linecap: square\"/>\n   </g>\n   <g id=\"patch_6\">\n    <path d=\"M 493.821818 133.198125 \nL 493.821818 22.318125 \n\" style=\"fill: none; stroke: #ffffff; stroke-width: 1.25; stroke-linejoin: miter; stroke-linecap: square\"/>\n   </g>\n   <g id=\"patch_7\">\n    <path d=\"M 240.185455 133.198125 \nL 493.821818 133.198125 \n\" style=\"fill: none; stroke: #ffffff; stroke-width: 1.25; stroke-linejoin: miter; stroke-linecap: square\"/>\n   </g>\n   <g id=\"patch_8\">\n    <path d=\"M 240.185455 22.318125 \nL 493.821818 22.318125 \n\" style=\"fill: none; stroke: #ffffff; stroke-width: 1.25; stroke-linejoin: miter; stroke-linecap: square\"/>\n   </g>\n   <g id=\"text_11\">\n    <!-- Predictions -->\n    <g style=\"fill: #262626\" transform=\"translate(334.073949 16.318125) scale(0.12 -0.12)\">\n     <defs>\n      <path id=\"DejaVuSans-50\" d=\"M 1259 4147 \nL 1259 2394 \nL 2053 2394 \nQ 2494 2394 2734 2622 \nQ 2975 2850 2975 3272 \nQ 2975 3691 2734 3919 \nQ 2494 4147 2053 4147 \nL 1259 4147 \nz\nM 628 4666 \nL 2053 4666 \nQ 2838 4666 3239 4311 \nQ 3641 3956 3641 3272 \nQ 3641 2581 3239 2228 \nQ 2838 1875 2053 1875 \nL 1259 1875 \nL 1259 0 \nL 628 0 \nL 628 4666 \nz\n\" transform=\"scale(0.015625)\"/>\n      <path id=\"DejaVuSans-73\" d=\"M 2834 3397 \nL 2834 2853 \nQ 2591 2978 2328 3040 \nQ 2066 3103 1784 3103 \nQ 1356 3103 1142 2972 \nQ 928 2841 928 2578 \nQ 928 2378 1081 2264 \nQ 1234 2150 1697 2047 \nL 1894 2003 \nQ 2506 1872 2764 1633 \nQ 3022 1394 3022 966 \nQ 3022 478 2636 193 \nQ 2250 -91 1575 -91 \nQ 1294 -91 989 -36 \nQ 684 19 347 128 \nL 347 722 \nQ 666 556 975 473 \nQ 1284 391 1588 391 \nQ 1994 391 2212 530 \nQ 2431 669 2431 922 \nQ 2431 1156 2273 1281 \nQ 2116 1406 1581 1522 \nL 1381 1569 \nQ 847 1681 609 1914 \nQ 372 2147 372 2553 \nQ 372 3047 722 3315 \nQ 1072 3584 1716 3584 \nQ 2034 3584 2315 3537 \nQ 2597 3491 2834 3397 \nz\n\" transform=\"scale(0.015625)\"/>\n     </defs>\n     <use xlink:href=\"#DejaVuSans-50\"/>\n     <use xlink:href=\"#DejaVuSans-72\" x=\"58.552734\"/>\n     <use xlink:href=\"#DejaVuSans-65\" x=\"97.416016\"/>\n     <use xlink:href=\"#DejaVuSans-64\" x=\"158.939453\"/>\n     <use xlink:href=\"#DejaVuSans-69\" x=\"222.416016\"/>\n     <use xlink:href=\"#DejaVuSans-63\" x=\"250.199219\"/>\n     <use xlink:href=\"#DejaVuSans-74\" x=\"305.179688\"/>\n     <use xlink:href=\"#DejaVuSans-69\" x=\"344.388672\"/>\n     <use xlink:href=\"#DejaVuSans-6f\" x=\"372.171875\"/>\n     <use xlink:href=\"#DejaVuSans-6e\" x=\"433.353516\"/>\n     <use xlink:href=\"#DejaVuSans-73\" x=\"496.732422\"/>\n    </g>\n   </g>\n  </g>\n </g>\n <defs>\n  <clipPath id=\"p1707028bab\">\n   <rect x=\"7.2\" y=\"22.318125\" width=\"110.88\" height=\"110.88\"/>\n  </clipPath>\n  <clipPath id=\"pd22406ce51\">\n   <rect x=\"240.185455\" y=\"22.318125\" width=\"253.636364\" height=\"110.88\"/>\n  </clipPath>\n </defs>\n</svg>\n",
      "text/plain": [
       "<Figure size 1000x200 with 2 Axes>"
      ]
     },
     "metadata": {},
     "output_type": "display_data"
    },
    {
     "name": "stdout",
     "output_type": "stream",
     "text": [
      "tensor([5, 7], device='cuda:0')\n"
     ]
    },
    {
     "data": {
      "application/pdf": "[encoded data removed]",
      "image/svg+xml": "<?xml version=\"1.0\" encoding=\"utf-8\" standalone=\"no\"?>\n<!DOCTYPE svg PUBLIC \"-//W3C//DTD SVG 1.1//EN\"\n  \"http://www.w3.org/Graphics/SVG/1.1/DTD/svg11.dtd\">\n<svg xmlns:xlink=\"http://www.w3.org/1999/xlink\" width=\"501.021818pt\" height=\"176.157812pt\" viewBox=\"0 0 501.021818 176.157812\" xmlns=\"http://www.w3.org/2000/svg\" version=\"1.1\">\n <metadata>\n  <rdf:RDF xmlns:dc=\"http://purl.org/dc/elements/1.1/\" xmlns:cc=\"http://creativecommons.org/ns#\" xmlns:rdf=\"http://www.w3.org/1999/02/22-rdf-syntax-ns#\">\n   <cc:Work>\n    <dc:type rdf:resource=\"http://purl.org/dc/dcmitype/StillImage\"/>\n    <dc:date>2022-12-12T22:13:15.906470</dc:date>\n    <dc:format>image/svg+xml</dc:format>\n    <dc:creator>\n     <cc:Agent>\n      <dc:title>Matplotlib v3.6.0, https://matplotlib.org/</dc:title>\n     </cc:Agent>\n    </dc:creator>\n   </cc:Work>\n  </rdf:RDF>\n </metadata>\n <defs>\n  <style type=\"text/css\">*{stroke-linejoin: round; stroke-linecap: butt}</style>\n </defs>\n <g id=\"figure_1\">\n  <g id=\"patch_1\">\n   <path d=\"M 0 176.157812 \nL 501.021818 176.157812 \nL 501.021818 0 \nL 0 0 \nz\n\" style=\"fill: #ffffff\"/>\n  </g>\n  <g id=\"axes_1\">\n   <g clip-path=\"url(#p26e11ca29d)\">\n    <image xlink:href=\"data:image/png;base64,\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\" id=\"imagedeaaa7a03c\" transform=\"scale(1 -1) translate(0 -110.88)\" x=\"7.2\" y=\"-22.318125\" width=\"111.6\" height=\"110.88\"/>\n   </g>\n   <g id=\"text_1\">\n    <!-- dog -->\n    <g style=\"fill: #262626\" transform=\"translate(51.350625 16.318125) scale(0.12 -0.12)\">\n     <defs>\n      <path id=\"DejaVuSans-64\" d=\"M 2906 2969 \nL 2906 4863 \nL 3481 4863 \nL 3481 0 \nL 2906 0 \nL 2906 525 \nQ 2725 213 2448 61 \nQ 2172 -91 1784 -91 \nQ 1150 -91 751 415 \nQ 353 922 353 1747 \nQ 353 2572 751 3078 \nQ 1150 3584 1784 3584 \nQ 2172 3584 2448 3432 \nQ 2725 3281 2906 2969 \nz\nM 947 1747 \nQ 947 1113 1208 752 \nQ 1469 391 1925 391 \nQ 2381 391 2643 752 \nQ 2906 1113 2906 1747 \nQ 2906 2381 2643 2742 \nQ 2381 3103 1925 3103 \nQ 1469 3103 1208 2742 \nQ 947 2381 947 1747 \nz\n\" transform=\"scale(0.015625)\"/>\n      <path id=\"DejaVuSans-6f\" d=\"M 1959 3097 \nQ 1497 3097 1228 2736 \nQ 959 2375 959 1747 \nQ 959 1119 1226 758 \nQ 1494 397 1959 397 \nQ 2419 397 2687 759 \nQ 2956 1122 2956 1747 \nQ 2956 2369 2687 2733 \nQ 2419 3097 1959 3097 \nz\nM 1959 3584 \nQ 2709 3584 3137 3096 \nQ 3566 2609 3566 1747 \nQ 3566 888 3137 398 \nQ 2709 -91 1959 -91 \nQ 1206 -91 779 398 \nQ 353 888 353 1747 \nQ 353 2609 779 3096 \nQ 1206 3584 1959 3584 \nz\n\" transform=\"scale(0.015625)\"/>\n      <path id=\"DejaVuSans-67\" d=\"M 2906 1791 \nQ 2906 2416 2648 2759 \nQ 2391 3103 1925 3103 \nQ 1463 3103 1205 2759 \nQ 947 2416 947 1791 \nQ 947 1169 1205 825 \nQ 1463 481 1925 481 \nQ 2391 481 2648 825 \nQ 2906 1169 2906 1791 \nz\nM 3481 434 \nQ 3481 -459 3084 -895 \nQ 2688 -1331 1869 -1331 \nQ 1566 -1331 1297 -1286 \nQ 1028 -1241 775 -1147 \nL 775 -588 \nQ 1028 -725 1275 -790 \nQ 1522 -856 1778 -856 \nQ 2344 -856 2625 -561 \nQ 2906 -266 2906 331 \nL 2906 616 \nQ 2728 306 2450 153 \nQ 2172 0 1784 0 \nQ 1141 0 747 490 \nQ 353 981 353 1791 \nQ 353 2603 747 3093 \nQ 1141 3584 1784 3584 \nQ 2172 3584 2450 3431 \nQ 2728 3278 2906 2969 \nL 2906 3500 \nL 3481 3500 \nL 3481 434 \nz\n\" transform=\"scale(0.015625)\"/>\n     </defs>\n     <use xlink:href=\"#DejaVuSans-64\"/>\n     <use xlink:href=\"#DejaVuSans-6f\" x=\"63.476562\"/>\n     <use xlink:href=\"#DejaVuSans-67\" x=\"124.658203\"/>\n    </g>\n   </g>\n  </g>\n  <g id=\"axes_2\">\n   <g id=\"patch_2\">\n    <path d=\"M 240.185455 133.198125 \nL 493.821818 133.198125 \nL 493.821818 22.318125 \nL 240.185455 22.318125 \nz\n\" style=\"fill: #eaeaf2\"/>\n   </g>\n   <g id=\"matplotlib.axis_1\">\n    <g id=\"xtick_1\">\n     <g id=\"line2d_1\">\n      <path d=\"M 240.185455 133.198125 \nL 240.185455 22.318125 \n\" clip-path=\"url(#pdf9a55bb33)\" style=\"fill: none; stroke: #ffffff; stroke-linecap: round\"/>\n     </g>\n     <g id=\"text_2\">\n      <!-- 0 -->\n      <g style=\"fill: #262626\" transform=\"translate(236.68608 151.056406) scale(0.11 -0.11)\">\n       <defs>\n        <path id=\"DejaVuSans-30\" d=\"M 2034 4250 \nQ 1547 4250 1301 3770 \nQ 1056 3291 1056 2328 \nQ 1056 1369 1301 889 \nQ 1547 409 2034 409 \nQ 2525 409 2770 889 \nQ 3016 1369 3016 2328 \nQ 3016 3291 2770 3770 \nQ 2525 4250 2034 4250 \nz\nM 2034 4750 \nQ 2819 4750 3233 4129 \nQ 3647 3509 3647 2328 \nQ 3647 1150 3233 529 \nQ 2819 -91 2034 -91 \nQ 1250 -91 836 529 \nQ 422 1150 422 2328 \nQ 422 3509 836 4129 \nQ 1250 4750 2034 4750 \nz\n\" transform=\"scale(0.015625)\"/>\n       </defs>\n       <use xlink:href=\"#DejaVuSans-30\"/>\n      </g>\n     </g>\n    </g>\n    <g id=\"xtick_2\">\n     <g id=\"line2d_2\">\n      <path d=\"M 288.497154 133.198125 \nL 288.497154 22.318125 \n\" clip-path=\"url(#pdf9a55bb33)\" style=\"fill: none; stroke: #ffffff; stroke-linecap: round\"/>\n     </g>\n     <g id=\"text_3\">\n      <!-- 20 -->\n      <g style=\"fill: #262626\" transform=\"translate(281.498404 151.056406) scale(0.11 -0.11)\">\n       <defs>\n        <path id=\"DejaVuSans-32\" d=\"M 1228 531 \nL 3431 531 \nL 3431 0 \nL 469 0 \nL 469 531 \nQ 828 903 1448 1529 \nQ 2069 2156 2228 2338 \nQ 2531 2678 2651 2914 \nQ 2772 3150 2772 3378 \nQ 2772 3750 2511 3984 \nQ 2250 4219 1831 4219 \nQ 1534 4219 1204 4116 \nQ 875 4013 500 3803 \nL 500 4441 \nQ 881 4594 1212 4672 \nQ 1544 4750 1819 4750 \nQ 2544 4750 2975 4387 \nQ 3406 4025 3406 3419 \nQ 3406 3131 3298 2873 \nQ 3191 2616 2906 2266 \nQ 2828 2175 2409 1742 \nQ 1991 1309 1228 531 \nz\n\" transform=\"scale(0.015625)\"/>\n       </defs>\n       <use xlink:href=\"#DejaVuSans-32\"/>\n       <use xlink:href=\"#DejaVuSans-30\" x=\"63.623047\"/>\n      </g>\n     </g>\n    </g>\n    <g id=\"xtick_3\">\n     <g id=\"line2d_3\">\n      <path d=\"M 336.808853 133.198125 \nL 336.808853 22.318125 \n\" clip-path=\"url(#pdf9a55bb33)\" style=\"fill: none; stroke: #ffffff; stroke-linecap: round\"/>\n     </g>\n     <g id=\"text_4\">\n      <!-- 40 -->\n      <g style=\"fill: #262626\" transform=\"translate(329.810103 151.056406) scale(0.11 -0.11)\">\n       <defs>\n        <path id=\"DejaVuSans-34\" d=\"M 2419 4116 \nL 825 1625 \nL 2419 1625 \nL 2419 4116 \nz\nM 2253 4666 \nL 3047 4666 \nL 3047 1625 \nL 3713 1625 \nL 3713 1100 \nL 3047 1100 \nL 3047 0 \nL 2419 0 \nL 2419 1100 \nL 313 1100 \nL 313 1709 \nL 2253 4666 \nz\n\" transform=\"scale(0.015625)\"/>\n       </defs>\n       <use xlink:href=\"#DejaVuSans-34\"/>\n       <use xlink:href=\"#DejaVuSans-30\" x=\"63.623047\"/>\n      </g>\n     </g>\n    </g>\n    <g id=\"xtick_4\">\n     <g id=\"line2d_4\">\n      <path d=\"M 385.120553 133.198125 \nL 385.120553 22.318125 \n\" clip-path=\"url(#pdf9a55bb33)\" style=\"fill: none; stroke: #ffffff; stroke-linecap: round\"/>\n     </g>\n     <g id=\"text_5\">\n      <!-- 60 -->\n      <g style=\"fill: #262626\" transform=\"translate(378.121803 151.056406) scale(0.11 -0.11)\">\n       <defs>\n        <path id=\"DejaVuSans-36\" d=\"M 2113 2584 \nQ 1688 2584 1439 2293 \nQ 1191 2003 1191 1497 \nQ 1191 994 1439 701 \nQ 1688 409 2113 409 \nQ 2538 409 2786 701 \nQ 3034 994 3034 1497 \nQ 3034 2003 2786 2293 \nQ 2538 2584 2113 2584 \nz\nM 3366 4563 \nL 3366 3988 \nQ 3128 4100 2886 4159 \nQ 2644 4219 2406 4219 \nQ 1781 4219 1451 3797 \nQ 1122 3375 1075 2522 \nQ 1259 2794 1537 2939 \nQ 1816 3084 2150 3084 \nQ 2853 3084 3261 2657 \nQ 3669 2231 3669 1497 \nQ 3669 778 3244 343 \nQ 2819 -91 2113 -91 \nQ 1303 -91 875 529 \nQ 447 1150 447 2328 \nQ 447 3434 972 4092 \nQ 1497 4750 2381 4750 \nQ 2619 4750 2861 4703 \nQ 3103 4656 3366 4563 \nz\n\" transform=\"scale(0.015625)\"/>\n       </defs>\n       <use xlink:href=\"#DejaVuSans-36\"/>\n       <use xlink:href=\"#DejaVuSans-30\" x=\"63.623047\"/>\n      </g>\n     </g>\n    </g>\n    <g id=\"xtick_5\">\n     <g id=\"line2d_5\">\n      <path d=\"M 433.432252 133.198125 \nL 433.432252 22.318125 \n\" clip-path=\"url(#pdf9a55bb33)\" style=\"fill: none; stroke: #ffffff; stroke-linecap: round\"/>\n     </g>\n     <g id=\"text_6\">\n      <!-- 80 -->\n      <g style=\"fill: #262626\" transform=\"translate(426.433502 151.056406) scale(0.11 -0.11)\">\n       <defs>\n        <path id=\"DejaVuSans-38\" d=\"M 2034 2216 \nQ 1584 2216 1326 1975 \nQ 1069 1734 1069 1313 \nQ 1069 891 1326 650 \nQ 1584 409 2034 409 \nQ 2484 409 2743 651 \nQ 3003 894 3003 1313 \nQ 3003 1734 2745 1975 \nQ 2488 2216 2034 2216 \nz\nM 1403 2484 \nQ 997 2584 770 2862 \nQ 544 3141 544 3541 \nQ 544 4100 942 4425 \nQ 1341 4750 2034 4750 \nQ 2731 4750 3128 4425 \nQ 3525 4100 3525 3541 \nQ 3525 3141 3298 2862 \nQ 3072 2584 2669 2484 \nQ 3125 2378 3379 2068 \nQ 3634 1759 3634 1313 \nQ 3634 634 3220 271 \nQ 2806 -91 2034 -91 \nQ 1263 -91 848 271 \nQ 434 634 434 1313 \nQ 434 1759 690 2068 \nQ 947 2378 1403 2484 \nz\nM 1172 3481 \nQ 1172 3119 1398 2916 \nQ 1625 2713 2034 2713 \nQ 2441 2713 2670 2916 \nQ 2900 3119 2900 3481 \nQ 2900 3844 2670 4047 \nQ 2441 4250 2034 4250 \nQ 1625 4250 1398 4047 \nQ 1172 3844 1172 3481 \nz\n\" transform=\"scale(0.015625)\"/>\n       </defs>\n       <use xlink:href=\"#DejaVuSans-38\"/>\n       <use xlink:href=\"#DejaVuSans-30\" x=\"63.623047\"/>\n      </g>\n     </g>\n    </g>\n    <g id=\"xtick_6\">\n     <g id=\"line2d_6\">\n      <path d=\"M 481.743951 133.198125 \nL 481.743951 22.318125 \n\" clip-path=\"url(#pdf9a55bb33)\" style=\"fill: none; stroke: #ffffff; stroke-linecap: round\"/>\n     </g>\n     <g id=\"text_7\">\n      <!-- 100 -->\n      <g style=\"fill: #262626\" transform=\"translate(471.245826 151.056406) scale(0.11 -0.11)\">\n       <defs>\n        <path id=\"DejaVuSans-31\" d=\"M 794 531 \nL 1825 531 \nL 1825 4091 \nL 703 3866 \nL 703 4441 \nL 1819 4666 \nL 2450 4666 \nL 2450 531 \nL 3481 531 \nL 3481 0 \nL 794 0 \nL 794 531 \nz\n\" transform=\"scale(0.015625)\"/>\n       </defs>\n       <use xlink:href=\"#DejaVuSans-31\"/>\n       <use xlink:href=\"#DejaVuSans-30\" x=\"63.623047\"/>\n       <use xlink:href=\"#DejaVuSans-30\" x=\"127.246094\"/>\n      </g>\n     </g>\n    </g>\n    <g id=\"text_8\">\n     <!-- Confidence -->\n     <g style=\"fill: #262626\" transform=\"translate(333.266761 166.462187) scale(0.12 -0.12)\">\n      <defs>\n       <path id=\"DejaVuSans-43\" d=\"M 4122 4306 \nL 4122 3641 \nQ 3803 3938 3442 4084 \nQ 3081 4231 2675 4231 \nQ 1875 4231 1450 3742 \nQ 1025 3253 1025 2328 \nQ 1025 1406 1450 917 \nQ 1875 428 2675 428 \nQ 3081 428 3442 575 \nQ 3803 722 4122 1019 \nL 4122 359 \nQ 3791 134 3420 21 \nQ 3050 -91 2638 -91 \nQ 1578 -91 968 557 \nQ 359 1206 359 2328 \nQ 359 3453 968 4101 \nQ 1578 4750 2638 4750 \nQ 3056 4750 3426 4639 \nQ 3797 4528 4122 4306 \nz\n\" transform=\"scale(0.015625)\"/>\n       <path id=\"DejaVuSans-6e\" d=\"M 3513 2113 \nL 3513 0 \nL 2938 0 \nL 2938 2094 \nQ 2938 2591 2744 2837 \nQ 2550 3084 2163 3084 \nQ 1697 3084 1428 2787 \nQ 1159 2491 1159 1978 \nL 1159 0 \nL 581 0 \nL 581 3500 \nL 1159 3500 \nL 1159 2956 \nQ 1366 3272 1645 3428 \nQ 1925 3584 2291 3584 \nQ 2894 3584 3203 3211 \nQ 3513 2838 3513 2113 \nz\n\" transform=\"scale(0.015625)\"/>\n       <path id=\"DejaVuSans-66\" d=\"M 2375 4863 \nL 2375 4384 \nL 1825 4384 \nQ 1516 4384 1395 4259 \nQ 1275 4134 1275 3809 \nL 1275 3500 \nL 2222 3500 \nL 2222 3053 \nL 1275 3053 \nL 1275 0 \nL 697 0 \nL 697 3053 \nL 147 3053 \nL 147 3500 \nL 697 3500 \nL 697 3744 \nQ 697 4328 969 4595 \nQ 1241 4863 1831 4863 \nL 2375 4863 \nz\n\" transform=\"scale(0.015625)\"/>\n       <path id=\"DejaVuSans-69\" d=\"M 603 3500 \nL 1178 3500 \nL 1178 0 \nL 603 0 \nL 603 3500 \nz\nM 603 4863 \nL 1178 4863 \nL 1178 4134 \nL 603 4134 \nL 603 4863 \nz\n\" transform=\"scale(0.015625)\"/>\n       <path id=\"DejaVuSans-65\" d=\"M 3597 1894 \nL 3597 1613 \nL 953 1613 \nQ 991 1019 1311 708 \nQ 1631 397 2203 397 \nQ 2534 397 2845 478 \nQ 3156 559 3463 722 \nL 3463 178 \nQ 3153 47 2828 -22 \nQ 2503 -91 2169 -91 \nQ 1331 -91 842 396 \nQ 353 884 353 1716 \nQ 353 2575 817 3079 \nQ 1281 3584 2069 3584 \nQ 2775 3584 3186 3129 \nQ 3597 2675 3597 1894 \nz\nM 3022 2063 \nQ 3016 2534 2758 2815 \nQ 2500 3097 2075 3097 \nQ 1594 3097 1305 2825 \nQ 1016 2553 972 2059 \nL 3022 2063 \nz\n\" transform=\"scale(0.015625)\"/>\n       <path id=\"DejaVuSans-63\" d=\"M 3122 3366 \nL 3122 2828 \nQ 2878 2963 2633 3030 \nQ 2388 3097 2138 3097 \nQ 1578 3097 1268 2742 \nQ 959 2388 959 1747 \nQ 959 1106 1268 751 \nQ 1578 397 2138 397 \nQ 2388 397 2633 464 \nQ 2878 531 3122 666 \nL 3122 134 \nQ 2881 22 2623 -34 \nQ 2366 -91 2075 -91 \nQ 1284 -91 818 406 \nQ 353 903 353 1747 \nQ 353 2603 823 3093 \nQ 1294 3584 2113 3584 \nQ 2378 3584 2631 3529 \nQ 2884 3475 3122 3366 \nz\n\" transform=\"scale(0.015625)\"/>\n      </defs>\n      <use xlink:href=\"#DejaVuSans-43\"/>\n      <use xlink:href=\"#DejaVuSans-6f\" x=\"69.824219\"/>\n      <use xlink:href=\"#DejaVuSans-6e\" x=\"131.005859\"/>\n      <use xlink:href=\"#DejaVuSans-66\" x=\"194.384766\"/>\n      <use xlink:href=\"#DejaVuSans-69\" x=\"229.589844\"/>\n      <use xlink:href=\"#DejaVuSans-64\" x=\"257.373047\"/>\n      <use xlink:href=\"#DejaVuSans-65\" x=\"320.849609\"/>\n      <use xlink:href=\"#DejaVuSans-6e\" x=\"382.373047\"/>\n      <use xlink:href=\"#DejaVuSans-63\" x=\"445.751953\"/>\n      <use xlink:href=\"#DejaVuSans-65\" x=\"500.732422\"/>\n     </g>\n    </g>\n   </g>\n   <g id=\"matplotlib.axis_2\">\n    <g id=\"ytick_1\">\n     <g id=\"line2d_7\">\n      <path d=\"M 240.185455 49.758125 \nL 493.821818 49.758125 \n\" clip-path=\"url(#pdf9a55bb33)\" style=\"fill: none; stroke: #ffffff; stroke-linecap: round\"/>\n     </g>\n     <g id=\"text_9\">\n      <!-- dog -->\n      <g style=\"fill: #262626\" transform=\"translate(209.988267 53.937266) scale(0.11 -0.11)\">\n       <use xlink:href=\"#DejaVuSans-64\"/>\n       <use xlink:href=\"#DejaVuSans-6f\" x=\"63.476562\"/>\n       <use xlink:href=\"#DejaVuSans-67\" x=\"124.658203\"/>\n      </g>\n     </g>\n    </g>\n    <g id=\"ytick_2\">\n     <g id=\"line2d_8\">\n      <path d=\"M 240.185455 105.758125 \nL 493.821818 105.758125 \n\" clip-path=\"url(#pdf9a55bb33)\" style=\"fill: none; stroke: #ffffff; stroke-linecap: round\"/>\n     </g>\n     <g id=\"text_10\">\n      <!-- horse -->\n      <g style=\"fill: #262626\" transform=\"translate(199.962798 109.937266) scale(0.11 -0.11)\">\n       <defs>\n        <path id=\"DejaVuSans-68\" d=\"M 3513 2113 \nL 3513 0 \nL 2938 0 \nL 2938 2094 \nQ 2938 2591 2744 2837 \nQ 2550 3084 2163 3084 \nQ 1697 3084 1428 2787 \nQ 1159 2491 1159 1978 \nL 1159 0 \nL 581 0 \nL 581 4863 \nL 1159 4863 \nL 1159 2956 \nQ 1366 3272 1645 3428 \nQ 1925 3584 2291 3584 \nQ 2894 3584 3203 3211 \nQ 3513 2838 3513 2113 \nz\n\" transform=\"scale(0.015625)\"/>\n        <path id=\"DejaVuSans-72\" d=\"M 2631 2963 \nQ 2534 3019 2420 3045 \nQ 2306 3072 2169 3072 \nQ 1681 3072 1420 2755 \nQ 1159 2438 1159 1844 \nL 1159 0 \nL 581 0 \nL 581 3500 \nL 1159 3500 \nL 1159 2956 \nQ 1341 3275 1631 3429 \nQ 1922 3584 2338 3584 \nQ 2397 3584 2469 3576 \nQ 2541 3569 2628 3553 \nL 2631 2963 \nz\n\" transform=\"scale(0.015625)\"/>\n        <path id=\"DejaVuSans-73\" d=\"M 2834 3397 \nL 2834 2853 \nQ 2591 2978 2328 3040 \nQ 2066 3103 1784 3103 \nQ 1356 3103 1142 2972 \nQ 928 2841 928 2578 \nQ 928 2378 1081 2264 \nQ 1234 2150 1697 2047 \nL 1894 2003 \nQ 2506 1872 2764 1633 \nQ 3022 1394 3022 966 \nQ 3022 478 2636 193 \nQ 2250 -91 1575 -91 \nQ 1294 -91 989 -36 \nQ 684 19 347 128 \nL 347 722 \nQ 666 556 975 473 \nQ 1284 391 1588 391 \nQ 1994 391 2212 530 \nQ 2431 669 2431 922 \nQ 2431 1156 2273 1281 \nQ 2116 1406 1581 1522 \nL 1381 1569 \nQ 847 1681 609 1914 \nQ 372 2147 372 2553 \nQ 372 3047 722 3315 \nQ 1072 3584 1716 3584 \nQ 2034 3584 2315 3537 \nQ 2597 3491 2834 3397 \nz\n\" transform=\"scale(0.015625)\"/>\n       </defs>\n       <use xlink:href=\"#DejaVuSans-68\"/>\n       <use xlink:href=\"#DejaVuSans-6f\" x=\"63.378906\"/>\n       <use xlink:href=\"#DejaVuSans-72\" x=\"124.560547\"/>\n       <use xlink:href=\"#DejaVuSans-73\" x=\"165.673828\"/>\n       <use xlink:href=\"#DejaVuSans-65\" x=\"217.773438\"/>\n      </g>\n     </g>\n    </g>\n   </g>\n   <g id=\"patch_3\">\n    <path d=\"M 240.185455 27.358125 \nL 481.743896 27.358125 \nL 481.743896 72.158125 \nL 240.185455 72.158125 \nz\n\" clip-path=\"url(#pdf9a55bb33)\" style=\"fill: #55a868; stroke: #ffffff; stroke-linejoin: miter\"/>\n   </g>\n   <g id=\"patch_4\">\n    <path d=\"M 240.185455 83.358125 \nL 240.185512 83.358125 \nL 240.185512 128.158125 \nL 240.185455 128.158125 \nz\n\" clip-path=\"url(#pdf9a55bb33)\" style=\"fill: #4c72b0; stroke: #ffffff; stroke-linejoin: miter\"/>\n   </g>\n   <g id=\"patch_5\">\n    <path d=\"M 240.185455 133.198125 \nL 240.185455 22.318125 \n\" style=\"fill: none; stroke: #ffffff; stroke-width: 1.25; stroke-linejoin: miter; stroke-linecap: square\"/>\n   </g>\n   <g id=\"patch_6\">\n    <path d=\"M 493.821818 133.198125 \nL 493.821818 22.318125 \n\" style=\"fill: none; stroke: #ffffff; stroke-width: 1.25; stroke-linejoin: miter; stroke-linecap: square\"/>\n   </g>\n   <g id=\"patch_7\">\n    <path d=\"M 240.185455 133.198125 \nL 493.821818 133.198125 \n\" style=\"fill: none; stroke: #ffffff; stroke-width: 1.25; stroke-linejoin: miter; stroke-linecap: square\"/>\n   </g>\n   <g id=\"patch_8\">\n    <path d=\"M 240.185455 22.318125 \nL 493.821818 22.318125 \n\" style=\"fill: none; stroke: #ffffff; stroke-width: 1.25; stroke-linejoin: miter; stroke-linecap: square\"/>\n   </g>\n   <g id=\"text_11\">\n    <!-- Predictions -->\n    <g style=\"fill: #262626\" transform=\"translate(334.073949 16.318125) scale(0.12 -0.12)\">\n     <defs>\n      <path id=\"DejaVuSans-50\" d=\"M 1259 4147 \nL 1259 2394 \nL 2053 2394 \nQ 2494 2394 2734 2622 \nQ 2975 2850 2975 3272 \nQ 2975 3691 2734 3919 \nQ 2494 4147 2053 4147 \nL 1259 4147 \nz\nM 628 4666 \nL 2053 4666 \nQ 2838 4666 3239 4311 \nQ 3641 3956 3641 3272 \nQ 3641 2581 3239 2228 \nQ 2838 1875 2053 1875 \nL 1259 1875 \nL 1259 0 \nL 628 0 \nL 628 4666 \nz\n\" transform=\"scale(0.015625)\"/>\n      <path id=\"DejaVuSans-74\" d=\"M 1172 4494 \nL 1172 3500 \nL 2356 3500 \nL 2356 3053 \nL 1172 3053 \nL 1172 1153 \nQ 1172 725 1289 603 \nQ 1406 481 1766 481 \nL 2356 481 \nL 2356 0 \nL 1766 0 \nQ 1100 0 847 248 \nQ 594 497 594 1153 \nL 594 3053 \nL 172 3053 \nL 172 3500 \nL 594 3500 \nL 594 4494 \nL 1172 4494 \nz\n\" transform=\"scale(0.015625)\"/>\n     </defs>\n     <use xlink:href=\"#DejaVuSans-50\"/>\n     <use xlink:href=\"#DejaVuSans-72\" x=\"58.552734\"/>\n     <use xlink:href=\"#DejaVuSans-65\" x=\"97.416016\"/>\n     <use xlink:href=\"#DejaVuSans-64\" x=\"158.939453\"/>\n     <use xlink:href=\"#DejaVuSans-69\" x=\"222.416016\"/>\n     <use xlink:href=\"#DejaVuSans-63\" x=\"250.199219\"/>\n     <use xlink:href=\"#DejaVuSans-74\" x=\"305.179688\"/>\n     <use xlink:href=\"#DejaVuSans-69\" x=\"344.388672\"/>\n     <use xlink:href=\"#DejaVuSans-6f\" x=\"372.171875\"/>\n     <use xlink:href=\"#DejaVuSans-6e\" x=\"433.353516\"/>\n     <use xlink:href=\"#DejaVuSans-73\" x=\"496.732422\"/>\n    </g>\n   </g>\n  </g>\n </g>\n <defs>\n  <clipPath id=\"p26e11ca29d\">\n   <rect x=\"7.2\" y=\"22.318125\" width=\"110.88\" height=\"110.88\"/>\n  </clipPath>\n  <clipPath id=\"pdf9a55bb33\">\n   <rect x=\"240.185455\" y=\"22.318125\" width=\"253.636364\" height=\"110.88\"/>\n  </clipPath>\n </defs>\n</svg>\n",
      "text/plain": [
       "<Figure size 1000x200 with 2 Axes>"
      ]
     },
     "metadata": {},
     "output_type": "display_data"
    }
   ],
   "source": [
    "# visualize some predictions of the model\n",
    "exmp_batch, label_batch = next(iter(test_data_loader))\n",
    "with torch.no_grad():\n",
    "    preds = pretrained_model(exmp_batch.to(device))\n",
    "\n",
    "for i in range(1, 17, 5):\n",
    "    show_prediction(exmp_batch[i], label_batch[i], preds[i])"
   ]
  },
  {
   "attachments": {},
   "cell_type": "markdown",
   "metadata": {
    "id": "NfgvMq4Focby"
   },
   "source": [
    "### Adversarial Patches\n",
    "\n",
    "Create an image patch to cover an area of the original image for a targetted patch attack. This image patch will cause the model to predict a specific classs using [Tom Brown et al.](https://arxiv.org/pdf/1712.09665.pdf) to learn this adversarial image patch and cause the network prediction to change. \n",
    "\n",
    "To train patch: \n",
    "1. Calculate input gradient by replacing part of input image with patch and calculate just the patch gradient\n",
    "2. Train patch with SGD so that pretrained model predicts a specific class \n",
    "\n",
    "\n",
    "Unlike [Brown et al.](https://arxiv.org/pdf/1712.09665.pdf), we did not randomly rotate or scale the patch during training before palcing it at a random place in the input image. We wonly randomly placed a patch on the image. \n",
    "\n",
    "Patch is an `nn.Parameter` with values in range $-\\infty$ and $\\infty$, but images are limited to range of CIFAR-10, so patch_forward function limits the range."
   ]
  },
  {
   "cell_type": "code",
   "execution_count": 9,
   "metadata": {},
   "outputs": [],
   "source": [
    "TENSOR_MEANS, TENSOR_STD = (\n",
    "    torch.FloatTensor(NORM_MEAN)[:, None, None],\n",
    "    torch.FloatTensor(NORM_STD)[:, None, None],\n",
    ")\n",
    "\n",
    "\n",
    "def patch_forward(patch):\n",
    "    # map patch values from [-infty,infty] to ImageNet min and max\n",
    "    patch = (torch.tanh(patch) + 1 - 2 * TENSOR_MEANS) / (2 * TENSOR_STD)\n",
    "    return patch"
   ]
  },
  {
   "cell_type": "code",
   "execution_count": 10,
   "metadata": {
    "id": "BU6tbkCmocby"
   },
   "outputs": [],
   "source": [
    "# randomly place a patch on the image\n",
    "def place_patch(img, patch):\n",
    "    for i in range(img.shape[0]):\n",
    "        h_offset = np.random.randint(0, img.shape[2] - patch.shape[1] - 1)\n",
    "        w_offset = np.random.randint(0, img.shape[3] - patch.shape[2] - 1)\n",
    "        img[\n",
    "            i,\n",
    "            :,\n",
    "            h_offset : h_offset + patch.shape[1],\n",
    "            w_offset : w_offset + patch.shape[2],\n",
    "        ] = patch_forward(patch)\n",
    "    return img"
   ]
  },
  {
   "attachments": {},
   "cell_type": "markdown",
   "metadata": {
    "id": "UP2XhwPKocbz"
   },
   "source": [
    "Create eval_patch to evaluate success of a patch by how many time it can fool the network into predicting target class."
   ]
  },
  {
   "cell_type": "code",
   "execution_count": 11,
   "metadata": {
    "id": "YpjUc1rfocbz"
   },
   "outputs": [],
   "source": [
    "# evaluate the patch on the validation set\n",
    "def eval_patch(model, patch, val_loader, target_class):\n",
    "    model.eval()\n",
    "    tp, counter = 0.0, 0.0\n",
    "    with torch.no_grad():\n",
    "        for img, img_labels in tqdm(val_loader, desc=\"Validating...\", leave=False):\n",
    "            # place the patch at 4 random locations per image, and average the performance\n",
    "            for _ in range(4):\n",
    "                patch_img = place_patch(img, patch)\n",
    "                patch_img = patch_img.to(device)\n",
    "                img_labels = img_labels.to(device)\n",
    "                pred = model(patch_img)\n",
    "                # exclude the images that are of our target class since we would not \"fool\" the model into\n",
    "                # predicting those\n",
    "                tp += torch.logical_and(\n",
    "                    pred.argmax(dim=-1) == target_class, img_labels != target_class\n",
    "                ).sum()\n",
    "                counter += (img_labels != target_class).sum()\n",
    "    acc = tp / counter\n",
    "    return acc"
   ]
  },
  {
   "cell_type": "code",
   "execution_count": 12,
   "metadata": {},
   "outputs": [],
   "source": [
    "# eval_patch for untargeted attack\n",
    "def eval_patch_untargeted(model, patch, val_loader):\n",
    "    model.eval()\n",
    "    tp, counter = 0.0, 0.0\n",
    "    with torch.no_grad():\n",
    "        for img, img_labels in tqdm(val_loader, desc=\"Validating...\", leave=False):\n",
    "            # For stability, place the patch at 4 random locations per image, and average the performance\n",
    "            for _ in range(4):\n",
    "                patch_img = place_patch(img, patch)\n",
    "                patch_img = patch_img.to(device)\n",
    "                img_labels = img_labels.to(device)\n",
    "                pred = model(patch_img)\n",
    "                # In the accuracy calculation, we need to exclude the images that are of our target class\n",
    "                # as we would not \"fool\" the model into predicting those\n",
    "                tp += torch.logical_and(\n",
    "                    pred.argmax(dim=-1) != img_labels\n",
    "                ).sum()\n",
    "                counter += (img_labels).sum()\n",
    "    acc = tp / counter\n",
    "    return acc"
   ]
  },
  {
   "attachments": {},
   "cell_type": "markdown",
   "metadata": {
    "id": "x-Ui7du6ocbz"
   },
   "source": [
    "Create targeted patch_attack function which trains the patch_attack provided a model, class for patch to predict, and patch size (number of pixels) using SGD optimizer with momentum to minimize the classification loss of the model given the patch in the image. Patch will look more like class over the iterations."
   ]
  },
  {
   "cell_type": "code",
   "execution_count": 13,
   "metadata": {
    "id": "NLdojBB2ocbz"
   },
   "outputs": [],
   "source": [
    "# targeted patch attack\n",
    "def patch_attack(model, target_class, patch_size=16, num_epochs=5):\n",
    "    # create dataset and dataloader for train and validation\n",
    "    train_set = dataset\n",
    "    val_set = test_dataset\n",
    "    train_loader = data.DataLoader(\n",
    "        train_set, batch_size=128, shuffle=True, drop_last=True, num_workers=8\n",
    "    )\n",
    "    val_loader = data.DataLoader(\n",
    "        val_set, batch_size=128, shuffle=False, drop_last=False, num_workers=4\n",
    "    )\n",
    "\n",
    "    # create patch and optimizer\n",
    "    if not isinstance(patch_size, tuple):\n",
    "        patch_size = (patch_size, patch_size)\n",
    "    patch = nn.Parameter(\n",
    "        torch.zeros(3, patch_size[0], patch_size[1]), requires_grad=True\n",
    "    )\n",
    "    optimizer = torch.optim.SGD([patch], lr=1e-1, momentum=0.8)\n",
    "    loss_module = nn.CrossEntropyLoss()\n",
    "\n",
    "    # train the patch\n",
    "    for epoch in range(num_epochs):\n",
    "        t = tqdm(train_loader, leave=False)\n",
    "        for img, _ in t:\n",
    "            img = place_patch(img, patch)\n",
    "            img = img.to(device)\n",
    "            pred = model(img)\n",
    "            labels = torch.zeros(\n",
    "                img.shape[0], device=pred.device, dtype=torch.long\n",
    "            ).fill_(target_class)\n",
    "            loss = loss_module(pred, labels)\n",
    "            optimizer.zero_grad()\n",
    "            loss.mean().backward()\n",
    "            optimizer.step()\n",
    "            t.set_description(f\"Epoch {epoch}, Loss: {loss.item():4.2f}\")\n",
    "\n",
    "    # evaluate the patch\n",
    "    acc = eval_patch(model, patch, val_loader, target_class)\n",
    "\n",
    "    return patch.data, {\"acc\": acc.item()}"
   ]
  },
  {
   "cell_type": "code",
   "execution_count": 14,
   "metadata": {},
   "outputs": [],
   "source": [
    "# function for untargeted patch attack, don't have to specify target class\n",
    "def patch_attack_untargeted(model, patch_size=16, num_epochs=5):\n",
    "    train_set = dataset\n",
    "    val_set = test_dataset\n",
    "    train_loader = data.DataLoader(\n",
    "        train_set, batch_size=128, shuffle=True, drop_last=True, num_workers=8\n",
    "    )\n",
    "    val_loader = data.DataLoader(\n",
    "        val_set, batch_size=128, shuffle=False, drop_last=False, num_workers=4\n",
    "    )\n",
    "    # create patch and optimizer\n",
    "    if not isinstance(patch_size, tuple):\n",
    "        patch_size = (patch_size, patch_size)\n",
    "    patch = nn.Parameter(\n",
    "        torch.zeros(3, patch_size[0], patch_size[1]), requires_grad=True\n",
    "    )\n",
    "    optimizer = torch.optim.SGD([patch], lr=1e-1, momentum=0.8)\n",
    "    loss_module = nn.CrossEntropyLoss()\n",
    "    \n",
    "    # train the patch\n",
    "    for epoch in range(num_epochs):\n",
    "        t = tqdm(train_loader, leave=False)\n",
    "        for img, img_labels in t:\n",
    "            img = place_patch(img, patch)\n",
    "            img = img.to(device)\n",
    "            pred = model(img)\n",
    "            labels = img_labels.to(device)\n",
    "            loss = loss_module(pred, labels)\n",
    "            optimizer.zero_grad()\n",
    "            loss.mean().backward()\n",
    "            optimizer.step()\n",
    "            t.set_description(f\"Epoch {epoch}, Loss: {loss.item():4.2f}\")\n",
    "\n",
    "    # evaluate the patch\n",
    "    acc = eval_patch(model, patch, val_loader)"
   ]
  },
  {
   "attachments": {},
   "cell_type": "markdown",
   "metadata": {
    "id": "Y63bNeziocbz"
   },
   "source": [
    "Save pre-trained patches and results in JSON file. "
   ]
  },
  {
   "cell_type": "code",
   "execution_count": 15,
   "metadata": {
    "id": "QXSIzNWsocbz"
   },
   "outputs": [],
   "source": [
    "# save the patch for later use\n",
    "json_results_file = os.path.join(CHECKPOINT_PATH, \"patch_results.json\")\n",
    "json_results = {}\n",
    "if os.path.isfile(json_results_file):\n",
    "    with open(json_results_file, \"r\") as f:\n",
    "        json_results = json.load(f)\n",
    "\n",
    "def save_results(patch_dict):\n",
    "    result_dict = {\n",
    "        cname: {\n",
    "            psize: [\n",
    "                t.item() if isinstance(t, torch.Tensor) else t\n",
    "                for t in patch_dict[cname][psize][\"results\"]\n",
    "            ]\n",
    "            for psize in patch_dict[cname]\n",
    "        }\n",
    "        for cname in patch_dict\n",
    "    }\n",
    "    with open(os.path.join(CHECKPOINT_PATH, \"patch_results.json\"), \"w\") as f:\n",
    "        json.dump(result_dict, f, indent=4)"
   ]
  },
  {
   "attachments": {},
   "cell_type": "markdown",
   "metadata": {
    "id": "HT2Zj9uUocbz"
   },
   "source": [
    "Create get_patches function to train and evaluate patches for all 10 classes in CIFAR10 on patch sizes $3\\times3$ pixels, $5\\times5$ pixels, $7\\times7$ pixels, and $16\\times16$ pixels."
   ]
  },
  {
   "cell_type": "code",
   "execution_count": 17,
   "metadata": {},
   "outputs": [
    {
     "data": {
      "text/plain": [
       "'../saved_models/ship_3_patch.pt'"
      ]
     },
     "execution_count": 17,
     "metadata": {},
     "output_type": "execute_result"
    }
   ],
   "source": [
    "os.path.join(CHECKPOINT_PATH, f\"{'ship'}_{3}_patch.pt\")"
   ]
  },
  {
   "cell_type": "code",
   "execution_count": 18,
   "metadata": {
    "id": "2hRC25Vvocbz"
   },
   "outputs": [],
   "source": [
    "def get_patches(class_names, patch_sizes):\n",
    "    result_dict = dict()\n",
    "    # load pretrained model for the target class\n",
    "    for name in class_names:\n",
    "        result_dict[name] = dict()\n",
    "        for patch_size in patch_sizes:\n",
    "            c = label_names.index(name)\n",
    "            file_name = os.path.join(CHECKPOINT_PATH, f\"{name}_{patch_size}_patch.pt\")\n",
    "            # load patch if exist, otherwise train the patch\n",
    "            if not os.path.isfile(file_name):\n",
    "                patch, val_results = patch_attack(\n",
    "                    pretrained_model,\n",
    "                    target_class=c,\n",
    "                    patch_size=patch_size,\n",
    "                    num_epochs=5,\n",
    "                )\n",
    "                print(f\"Validation results for {name} and {patch_size}:\", val_results)\n",
    "                torch.save(patch, file_name)\n",
    "            else:\n",
    "                patch = torch.load(file_name)\n",
    "            # evaluate the patch if not evaluated before\n",
    "            if name in json_results:\n",
    "                results = json_results[name][str(patch_size)]\n",
    "            else:\n",
    "\n",
    "                results = eval_patch(\n",
    "                    pretrained_model, patch, test_data_loader, target_class=c\n",
    "                )\n",
    "\n",
    "            # save the results\n",
    "            result_dict[name][patch_size] = {\"results\": results, \"patch\": patch}\n",
    "\n",
    "    return result_dict"
   ]
  },
  {
   "cell_type": "code",
   "execution_count": 19,
   "metadata": {
    "id": "fjh8NVD6ocbz"
   },
   "outputs": [
    {
     "data": {
      "application/vnd.jupyter.widget-view+json": {
       "model_id": "0508d24e13f04a3894c818861ec20085",
       "version_major": 2,
       "version_minor": 0
      },
      "text/plain": [
       "Validating...:   0%|          | 0/79 [00:00<?, ?it/s]"
      ]
     },
     "metadata": {},
     "output_type": "display_data"
    },
    {
     "data": {
      "application/vnd.jupyter.widget-view+json": {
       "model_id": "5b4e74983b554b88a3b433f337b87655",
       "version_major": 2,
       "version_minor": 0
      },
      "text/plain": [
       "Validating...:   0%|          | 0/79 [00:00<?, ?it/s]"
      ]
     },
     "metadata": {},
     "output_type": "display_data"
    },
    {
     "data": {
      "application/vnd.jupyter.widget-view+json": {
       "model_id": "a197ce722c6f401789d8572fcf7f93ba",
       "version_major": 2,
       "version_minor": 0
      },
      "text/plain": [
       "Validating...:   0%|          | 0/79 [00:00<?, ?it/s]"
      ]
     },
     "metadata": {},
     "output_type": "display_data"
    },
    {
     "data": {
      "application/vnd.jupyter.widget-view+json": {
       "model_id": "2588533a27ef48ce84105e9f37cbc189",
       "version_major": 2,
       "version_minor": 0
      },
      "text/plain": [
       "Validating...:   0%|          | 0/79 [00:00<?, ?it/s]"
      ]
     },
     "metadata": {},
     "output_type": "display_data"
    },
    {
     "data": {
      "application/vnd.jupyter.widget-view+json": {
       "model_id": "72eac8c4d616459ab256f8d3ef900305",
       "version_major": 2,
       "version_minor": 0
      },
      "text/plain": [
       "Validating...:   0%|          | 0/79 [00:00<?, ?it/s]"
      ]
     },
     "metadata": {},
     "output_type": "display_data"
    },
    {
     "data": {
      "application/vnd.jupyter.widget-view+json": {
       "model_id": "ca12176759cf4a47b60f61e0497754d2",
       "version_major": 2,
       "version_minor": 0
      },
      "text/plain": [
       "Validating...:   0%|          | 0/79 [00:00<?, ?it/s]"
      ]
     },
     "metadata": {},
     "output_type": "display_data"
    },
    {
     "data": {
      "application/vnd.jupyter.widget-view+json": {
       "model_id": "421f5369a612412198d072d6a7e245e1",
       "version_major": 2,
       "version_minor": 0
      },
      "text/plain": [
       "Validating...:   0%|          | 0/79 [00:00<?, ?it/s]"
      ]
     },
     "metadata": {},
     "output_type": "display_data"
    },
    {
     "data": {
      "application/vnd.jupyter.widget-view+json": {
       "model_id": "d6cb004071bc4cb99d2c01ad3bbea847",
       "version_major": 2,
       "version_minor": 0
      },
      "text/plain": [
       "Validating...:   0%|          | 0/79 [00:00<?, ?it/s]"
      ]
     },
     "metadata": {},
     "output_type": "display_data"
    },
    {
     "data": {
      "application/vnd.jupyter.widget-view+json": {
       "model_id": "365b92f7bea84841881f30fe808b5d6f",
       "version_major": 2,
       "version_minor": 0
      },
      "text/plain": [
       "Validating...:   0%|          | 0/79 [00:00<?, ?it/s]"
      ]
     },
     "metadata": {},
     "output_type": "display_data"
    },
    {
     "data": {
      "application/vnd.jupyter.widget-view+json": {
       "model_id": "c62c7e1059674c68b253b1a92d9276b5",
       "version_major": 2,
       "version_minor": 0
      },
      "text/plain": [
       "Validating...:   0%|          | 0/79 [00:00<?, ?it/s]"
      ]
     },
     "metadata": {},
     "output_type": "display_data"
    },
    {
     "data": {
      "application/vnd.jupyter.widget-view+json": {
       "model_id": "b8fd68d34f62406dbfe2b1e20676c0ac",
       "version_major": 2,
       "version_minor": 0
      },
      "text/plain": [
       "Validating...:   0%|          | 0/79 [00:00<?, ?it/s]"
      ]
     },
     "metadata": {},
     "output_type": "display_data"
    },
    {
     "data": {
      "application/vnd.jupyter.widget-view+json": {
       "model_id": "91123fde794c4dbc83e0d94474772e5d",
       "version_major": 2,
       "version_minor": 0
      },
      "text/plain": [
       "Validating...:   0%|          | 0/79 [00:00<?, ?it/s]"
      ]
     },
     "metadata": {},
     "output_type": "display_data"
    },
    {
     "data": {
      "application/vnd.jupyter.widget-view+json": {
       "model_id": "401d1f8b03134754a141a647407cdd4c",
       "version_major": 2,
       "version_minor": 0
      },
      "text/plain": [
       "Validating...:   0%|          | 0/79 [00:00<?, ?it/s]"
      ]
     },
     "metadata": {},
     "output_type": "display_data"
    },
    {
     "data": {
      "application/vnd.jupyter.widget-view+json": {
       "model_id": "6650e685b8944594acda4af682b92662",
       "version_major": 2,
       "version_minor": 0
      },
      "text/plain": [
       "Validating...:   0%|          | 0/79 [00:00<?, ?it/s]"
      ]
     },
     "metadata": {},
     "output_type": "display_data"
    },
    {
     "data": {
      "application/vnd.jupyter.widget-view+json": {
       "model_id": "587f8643344944e5b39c4daab8d6a37b",
       "version_major": 2,
       "version_minor": 0
      },
      "text/plain": [
       "Validating...:   0%|          | 0/79 [00:00<?, ?it/s]"
      ]
     },
     "metadata": {},
     "output_type": "display_data"
    },
    {
     "data": {
      "application/vnd.jupyter.widget-view+json": {
       "model_id": "2ca87a60d8a745709a9be74d803ffed9",
       "version_major": 2,
       "version_minor": 0
      },
      "text/plain": [
       "Validating...:   0%|          | 0/79 [00:00<?, ?it/s]"
      ]
     },
     "metadata": {},
     "output_type": "display_data"
    },
    {
     "data": {
      "application/vnd.jupyter.widget-view+json": {
       "model_id": "67f90535a6f4498e81c07eef493cb08e",
       "version_major": 2,
       "version_minor": 0
      },
      "text/plain": [
       "Validating...:   0%|          | 0/79 [00:00<?, ?it/s]"
      ]
     },
     "metadata": {},
     "output_type": "display_data"
    },
    {
     "data": {
      "application/vnd.jupyter.widget-view+json": {
       "model_id": "4009a5a3d00a4726b65db16245b197d4",
       "version_major": 2,
       "version_minor": 0
      },
      "text/plain": [
       "Validating...:   0%|          | 0/79 [00:00<?, ?it/s]"
      ]
     },
     "metadata": {},
     "output_type": "display_data"
    },
    {
     "data": {
      "application/vnd.jupyter.widget-view+json": {
       "model_id": "b02da235d65f448ca7363f40b75d72d5",
       "version_major": 2,
       "version_minor": 0
      },
      "text/plain": [
       "Validating...:   0%|          | 0/79 [00:00<?, ?it/s]"
      ]
     },
     "metadata": {},
     "output_type": "display_data"
    },
    {
     "data": {
      "application/vnd.jupyter.widget-view+json": {
       "model_id": "7f067ec9eb7447f28b7d3e866cae126f",
       "version_major": 2,
       "version_minor": 0
      },
      "text/plain": [
       "Validating...:   0%|          | 0/79 [00:00<?, ?it/s]"
      ]
     },
     "metadata": {},
     "output_type": "display_data"
    },
    {
     "data": {
      "application/vnd.jupyter.widget-view+json": {
       "model_id": "1be1592329ad44efbf7958892d56ab4e",
       "version_major": 2,
       "version_minor": 0
      },
      "text/plain": [
       "Validating...:   0%|          | 0/79 [00:00<?, ?it/s]"
      ]
     },
     "metadata": {},
     "output_type": "display_data"
    },
    {
     "data": {
      "application/vnd.jupyter.widget-view+json": {
       "model_id": "25cc41f3cfc74a93a43f359b1028ba75",
       "version_major": 2,
       "version_minor": 0
      },
      "text/plain": [
       "Validating...:   0%|          | 0/79 [00:00<?, ?it/s]"
      ]
     },
     "metadata": {},
     "output_type": "display_data"
    },
    {
     "data": {
      "application/vnd.jupyter.widget-view+json": {
       "model_id": "0d351985157342d5bd9237f1ca87c4d9",
       "version_major": 2,
       "version_minor": 0
      },
      "text/plain": [
       "Validating...:   0%|          | 0/79 [00:00<?, ?it/s]"
      ]
     },
     "metadata": {},
     "output_type": "display_data"
    },
    {
     "data": {
      "application/vnd.jupyter.widget-view+json": {
       "model_id": "bbfcd60c9478448f844a894b76a1e0da",
       "version_major": 2,
       "version_minor": 0
      },
      "text/plain": [
       "Validating...:   0%|          | 0/79 [00:00<?, ?it/s]"
      ]
     },
     "metadata": {},
     "output_type": "display_data"
    },
    {
     "data": {
      "application/vnd.jupyter.widget-view+json": {
       "model_id": "0402f324c4984a2c8c068122b3f9bcc2",
       "version_major": 2,
       "version_minor": 0
      },
      "text/plain": [
       "Validating...:   0%|          | 0/79 [00:00<?, ?it/s]"
      ]
     },
     "metadata": {},
     "output_type": "display_data"
    },
    {
     "data": {
      "application/vnd.jupyter.widget-view+json": {
       "model_id": "462a1906c49449528516117bbc316bc5",
       "version_major": 2,
       "version_minor": 0
      },
      "text/plain": [
       "Validating...:   0%|          | 0/79 [00:00<?, ?it/s]"
      ]
     },
     "metadata": {},
     "output_type": "display_data"
    },
    {
     "data": {
      "application/vnd.jupyter.widget-view+json": {
       "model_id": "3e17ff5b8d004d9d960875a7f74af6a8",
       "version_major": 2,
       "version_minor": 0
      },
      "text/plain": [
       "Validating...:   0%|          | 0/79 [00:00<?, ?it/s]"
      ]
     },
     "metadata": {},
     "output_type": "display_data"
    },
    {
     "data": {
      "application/vnd.jupyter.widget-view+json": {
       "model_id": "89b3a66a0eb0411489fdad0c81531d4a",
       "version_major": 2,
       "version_minor": 0
      },
      "text/plain": [
       "Validating...:   0%|          | 0/79 [00:00<?, ?it/s]"
      ]
     },
     "metadata": {},
     "output_type": "display_data"
    },
    {
     "data": {
      "application/vnd.jupyter.widget-view+json": {
       "model_id": "c731e4dc72e2463bbd34a9069b613ee9",
       "version_major": 2,
       "version_minor": 0
      },
      "text/plain": [
       "Validating...:   0%|          | 0/79 [00:00<?, ?it/s]"
      ]
     },
     "metadata": {},
     "output_type": "display_data"
    },
    {
     "data": {
      "application/vnd.jupyter.widget-view+json": {
       "model_id": "020af3caa82042cb9d3b4f52ce7160ad",
       "version_major": 2,
       "version_minor": 0
      },
      "text/plain": [
       "Validating...:   0%|          | 0/79 [00:00<?, ?it/s]"
      ]
     },
     "metadata": {},
     "output_type": "display_data"
    },
    {
     "data": {
      "application/vnd.jupyter.widget-view+json": {
       "model_id": "920879e5635c4ef286a46769f04ff5d2",
       "version_major": 2,
       "version_minor": 0
      },
      "text/plain": [
       "Validating...:   0%|          | 0/79 [00:00<?, ?it/s]"
      ]
     },
     "metadata": {},
     "output_type": "display_data"
    },
    {
     "data": {
      "application/vnd.jupyter.widget-view+json": {
       "model_id": "a6f2c87c8023468282b0bfb61ec167a8",
       "version_major": 2,
       "version_minor": 0
      },
      "text/plain": [
       "Validating...:   0%|          | 0/79 [00:00<?, ?it/s]"
      ]
     },
     "metadata": {},
     "output_type": "display_data"
    },
    {
     "data": {
      "application/vnd.jupyter.widget-view+json": {
       "model_id": "4da1297032454f1b9ddf0b69dd616247",
       "version_major": 2,
       "version_minor": 0
      },
      "text/plain": [
       "Validating...:   0%|          | 0/79 [00:00<?, ?it/s]"
      ]
     },
     "metadata": {},
     "output_type": "display_data"
    },
    {
     "data": {
      "application/vnd.jupyter.widget-view+json": {
       "model_id": "587e4510ffa946b888e7a61eb77c872f",
       "version_major": 2,
       "version_minor": 0
      },
      "text/plain": [
       "Validating...:   0%|          | 0/79 [00:00<?, ?it/s]"
      ]
     },
     "metadata": {},
     "output_type": "display_data"
    },
    {
     "data": {
      "application/vnd.jupyter.widget-view+json": {
       "model_id": "6771fb8976ea4b7ea92cd8d9412966de",
       "version_major": 2,
       "version_minor": 0
      },
      "text/plain": [
       "Validating...:   0%|          | 0/79 [00:00<?, ?it/s]"
      ]
     },
     "metadata": {},
     "output_type": "display_data"
    },
    {
     "data": {
      "application/vnd.jupyter.widget-view+json": {
       "model_id": "0da646a83e2e4466882a0d175dbefbf4",
       "version_major": 2,
       "version_minor": 0
      },
      "text/plain": [
       "Validating...:   0%|          | 0/79 [00:00<?, ?it/s]"
      ]
     },
     "metadata": {},
     "output_type": "display_data"
    },
    {
     "data": {
      "application/vnd.jupyter.widget-view+json": {
       "model_id": "0e1886f0b432463288d75f65c0475c55",
       "version_major": 2,
       "version_minor": 0
      },
      "text/plain": [
       "Validating...:   0%|          | 0/79 [00:00<?, ?it/s]"
      ]
     },
     "metadata": {},
     "output_type": "display_data"
    },
    {
     "data": {
      "application/vnd.jupyter.widget-view+json": {
       "model_id": "c71a1f641a12462dbbe2cb0ef7c13309",
       "version_major": 2,
       "version_minor": 0
      },
      "text/plain": [
       "  0%|          | 0/390 [00:00<?, ?it/s]"
      ]
     },
     "metadata": {},
     "output_type": "display_data"
    },
    {
     "data": {
      "application/vnd.jupyter.widget-view+json": {
       "model_id": "ef6ed59cae374a40ada4fe084646de7a",
       "version_major": 2,
       "version_minor": 0
      },
      "text/plain": [
       "  0%|          | 0/390 [00:00<?, ?it/s]"
      ]
     },
     "metadata": {},
     "output_type": "display_data"
    },
    {
     "data": {
      "application/vnd.jupyter.widget-view+json": {
       "model_id": "32bf7ae89bc940fabce8273fd2c24c17",
       "version_major": 2,
       "version_minor": 0
      },
      "text/plain": [
       "  0%|          | 0/390 [00:00<?, ?it/s]"
      ]
     },
     "metadata": {},
     "output_type": "display_data"
    },
    {
     "data": {
      "application/vnd.jupyter.widget-view+json": {
       "model_id": "81671dc7d26a482a9b3e6938d55bd299",
       "version_major": 2,
       "version_minor": 0
      },
      "text/plain": [
       "  0%|          | 0/390 [00:00<?, ?it/s]"
      ]
     },
     "metadata": {},
     "output_type": "display_data"
    },
    {
     "data": {
      "application/vnd.jupyter.widget-view+json": {
       "model_id": "6634acd6fa3b4bc58015d08436cd5bc7",
       "version_major": 2,
       "version_minor": 0
      },
      "text/plain": [
       "  0%|          | 0/390 [00:00<?, ?it/s]"
      ]
     },
     "metadata": {},
     "output_type": "display_data"
    },
    {
     "data": {
      "application/vnd.jupyter.widget-view+json": {
       "model_id": "71342028a4da4b7987f10b02a2957e03",
       "version_major": 2,
       "version_minor": 0
      },
      "text/plain": [
       "Validating...:   0%|          | 0/79 [00:00<?, ?it/s]"
      ]
     },
     "metadata": {},
     "output_type": "display_data"
    },
    {
     "name": "stdout",
     "output_type": "stream",
     "text": [
      "Validation results for truck and 5: {'acc': 0.16777777671813965}\n"
     ]
    },
    {
     "data": {
      "application/vnd.jupyter.widget-view+json": {
       "model_id": "44c6785b7fd540f88c3cc2aa655b7e1b",
       "version_major": 2,
       "version_minor": 0
      },
      "text/plain": [
       "Validating...:   0%|          | 0/79 [00:00<?, ?it/s]"
      ]
     },
     "metadata": {},
     "output_type": "display_data"
    },
    {
     "data": {
      "application/vnd.jupyter.widget-view+json": {
       "model_id": "3002d677d4dc4d69b4f18bf9cde71f00",
       "version_major": 2,
       "version_minor": 0
      },
      "text/plain": [
       "  0%|          | 0/390 [00:00<?, ?it/s]"
      ]
     },
     "metadata": {},
     "output_type": "display_data"
    },
    {
     "data": {
      "application/vnd.jupyter.widget-view+json": {
       "model_id": "17f936dc21c3400089529713cad833bb",
       "version_major": 2,
       "version_minor": 0
      },
      "text/plain": [
       "  0%|          | 0/390 [00:00<?, ?it/s]"
      ]
     },
     "metadata": {},
     "output_type": "display_data"
    },
    {
     "data": {
      "application/vnd.jupyter.widget-view+json": {
       "model_id": "6f3dc020e7a24ff0854ba59753212099",
       "version_major": 2,
       "version_minor": 0
      },
      "text/plain": [
       "  0%|          | 0/390 [00:00<?, ?it/s]"
      ]
     },
     "metadata": {},
     "output_type": "display_data"
    },
    {
     "data": {
      "application/vnd.jupyter.widget-view+json": {
       "model_id": "1285f2bff2a74844bcd853e9a1827375",
       "version_major": 2,
       "version_minor": 0
      },
      "text/plain": [
       "  0%|          | 0/390 [00:00<?, ?it/s]"
      ]
     },
     "metadata": {},
     "output_type": "display_data"
    },
    {
     "data": {
      "application/vnd.jupyter.widget-view+json": {
       "model_id": "1bec581af04e40ce9aa545f5cb361519",
       "version_major": 2,
       "version_minor": 0
      },
      "text/plain": [
       "  0%|          | 0/390 [00:00<?, ?it/s]"
      ]
     },
     "metadata": {},
     "output_type": "display_data"
    },
    {
     "data": {
      "application/vnd.jupyter.widget-view+json": {
       "model_id": "326fdc659159419c9d7bf7b509f79503",
       "version_major": 2,
       "version_minor": 0
      },
      "text/plain": [
       "Validating...:   0%|          | 0/79 [00:00<?, ?it/s]"
      ]
     },
     "metadata": {},
     "output_type": "display_data"
    },
    {
     "name": "stdout",
     "output_type": "stream",
     "text": [
      "Validation results for truck and 7: {'acc': 0.5938888788223267}\n"
     ]
    },
    {
     "data": {
      "application/vnd.jupyter.widget-view+json": {
       "model_id": "085390674a3c452bb44cb83f75c844ce",
       "version_major": 2,
       "version_minor": 0
      },
      "text/plain": [
       "Validating...:   0%|          | 0/79 [00:00<?, ?it/s]"
      ]
     },
     "metadata": {},
     "output_type": "display_data"
    },
    {
     "data": {
      "application/vnd.jupyter.widget-view+json": {
       "model_id": "39fa744c7ef54b0d8a1d09286eea8ac3",
       "version_major": 2,
       "version_minor": 0
      },
      "text/plain": [
       "  0%|          | 0/390 [00:00<?, ?it/s]"
      ]
     },
     "metadata": {},
     "output_type": "display_data"
    },
    {
     "data": {
      "application/vnd.jupyter.widget-view+json": {
       "model_id": "be9604c35f724443ac328d2b05d455a6",
       "version_major": 2,
       "version_minor": 0
      },
      "text/plain": [
       "  0%|          | 0/390 [00:00<?, ?it/s]"
      ]
     },
     "metadata": {},
     "output_type": "display_data"
    },
    {
     "data": {
      "application/vnd.jupyter.widget-view+json": {
       "model_id": "fd8349ebdbc8492bb2c264ec3716fa51",
       "version_major": 2,
       "version_minor": 0
      },
      "text/plain": [
       "  0%|          | 0/390 [00:00<?, ?it/s]"
      ]
     },
     "metadata": {},
     "output_type": "display_data"
    },
    {
     "data": {
      "application/vnd.jupyter.widget-view+json": {
       "model_id": "af78b7a3e7e842069ff86e0f72b108c0",
       "version_major": 2,
       "version_minor": 0
      },
      "text/plain": [
       "  0%|          | 0/390 [00:00<?, ?it/s]"
      ]
     },
     "metadata": {},
     "output_type": "display_data"
    },
    {
     "data": {
      "application/vnd.jupyter.widget-view+json": {
       "model_id": "bc4c17b64e5a4a36ba5b5dff8d16fb2f",
       "version_major": 2,
       "version_minor": 0
      },
      "text/plain": [
       "  0%|          | 0/390 [00:00<?, ?it/s]"
      ]
     },
     "metadata": {},
     "output_type": "display_data"
    },
    {
     "data": {
      "application/vnd.jupyter.widget-view+json": {
       "model_id": "c6ac1dd0d60d45c8a1a88f4ec3738e4c",
       "version_major": 2,
       "version_minor": 0
      },
      "text/plain": [
       "Validating...:   0%|          | 0/79 [00:00<?, ?it/s]"
      ]
     },
     "metadata": {},
     "output_type": "display_data"
    },
    {
     "name": "stdout",
     "output_type": "stream",
     "text": [
      "Validation results for truck and 16: {'acc': 0.9995277523994446}\n"
     ]
    },
    {
     "data": {
      "application/vnd.jupyter.widget-view+json": {
       "model_id": "13e85ec9ed7343cf8266f6f8b0598b4d",
       "version_major": 2,
       "version_minor": 0
      },
      "text/plain": [
       "Validating...:   0%|          | 0/79 [00:00<?, ?it/s]"
      ]
     },
     "metadata": {},
     "output_type": "display_data"
    },
    {
     "ename": "TypeError",
     "evalue": "iteration over a 0-d tensor",
     "output_type": "error",
     "traceback": [
      "\u001b[0;31m---------------------------------------------------------------------------\u001b[0m",
      "\u001b[0;31mTypeError\u001b[0m                                 Traceback (most recent call last)",
      "Cell \u001b[0;32mIn[19], line 5\u001b[0m\n\u001b[1;32m      2\u001b[0m patch_sizes \u001b[39m=\u001b[39m [\u001b[39m3\u001b[39m, \u001b[39m5\u001b[39m, \u001b[39m7\u001b[39m, \u001b[39m16\u001b[39m]\n\u001b[1;32m      4\u001b[0m patch_dict \u001b[39m=\u001b[39m get_patches(class_names, patch_sizes)\n\u001b[0;32m----> 5\u001b[0m save_results(\n\u001b[1;32m      6\u001b[0m     patch_dict\n\u001b[1;32m      7\u001b[0m  )  \u001b[39m# Uncomment if you add new class names and want to save the new results\u001b[39;00m\n",
      "Cell \u001b[0;32mIn[15], line 9\u001b[0m, in \u001b[0;36msave_results\u001b[0;34m(patch_dict)\u001b[0m\n\u001b[1;32m      8\u001b[0m \u001b[39mdef\u001b[39;00m \u001b[39msave_results\u001b[39m(patch_dict):\n\u001b[0;32m----> 9\u001b[0m     result_dict \u001b[39m=\u001b[39m {\n\u001b[1;32m     10\u001b[0m         cname: {\n\u001b[1;32m     11\u001b[0m             psize: [\n\u001b[1;32m     12\u001b[0m                 t\u001b[39m.\u001b[39mitem() \u001b[39mif\u001b[39;00m \u001b[39misinstance\u001b[39m(t, torch\u001b[39m.\u001b[39mTensor) \u001b[39melse\u001b[39;00m t\n\u001b[1;32m     13\u001b[0m                 \u001b[39mfor\u001b[39;00m t \u001b[39min\u001b[39;00m patch_dict[cname][psize][\u001b[39m\"\u001b[39m\u001b[39mresults\u001b[39m\u001b[39m\"\u001b[39m]\n\u001b[1;32m     14\u001b[0m             ]\n\u001b[1;32m     15\u001b[0m             \u001b[39mfor\u001b[39;00m psize \u001b[39min\u001b[39;00m patch_dict[cname]\n\u001b[1;32m     16\u001b[0m         }\n\u001b[1;32m     17\u001b[0m         \u001b[39mfor\u001b[39;00m cname \u001b[39min\u001b[39;00m patch_dict\n\u001b[1;32m     18\u001b[0m     }\n\u001b[1;32m     19\u001b[0m     \u001b[39mwith\u001b[39;00m \u001b[39mopen\u001b[39m(os\u001b[39m.\u001b[39mpath\u001b[39m.\u001b[39mjoin(CHECKPOINT_PATH, \u001b[39m\"\u001b[39m\u001b[39mpatch_results.json\u001b[39m\u001b[39m\"\u001b[39m), \u001b[39m\"\u001b[39m\u001b[39mw\u001b[39m\u001b[39m\"\u001b[39m) \u001b[39mas\u001b[39;00m f:\n\u001b[1;32m     20\u001b[0m         json\u001b[39m.\u001b[39mdump(result_dict, f, indent\u001b[39m=\u001b[39m\u001b[39m4\u001b[39m)\n",
      "Cell \u001b[0;32mIn[15], line 10\u001b[0m, in \u001b[0;36m<dictcomp>\u001b[0;34m(.0)\u001b[0m\n\u001b[1;32m      8\u001b[0m \u001b[39mdef\u001b[39;00m \u001b[39msave_results\u001b[39m(patch_dict):\n\u001b[1;32m      9\u001b[0m     result_dict \u001b[39m=\u001b[39m {\n\u001b[0;32m---> 10\u001b[0m         cname: {\n\u001b[1;32m     11\u001b[0m             psize: [\n\u001b[1;32m     12\u001b[0m                 t\u001b[39m.\u001b[39mitem() \u001b[39mif\u001b[39;00m \u001b[39misinstance\u001b[39m(t, torch\u001b[39m.\u001b[39mTensor) \u001b[39melse\u001b[39;00m t\n\u001b[1;32m     13\u001b[0m                 \u001b[39mfor\u001b[39;00m t \u001b[39min\u001b[39;00m patch_dict[cname][psize][\u001b[39m\"\u001b[39m\u001b[39mresults\u001b[39m\u001b[39m\"\u001b[39m]\n\u001b[1;32m     14\u001b[0m             ]\n\u001b[1;32m     15\u001b[0m             \u001b[39mfor\u001b[39;00m psize \u001b[39min\u001b[39;00m patch_dict[cname]\n\u001b[1;32m     16\u001b[0m         }\n\u001b[1;32m     17\u001b[0m         \u001b[39mfor\u001b[39;00m cname \u001b[39min\u001b[39;00m patch_dict\n\u001b[1;32m     18\u001b[0m     }\n\u001b[1;32m     19\u001b[0m     \u001b[39mwith\u001b[39;00m \u001b[39mopen\u001b[39m(os\u001b[39m.\u001b[39mpath\u001b[39m.\u001b[39mjoin(CHECKPOINT_PATH, \u001b[39m\"\u001b[39m\u001b[39mpatch_results.json\u001b[39m\u001b[39m\"\u001b[39m), \u001b[39m\"\u001b[39m\u001b[39mw\u001b[39m\u001b[39m\"\u001b[39m) \u001b[39mas\u001b[39;00m f:\n\u001b[1;32m     20\u001b[0m         json\u001b[39m.\u001b[39mdump(result_dict, f, indent\u001b[39m=\u001b[39m\u001b[39m4\u001b[39m)\n",
      "Cell \u001b[0;32mIn[15], line 11\u001b[0m, in \u001b[0;36m<dictcomp>\u001b[0;34m(.0)\u001b[0m\n\u001b[1;32m      8\u001b[0m \u001b[39mdef\u001b[39;00m \u001b[39msave_results\u001b[39m(patch_dict):\n\u001b[1;32m      9\u001b[0m     result_dict \u001b[39m=\u001b[39m {\n\u001b[1;32m     10\u001b[0m         cname: {\n\u001b[0;32m---> 11\u001b[0m             psize: [\n\u001b[1;32m     12\u001b[0m                 t\u001b[39m.\u001b[39mitem() \u001b[39mif\u001b[39;00m \u001b[39misinstance\u001b[39m(t, torch\u001b[39m.\u001b[39mTensor) \u001b[39melse\u001b[39;00m t\n\u001b[1;32m     13\u001b[0m                 \u001b[39mfor\u001b[39;00m t \u001b[39min\u001b[39;00m patch_dict[cname][psize][\u001b[39m\"\u001b[39m\u001b[39mresults\u001b[39m\u001b[39m\"\u001b[39m]\n\u001b[1;32m     14\u001b[0m             ]\n\u001b[1;32m     15\u001b[0m             \u001b[39mfor\u001b[39;00m psize \u001b[39min\u001b[39;00m patch_dict[cname]\n\u001b[1;32m     16\u001b[0m         }\n\u001b[1;32m     17\u001b[0m         \u001b[39mfor\u001b[39;00m cname \u001b[39min\u001b[39;00m patch_dict\n\u001b[1;32m     18\u001b[0m     }\n\u001b[1;32m     19\u001b[0m     \u001b[39mwith\u001b[39;00m \u001b[39mopen\u001b[39m(os\u001b[39m.\u001b[39mpath\u001b[39m.\u001b[39mjoin(CHECKPOINT_PATH, \u001b[39m\"\u001b[39m\u001b[39mpatch_results.json\u001b[39m\u001b[39m\"\u001b[39m), \u001b[39m\"\u001b[39m\u001b[39mw\u001b[39m\u001b[39m\"\u001b[39m) \u001b[39mas\u001b[39;00m f:\n\u001b[1;32m     20\u001b[0m         json\u001b[39m.\u001b[39mdump(result_dict, f, indent\u001b[39m=\u001b[39m\u001b[39m4\u001b[39m)\n",
      "File \u001b[0;32m~/venv/lib/python3.8/site-packages/torch/_tensor.py:915\u001b[0m, in \u001b[0;36mTensor.__iter__\u001b[0;34m(self)\u001b[0m\n\u001b[1;32m    905\u001b[0m \u001b[39mdef\u001b[39;00m \u001b[39m__iter__\u001b[39m(\u001b[39mself\u001b[39m):\n\u001b[1;32m    906\u001b[0m     \u001b[39m# NB: we use 'imap' and not 'map' here, so that in Python 2 we get a\u001b[39;00m\n\u001b[1;32m    907\u001b[0m     \u001b[39m# generator and don't eagerly perform all the indexes.  This could\u001b[39;00m\n\u001b[0;32m   (...)\u001b[0m\n\u001b[1;32m    912\u001b[0m     \u001b[39m# NB: We have intentionally skipped __torch_function__ dispatch here.\u001b[39;00m\n\u001b[1;32m    913\u001b[0m     \u001b[39m# See gh-54457\u001b[39;00m\n\u001b[1;32m    914\u001b[0m     \u001b[39mif\u001b[39;00m \u001b[39mself\u001b[39m\u001b[39m.\u001b[39mdim() \u001b[39m==\u001b[39m \u001b[39m0\u001b[39m:\n\u001b[0;32m--> 915\u001b[0m         \u001b[39mraise\u001b[39;00m \u001b[39mTypeError\u001b[39;00m(\u001b[39m\"\u001b[39m\u001b[39miteration over a 0-d tensor\u001b[39m\u001b[39m\"\u001b[39m)\n\u001b[1;32m    916\u001b[0m     \u001b[39mif\u001b[39;00m torch\u001b[39m.\u001b[39m_C\u001b[39m.\u001b[39m_get_tracing_state():\n\u001b[1;32m    917\u001b[0m         warnings\u001b[39m.\u001b[39mwarn(\n\u001b[1;32m    918\u001b[0m             \u001b[39m\"\u001b[39m\u001b[39mIterating over a tensor might cause the trace to be incorrect. \u001b[39m\u001b[39m\"\u001b[39m\n\u001b[1;32m    919\u001b[0m             \u001b[39m\"\u001b[39m\u001b[39mPassing a tensor of different shape won\u001b[39m\u001b[39m'\u001b[39m\u001b[39mt change the number of \u001b[39m\u001b[39m\"\u001b[39m\n\u001b[0;32m   (...)\u001b[0m\n\u001b[1;32m    923\u001b[0m             stacklevel\u001b[39m=\u001b[39m\u001b[39m2\u001b[39m,\n\u001b[1;32m    924\u001b[0m         )\n",
      "\u001b[0;31mTypeError\u001b[0m: iteration over a 0-d tensor"
     ]
    }
   ],
   "source": [
    "class_names = label_names\n",
    "patch_sizes = [3, 5, 7, 16]\n",
    "\n",
    "patch_dict = get_patches(class_names, patch_sizes)"
   ]
  },
  {
   "cell_type": "code",
   "execution_count": null,
   "metadata": {},
   "outputs": [],
   "source": [
    "# save the results\n",
    "def save_results(patch_dict):\n",
    "    result_dict = {\n",
    "        cname: {\n",
    "            psize: [\n",
    "                t.item() if isinstance(t, torch.Tensor) else t\n",
    "                for t in patch_dict[cname][psize][\"results\"]\n",
    "            ]\n",
    "            for psize in patch_dict[cname]\n",
    "        }\n",
    "        for cname in patch_dict\n",
    "    }\n",
    "    with open(os.path.join(CHECKPOINT_PATH, \"patch_results.json\"), \"w\") as f:\n",
    "        json.dump(result_dict, f, indent=4)\n",
    "save_results(patch_dict)"
   ]
  },
  {
   "attachments": {},
   "cell_type": "markdown",
   "metadata": {},
   "source": [
    "## Qualitative results"
   ]
  },
  {
   "attachments": {},
   "cell_type": "markdown",
   "metadata": {
    "id": "nkAFyQpWocbz"
   },
   "source": [
    "Create show_patches function to visualize results."
   ]
  },
  {
   "cell_type": "code",
   "execution_count": 25,
   "metadata": {
    "id": "Ay7oDvdTocbz",
    "outputId": "72bcb26d-468e-4367-ab34-b03805c344e5"
   },
   "outputs": [
    {
     "ename": "NameError",
     "evalue": "name 'patch_dict' is not defined",
     "output_type": "error",
     "traceback": [
      "\u001b[0;31m---------------------------------------------------------------------------\u001b[0m",
      "\u001b[0;31mNameError\u001b[0m                                 Traceback (most recent call last)",
      "Cell \u001b[0;32mIn[25], line 20\u001b[0m\n\u001b[1;32m     16\u001b[0m     fig\u001b[39m.\u001b[39msubplots_adjust(hspace\u001b[39m=\u001b[39m\u001b[39m0.3\u001b[39m, wspace\u001b[39m=\u001b[39m\u001b[39m0.3\u001b[39m)\n\u001b[1;32m     17\u001b[0m     plt\u001b[39m.\u001b[39mshow()\n\u001b[0;32m---> 20\u001b[0m show_patches()\n",
      "Cell \u001b[0;32mIn[25], line 9\u001b[0m, in \u001b[0;36mshow_patches\u001b[0;34m()\u001b[0m\n\u001b[1;32m      7\u001b[0m \u001b[39mfor\u001b[39;00m c_idx, cname \u001b[39min\u001b[39;00m \u001b[39menumerate\u001b[39m(class_names):\n\u001b[1;32m      8\u001b[0m     \u001b[39mfor\u001b[39;00m p_idx, psize \u001b[39min\u001b[39;00m \u001b[39menumerate\u001b[39m(patch_sizes):\n\u001b[0;32m----> 9\u001b[0m         patch \u001b[39m=\u001b[39m patch_dict[cname][psize][\u001b[39m\"\u001b[39m\u001b[39mpatch\u001b[39m\u001b[39m\"\u001b[39m]\n\u001b[1;32m     10\u001b[0m         patch \u001b[39m=\u001b[39m (torch\u001b[39m.\u001b[39mtanh(patch) \u001b[39m+\u001b[39m \u001b[39m1\u001b[39m) \u001b[39m/\u001b[39m \u001b[39m2\u001b[39m  \u001b[39m# Parameter to pixel values\u001b[39;00m\n\u001b[1;32m     11\u001b[0m         patch \u001b[39m=\u001b[39m patch\u001b[39m.\u001b[39mcpu()\u001b[39m.\u001b[39mpermute(\u001b[39m1\u001b[39m, \u001b[39m2\u001b[39m, \u001b[39m0\u001b[39m)\u001b[39m.\u001b[39mnumpy()\n",
      "\u001b[0;31mNameError\u001b[0m: name 'patch_dict' is not defined"
     ]
    },
    {
     "name": "stdout",
     "output_type": "stream",
     "text": [
      "Error in callback <function flush_figures at 0x7f0085f07040> (for post_execute):\n"
     ]
    },
    {
     "ename": "KeyboardInterrupt",
     "evalue": "",
     "output_type": "error",
     "traceback": [
      "\u001b[0;31m---------------------------------------------------------------------------\u001b[0m",
      "\u001b[0;31mKeyboardInterrupt\u001b[0m                         Traceback (most recent call last)",
      "File \u001b[0;32m~/venv/lib/python3.8/site-packages/matplotlib_inline/backend_inline.py:126\u001b[0m, in \u001b[0;36mflush_figures\u001b[0;34m()\u001b[0m\n\u001b[1;32m    123\u001b[0m \u001b[39mif\u001b[39;00m InlineBackend\u001b[39m.\u001b[39minstance()\u001b[39m.\u001b[39mclose_figures:\n\u001b[1;32m    124\u001b[0m     \u001b[39m# ignore the tracking, just draw and close all figures\u001b[39;00m\n\u001b[1;32m    125\u001b[0m     \u001b[39mtry\u001b[39;00m:\n\u001b[0;32m--> 126\u001b[0m         \u001b[39mreturn\u001b[39;00m show(\u001b[39mTrue\u001b[39;49;00m)\n\u001b[1;32m    127\u001b[0m     \u001b[39mexcept\u001b[39;00m \u001b[39mException\u001b[39;00m \u001b[39mas\u001b[39;00m e:\n\u001b[1;32m    128\u001b[0m         \u001b[39m# safely show traceback if in IPython, else raise\u001b[39;00m\n\u001b[1;32m    129\u001b[0m         ip \u001b[39m=\u001b[39m get_ipython()\n",
      "File \u001b[0;32m~/venv/lib/python3.8/site-packages/matplotlib_inline/backend_inline.py:90\u001b[0m, in \u001b[0;36mshow\u001b[0;34m(close, block)\u001b[0m\n\u001b[1;32m     88\u001b[0m \u001b[39mtry\u001b[39;00m:\n\u001b[1;32m     89\u001b[0m     \u001b[39mfor\u001b[39;00m figure_manager \u001b[39min\u001b[39;00m Gcf\u001b[39m.\u001b[39mget_all_fig_managers():\n\u001b[0;32m---> 90\u001b[0m         display(\n\u001b[1;32m     91\u001b[0m             figure_manager\u001b[39m.\u001b[39;49mcanvas\u001b[39m.\u001b[39;49mfigure,\n\u001b[1;32m     92\u001b[0m             metadata\u001b[39m=\u001b[39;49m_fetch_figure_metadata(figure_manager\u001b[39m.\u001b[39;49mcanvas\u001b[39m.\u001b[39;49mfigure)\n\u001b[1;32m     93\u001b[0m         )\n\u001b[1;32m     94\u001b[0m \u001b[39mfinally\u001b[39;00m:\n\u001b[1;32m     95\u001b[0m     show\u001b[39m.\u001b[39m_to_draw \u001b[39m=\u001b[39m []\n",
      "File \u001b[0;32m~/venv/lib/python3.8/site-packages/IPython/core/display_functions.py:298\u001b[0m, in \u001b[0;36mdisplay\u001b[0;34m(include, exclude, metadata, transient, display_id, raw, clear, *objs, **kwargs)\u001b[0m\n\u001b[1;32m    296\u001b[0m     publish_display_data(data\u001b[39m=\u001b[39mobj, metadata\u001b[39m=\u001b[39mmetadata, \u001b[39m*\u001b[39m\u001b[39m*\u001b[39mkwargs)\n\u001b[1;32m    297\u001b[0m \u001b[39melse\u001b[39;00m:\n\u001b[0;32m--> 298\u001b[0m     format_dict, md_dict \u001b[39m=\u001b[39m \u001b[39mformat\u001b[39;49m(obj, include\u001b[39m=\u001b[39;49minclude, exclude\u001b[39m=\u001b[39;49mexclude)\n\u001b[1;32m    299\u001b[0m     \u001b[39mif\u001b[39;00m \u001b[39mnot\u001b[39;00m format_dict:\n\u001b[1;32m    300\u001b[0m         \u001b[39m# nothing to display (e.g. _ipython_display_ took over)\u001b[39;00m\n\u001b[1;32m    301\u001b[0m         \u001b[39mcontinue\u001b[39;00m\n",
      "File \u001b[0;32m~/venv/lib/python3.8/site-packages/IPython/core/formatters.py:177\u001b[0m, in \u001b[0;36mDisplayFormatter.format\u001b[0;34m(self, obj, include, exclude)\u001b[0m\n\u001b[1;32m    175\u001b[0m md \u001b[39m=\u001b[39m \u001b[39mNone\u001b[39;00m\n\u001b[1;32m    176\u001b[0m \u001b[39mtry\u001b[39;00m:\n\u001b[0;32m--> 177\u001b[0m     data \u001b[39m=\u001b[39m formatter(obj)\n\u001b[1;32m    178\u001b[0m \u001b[39mexcept\u001b[39;00m:\n\u001b[1;32m    179\u001b[0m     \u001b[39m# FIXME: log the exception\u001b[39;00m\n\u001b[1;32m    180\u001b[0m     \u001b[39mraise\u001b[39;00m\n",
      "File \u001b[0;32m~/venv/lib/python3.8/site-packages/decorator.py:232\u001b[0m, in \u001b[0;36mdecorate.<locals>.fun\u001b[0;34m(*args, **kw)\u001b[0m\n\u001b[1;32m    230\u001b[0m \u001b[39mif\u001b[39;00m \u001b[39mnot\u001b[39;00m kwsyntax:\n\u001b[1;32m    231\u001b[0m     args, kw \u001b[39m=\u001b[39m fix(args, kw, sig)\n\u001b[0;32m--> 232\u001b[0m \u001b[39mreturn\u001b[39;00m caller(func, \u001b[39m*\u001b[39;49m(extras \u001b[39m+\u001b[39;49m args), \u001b[39m*\u001b[39;49m\u001b[39m*\u001b[39;49mkw)\n",
      "File \u001b[0;32m~/venv/lib/python3.8/site-packages/IPython/core/formatters.py:221\u001b[0m, in \u001b[0;36mcatch_format_error\u001b[0;34m(method, self, *args, **kwargs)\u001b[0m\n\u001b[1;32m    219\u001b[0m \u001b[39m\"\"\"show traceback on failed format call\"\"\"\u001b[39;00m\n\u001b[1;32m    220\u001b[0m \u001b[39mtry\u001b[39;00m:\n\u001b[0;32m--> 221\u001b[0m     r \u001b[39m=\u001b[39m method(\u001b[39mself\u001b[39;49m, \u001b[39m*\u001b[39;49margs, \u001b[39m*\u001b[39;49m\u001b[39m*\u001b[39;49mkwargs)\n\u001b[1;32m    222\u001b[0m \u001b[39mexcept\u001b[39;00m \u001b[39mNotImplementedError\u001b[39;00m:\n\u001b[1;32m    223\u001b[0m     \u001b[39m# don't warn on NotImplementedErrors\u001b[39;00m\n\u001b[1;32m    224\u001b[0m     \u001b[39mreturn\u001b[39;00m \u001b[39mself\u001b[39m\u001b[39m.\u001b[39m_check_return(\u001b[39mNone\u001b[39;00m, args[\u001b[39m0\u001b[39m])\n",
      "File \u001b[0;32m~/venv/lib/python3.8/site-packages/IPython/core/formatters.py:338\u001b[0m, in \u001b[0;36mBaseFormatter.__call__\u001b[0;34m(self, obj)\u001b[0m\n\u001b[1;32m    336\u001b[0m     \u001b[39mpass\u001b[39;00m\n\u001b[1;32m    337\u001b[0m \u001b[39melse\u001b[39;00m:\n\u001b[0;32m--> 338\u001b[0m     \u001b[39mreturn\u001b[39;00m printer(obj)\n\u001b[1;32m    339\u001b[0m \u001b[39m# Finally look for special method names\u001b[39;00m\n\u001b[1;32m    340\u001b[0m method \u001b[39m=\u001b[39m get_real_method(obj, \u001b[39mself\u001b[39m\u001b[39m.\u001b[39mprint_method)\n",
      "File \u001b[0;32m~/venv/lib/python3.8/site-packages/IPython/core/pylabtools.py:152\u001b[0m, in \u001b[0;36mprint_figure\u001b[0;34m(fig, fmt, bbox_inches, base64, **kwargs)\u001b[0m\n\u001b[1;32m    149\u001b[0m     \u001b[39mfrom\u001b[39;00m \u001b[39mmatplotlib\u001b[39;00m\u001b[39m.\u001b[39;00m\u001b[39mbackend_bases\u001b[39;00m \u001b[39mimport\u001b[39;00m FigureCanvasBase\n\u001b[1;32m    150\u001b[0m     FigureCanvasBase(fig)\n\u001b[0;32m--> 152\u001b[0m fig\u001b[39m.\u001b[39;49mcanvas\u001b[39m.\u001b[39;49mprint_figure(bytes_io, \u001b[39m*\u001b[39;49m\u001b[39m*\u001b[39;49mkw)\n\u001b[1;32m    153\u001b[0m data \u001b[39m=\u001b[39m bytes_io\u001b[39m.\u001b[39mgetvalue()\n\u001b[1;32m    154\u001b[0m \u001b[39mif\u001b[39;00m fmt \u001b[39m==\u001b[39m \u001b[39m'\u001b[39m\u001b[39msvg\u001b[39m\u001b[39m'\u001b[39m:\n",
      "File \u001b[0;32m~/venv/lib/python3.8/site-packages/matplotlib/backend_bases.py:2318\u001b[0m, in \u001b[0;36mFigureCanvasBase.print_figure\u001b[0;34m(self, filename, dpi, facecolor, edgecolor, orientation, format, bbox_inches, pad_inches, bbox_extra_artists, backend, **kwargs)\u001b[0m\n\u001b[1;32m   2316\u001b[0m \u001b[39mif\u001b[39;00m bbox_inches:\n\u001b[1;32m   2317\u001b[0m     \u001b[39mif\u001b[39;00m bbox_inches \u001b[39m==\u001b[39m \u001b[39m\"\u001b[39m\u001b[39mtight\u001b[39m\u001b[39m\"\u001b[39m:\n\u001b[0;32m-> 2318\u001b[0m         bbox_inches \u001b[39m=\u001b[39m \u001b[39mself\u001b[39;49m\u001b[39m.\u001b[39;49mfigure\u001b[39m.\u001b[39;49mget_tightbbox(\n\u001b[1;32m   2319\u001b[0m             renderer, bbox_extra_artists\u001b[39m=\u001b[39;49mbbox_extra_artists)\n\u001b[1;32m   2320\u001b[0m         \u001b[39mif\u001b[39;00m pad_inches \u001b[39mis\u001b[39;00m \u001b[39mNone\u001b[39;00m:\n\u001b[1;32m   2321\u001b[0m             pad_inches \u001b[39m=\u001b[39m rcParams[\u001b[39m'\u001b[39m\u001b[39msavefig.pad_inches\u001b[39m\u001b[39m'\u001b[39m]\n",
      "File \u001b[0;32m~/venv/lib/python3.8/site-packages/matplotlib/figure.py:1733\u001b[0m, in \u001b[0;36mFigureBase.get_tightbbox\u001b[0;34m(self, renderer, bbox_extra_artists)\u001b[0m\n\u001b[1;32m   1730\u001b[0m     artists \u001b[39m=\u001b[39m bbox_extra_artists\n\u001b[1;32m   1732\u001b[0m \u001b[39mfor\u001b[39;00m a \u001b[39min\u001b[39;00m artists:\n\u001b[0;32m-> 1733\u001b[0m     bbox \u001b[39m=\u001b[39m a\u001b[39m.\u001b[39;49mget_tightbbox(renderer)\n\u001b[1;32m   1734\u001b[0m     \u001b[39mif\u001b[39;00m bbox \u001b[39mis\u001b[39;00m \u001b[39mnot\u001b[39;00m \u001b[39mNone\u001b[39;00m:\n\u001b[1;32m   1735\u001b[0m         bb\u001b[39m.\u001b[39mappend(bbox)\n",
      "File \u001b[0;32m~/venv/lib/python3.8/site-packages/matplotlib/axes/_base.py:4427\u001b[0m, in \u001b[0;36m_AxesBase.get_tightbbox\u001b[0;34m(self, renderer, call_axes_locator, bbox_extra_artists, for_layout_only)\u001b[0m\n\u001b[1;32m   4425\u001b[0m \u001b[39mfor\u001b[39;00m axis \u001b[39min\u001b[39;00m \u001b[39mself\u001b[39m\u001b[39m.\u001b[39m_axis_map\u001b[39m.\u001b[39mvalues():\n\u001b[1;32m   4426\u001b[0m     \u001b[39mif\u001b[39;00m \u001b[39mself\u001b[39m\u001b[39m.\u001b[39maxison \u001b[39mand\u001b[39;00m axis\u001b[39m.\u001b[39mget_visible():\n\u001b[0;32m-> 4427\u001b[0m         ba \u001b[39m=\u001b[39m martist\u001b[39m.\u001b[39;49m_get_tightbbox_for_layout_only(axis, renderer)\n\u001b[1;32m   4428\u001b[0m         \u001b[39mif\u001b[39;00m ba:\n\u001b[1;32m   4429\u001b[0m             bb\u001b[39m.\u001b[39mappend(ba)\n",
      "File \u001b[0;32m~/venv/lib/python3.8/site-packages/matplotlib/artist.py:1378\u001b[0m, in \u001b[0;36m_get_tightbbox_for_layout_only\u001b[0;34m(obj, *args, **kwargs)\u001b[0m\n\u001b[1;32m   1372\u001b[0m \u001b[39m\"\"\"\u001b[39;00m\n\u001b[1;32m   1373\u001b[0m \u001b[39mMatplotlib's `.Axes.get_tightbbox` and `.Axis.get_tightbbox` support a\u001b[39;00m\n\u001b[1;32m   1374\u001b[0m \u001b[39m*for_layout_only* kwarg; this helper tries to uses the kwarg but skips it\u001b[39;00m\n\u001b[1;32m   1375\u001b[0m \u001b[39mwhen encountering third-party subclasses that do not support it.\u001b[39;00m\n\u001b[1;32m   1376\u001b[0m \u001b[39m\"\"\"\u001b[39;00m\n\u001b[1;32m   1377\u001b[0m \u001b[39mtry\u001b[39;00m:\n\u001b[0;32m-> 1378\u001b[0m     \u001b[39mreturn\u001b[39;00m obj\u001b[39m.\u001b[39;49mget_tightbbox(\u001b[39m*\u001b[39;49margs, \u001b[39m*\u001b[39;49m\u001b[39m*\u001b[39;49m{\u001b[39m*\u001b[39;49m\u001b[39m*\u001b[39;49mkwargs, \u001b[39m\"\u001b[39;49m\u001b[39mfor_layout_only\u001b[39;49m\u001b[39m\"\u001b[39;49m: \u001b[39mTrue\u001b[39;49;00m})\n\u001b[1;32m   1379\u001b[0m \u001b[39mexcept\u001b[39;00m \u001b[39mTypeError\u001b[39;00m:\n\u001b[1;32m   1380\u001b[0m     \u001b[39mreturn\u001b[39;00m obj\u001b[39m.\u001b[39mget_tightbbox(\u001b[39m*\u001b[39margs, \u001b[39m*\u001b[39m\u001b[39m*\u001b[39mkwargs)\n",
      "File \u001b[0;32m~/venv/lib/python3.8/site-packages/matplotlib/axis.py:1253\u001b[0m, in \u001b[0;36mAxis.get_tightbbox\u001b[0;34m(self, renderer, for_layout_only)\u001b[0m\n\u001b[1;32m   1250\u001b[0m     renderer \u001b[39m=\u001b[39m \u001b[39mself\u001b[39m\u001b[39m.\u001b[39mfigure\u001b[39m.\u001b[39m_get_renderer()\n\u001b[1;32m   1251\u001b[0m ticks_to_draw \u001b[39m=\u001b[39m \u001b[39mself\u001b[39m\u001b[39m.\u001b[39m_update_ticks()\n\u001b[0;32m-> 1253\u001b[0m \u001b[39mself\u001b[39;49m\u001b[39m.\u001b[39;49m_update_label_position(renderer)\n\u001b[1;32m   1255\u001b[0m \u001b[39m# go back to just this axis's tick labels\u001b[39;00m\n\u001b[1;32m   1256\u001b[0m tlb1, tlb2 \u001b[39m=\u001b[39m \u001b[39mself\u001b[39m\u001b[39m.\u001b[39m_get_ticklabel_bboxes(ticks_to_draw, renderer)\n",
      "File \u001b[0;32m~/venv/lib/python3.8/site-packages/matplotlib/axis.py:2252\u001b[0m, in \u001b[0;36mXAxis._update_label_position\u001b[0;34m(self, renderer)\u001b[0m\n\u001b[1;32m   2248\u001b[0m     \u001b[39mreturn\u001b[39;00m\n\u001b[1;32m   2250\u001b[0m \u001b[39m# get bounding boxes for this axis and any siblings\u001b[39;00m\n\u001b[1;32m   2251\u001b[0m \u001b[39m# that have been set by `fig.align_xlabels()`\u001b[39;00m\n\u001b[0;32m-> 2252\u001b[0m bboxes, bboxes2 \u001b[39m=\u001b[39m \u001b[39mself\u001b[39;49m\u001b[39m.\u001b[39;49m_get_tick_boxes_siblings(renderer\u001b[39m=\u001b[39;49mrenderer)\n\u001b[1;32m   2254\u001b[0m x, y \u001b[39m=\u001b[39m \u001b[39mself\u001b[39m\u001b[39m.\u001b[39mlabel\u001b[39m.\u001b[39mget_position()\n\u001b[1;32m   2255\u001b[0m \u001b[39mif\u001b[39;00m \u001b[39mself\u001b[39m\u001b[39m.\u001b[39mlabel_position \u001b[39m==\u001b[39m \u001b[39m'\u001b[39m\u001b[39mbottom\u001b[39m\u001b[39m'\u001b[39m:\n",
      "File \u001b[0;32m~/venv/lib/python3.8/site-packages/matplotlib/axis.py:2055\u001b[0m, in \u001b[0;36mAxis._get_tick_boxes_siblings\u001b[0;34m(self, renderer)\u001b[0m\n\u001b[1;32m   2053\u001b[0m \u001b[39mfor\u001b[39;00m ax \u001b[39min\u001b[39;00m grouper\u001b[39m.\u001b[39mget_siblings(\u001b[39mself\u001b[39m\u001b[39m.\u001b[39maxes):\n\u001b[1;32m   2054\u001b[0m     axis \u001b[39m=\u001b[39m \u001b[39mgetattr\u001b[39m(ax, \u001b[39mf\u001b[39m\u001b[39m\"\u001b[39m\u001b[39m{\u001b[39;00maxis_name\u001b[39m}\u001b[39;00m\u001b[39maxis\u001b[39m\u001b[39m\"\u001b[39m)\n\u001b[0;32m-> 2055\u001b[0m     ticks_to_draw \u001b[39m=\u001b[39m axis\u001b[39m.\u001b[39;49m_update_ticks()\n\u001b[1;32m   2056\u001b[0m     tlb, tlb2 \u001b[39m=\u001b[39m axis\u001b[39m.\u001b[39m_get_ticklabel_bboxes(ticks_to_draw, renderer)\n\u001b[1;32m   2057\u001b[0m     bboxes\u001b[39m.\u001b[39mextend(tlb)\n",
      "File \u001b[0;32m~/venv/lib/python3.8/site-packages/matplotlib/axis.py:1190\u001b[0m, in \u001b[0;36mAxis._update_ticks\u001b[0;34m(self)\u001b[0m\n\u001b[1;32m   1185\u001b[0m \u001b[39mdef\u001b[39;00m \u001b[39m_update_ticks\u001b[39m(\u001b[39mself\u001b[39m):\n\u001b[1;32m   1186\u001b[0m     \u001b[39m\"\"\"\u001b[39;00m\n\u001b[1;32m   1187\u001b[0m \u001b[39m    Update ticks (position and labels) using the current data interval of\u001b[39;00m\n\u001b[1;32m   1188\u001b[0m \u001b[39m    the axes.  Return the list of ticks that will be drawn.\u001b[39;00m\n\u001b[1;32m   1189\u001b[0m \u001b[39m    \"\"\"\u001b[39;00m\n\u001b[0;32m-> 1190\u001b[0m     major_locs \u001b[39m=\u001b[39m \u001b[39mself\u001b[39;49m\u001b[39m.\u001b[39;49mget_majorticklocs()\n\u001b[1;32m   1191\u001b[0m     major_labels \u001b[39m=\u001b[39m \u001b[39mself\u001b[39m\u001b[39m.\u001b[39mmajor\u001b[39m.\u001b[39mformatter\u001b[39m.\u001b[39mformat_ticks(major_locs)\n\u001b[1;32m   1192\u001b[0m     major_ticks \u001b[39m=\u001b[39m \u001b[39mself\u001b[39m\u001b[39m.\u001b[39mget_major_ticks(\u001b[39mlen\u001b[39m(major_locs))\n",
      "File \u001b[0;32m~/venv/lib/python3.8/site-packages/matplotlib/axis.py:1416\u001b[0m, in \u001b[0;36mAxis.get_majorticklocs\u001b[0;34m(self)\u001b[0m\n\u001b[1;32m   1414\u001b[0m \u001b[39mdef\u001b[39;00m \u001b[39mget_majorticklocs\u001b[39m(\u001b[39mself\u001b[39m):\n\u001b[1;32m   1415\u001b[0m     \u001b[39m\"\"\"Return this Axis' major tick locations in data coordinates.\"\"\"\u001b[39;00m\n\u001b[0;32m-> 1416\u001b[0m     \u001b[39mreturn\u001b[39;00m \u001b[39mself\u001b[39;49m\u001b[39m.\u001b[39;49mmajor\u001b[39m.\u001b[39;49mlocator()\n",
      "File \u001b[0;32m~/venv/lib/python3.8/site-packages/matplotlib/ticker.py:2143\u001b[0m, in \u001b[0;36mMaxNLocator.__call__\u001b[0;34m(self)\u001b[0m\n\u001b[1;32m   2141\u001b[0m \u001b[39mdef\u001b[39;00m \u001b[39m__call__\u001b[39m(\u001b[39mself\u001b[39m):\n\u001b[1;32m   2142\u001b[0m     vmin, vmax \u001b[39m=\u001b[39m \u001b[39mself\u001b[39m\u001b[39m.\u001b[39maxis\u001b[39m.\u001b[39mget_view_interval()\n\u001b[0;32m-> 2143\u001b[0m     \u001b[39mreturn\u001b[39;00m \u001b[39mself\u001b[39;49m\u001b[39m.\u001b[39;49mtick_values(vmin, vmax)\n",
      "File \u001b[0;32m~/venv/lib/python3.8/site-packages/matplotlib/ticker.py:2151\u001b[0m, in \u001b[0;36mMaxNLocator.tick_values\u001b[0;34m(self, vmin, vmax)\u001b[0m\n\u001b[1;32m   2148\u001b[0m     vmin \u001b[39m=\u001b[39m \u001b[39m-\u001b[39mvmax\n\u001b[1;32m   2149\u001b[0m vmin, vmax \u001b[39m=\u001b[39m mtransforms\u001b[39m.\u001b[39mnonsingular(\n\u001b[1;32m   2150\u001b[0m     vmin, vmax, expander\u001b[39m=\u001b[39m\u001b[39m1e-13\u001b[39m, tiny\u001b[39m=\u001b[39m\u001b[39m1e-14\u001b[39m)\n\u001b[0;32m-> 2151\u001b[0m locs \u001b[39m=\u001b[39m \u001b[39mself\u001b[39;49m\u001b[39m.\u001b[39;49m_raw_ticks(vmin, vmax)\n\u001b[1;32m   2153\u001b[0m prune \u001b[39m=\u001b[39m \u001b[39mself\u001b[39m\u001b[39m.\u001b[39m_prune\n\u001b[1;32m   2154\u001b[0m \u001b[39mif\u001b[39;00m prune \u001b[39m==\u001b[39m \u001b[39m'\u001b[39m\u001b[39mlower\u001b[39m\u001b[39m'\u001b[39m:\n",
      "File \u001b[0;32m~/venv/lib/python3.8/site-packages/matplotlib/ticker.py:2090\u001b[0m, in \u001b[0;36mMaxNLocator._raw_ticks\u001b[0;34m(self, vmin, vmax)\u001b[0m\n\u001b[1;32m   2088\u001b[0m \u001b[39mif\u001b[39;00m \u001b[39mself\u001b[39m\u001b[39m.\u001b[39m_nbins \u001b[39m==\u001b[39m \u001b[39m'\u001b[39m\u001b[39mauto\u001b[39m\u001b[39m'\u001b[39m:\n\u001b[1;32m   2089\u001b[0m     \u001b[39mif\u001b[39;00m \u001b[39mself\u001b[39m\u001b[39m.\u001b[39maxis \u001b[39mis\u001b[39;00m \u001b[39mnot\u001b[39;00m \u001b[39mNone\u001b[39;00m:\n\u001b[0;32m-> 2090\u001b[0m         nbins \u001b[39m=\u001b[39m np\u001b[39m.\u001b[39mclip(\u001b[39mself\u001b[39;49m\u001b[39m.\u001b[39;49maxis\u001b[39m.\u001b[39;49mget_tick_space(),\n\u001b[1;32m   2091\u001b[0m                         \u001b[39mmax\u001b[39m(\u001b[39m1\u001b[39m, \u001b[39mself\u001b[39m\u001b[39m.\u001b[39m_min_n_ticks \u001b[39m-\u001b[39m \u001b[39m1\u001b[39m), \u001b[39m9\u001b[39m)\n\u001b[1;32m   2092\u001b[0m     \u001b[39melse\u001b[39;00m:\n\u001b[1;32m   2093\u001b[0m         nbins \u001b[39m=\u001b[39m \u001b[39m9\u001b[39m\n",
      "File \u001b[0;32m~/venv/lib/python3.8/site-packages/matplotlib/axis.py:2423\u001b[0m, in \u001b[0;36mXAxis.get_tick_space\u001b[0;34m(self)\u001b[0m\n\u001b[1;32m   2422\u001b[0m \u001b[39mdef\u001b[39;00m \u001b[39mget_tick_space\u001b[39m(\u001b[39mself\u001b[39m):\n\u001b[0;32m-> 2423\u001b[0m     ends \u001b[39m=\u001b[39m mtransforms\u001b[39m.\u001b[39;49mBbox\u001b[39m.\u001b[39;49munit()\u001b[39m.\u001b[39mtransformed(\n\u001b[1;32m   2424\u001b[0m         \u001b[39mself\u001b[39m\u001b[39m.\u001b[39maxes\u001b[39m.\u001b[39mtransAxes \u001b[39m-\u001b[39m \u001b[39mself\u001b[39m\u001b[39m.\u001b[39mfigure\u001b[39m.\u001b[39mdpi_scale_trans)\n\u001b[1;32m   2425\u001b[0m     length \u001b[39m=\u001b[39m ends\u001b[39m.\u001b[39mwidth \u001b[39m*\u001b[39m \u001b[39m72\u001b[39m\n\u001b[1;32m   2426\u001b[0m     \u001b[39m# There is a heuristic here that the aspect ratio of tick text\u001b[39;00m\n\u001b[1;32m   2427\u001b[0m     \u001b[39m# is no more than 3:1\u001b[39;00m\n",
      "File \u001b[0;32m~/venv/lib/python3.8/site-packages/matplotlib/transforms.py:793\u001b[0m, in \u001b[0;36mBbox.unit\u001b[0;34m()\u001b[0m\n\u001b[1;32m    790\u001b[0m \u001b[39m@staticmethod\u001b[39m\n\u001b[1;32m    791\u001b[0m \u001b[39mdef\u001b[39;00m \u001b[39munit\u001b[39m():\n\u001b[1;32m    792\u001b[0m     \u001b[39m\"\"\"Create a new unit `Bbox` from (0, 0) to (1, 1).\"\"\"\u001b[39;00m\n\u001b[0;32m--> 793\u001b[0m     \u001b[39mreturn\u001b[39;00m Bbox([[\u001b[39m0\u001b[39;49m, \u001b[39m0\u001b[39;49m], [\u001b[39m1\u001b[39;49m, \u001b[39m1\u001b[39;49m]])\n",
      "File \u001b[0;32m~/venv/lib/python3.8/site-packages/matplotlib/transforms.py:762\u001b[0m, in \u001b[0;36mBbox.__init__\u001b[0;34m(self, points, **kwargs)\u001b[0m\n\u001b[1;32m    755\u001b[0m \u001b[39m\"\"\"\u001b[39;00m\n\u001b[1;32m    756\u001b[0m \u001b[39mParameters\u001b[39;00m\n\u001b[1;32m    757\u001b[0m \u001b[39m----------\u001b[39;00m\n\u001b[1;32m    758\u001b[0m \u001b[39mpoints : ndarray\u001b[39;00m\n\u001b[1;32m    759\u001b[0m \u001b[39m    A 2x2 numpy array of the form ``[[x0, y0], [x1, y1]]``.\u001b[39;00m\n\u001b[1;32m    760\u001b[0m \u001b[39m\"\"\"\u001b[39;00m\n\u001b[1;32m    761\u001b[0m \u001b[39msuper\u001b[39m()\u001b[39m.\u001b[39m\u001b[39m__init__\u001b[39m(\u001b[39m*\u001b[39m\u001b[39m*\u001b[39mkwargs)\n\u001b[0;32m--> 762\u001b[0m points \u001b[39m=\u001b[39m np\u001b[39m.\u001b[39;49masarray(points, \u001b[39mfloat\u001b[39;49m)\n\u001b[1;32m    763\u001b[0m \u001b[39mif\u001b[39;00m points\u001b[39m.\u001b[39mshape \u001b[39m!=\u001b[39m (\u001b[39m2\u001b[39m, \u001b[39m2\u001b[39m):\n\u001b[1;32m    764\u001b[0m     \u001b[39mraise\u001b[39;00m \u001b[39mValueError\u001b[39;00m(\u001b[39m'\u001b[39m\u001b[39mBbox points must be of the form \u001b[39m\u001b[39m'\u001b[39m\n\u001b[1;32m    765\u001b[0m                      \u001b[39m'\u001b[39m\u001b[39m\"\u001b[39m\u001b[39m[[x0, y0], [x1, y1]]\u001b[39m\u001b[39m\"\u001b[39m\u001b[39m.\u001b[39m\u001b[39m'\u001b[39m)\n",
      "\u001b[0;31mKeyboardInterrupt\u001b[0m: "
     ]
    }
   ],
   "source": [
    "def show_patches():\n",
    "    fig, ax = plt.subplots(\n",
    "        len(patch_sizes),\n",
    "        len(class_names),\n",
    "        figsize=(len(class_names) * 2.2, len(patch_sizes) * 2.2),\n",
    "    )\n",
    "    for c_idx, cname in enumerate(class_names):\n",
    "        for p_idx, psize in enumerate(patch_sizes):\n",
    "            patch = patch_dict[cname][psize][\"patch\"]\n",
    "            patch = (torch.tanh(patch) + 1) / 2  # Parameter to pixel values\n",
    "            patch = patch.cpu().permute(1, 2, 0).numpy()\n",
    "            patch = np.clip(patch, a_min=0.0, a_max=1.0)\n",
    "            ax[p_idx][c_idx].imshow(patch)\n",
    "            ax[p_idx][c_idx].set_title(f\"{cname}, size {psize}\")\n",
    "            ax[p_idx][c_idx].axis(\"off\")\n",
    "    fig.subplots_adjust(hspace=0.3, wspace=0.3)\n",
    "    plt.show()\n",
    "\n",
    "\n",
    "show_patches()"
   ]
  },
  {
   "attachments": {},
   "cell_type": "markdown",
   "metadata": {
    "id": "nUj14TRcocbz"
   },
   "source": [
    "Results above show patches with different classes and sizes. $16\\times 16$ pixels is the smallest size, and it more closesly resembles their classes (e.g. horse) vs. larger patch sizes like $3\\times 3$ in terms of color and image. For larger sizes (3x3 to 7x7), you cannot tell that they represent the class. "
   ]
  },
  {
   "attachments": {},
   "cell_type": "markdown",
   "metadata": {},
   "source": [
    "## Quantitative results"
   ]
  },
  {
   "cell_type": "code",
   "execution_count": null,
   "metadata": {
    "id": "HPPj1W7locbz",
    "outputId": "343a58ba-b994-4f49-be0b-c88b84e320d8"
   },
   "outputs": [],
   "source": [
    "%%html\n",
    "<!-- Some HTML code to increase font size in the following table -->\n",
    "<style>\n",
    "th {font-size: 120%;}\n",
    "td {font-size: 120%;}\n",
    "</style>"
   ]
  },
  {
   "cell_type": "code",
   "execution_count": null,
   "metadata": {
    "id": "EviI9bQSocb0"
   },
   "outputs": [],
   "source": [
    "import tabulate\n",
    "from IPython.display import display, HTML\n",
    "\n",
    "\n",
    "def show_table(top_1=True):\n",
    "    i = 0 if top_1 else 1\n",
    "    table = [\n",
    "        [name]\n",
    "        + [\n",
    "            f'{(100.0 * patch_dict[name][psize][\"results\"][i]):4.2f}%'\n",
    "            for psize in patch_sizes\n",
    "        ]\n",
    "        for name in class_names\n",
    "    ]\n",
    "    display(\n",
    "        HTML(\n",
    "            tabulate.tabulate(\n",
    "                table,\n",
    "                tablefmt=\"html\",\n",
    "                headers=[\"Class name\"]\n",
    "                + [f\"Patch size {psize}x{psize}\" for psize in patch_sizes],\n",
    "            )\n",
    "        )\n",
    "    )"
   ]
  },
  {
   "cell_type": "markdown",
   "metadata": {
    "id": "uv_2G5MZocb0"
   },
   "source": [
    "First, we will create a table of top-1 accuracy, meaning that how many images have been classified with the target class as highest prediction?"
   ]
  },
  {
   "cell_type": "code",
   "execution_count": null,
   "metadata": {
    "id": "zd7QON8aocb0",
    "outputId": "c280964c-4a59-4ef9-f3c1-289044c4218b"
   },
   "outputs": [],
   "source": [
    "show_table(top_1=True)"
   ]
  },
  {
   "attachments": {},
   "cell_type": "markdown",
   "metadata": {
    "id": "rEOBMBiqocb0"
   },
   "source": [
    "As patch size increases, the targeted patch attack performs better in terms of fooling the model, which accuracy of 99% to 100% for the largest patch size of $16\\times 16$. The smallest patch $3\\times 3$ has a very poor fooling accuracy. Horse, ship, and deer classes were more difficult to create a patch for patches $5\\times 5$ and $7\\times 7$. Some classes were more easily predicted than other classes. With just patch size $7\\times 7$, the targetted attack patch performs >40% for fooling the model. "
   ]
  },
  {
   "cell_type": "code",
   "execution_count": null,
   "metadata": {
    "id": "LgJ_roLhocb0"
   },
   "outputs": [],
   "source": [
    "exmp_batch, label_batch = next(iter(test_data_loader))\n",
    "\n",
    "\n",
    "def perform_patch_attack(patch):\n",
    "    patch_batch = exmp_batch.clone()\n",
    "    patch_batch = place_patch(patch_batch, patch)\n",
    "    with torch.no_grad():\n",
    "        patch_preds = pretrained_model(patch_batch.to(device))\n",
    "    for i in range(1, 17, 5):\n",
    "        show_prediction(patch_batch[i], label_batch[i], patch_preds[i])"
   ]
  },
  {
   "cell_type": "code",
   "execution_count": null,
   "metadata": {
    "id": "OkTbExXWocb0",
    "outputId": "61355d11-6b7e-4c1a-86bc-e752f6e2691d"
   },
   "outputs": [],
   "source": [
    "perform_patch_attack(patch_dict[\"bird\"][3][\"patch\"])"
   ]
  },
  {
   "cell_type": "markdown",
   "metadata": {
    "id": "2RXRk51Cocb0"
   },
   "source": [
    "The tiny goldfish patch can change all of the predictions to \"goldfish\" as top class. Note that the patch attacks work especially well if the input image is semantically similar to the target class (e.g. a fish and the target class \"goldfish\" works better than an airplane image with that patch). Nevertheless, we can also let the network predict semantically dis-similar classes by using a larger patch:"
   ]
  },
  {
   "cell_type": "code",
   "execution_count": null,
   "metadata": {
    "id": "EOxm6dQWocb0",
    "outputId": "37eb68a6-4015-4276-d388-5ace348437ac"
   },
   "outputs": [],
   "source": [
    "perform_patch_attack(patch_dict[\"ship\"][16][\"patch\"])"
   ]
  },
  {
   "cell_type": "markdown",
   "metadata": {
    "id": "CxL0wvyAocb0"
   },
   "source": [
    "Although none of the images have anything to do with an American school bus, the high confidence of often 100% shows how powerful such attacks can be. With a few lines of code and access to the model, we were able to generate patches that we add to any image to make the model predict any class we want. "
   ]
  },
  {
   "attachments": {},
   "cell_type": "markdown",
   "metadata": {
    "id": "f6f3Gurpocb0"
   },
   "source": [
    "### Transferability of white-box attacks\n",
    "\n",
    "Evaluate some of our patches trained above on VGG and Densenet networks."
   ]
  },
  {
   "cell_type": "code",
   "execution_count": null,
   "metadata": {},
   "outputs": [],
   "source": [
    "# densenet121 with pretrained CIFAR10 weights\n",
    "# import vgg from PyTorch_CIFAR10 folder in another directory and load the pretrained model\n",
    "import sys\n",
    "\n",
    "sys.path.append(\"../PyTorch_CIFAR10\")\n",
    "from cifar10_models.vgg import vgg11_bn, vgg13_bn, vgg16_bn, vgg19_bn\n",
    "from cifar10_models.densenet import densenet121"
   ]
  },
  {
   "cell_type": "code",
   "execution_count": null,
   "metadata": {
    "id": "Ygskb20wocb0"
   },
   "outputs": [],
   "source": [
    "# Pretrained model\n",
    "transfer_model = vgg11_bn(pretrained=True)\n",
    "transfer_model = transfer_model.to(device)\n",
    "\n",
    "# No gradients needed for the network\n",
    "transfer_model.eval()\n",
    "for p in transfer_model.parameters():\n",
    "    p.requires_grad = False"
   ]
  },
  {
   "cell_type": "code",
   "execution_count": null,
   "metadata": {
    "id": "J36aCBtBocb0",
    "outputId": "3ea2c7a7-de1d-4908-f49c-d270cc37e507"
   },
   "outputs": [],
   "source": [
    "class_name = \"cat\"\n",
    "patch_size = 16\n",
    "print(f'Testing patch \"{class_name}\" of size {patch_size}x{patch_size}')\n",
    "\n",
    "results = eval_patch(\n",
    "    transfer_model,\n",
    "    patch_dict[class_name][patch_size][\"patch\"],\n",
    "    test_data_loader,\n",
    "    target_class=label_names.index(class_name),\n",
    ")\n",
    "\n",
    "print(f\"Top-1 fool accuracy: {(results * 100.0):4.2f}%\")"
   ]
  },
  {
   "cell_type": "code",
   "execution_count": null,
   "metadata": {},
   "outputs": [],
   "source": [
    "# Try densenet model with pretrained CIFAR10 weights\n",
    "# Pretrained model\n",
    "densenet_model = densenet121(pretrained=True)\n",
    "densenet_model = densenet_model.to(device)\n",
    "\n",
    "# No gradients needed for the network\n",
    "densenet_model.eval()\n",
    "for p in densenet_model.parameters():\n",
    "    p.requires_grad = False"
   ]
  },
  {
   "cell_type": "code",
   "execution_count": null,
   "metadata": {},
   "outputs": [],
   "source": [
    "class_name = \"cat\"\n",
    "patch_size = 16\n",
    "print(f'Testing patch \"{class_name}\" of size {patch_size}x{patch_size}')\n",
    "\n",
    "results = eval_patch(\n",
    "    densenet_model,\n",
    "    patch_dict[class_name][patch_size][\"patch\"],\n",
    "    test_data_loader,\n",
    "    target_class=label_names.index(class_name),\n",
    ")\n",
    "\n",
    "print(f\"Top-1 fool accuracy: {(results * 100.0):4.2f}%\")"
   ]
  },
  {
   "attachments": {},
   "cell_type": "markdown",
   "metadata": {
    "id": "n8Y90rfDocb1"
   },
   "source": [
    "Although the fool accuracy is significantly lower than on the original ResNet20, it still has a considerable impact on DenseNet although the networks have completely different architectures and weights. Patch generalizes well because the models have all been trained on the same CIFAR10 data. "
   ]
  },
  {
   "cell_type": "markdown",
   "metadata": {
    "id": "xuRRnnqjocb1"
   },
   "source": [
    "## References\n",
    "\n",
    "[1] Goodfellow, Ian J., Jonathon Shlens, and Christian Szegedy. \"Explaining and harnessing adversarial examples.\" ICLR 2015.\n",
    "\n",
    "[2] Hendrik Metzen, Jan, et al. \"Universal adversarial perturbations against semantic image segmentation.\" Proceedings of the IEEE International Conference on Computer Vision. 2017.\n",
    "\n",
    "[3] Anant Jain. \"Breaking neural networks with adversarial attacks.\" [Blog post](https://towardsdatascience.com/breaking-neural-networks-with-adversarial-attacks-f4290a9a45aa) 2019."
   ]
  }
 ],
 "metadata": {
  "colab": {
   "provenance": []
  },
  "kernelspec": {
   "display_name": "venv",
   "language": "python",
   "name": "python3"
  },
  "language_info": {
   "codemirror_mode": {
    "name": "ipython",
    "version": 3
   },
   "file_extension": ".py",
   "mimetype": "text/x-python",
   "name": "python",
   "nbconvert_exporter": "python",
   "pygments_lexer": "ipython3",
   "version": "3.8.10"
  },
  "vscode": {
   "interpreter": {
    "hash": "e8ba96d35f524bf788e0a066ae8555804e9c3c2c45d7eaf088b255e4838dd8cc"
   }
  }
 },
 "nbformat": 4,
 "nbformat_minor": 0
}
